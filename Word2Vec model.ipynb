{
 "cells": [
  {
   "cell_type": "markdown",
   "id": "db521dea",
   "metadata": {},
   "source": [
    "# Importing Libraries"
   ]
  },
  {
   "cell_type": "code",
   "execution_count": 57,
   "id": "3c65437f",
   "metadata": {},
   "outputs": [],
   "source": [
    "import numpy as np\n",
    "import pandas as pd\n",
    "import gensim\n",
    "import os\n",
    "from nltk import sent_tokenize\n",
    "from gensim.utils import simple_preprocess\n",
    "import nltk\n",
    "from nltk.corpus import stopwords\n",
    "from nltk.tokenize import word_tokenize"
   ]
  },
  {
   "cell_type": "markdown",
   "id": "7abf8cdb",
   "metadata": {},
   "source": [
    "# Function to remove stopwords"
   ]
  },
  {
   "cell_type": "code",
   "execution_count": 63,
   "id": "40e14dd9",
   "metadata": {},
   "outputs": [],
   "source": [
    "def remove_stopwords(text):\n",
    "    tokens = word_tokenize(text.lower())\n",
    "    english_stopwords = set(stopwords.words('english'))\n",
    "    tokens_withour_stopwords = [t for t in tokens if t not in english_stopwords]\n",
    "    filtered_text = ' '.join(tokens_withour_stopwords)\n",
    "    return filtered_text"
   ]
  },
  {
   "cell_type": "markdown",
   "id": "77c6534f",
   "metadata": {},
   "source": [
    "# Tokanizing the content of the file along with removing stopwords"
   ]
  },
  {
   "cell_type": "code",
   "execution_count": 64,
   "id": "3264a21f",
   "metadata": {},
   "outputs": [],
   "source": [
    "story = []\n",
    "\n",
    "for filename in os.listdir('data'):\n",
    "    \n",
    "    f = open(os.path.join('data', filename),'r',encoding='utf-8')\n",
    "    corpus_raw = f.read()\n",
    "    corpus_final = remove_stopwords(corpus_raw)\n",
    "    raw_sent = sent_tokenize(corpus_final)\n",
    "    for sent in raw_sent:\n",
    "        story.append(simple_preprocess(sent))"
   ]
  },
  {
   "cell_type": "code",
   "execution_count": 65,
   "id": "490dff22",
   "metadata": {},
   "outputs": [
    {
     "data": {
      "text/plain": [
       "163103"
      ]
     },
     "execution_count": 65,
     "metadata": {},
     "output_type": "execute_result"
    }
   ],
   "source": [
    "len(story)"
   ]
  },
  {
   "cell_type": "code",
   "execution_count": 66,
   "id": "5c1d41c6",
   "metadata": {},
   "outputs": [
    {
     "data": {
      "text/plain": [
       "[['edition',\n",
       "  'contains',\n",
       "  'complete',\n",
       "  'text',\n",
       "  'original',\n",
       "  'hardcover',\n",
       "  'edition'],\n",
       " ['one', 'word', 'omitted'],\n",
       " ['clash',\n",
       "  'kings',\n",
       "  'bantam',\n",
       "  'spectra',\n",
       "  'book',\n",
       "  'publishing',\n",
       "  'history',\n",
       "  'bantam',\n",
       "  'spectra',\n",
       "  'hardcover',\n",
       "  'edition',\n",
       "  'published',\n",
       "  'february',\n",
       "  'bantam',\n",
       "  'spectra',\n",
       "  'paperback',\n",
       "  'edition',\n",
       "  'september',\n",
       "  'spectra',\n",
       "  'portrayal',\n",
       "  'boxed',\n",
       "  'trademarks',\n",
       "  'bantam',\n",
       "  'books',\n",
       "  'division',\n",
       "  'random',\n",
       "  'house',\n",
       "  'inc',\n",
       "  'rights',\n",
       "  'reserved'],\n",
       " ['copyright', 'george', 'martin'],\n",
       " ['maps', 'james', 'sinclair'],\n",
       " ['heraldic', 'crest', 'virginia', 'norey'],\n",
       " ['library',\n",
       "  'congress',\n",
       "  'catalog',\n",
       "  'card',\n",
       "  'number',\n",
       "  'part',\n",
       "  'book',\n",
       "  'may',\n",
       "  'reproduced',\n",
       "  'transmitted',\n",
       "  'form',\n",
       "  'means',\n",
       "  'electronic',\n",
       "  'mechanical',\n",
       "  'including',\n",
       "  'photocopying',\n",
       "  'recording',\n",
       "  'information',\n",
       "  'storage',\n",
       "  'retrieval',\n",
       "  'system',\n",
       "  'without',\n",
       "  'permission',\n",
       "  'writing',\n",
       "  'publisher'],\n",
       " ['visit',\n",
       "  'website',\n",
       "  'www',\n",
       "  'bantamdell',\n",
       "  'com',\n",
       "  'bantam',\n",
       "  'books',\n",
       "  'rooster',\n",
       "  'colophon',\n",
       "  'spectra',\n",
       "  'portrayal',\n",
       "  'boxed',\n",
       "  'registered',\n",
       "  'trademarks',\n",
       "  'random',\n",
       "  'house',\n",
       "  'inc',\n",
       "  'eisbn',\n",
       "  'contents',\n",
       "  'cover',\n",
       "  'title',\n",
       "  'page',\n",
       "  'copyright',\n",
       "  'dedication',\n",
       "  'maps',\n",
       "  'prologue',\n",
       "  'arya',\n",
       "  'sansa',\n",
       "  'tyrion',\n",
       "  'bran',\n",
       "  'arya',\n",
       "  'jon',\n",
       "  'catelyn',\n",
       "  'tyrion',\n",
       "  'arya',\n",
       "  'davos',\n",
       "  'theon',\n",
       "  'daenerys',\n",
       "  'jon',\n",
       "  'arya',\n",
       "  'tyrion',\n",
       "  'bran',\n",
       "  'tyrion',\n",
       "  'sansa',\n",
       "  'arya',\n",
       "  'tyrion',\n",
       "  'bran',\n",
       "  'catelyn',\n",
       "  'jon',\n",
       "  'theon',\n",
       "  'tyrion',\n",
       "  'arya',\n",
       "  'daenerys',\n",
       "  'bran',\n",
       "  'tyrion',\n",
       "  'arya',\n",
       "  'catelyn',\n",
       "  'sansa',\n",
       "  'catelyn',\n",
       "  'jon',\n",
       "  'bran',\n",
       "  'tyrion',\n",
       "  'theon',\n",
       "  'arya',\n",
       "  'catelyn',\n",
       "  'daenerys',\n",
       "  'tyrion',\n",
       "  'davos',\n",
       "  'jon',\n",
       "  'tyrion',\n",
       "  'catelyn',\n",
       "  'bran',\n",
       "  'arya',\n",
       "  'daenerys',\n",
       "  'tyrion',\n",
       "  'theon',\n",
       "  'jon',\n",
       "  'sansa',\n",
       "  'jon',\n",
       "  'tyrion',\n",
       "  'catelyn',\n",
       "  'theon',\n",
       "  'sansa',\n",
       "  'davos',\n",
       "  'tyrion',\n",
       "  'sansa',\n",
       "  'tyrion',\n",
       "  'sansa',\n",
       "  'daenerys',\n",
       "  'arya',\n",
       "  'sansa',\n",
       "  'theon',\n",
       "  'tyrion',\n",
       "  'jon',\n",
       "  'bran',\n",
       "  'appendix',\n",
       "  'kings',\n",
       "  'courts',\n",
       "  'king',\n",
       "  'iron',\n",
       "  'throne',\n",
       "  'king',\n",
       "  'narrow',\n",
       "  'sea',\n",
       "  'king',\n",
       "  'highgarden',\n",
       "  'king',\n",
       "  'north',\n",
       "  'queen',\n",
       "  'across',\n",
       "  'water',\n",
       "  'houses',\n",
       "  'great',\n",
       "  'small',\n",
       "  'house',\n",
       "  'arryn',\n",
       "  'house',\n",
       "  'florent',\n",
       "  'house',\n",
       "  'frey',\n",
       "  'house',\n",
       "  'greyjoy',\n",
       "  'house',\n",
       "  'lannister',\n",
       "  'house',\n",
       "  'martell',\n",
       "  'house',\n",
       "  'tyrell',\n",
       "  'men',\n",
       "  'night',\n",
       "  'watch',\n",
       "  'acknowledgments',\n",
       "  'john',\n",
       "  'gail',\n",
       "  'meat',\n",
       "  'mead',\n",
       "  'shared',\n",
       "  'prologue',\n",
       "  'comet',\n",
       "  'tail',\n",
       "  'spread',\n",
       "  'across',\n",
       "  'dawn',\n",
       "  'red',\n",
       "  'slash',\n",
       "  'bled',\n",
       "  'crags',\n",
       "  'dragonstone',\n",
       "  'like',\n",
       "  'wound',\n",
       "  'pink',\n",
       "  'purple',\n",
       "  'sky'],\n",
       " ['maester', 'stood', 'windswept', 'balcony', 'outside', 'chambers'],\n",
       " ['ravens', 'came', 'long', 'flight'],\n",
       " ['droppings',\n",
       "  'speckled',\n",
       "  'gargoyles',\n",
       "  'rose',\n",
       "  'twelve',\n",
       "  'feet',\n",
       "  'tall',\n",
       "  'either',\n",
       "  'side',\n",
       "  'hellhound',\n",
       "  'wyvern',\n",
       "  'two',\n",
       "  'thousand',\n",
       "  'brooded',\n",
       "  'walls',\n",
       "  'ancient',\n",
       "  'fortress'],\n",
       " ['first',\n",
       "  'came',\n",
       "  'dragonstone',\n",
       "  'army',\n",
       "  'stone',\n",
       "  'grotesques',\n",
       "  'made',\n",
       "  'uneasy',\n",
       "  'years',\n",
       "  'passed',\n",
       "  'grown',\n",
       "  'used'],\n",
       " ['thought', 'old', 'friends'],\n",
       " ['three', 'watched', 'sky', 'together', 'foreboding'],\n",
       " ['maester', 'believe', 'omens'],\n",
       " ['yet'],\n",
       " [],\n",
       " [],\n",
       " ['old',\n",
       "  'cressen',\n",
       "  'never',\n",
       "  'seen',\n",
       "  'comet',\n",
       "  'half',\n",
       "  'bright',\n",
       "  'yet',\n",
       "  'color',\n",
       "  'terrible',\n",
       "  'color',\n",
       "  'color',\n",
       "  'blood',\n",
       "  'flame',\n",
       "  'sunsets'],\n",
       " ['wondered', 'gargoyles', 'ever', 'seen', 'like'],\n",
       " ['much', 'longer', 'would', 'still', 'long', 'gone'],\n",
       " ['stone', 'tongues', 'could', 'speak'],\n",
       " [],\n",
       " [],\n",
       " ['folly'],\n",
       " ['leaned',\n",
       "  'battlement',\n",
       "  'sea',\n",
       "  'crashing',\n",
       "  'beneath',\n",
       "  'black',\n",
       "  'stone',\n",
       "  'rough',\n",
       "  'beneath',\n",
       "  'fingers'],\n",
       " ['talking', 'gargoyles', 'prophecies', 'sky'],\n",
       " ['old', 'done', 'man', 'grown', 'giddy', 'child'],\n",
       " ['lifetime', 'hard', 'won', 'wisdom', 'fled', 'along', 'health', 'strength'],\n",
       " ['maester', 'trained', 'chained', 'great', 'citadel', 'oldtown'],\n",
       " ['come', 'superstition', 'filled', 'head', 'ignorant', 'fieldhand'],\n",
       " ['yet'],\n",
       " [],\n",
       " [],\n",
       " ['yet'],\n",
       " [],\n",
       " [],\n",
       " ['comet',\n",
       "  'burned',\n",
       "  'even',\n",
       "  'day',\n",
       "  'pale',\n",
       "  'grey',\n",
       "  'steam',\n",
       "  'rose',\n",
       "  'hot',\n",
       "  'vents',\n",
       "  'dragonmont',\n",
       "  'behind',\n",
       "  'castle',\n",
       "  'yestermorn',\n",
       "  'white',\n",
       "  'raven',\n",
       "  'brought',\n",
       "  'word',\n",
       "  'citadel',\n",
       "  'word',\n",
       "  'long',\n",
       "  'expected',\n",
       "  'less',\n",
       "  'fearful',\n",
       "  'word',\n",
       "  'summer',\n",
       "  'end'],\n",
       " ['omens'],\n",
       " ['many', 'deny'],\n",
       " ['mean'],\n",
       " ['wanted', 'cry'],\n",
       " ['maester', 'cressen', 'visitors'],\n",
       " ['pylos',\n",
       "  'spoke',\n",
       "  'softly',\n",
       "  'loath',\n",
       "  'disturb',\n",
       "  'cressen',\n",
       "  'solemn',\n",
       "  'meditations'],\n",
       " ['known', 'drivel', 'filled', 'head', 'would', 'shouted'],\n",
       " ['princess', 'would', 'see', 'white', 'raven'],\n",
       " ['ever', 'correct', 'pylos', 'called', 'princess', 'lord', 'father', 'king'],\n",
       " ['king',\n",
       "  'smoking',\n",
       "  'rock',\n",
       "  'great',\n",
       "  'salt',\n",
       "  'sea',\n",
       "  'yet',\n",
       "  'king',\n",
       "  'nonetheless'],\n",
       " ['fool', 'her'],\n",
       " ['old',\n",
       "  'man',\n",
       "  'turned',\n",
       "  'away',\n",
       "  'dawn',\n",
       "  'keeping',\n",
       "  'hand',\n",
       "  'wyvern',\n",
       "  'steady'],\n",
       " ['help', 'chair', 'show', 'in'],\n",
       " ['taking', 'arm', 'pylos', 'led', 'inside'],\n",
       " ['youth',\n",
       "  'cressen',\n",
       "  'walked',\n",
       "  'briskly',\n",
       "  'far',\n",
       "  'eightieth',\n",
       "  'name',\n",
       "  'day',\n",
       "  'legs',\n",
       "  'frail',\n",
       "  'unsteady'],\n",
       " ['two',\n",
       "  'years',\n",
       "  'past',\n",
       "  'fallen',\n",
       "  'shattered',\n",
       "  'hip',\n",
       "  'never',\n",
       "  'mended',\n",
       "  'properly'],\n",
       " ['last',\n",
       "  'year',\n",
       "  'took',\n",
       "  'ill',\n",
       "  'citadel',\n",
       "  'sent',\n",
       "  'pylos',\n",
       "  'oldtown',\n",
       "  'mere',\n",
       "  'days',\n",
       "  'lord',\n",
       "  'stannis',\n",
       "  'closed',\n",
       "  'isle'],\n",
       " [],\n",
       " [],\n",
       " ['help', 'labors', 'said', 'cressen', 'knew', 'truth'],\n",
       " ['pylos', 'come', 'replace', 'died'],\n",
       " ['mind'],\n",
       " ['someone', 'must', 'take', 'place', 'sooner', 'would', 'like'],\n",
       " [],\n",
       " [],\n",
       " ['let', 'younger', 'man', 'settle', 'behind', 'books', 'papers'],\n",
       " ['go', 'bring'],\n",
       " ['ill', 'keep', 'lady', 'waiting'],\n",
       " ['waved',\n",
       "  'hand',\n",
       "  'feeble',\n",
       "  'gesture',\n",
       "  'haste',\n",
       "  'man',\n",
       "  'longer',\n",
       "  'capable',\n",
       "  'hastening'],\n",
       " ['flesh',\n",
       "  'wrinkled',\n",
       "  'spotted',\n",
       "  'skin',\n",
       "  'papery',\n",
       "  'thin',\n",
       "  'could',\n",
       "  'see',\n",
       "  'web',\n",
       "  'veins',\n",
       "  'shape',\n",
       "  'bones',\n",
       "  'beneath'],\n",
       " ['trembled', 'hands', 'sure', 'deft'],\n",
       " [],\n",
       " [],\n",
       " ['pylos', 'returned', 'girl', 'came', 'shy', 'ever'],\n",
       " ['behind',\n",
       "  'shuffling',\n",
       "  'hopping',\n",
       "  'queer',\n",
       "  'sideways',\n",
       "  'walk',\n",
       "  'came',\n",
       "  'fool'],\n",
       " ['head',\n",
       "  'mock',\n",
       "  'helm',\n",
       "  'fashioned',\n",
       "  'old',\n",
       "  'tin',\n",
       "  'bucket',\n",
       "  'rack',\n",
       "  'deer',\n",
       "  'antlers',\n",
       "  'strapped',\n",
       "  'crown',\n",
       "  'hung',\n",
       "  'cowbells'],\n",
       " ['every',\n",
       "  'lurching',\n",
       "  'step',\n",
       "  'bells',\n",
       "  'rang',\n",
       "  'different',\n",
       "  'voice',\n",
       "  'clang',\n",
       "  'dang',\n",
       "  'bong',\n",
       "  'dong',\n",
       "  'ring',\n",
       "  'ling',\n",
       "  'clong',\n",
       "  'clong',\n",
       "  'clong'],\n",
       " ['comes', 'see', 'us', 'early', 'pylos'],\n",
       " ['cressen', 'said'],\n",
       " ['patches', 'maester'],\n",
       " ['guileless', 'blue', 'eyes', 'blinked'],\n",
       " ['pretty', 'face', 'alas'],\n",
       " ['child',\n",
       "  'lord',\n",
       "  'father',\n",
       "  'square',\n",
       "  'jut',\n",
       "  'jaw',\n",
       "  'mother',\n",
       "  'unfortunate',\n",
       "  'ears',\n",
       "  'along',\n",
       "  'disfigurement',\n",
       "  'legacy',\n",
       "  'bout',\n",
       "  'greyscale',\n",
       "  'almost',\n",
       "  'claimed',\n",
       "  'crib'],\n",
       " ['across',\n",
       "  'half',\n",
       "  'one',\n",
       "  'cheek',\n",
       "  'well',\n",
       "  'neck',\n",
       "  'flesh',\n",
       "  'stiff',\n",
       "  'dead',\n",
       "  'skin',\n",
       "  'cracked',\n",
       "  'flaking',\n",
       "  'mottled',\n",
       "  'black',\n",
       "  'grey',\n",
       "  'stony',\n",
       "  'touch'],\n",
       " ['pylos', 'said', 'might', 'see', 'white', 'raven'],\n",
       " ['indeed', 'may', 'cressen', 'answered'],\n",
       " ['would', 'ever', 'deny'],\n",
       " ['denied', 'often', 'time'],\n",
       " ['name', 'shireen'],\n",
       " ['would',\n",
       "  'ten',\n",
       "  'next',\n",
       "  'name',\n",
       "  'day',\n",
       "  'saddest',\n",
       "  'child',\n",
       "  'maester',\n",
       "  'cressen',\n",
       "  'ever',\n",
       "  'known'],\n",
       " ['sadness', 'shame', 'old', 'man', 'thought', 'another', 'mark', 'failure'],\n",
       " ['maester',\n",
       "  'pylos',\n",
       "  'kindness',\n",
       "  'bring',\n",
       "  'bird',\n",
       "  'rookery',\n",
       "  'lady',\n",
       "  'shireen'],\n",
       " ['would', 'pleasure'],\n",
       " ['pylos',\n",
       "  'polite',\n",
       "  'youth',\n",
       "  'five',\n",
       "  'and',\n",
       "  'twenty',\n",
       "  'yet',\n",
       "  'solemn',\n",
       "  'man',\n",
       "  'sixty'],\n",
       " ['humor', 'life', 'needed'],\n",
       " ['grim',\n",
       "  'places',\n",
       "  'needed',\n",
       "  'lightening',\n",
       "  'solemnity',\n",
       "  'dragonstone',\n",
       "  'grim',\n",
       "  'beyond',\n",
       "  'doubt',\n",
       "  'lonely',\n",
       "  'citadel',\n",
       "  'wet',\n",
       "  'waste',\n",
       "  'surrounded',\n",
       "  'storm',\n",
       "  'salt',\n",
       "  'smoking',\n",
       "  'shadow',\n",
       "  'mountain',\n",
       "  'back'],\n",
       " ['maester',\n",
       "  'must',\n",
       "  'go',\n",
       "  'sent',\n",
       "  'cressen',\n",
       "  'come',\n",
       "  'lord',\n",
       "  'twelve',\n",
       "  'years',\n",
       "  'past',\n",
       "  'served',\n",
       "  'served',\n",
       "  'well'],\n",
       " ['yet', 'never', 'loved', 'dragonstone', 'ever', 'felt', 'truly', 'home'],\n",
       " ['late',\n",
       "  'woke',\n",
       "  'restless',\n",
       "  'dreams',\n",
       "  'red',\n",
       "  'woman',\n",
       "  'figured',\n",
       "  'disturbingly',\n",
       "  'often',\n",
       "  'know'],\n",
       " ['fool',\n",
       "  'turned',\n",
       "  'patched',\n",
       "  'piebald',\n",
       "  'head',\n",
       "  'watch',\n",
       "  'pylos',\n",
       "  'climb',\n",
       "  'steep',\n",
       "  'iron',\n",
       "  'steps',\n",
       "  'rookery'],\n",
       " ['bells', 'rang', 'motion'],\n",
       " ['sea', 'birds', 'scales', 'feathers', 'said', 'clang', 'langing'],\n",
       " ['know', 'know', 'oh', 'oh', 'oh'],\n",
       " ['even', 'fool', 'patchface', 'sorry', 'thing'],\n",
       " ['perhaps',\n",
       "  'could',\n",
       "  'evoke',\n",
       "  'gales',\n",
       "  'laughter',\n",
       "  'quip',\n",
       "  'sea',\n",
       "  'taken',\n",
       "  'power',\n",
       "  'along',\n",
       "  'half',\n",
       "  'wits',\n",
       "  'memory'],\n",
       " ['soft', 'obese', 'subject', 'twitches', 'trembles', 'incoherent', 'often'],\n",
       " ['girl', 'one', 'laughed', 'one', 'cared', 'lived', 'died'],\n",
       " ['ugly', 'little', 'girl', 'sad', 'fool', 'maester', 'makes', 'three'],\n",
       " [],\n",
       " [],\n",
       " ['tale', 'make', 'men', 'weep'],\n",
       " ['sit', 'child'],\n",
       " ['cressen', 'beckoned', 'closer'],\n",
       " ['early', 'come', 'calling', 'scarce', 'past', 'dawn'],\n",
       " ['snug', 'bed'],\n",
       " ['bad', 'dreams', 'shireen', 'told'],\n",
       " ['dragons'],\n",
       " ['coming', 'eat', 'me'],\n",
       " ['child',\n",
       "  'plagued',\n",
       "  'nightmares',\n",
       "  'far',\n",
       "  'back',\n",
       "  'maester',\n",
       "  'cressen',\n",
       "  'could',\n",
       "  'recall'],\n",
       " ['talked', 'said', 'gently'],\n",
       " ['dragons', 'come', 'life'],\n",
       " ['carved', 'stone', 'child'],\n",
       " ['olden',\n",
       "  'days',\n",
       "  'island',\n",
       "  'westernmost',\n",
       "  'outpost',\n",
       "  'great',\n",
       "  'freehold',\n",
       "  'valyria'],\n",
       " ['valyrians',\n",
       "  'raised',\n",
       "  'citadel',\n",
       "  'ways',\n",
       "  'shaping',\n",
       "  'stone',\n",
       "  'since',\n",
       "  'lost',\n",
       "  'us'],\n",
       " ['castle',\n",
       "  'must',\n",
       "  'towers',\n",
       "  'wherever',\n",
       "  'two',\n",
       "  'walls',\n",
       "  'meet',\n",
       "  'angle',\n",
       "  'defense'],\n",
       " ['valyrians',\n",
       "  'fashioned',\n",
       "  'towers',\n",
       "  'shape',\n",
       "  'dragons',\n",
       "  'make',\n",
       "  'fortress',\n",
       "  'seem',\n",
       "  'fearsome',\n",
       "  'crowned',\n",
       "  'walls',\n",
       "  'thousand',\n",
       "  'gargoyles',\n",
       "  'instead',\n",
       "  'simple',\n",
       "  'crenellations'],\n",
       " ['took',\n",
       "  'small',\n",
       "  'pink',\n",
       "  'hand',\n",
       "  'frail',\n",
       "  'spotted',\n",
       "  'one',\n",
       "  'gave',\n",
       "  'gentle',\n",
       "  'squeeze'],\n",
       " ['see', 'nothing', 'fear'],\n",
       " ['shireen', 'unconvinced'],\n",
       " ['thing', 'sky'],\n",
       " ['dalla',\n",
       "  'matrice',\n",
       "  'talking',\n",
       "  'well',\n",
       "  'dalla',\n",
       "  'said',\n",
       "  'heard',\n",
       "  'red',\n",
       "  'woman',\n",
       "  'tell',\n",
       "  'mother',\n",
       "  'dragonsbreath'],\n",
       " ['dragons', 'breathing', 'mean', 'coming', 'life'],\n",
       " ['red', 'woman', 'maester', 'cressen', 'thought', 'sourly'],\n",
       " ['ill',\n",
       "  'enough',\n",
       "  'filled',\n",
       "  'head',\n",
       "  'mother',\n",
       "  'madness',\n",
       "  'must',\n",
       "  'poison',\n",
       "  'daughter',\n",
       "  'dreams',\n",
       "  'well'],\n",
       " ['would', 'stern', 'word', 'dalla', 'warn', 'spread', 'tales'],\n",
       " ['thing', 'sky', 'comet', 'sweet', 'child'],\n",
       " ['star', 'tail', 'lost', 'heavens'],\n",
       " ['gone', 'soon', 'enough', 'never', 'seen', 'lifetimes'],\n",
       " ['watch', 'see'],\n",
       " ['shireen', 'gave', 'brave', 'little', 'nod'],\n",
       " ['mother', 'said', 'white', 'raven', 'means', 'summer', 'anymore'],\n",
       " ['lady'],\n",
       " ['white', 'ravens', 'fly', 'citadel'],\n",
       " ['cressen',\n",
       "  'fingers',\n",
       "  'went',\n",
       "  'chain',\n",
       "  'neck',\n",
       "  'link',\n",
       "  'forged',\n",
       "  'different',\n",
       "  'metal',\n",
       "  'symbolizing',\n",
       "  'mastery',\n",
       "  'another',\n",
       "  'branch',\n",
       "  'learning',\n",
       "  'maester',\n",
       "  'collar',\n",
       "  'mark',\n",
       "  'order'],\n",
       " ['pride',\n",
       "  'youth',\n",
       "  'worn',\n",
       "  'easily',\n",
       "  'seemed',\n",
       "  'heavy',\n",
       "  'metal',\n",
       "  'cold',\n",
       "  'skin'],\n",
       " ['larger', 'ravens', 'clever', 'bred', 'carry', 'important', 'messages'],\n",
       " ['one',\n",
       "  'came',\n",
       "  'tell',\n",
       "  'us',\n",
       "  'conclave',\n",
       "  'met',\n",
       "  'considered',\n",
       "  'reports',\n",
       "  'measurements',\n",
       "  'made',\n",
       "  'maesters',\n",
       "  'realm',\n",
       "  'declared',\n",
       "  'great',\n",
       "  'summer',\n",
       "  'done',\n",
       "  'last'],\n",
       " ['ten',\n",
       "  'years',\n",
       "  'two',\n",
       "  'turns',\n",
       "  'sixteen',\n",
       "  'days',\n",
       "  'lasted',\n",
       "  'longest',\n",
       "  'summer',\n",
       "  'living',\n",
       "  'memory'],\n",
       " ['get', 'cold'],\n",
       " ['shireen', 'summer', 'child', 'never', 'known', 'true', 'cold'],\n",
       " ['time', 'cressen', 'replied'],\n",
       " ['gods',\n",
       "  'good',\n",
       "  'grant',\n",
       "  'us',\n",
       "  'warm',\n",
       "  'autumn',\n",
       "  'bountiful',\n",
       "  'harvests',\n",
       "  'might',\n",
       "  'prepare',\n",
       "  'winter',\n",
       "  'come'],\n",
       " ['smallfolk',\n",
       "  'said',\n",
       "  'long',\n",
       "  'summer',\n",
       "  'meant',\n",
       "  'even',\n",
       "  'longer',\n",
       "  'winter',\n",
       "  'maester',\n",
       "  'saw',\n",
       "  'reason',\n",
       "  'frighten',\n",
       "  'child',\n",
       "  'tales'],\n",
       " ['patchface', 'rang', 'bells'],\n",
       " ['always', 'summer', 'sea', 'intoned'],\n",
       " ['merwives',\n",
       "  'wear',\n",
       "  'nennymoans',\n",
       "  'hair',\n",
       "  'weave',\n",
       "  'gowns',\n",
       "  'silver',\n",
       "  'seaweed'],\n",
       " ['know', 'know', 'oh', 'oh', 'oh'],\n",
       " ['shireen', 'giggled'],\n",
       " ['like', 'gown', 'silver', 'seaweed'],\n",
       " ['sea', 'snows', 'said', 'fool', 'rain', 'dry', 'bone'],\n",
       " ['know', 'know', 'oh', 'oh', 'oh'],\n",
       " ['truly', 'snow'],\n",
       " ['child', 'asked'],\n",
       " ['cressen', 'said'],\n",
       " ['years', 'yet', 'pray', 'long'],\n",
       " ['ah', 'pylos', 'bird'],\n",
       " ['shireen', 'gave', 'cry', 'delight'],\n",
       " ['even',\n",
       "  'cressen',\n",
       "  'admit',\n",
       "  'bird',\n",
       "  'made',\n",
       "  'impressive',\n",
       "  'sight',\n",
       "  'white',\n",
       "  'snow',\n",
       "  'larger',\n",
       "  'hawk',\n",
       "  'bright',\n",
       "  'black',\n",
       "  'eyes',\n",
       "  'meant',\n",
       "  'mere',\n",
       "  'albino',\n",
       "  'truebred',\n",
       "  'white',\n",
       "  'raven',\n",
       "  'citadel'],\n",
       " ['called'],\n",
       " ['raven',\n",
       "  'spread',\n",
       "  'wings',\n",
       "  'leapt',\n",
       "  'air',\n",
       "  'flapped',\n",
       "  'noisily',\n",
       "  'across',\n",
       "  'room',\n",
       "  'land',\n",
       "  'table',\n",
       "  'beside'],\n",
       " ['see', 'breakfast', 'pylos', 'announced'],\n",
       " ['cressen', 'nodded'],\n",
       " ['lady', 'shireen', 'told', 'raven'],\n",
       " ['bird', 'bobbed', 'pale', 'head', 'bowing'],\n",
       " ['lady', 'croaked'],\n",
       " ['lady'],\n",
       " ['child', 'mouth', 'gaped', 'open'],\n",
       " ['talks'],\n",
       " ['words'],\n",
       " ['said', 'clever', 'birds'],\n",
       " ['clever',\n",
       "  'bird',\n",
       "  'clever',\n",
       "  'man',\n",
       "  'clever',\n",
       "  'clever',\n",
       "  'fool',\n",
       "  'said',\n",
       "  'patchface',\n",
       "  'jangling'],\n",
       " ['oh', 'clever', 'clever', 'clever', 'fool'],\n",
       " ['began', 'sing'],\n",
       " ['shadows',\n",
       "  'come',\n",
       "  'dance',\n",
       "  'lord',\n",
       "  'dance',\n",
       "  'lord',\n",
       "  'dance',\n",
       "  'lord',\n",
       "  'sang',\n",
       "  'hopping',\n",
       "  'one',\n",
       "  'foot',\n",
       "  'back'],\n",
       " ['shadows', 'come', 'stay', 'lord', 'stay', 'lord', 'stay', 'lord'],\n",
       " ['jerked', 'head', 'word', 'bells', 'antlers', 'sending', 'clangor'],\n",
       " ['white',\n",
       "  'raven',\n",
       "  'screamed',\n",
       "  'went',\n",
       "  'flapping',\n",
       "  'away',\n",
       "  'perch',\n",
       "  'iron',\n",
       "  'railing',\n",
       "  'rookery',\n",
       "  'stairs'],\n",
       " ['shireen', 'seemed', 'grow', 'smaller'],\n",
       " ['sings', 'time'],\n",
       " ['told', 'stop'],\n",
       " ['makes', 'scared'],\n",
       " ['make', 'stop'],\n",
       " [],\n",
       " ['old', 'man', 'wondered'],\n",
       " ['might', 'silenced', 'forever'],\n",
       " [],\n",
       " [],\n",
       " ['patchface', 'come', 'boy'],\n",
       " ['lord',\n",
       "  'steffon',\n",
       "  'cherished',\n",
       "  'memory',\n",
       "  'found',\n",
       "  'volantis',\n",
       "  'across',\n",
       "  'narrow',\n",
       "  'sea'],\n",
       " ['king',\n",
       "  'the',\n",
       "  'old',\n",
       "  'king',\n",
       "  'aerys',\n",
       "  'ii',\n",
       "  'targaryen',\n",
       "  'quite',\n",
       "  'mad',\n",
       "  'days',\n",
       "  'had',\n",
       "  'sent',\n",
       "  'lordship',\n",
       "  'seek',\n",
       "  'bride',\n",
       "  'prince',\n",
       "  'rhaegar',\n",
       "  'sisters',\n",
       "  'wed',\n",
       "  'found',\n",
       "  'splendid',\n",
       "  'fool',\n",
       "  'wrote',\n",
       "  'cressen',\n",
       "  'fortnight',\n",
       "  'return',\n",
       "  'home',\n",
       "  'fruitless',\n",
       "  'mission'],\n",
       " ['boy', 'yet', 'nimble', 'monkey', 'witty', 'dozen', 'courtiers'],\n",
       " ['juggles', 'riddles', 'magic', 'sing', 'prettily', 'four', 'tongues'],\n",
       " ['bought', 'freedom', 'hope', 'bring', 'home', 'us'],\n",
       " ['robert',\n",
       "  'delighted',\n",
       "  'perhaps',\n",
       "  'time',\n",
       "  'even',\n",
       "  'teach',\n",
       "  'stannis',\n",
       "  'laugh'],\n",
       " ['saddened', 'cressen', 'remember', 'letter'],\n",
       " ['one', 'ever', 'taught', 'stannis', 'laugh', 'least', 'boy', 'patchface'],\n",
       " ['storm',\n",
       "  'came',\n",
       "  'suddenly',\n",
       "  'howling',\n",
       "  'shipbreaker',\n",
       "  'bay',\n",
       "  'proved',\n",
       "  'truth',\n",
       "  'name'],\n",
       " ['lord',\n",
       "  'two',\n",
       "  'masted',\n",
       "  'galley',\n",
       "  'windproud',\n",
       "  'broke',\n",
       "  'within',\n",
       "  'sight',\n",
       "  'castle'],\n",
       " ['parapets',\n",
       "  'two',\n",
       "  'eldest',\n",
       "  'sons',\n",
       "  'watched',\n",
       "  'father',\n",
       "  'ship',\n",
       "  'smashed',\n",
       "  'rocks',\n",
       "  'swallowed',\n",
       "  'waters'],\n",
       " ['hundred',\n",
       "  'oarsmen',\n",
       "  'sailors',\n",
       "  'went',\n",
       "  'lord',\n",
       "  'steffon',\n",
       "  'baratheon',\n",
       "  'lady',\n",
       "  'wife',\n",
       "  'days',\n",
       "  'thereafter',\n",
       "  'every',\n",
       "  'tide',\n",
       "  'left',\n",
       "  'fresh',\n",
       "  'crop',\n",
       "  'swollen',\n",
       "  'corpses',\n",
       "  'strand',\n",
       "  'storm',\n",
       "  'end'],\n",
       " ['boy', 'washed', 'third', 'day'],\n",
       " ['maester', 'cressen', 'come', 'rest', 'help', 'put', 'names', 'dead'],\n",
       " ['found',\n",
       "  'fool',\n",
       "  'naked',\n",
       "  'skin',\n",
       "  'white',\n",
       "  'wrinkled',\n",
       "  'powdered',\n",
       "  'wet',\n",
       "  'sand'],\n",
       " ['cressen',\n",
       "  'thought',\n",
       "  'another',\n",
       "  'corpse',\n",
       "  'jommy',\n",
       "  'grabbed',\n",
       "  'ankles',\n",
       "  'drag',\n",
       "  'burial',\n",
       "  'wagon',\n",
       "  'boy',\n",
       "  'coughed',\n",
       "  'water',\n",
       "  'sat'],\n",
       " ['dying', 'day', 'jommy', 'sworn', 'patchface', 'flesh', 'clammy', 'cold'],\n",
       " ['one', 'ever', 'explained', 'two', 'days', 'fool', 'lost', 'sea'],\n",
       " ['fisherfolk',\n",
       "  'liked',\n",
       "  'say',\n",
       "  'mermaid',\n",
       "  'taught',\n",
       "  'breathe',\n",
       "  'water',\n",
       "  'return',\n",
       "  'seed'],\n",
       " ['patchface', 'said', 'nothing'],\n",
       " ['witty',\n",
       "  'clever',\n",
       "  'lad',\n",
       "  'lord',\n",
       "  'steffon',\n",
       "  'written',\n",
       "  'never',\n",
       "  'reached',\n",
       "  'storm',\n",
       "  'end',\n",
       "  'boy',\n",
       "  'found',\n",
       "  'someone',\n",
       "  'else',\n",
       "  'broken',\n",
       "  'body',\n",
       "  'mind',\n",
       "  'hardly',\n",
       "  'capable',\n",
       "  'speech',\n",
       "  'much',\n",
       "  'less',\n",
       "  'wit'],\n",
       " ['yet', 'fool', 'face', 'left', 'doubt'],\n",
       " ['fashion',\n",
       "  'free',\n",
       "  'city',\n",
       "  'volantis',\n",
       "  'tattoo',\n",
       "  'faces',\n",
       "  'slaves',\n",
       "  'servants',\n",
       "  'neck',\n",
       "  'scalp',\n",
       "  'boy',\n",
       "  'skin',\n",
       "  'patterned',\n",
       "  'squares',\n",
       "  'red',\n",
       "  'green',\n",
       "  'motley'],\n",
       " ['wretch',\n",
       "  'mad',\n",
       "  'pain',\n",
       "  'use',\n",
       "  'anyone',\n",
       "  'least',\n",
       "  'declared',\n",
       "  'old',\n",
       "  'ser',\n",
       "  'harbert',\n",
       "  'castellan',\n",
       "  'storm',\n",
       "  'end',\n",
       "  'years'],\n",
       " ['kindest', 'thing', 'could', 'one', 'fill', 'cup', 'milk', 'poppy'],\n",
       " ['painless', 'sleep', 'end'],\n",
       " ['bless', 'wit', 'it'],\n",
       " ['cressen', 'refused', 'end'],\n",
       " ['whether',\n",
       "  'patchface',\n",
       "  'gotten',\n",
       "  'joy',\n",
       "  'victory',\n",
       "  'could',\n",
       "  'say',\n",
       "  'even',\n",
       "  'today',\n",
       "  'many',\n",
       "  'years',\n",
       "  'later'],\n",
       " ['shadows',\n",
       "  'come',\n",
       "  'dance',\n",
       "  'lord',\n",
       "  'dance',\n",
       "  'lord',\n",
       "  'dance',\n",
       "  'lord',\n",
       "  'fool',\n",
       "  'sang',\n",
       "  'swinging',\n",
       "  'head',\n",
       "  'making',\n",
       "  'bells',\n",
       "  'clang',\n",
       "  'clatter'],\n",
       " ['bong', 'dong', 'ring', 'ling', 'bong', 'dong'],\n",
       " ['lord', 'white', 'raven', 'shrieked'],\n",
       " ['lord', 'lord', 'lord'],\n",
       " ['fool', 'sings', 'maester', 'told', 'anxious', 'princess'],\n",
       " ['must', 'take', 'words', 'heart'],\n",
       " ['morrow',\n",
       "  'may',\n",
       "  'remember',\n",
       "  'another',\n",
       "  'song',\n",
       "  'one',\n",
       "  'never',\n",
       "  'heard',\n",
       "  'again'],\n",
       " ['sing', 'prettily', 'four', 'tongues', 'lord', 'steffon', 'written'],\n",
       " [],\n",
       " [],\n",
       " ['pylos', 'strode', 'door'],\n",
       " ['maester', 'pardons'],\n",
       " ['forgotten', 'porridge', 'cressen', 'said', 'amused'],\n",
       " ['unlike', 'pylos'],\n",
       " ['maester', 'ser', 'davos', 'returned', 'last', 'night'],\n",
       " ['talking', 'kitchen'],\n",
       " ['thought', 'would', 'want', 'know', 'once'],\n",
       " ['davos'],\n",
       " [],\n",
       " [],\n",
       " ['last', 'night', 'say'],\n",
       " [],\n",
       " ['king'],\n",
       " ['together', 'night'],\n",
       " ['time',\n",
       "  'lord',\n",
       "  'stannis',\n",
       "  'would',\n",
       "  'woken',\n",
       "  'matter',\n",
       "  'hour',\n",
       "  'give',\n",
       "  'counsel'],\n",
       " ['told', 'cressen', 'complained'],\n",
       " ['woken'],\n",
       " ['disentangled', 'fingers', 'shireen'],\n",
       " ['pardons', 'lady', 'must', 'speak', 'lord', 'father'],\n",
       " ['pylos', 'give', 'arm'],\n",
       " ['many', 'steps', 'castle', 'seems', 'add', 'every', 'night', 'vex', 'me'],\n",
       " ['shireen',\n",
       "  'patchface',\n",
       "  'followed',\n",
       "  'child',\n",
       "  'soon',\n",
       "  'grew',\n",
       "  'restless',\n",
       "  'old',\n",
       "  'man',\n",
       "  'creeping',\n",
       "  'pace',\n",
       "  'dashed',\n",
       "  'ahead',\n",
       "  'fool',\n",
       "  'lurching',\n",
       "  'cowbells',\n",
       "  'clanging',\n",
       "  'madly'],\n",
       " ['castles',\n",
       "  'friendly',\n",
       "  'places',\n",
       "  'frail',\n",
       "  'cressen',\n",
       "  'reminded',\n",
       "  'descended',\n",
       "  'turnpike',\n",
       "  'stairs',\n",
       "  'sea',\n",
       "  'dragon',\n",
       "  'tower'],\n",
       " ['lord',\n",
       "  'stannis',\n",
       "  'would',\n",
       "  'found',\n",
       "  'chamber',\n",
       "  'painted',\n",
       "  'table',\n",
       "  'atop',\n",
       "  'stone',\n",
       "  'drum',\n",
       "  'dragonstone',\n",
       "  'central',\n",
       "  'keep',\n",
       "  'named',\n",
       "  'way',\n",
       "  'ancient',\n",
       "  'walls',\n",
       "  'boomed',\n",
       "  'rumbled',\n",
       "  'storms'],\n",
       " ['reach',\n",
       "  'must',\n",
       "  'cross',\n",
       "  'gallery',\n",
       "  'pass',\n",
       "  'middle',\n",
       "  'inner',\n",
       "  'walls',\n",
       "  'guardian',\n",
       "  'gargoyles',\n",
       "  'black',\n",
       "  'iron',\n",
       "  'gates',\n",
       "  'ascend',\n",
       "  'steps',\n",
       "  'cressen',\n",
       "  'cared',\n",
       "  'contemplate'],\n",
       " ['young',\n",
       "  'men',\n",
       "  'climbed',\n",
       "  'steps',\n",
       "  'two',\n",
       "  'time',\n",
       "  'old',\n",
       "  'men',\n",
       "  'bad',\n",
       "  'hips',\n",
       "  'every',\n",
       "  'one',\n",
       "  'torment'],\n",
       " ['lord',\n",
       "  'stannis',\n",
       "  'would',\n",
       "  'think',\n",
       "  'come',\n",
       "  'maester',\n",
       "  'resigned',\n",
       "  'ordeal'],\n",
       " ['pylos', 'help', 'least', 'grateful'],\n",
       " ['shuffling',\n",
       "  'along',\n",
       "  'gallery',\n",
       "  'passed',\n",
       "  'row',\n",
       "  'tall',\n",
       "  'arched',\n",
       "  'windows',\n",
       "  'commanding',\n",
       "  'views',\n",
       "  'outer',\n",
       "  'bailey',\n",
       "  'curtain',\n",
       "  'wall',\n",
       "  'fishing',\n",
       "  'village',\n",
       "  'beyond'],\n",
       " ['yard',\n",
       "  'archers',\n",
       "  'firing',\n",
       "  'practice',\n",
       "  'butts',\n",
       "  'call',\n",
       "  'notch',\n",
       "  'draw',\n",
       "  'loose'],\n",
       " ['arrows', 'made', 'sound', 'like', 'flock', 'birds', 'taking', 'wing'],\n",
       " ['guardsmen',\n",
       "  'strode',\n",
       "  'wallwalks',\n",
       "  'peering',\n",
       "  'gargoyles',\n",
       "  'host',\n",
       "  'camped',\n",
       "  'without'],\n",
       " ['morning',\n",
       "  'air',\n",
       "  'hazy',\n",
       "  'smoke',\n",
       "  'cookfires',\n",
       "  'three',\n",
       "  'thousand',\n",
       "  'men',\n",
       "  'sat',\n",
       "  'break',\n",
       "  'fasts',\n",
       "  'beneath',\n",
       "  'banners',\n",
       "  'lords'],\n",
       " ['past', 'sprawl', 'camp', 'anchorage', 'crowded', 'ships'],\n",
       " ['craft',\n",
       "  'come',\n",
       "  'within',\n",
       "  'sight',\n",
       "  'dragonstone',\n",
       "  'past',\n",
       "  'half',\n",
       "  'year',\n",
       "  'allowed',\n",
       "  'leave'],\n",
       " ['lord',\n",
       "  'stannis',\n",
       "  'fury',\n",
       "  'triple',\n",
       "  'decked',\n",
       "  'war',\n",
       "  'galley',\n",
       "  'three',\n",
       "  'hundred',\n",
       "  'oars',\n",
       "  'looked',\n",
       "  'almost',\n",
       "  'small',\n",
       "  'beside',\n",
       "  'big',\n",
       "  'bellied',\n",
       "  'carracks',\n",
       "  'cogs',\n",
       "  'surrounded'],\n",
       " ['guardsmen',\n",
       "  'outside',\n",
       "  'stone',\n",
       "  'drum',\n",
       "  'knew',\n",
       "  'maesters',\n",
       "  'sight',\n",
       "  'passed'],\n",
       " ['wait', 'cressen', 'told', 'pylos', 'within'],\n",
       " ['best', 'see', 'alone'],\n",
       " ['long', 'climb', 'maester'],\n",
       " ['cressen', 'smiled'],\n",
       " ['think', 'forgotten'],\n",
       " ['climbed', 'steps', 'often', 'know', 'one', 'name'],\n",
       " ['halfway', 'regretted', 'decision'],\n",
       " ['stopped',\n",
       "  'catch',\n",
       "  'breath',\n",
       "  'ease',\n",
       "  'pain',\n",
       "  'hip',\n",
       "  'heard',\n",
       "  'scuff',\n",
       "  'boots',\n",
       "  'stone',\n",
       "  'came',\n",
       "  'face',\n",
       "  'to',\n",
       "  'face',\n",
       "  'ser',\n",
       "  'davos',\n",
       "  'seaworth',\n",
       "  'descending'],\n",
       " ['davos',\n",
       "  'slight',\n",
       "  'man',\n",
       "  'low',\n",
       "  'birth',\n",
       "  'written',\n",
       "  'plain',\n",
       "  'upon',\n",
       "  'common',\n",
       "  'face'],\n",
       " ['well',\n",
       "  'worn',\n",
       "  'green',\n",
       "  'cloak',\n",
       "  'stained',\n",
       "  'salt',\n",
       "  'spray',\n",
       "  'faded',\n",
       "  'sun',\n",
       "  'draped',\n",
       "  'thin',\n",
       "  'shoulders',\n",
       "  'brown',\n",
       "  'doublet',\n",
       "  'breeches',\n",
       "  'matched',\n",
       "  'brown',\n",
       "  'eyes',\n",
       "  'hair'],\n",
       " ['neck', 'pouch', 'worn', 'leather', 'hung', 'thong'],\n",
       " ['small',\n",
       "  'beard',\n",
       "  'well',\n",
       "  'peppered',\n",
       "  'grey',\n",
       "  'wore',\n",
       "  'leather',\n",
       "  'glove',\n",
       "  'maimed',\n",
       "  'left',\n",
       "  'hand'],\n",
       " ['saw', 'cressen', 'checked', 'descent'],\n",
       " ['ser', 'davos', 'maester', 'said'],\n",
       " ['return'],\n",
       " ['black', 'morning'],\n",
       " ['favorite', 'time'],\n",
       " ['said',\n",
       "  'one',\n",
       "  'ever',\n",
       "  'handled',\n",
       "  'ship',\n",
       "  'night',\n",
       "  'half',\n",
       "  'well',\n",
       "  'davos',\n",
       "  'shorthand'],\n",
       " ['lord',\n",
       "  'stannis',\n",
       "  'knighted',\n",
       "  'notorious',\n",
       "  'elusive',\n",
       "  'smuggler',\n",
       "  'seven',\n",
       "  'kingdoms'],\n",
       " [],\n",
       " ['man', 'shook', 'head'],\n",
       " ['warned'],\n",
       " ['rise', 'maester'],\n",
       " [],\n",
       " ['love', 'him'],\n",
       " ['cressen', 'thought'],\n",
       " ['ever'],\n",
       " ['strong', 'able'],\n",
       " [],\n",
       " [],\n",
       " ['aye', 'past', 'point', 'wisdom'],\n",
       " [],\n",
       " [],\n",
       " ['yet', 'enough'],\n",
       " ['never', 'enough'],\n",
       " ['spoke'],\n",
       " [],\n",
       " [],\n",
       " ['would', 'see'],\n",
       " ['love', 'either', 'highborns'],\n",
       " ['always', 'onion', 'knight'],\n",
       " ['left',\n",
       "  'hand',\n",
       "  'closed',\n",
       "  'stubby',\n",
       "  'fingers',\n",
       "  'locking',\n",
       "  'fist',\n",
       "  'stannis',\n",
       "  'hacked',\n",
       "  'ends',\n",
       "  'last',\n",
       "  'joint',\n",
       "  'thumb'],\n",
       " ['broke',\n",
       "  'bread',\n",
       "  'gulian',\n",
       "  'swann',\n",
       "  'old',\n",
       "  'penrose',\n",
       "  'tarths',\n",
       "  'consented',\n",
       "  'midnight',\n",
       "  'meeting',\n",
       "  'grove'],\n",
       " ['others',\n",
       "  'well',\n",
       "  'beric',\n",
       "  'dondarrion',\n",
       "  'gone',\n",
       "  'missing',\n",
       "  'say',\n",
       "  'dead',\n",
       "  'lord',\n",
       "  'caron',\n",
       "  'renly'],\n",
       " ['bryce', 'orange', 'rainbow', 'guard'],\n",
       " ['rainbow', 'guard'],\n",
       " ['renly',\n",
       "  'made',\n",
       "  'kingsguard',\n",
       "  'onetime',\n",
       "  'smuggler',\n",
       "  'explained',\n",
       "  'seven',\n",
       "  'wear',\n",
       "  'white'],\n",
       " ['one', 'color'],\n",
       " ['loras', 'tyrell', 'lord', 'commander'],\n",
       " ['sort',\n",
       "  'notion',\n",
       "  'would',\n",
       "  'appeal',\n",
       "  'renly',\n",
       "  'baratheon',\n",
       "  'splendid',\n",
       "  'new',\n",
       "  'order',\n",
       "  'knighthood',\n",
       "  'gorgeous',\n",
       "  'new',\n",
       "  'raiment',\n",
       "  'proclaim'],\n",
       " ['even',\n",
       "  'boy',\n",
       "  'renly',\n",
       "  'loved',\n",
       "  'bright',\n",
       "  'colors',\n",
       "  'rich',\n",
       "  'fabrics',\n",
       "  'loved',\n",
       "  'games',\n",
       "  'well'],\n",
       " ['look'],\n",
       " ['would', 'shout', 'ran', 'laughing', 'halls', 'storm', 'end'],\n",
       " ['look', 'dragon', 'look', 'wizard', 'look', 'look', 'rain', 'god'],\n",
       " ['bold',\n",
       "  'little',\n",
       "  'boy',\n",
       "  'wild',\n",
       "  'black',\n",
       "  'hair',\n",
       "  'laughing',\n",
       "  'eyes',\n",
       "  'man',\n",
       "  'grown',\n",
       "  'one',\n",
       "  'and',\n",
       "  'twenty',\n",
       "  'still',\n",
       "  'played',\n",
       "  'games'],\n",
       " ['look', 'king', 'cressen', 'thought', 'sadly'],\n",
       " ['oh', 'renly', 'renly', 'dear', 'sweet', 'child', 'know'],\n",
       " ['would', 'care'],\n",
       " ['anyone', 'cares'],\n",
       " ['reasons', 'lords', 'give', 'refusals'],\n",
       " ['asked', 'ser', 'davos'],\n",
       " ['well',\n",
       "  'gave',\n",
       "  'soft',\n",
       "  'words',\n",
       "  'blunt',\n",
       "  'made',\n",
       "  'excuses',\n",
       "  'promises',\n",
       "  'lied'],\n",
       " ['shrugged'],\n",
       " ['end', 'words', 'wind'],\n",
       " ['could', 'bring', 'hope'],\n",
       " ['false', 'sort', 'davos', 'said'],\n",
       " ['truth', 'me'],\n",
       " ['maester',\n",
       "  'cressen',\n",
       "  'remembered',\n",
       "  'day',\n",
       "  'davos',\n",
       "  'knighted',\n",
       "  'siege',\n",
       "  'storm',\n",
       "  'end'],\n",
       " ['lord',\n",
       "  'stannis',\n",
       "  'small',\n",
       "  'garrison',\n",
       "  'held',\n",
       "  'castle',\n",
       "  'close',\n",
       "  'year',\n",
       "  'great',\n",
       "  'host',\n",
       "  'lords',\n",
       "  'tyrell',\n",
       "  'redwyne'],\n",
       " ['even',\n",
       "  'sea',\n",
       "  'closed',\n",
       "  'watched',\n",
       "  'day',\n",
       "  'night',\n",
       "  'redwyne',\n",
       "  'galleys',\n",
       "  'flying',\n",
       "  'burgundy',\n",
       "  'banners',\n",
       "  'arbor'],\n",
       " ['within',\n",
       "  'storm',\n",
       "  'end',\n",
       "  'horses',\n",
       "  'long',\n",
       "  'since',\n",
       "  'eaten',\n",
       "  'dogs',\n",
       "  'cats',\n",
       "  'gone',\n",
       "  'garrison',\n",
       "  'roots',\n",
       "  'rats'],\n",
       " ['came', 'night', 'moon', 'new', 'black', 'clouds', 'hid', 'stars'],\n",
       " ['cloaked',\n",
       "  'darkness',\n",
       "  'davos',\n",
       "  'smuggler',\n",
       "  'dared',\n",
       "  'redwyne',\n",
       "  'cordon',\n",
       "  'rocks',\n",
       "  'shipbreaker',\n",
       "  'bay',\n",
       "  'alike'],\n",
       " ['little',\n",
       "  'ship',\n",
       "  'black',\n",
       "  'hull',\n",
       "  'black',\n",
       "  'sails',\n",
       "  'black',\n",
       "  'oars',\n",
       "  'hold',\n",
       "  'crammed',\n",
       "  'onions',\n",
       "  'salt',\n",
       "  'fish'],\n",
       " ['little',\n",
       "  'enough',\n",
       "  'yet',\n",
       "  'kept',\n",
       "  'garrison',\n",
       "  'alive',\n",
       "  'long',\n",
       "  'enough',\n",
       "  'eddard',\n",
       "  'stark',\n",
       "  'reach',\n",
       "  'storm',\n",
       "  'end',\n",
       "  'break',\n",
       "  'siege'],\n",
       " ['lord',\n",
       "  'stannis',\n",
       "  'rewarded',\n",
       "  'davos',\n",
       "  'choice',\n",
       "  'lands',\n",
       "  'cape',\n",
       "  'wrath',\n",
       "  'small',\n",
       "  'keep',\n",
       "  'knight',\n",
       "  'honors'],\n",
       " [],\n",
       " [],\n",
       " ['also',\n",
       "  'decreed',\n",
       "  'lose',\n",
       "  'joint',\n",
       "  'finger',\n",
       "  'left',\n",
       "  'hand',\n",
       "  'pay',\n",
       "  'years',\n",
       "  'smuggling'],\n",
       " ['davos',\n",
       "  'submitted',\n",
       "  'condition',\n",
       "  'stannis',\n",
       "  'wield',\n",
       "  'knife',\n",
       "  'would',\n",
       "  'accept',\n",
       "  'punishment',\n",
       "  'lesser',\n",
       "  'hands'],\n",
       " ['lord', 'used', 'butcher', 'cleaver', 'better', 'cut', 'clean', 'true'],\n",
       " ['afterward',\n",
       "  'davos',\n",
       "  'chosen',\n",
       "  'name',\n",
       "  'seaworth',\n",
       "  'new',\n",
       "  'made',\n",
       "  'house',\n",
       "  'took',\n",
       "  'banner',\n",
       "  'black',\n",
       "  'ship',\n",
       "  'pale',\n",
       "  'grey',\n",
       "  'field',\n",
       "  'with',\n",
       "  'onion',\n",
       "  'sails'],\n",
       " ['onetime',\n",
       "  'smuggler',\n",
       "  'fond',\n",
       "  'saying',\n",
       "  'lord',\n",
       "  'stannis',\n",
       "  'done',\n",
       "  'boon',\n",
       "  'giving',\n",
       "  'four',\n",
       "  'less',\n",
       "  'fingernails',\n",
       "  'clean',\n",
       "  'trim'],\n",
       " ['cressen',\n",
       "  'thought',\n",
       "  'man',\n",
       "  'like',\n",
       "  'would',\n",
       "  'give',\n",
       "  'false',\n",
       "  'hope',\n",
       "  'soften',\n",
       "  'hard',\n",
       "  'truth'],\n",
       " ['ser',\n",
       "  'davos',\n",
       "  'truth',\n",
       "  'bitter',\n",
       "  'draught',\n",
       "  'even',\n",
       "  'man',\n",
       "  'like',\n",
       "  'lord',\n",
       "  'stannis'],\n",
       " ['thinks',\n",
       "  'returning',\n",
       "  'king',\n",
       "  'landing',\n",
       "  'fullness',\n",
       "  'power',\n",
       "  'tear',\n",
       "  'enemies',\n",
       "  'claim',\n",
       "  'rightfully'],\n",
       " ['yet'],\n",
       " [],\n",
       " [],\n",
       " ['takes', 'meager', 'host', 'king', 'landing', 'die'],\n",
       " ['numbers'],\n",
       " ['told', 'much', 'know', 'pride'],\n",
       " ['davos', 'held', 'gloved', 'hand'],\n",
       " ['fingers', 'grow', 'back', 'man', 'bends', 'sense'],\n",
       " ['old', 'man', 'sighed'],\n",
       " ['done', 'could'],\n",
       " ['must', 'add', 'voice', 'yours'],\n",
       " ['wearily', 'resumed', 'climb'],\n",
       " ['lord',\n",
       "  'stannis',\n",
       "  'baratheon',\n",
       "  'refuge',\n",
       "  'great',\n",
       "  'round',\n",
       "  'room',\n",
       "  'walls',\n",
       "  'bare',\n",
       "  'black',\n",
       "  'stone',\n",
       "  'four',\n",
       "  'tall',\n",
       "  'narrow',\n",
       "  'windows',\n",
       "  'looked',\n",
       "  'four',\n",
       "  'points',\n",
       "  'compass'],\n",
       " ['center',\n",
       "  'chamber',\n",
       "  'great',\n",
       "  'table',\n",
       "  'took',\n",
       "  'name',\n",
       "  'massive',\n",
       "  'slab',\n",
       "  'carved',\n",
       "  'wood',\n",
       "  'fashioned',\n",
       "  'command',\n",
       "  'aegon',\n",
       "  'targaryen',\n",
       "  'days',\n",
       "  'conquest'],\n",
       " ['painted',\n",
       "  'table',\n",
       "  'fifty',\n",
       "  'feet',\n",
       "  'long',\n",
       "  'perhaps',\n",
       "  'half',\n",
       "  'wide',\n",
       "  'widest',\n",
       "  'point',\n",
       "  'less',\n",
       "  'four',\n",
       "  'feet',\n",
       "  'across',\n",
       "  'narrowest'],\n",
       " ['aegon',\n",
       "  'carpenters',\n",
       "  'shaped',\n",
       "  'land',\n",
       "  'westeros',\n",
       "  'sawing',\n",
       "  'bay',\n",
       "  'peninsula',\n",
       "  'table',\n",
       "  'nowhere',\n",
       "  'ran',\n",
       "  'straight'],\n",
       " ['surface',\n",
       "  'darkened',\n",
       "  'near',\n",
       "  'three',\n",
       "  'hundred',\n",
       "  'years',\n",
       "  'varnish',\n",
       "  'painted',\n",
       "  'seven',\n",
       "  'kingdoms',\n",
       "  'aegon',\n",
       "  'day',\n",
       "  'rivers',\n",
       "  'mountains',\n",
       "  'castles',\n",
       "  'cities',\n",
       "  'lakes',\n",
       "  'forests'],\n",
       " ['single',\n",
       "  'chair',\n",
       "  'room',\n",
       "  'carefully',\n",
       "  'positioned',\n",
       "  'precise',\n",
       "  'place',\n",
       "  'dragonstone',\n",
       "  'occupied',\n",
       "  'coast',\n",
       "  'westeros',\n",
       "  'raised',\n",
       "  'give',\n",
       "  'good',\n",
       "  'view',\n",
       "  'tabletop'],\n",
       " ['seated',\n",
       "  'chair',\n",
       "  'man',\n",
       "  'tight',\n",
       "  'laced',\n",
       "  'leather',\n",
       "  'jerkin',\n",
       "  'breeches',\n",
       "  'roughspun',\n",
       "  'brown',\n",
       "  'wool'],\n",
       " ['maester', 'cressen', 'entered', 'glanced'],\n",
       " ['knew', 'would', 'come', 'old', 'man', 'whether', 'summoned', 'no'],\n",
       " ['hint', 'warmth', 'voice', 'seldom'],\n",
       " ['stannis',\n",
       "  'baratheon',\n",
       "  'lord',\n",
       "  'dragonstone',\n",
       "  'grace',\n",
       "  'gods',\n",
       "  'rightful',\n",
       "  'heir',\n",
       "  'iron',\n",
       "  'throne',\n",
       "  'seven',\n",
       "  'kingdoms',\n",
       "  'westeros',\n",
       "  'broad',\n",
       "  'shoulder',\n",
       "  'sinewy',\n",
       "  'limb',\n",
       "  'tightness',\n",
       "  'face',\n",
       "  'flesh',\n",
       "  'spoke',\n",
       "  'leather',\n",
       "  'cured',\n",
       "  'sun',\n",
       "  'tough',\n",
       "  'steel'],\n",
       " ['hard', 'word', 'men', 'used', 'spoke', 'stannis', 'hard'],\n",
       " ['though',\n",
       "  'yet',\n",
       "  'five',\n",
       "  'and',\n",
       "  'thirty',\n",
       "  'fringe',\n",
       "  'thin',\n",
       "  'black',\n",
       "  'hair',\n",
       "  'remained',\n",
       "  'head',\n",
       "  'circling',\n",
       "  'behind',\n",
       "  'ears',\n",
       "  'like',\n",
       "  'shadow',\n",
       "  'crown'],\n",
       " ['brother', 'late', 'king', 'robert', 'grown', 'beard', 'final', 'years'],\n",
       " ['maester',\n",
       "  'cressen',\n",
       "  'never',\n",
       "  'seen',\n",
       "  'said',\n",
       "  'wild',\n",
       "  'thing',\n",
       "  'thick',\n",
       "  'fierce'],\n",
       " ['answer', 'stannis', 'kept', 'whiskers', 'cropped', 'tight', 'short'],\n",
       " ['lay',\n",
       "  'like',\n",
       "  'blue',\n",
       "  'black',\n",
       "  'shadow',\n",
       "  'across',\n",
       "  'square',\n",
       "  'jaw',\n",
       "  'bony',\n",
       "  'hollows',\n",
       "  'cheeks'],\n",
       " ['eyes',\n",
       "  'open',\n",
       "  'wounds',\n",
       "  'beneath',\n",
       "  'heavy',\n",
       "  'brows',\n",
       "  'blue',\n",
       "  'dark',\n",
       "  'sea',\n",
       "  'night'],\n",
       " ['mouth',\n",
       "  'would',\n",
       "  'given',\n",
       "  'despair',\n",
       "  'even',\n",
       "  'drollest',\n",
       "  'fools',\n",
       "  'mouth',\n",
       "  'made',\n",
       "  'frowns',\n",
       "  'scowls',\n",
       "  'sharply',\n",
       "  'worded',\n",
       "  'commands',\n",
       "  'thin',\n",
       "  'pale',\n",
       "  'lips',\n",
       "  'clenched',\n",
       "  'muscles',\n",
       "  'mouth',\n",
       "  'forgotten',\n",
       "  'smile',\n",
       "  'never',\n",
       "  'known',\n",
       "  'laugh'],\n",
       " ['sometimes',\n",
       "  'world',\n",
       "  'grew',\n",
       "  'still',\n",
       "  'silent',\n",
       "  'night',\n",
       "  'maester',\n",
       "  'cressen',\n",
       "  'fancied',\n",
       "  'could',\n",
       "  'hear',\n",
       "  'lord',\n",
       "  'stannis',\n",
       "  'grinding',\n",
       "  'teeth',\n",
       "  'half',\n",
       "  'castle',\n",
       "  'away'],\n",
       " ['would', 'woken', 'old', 'man', 'said'],\n",
       " ['young'],\n",
       " ['old', 'sick', 'need', 'sleep'],\n",
       " ['stannis',\n",
       "  'never',\n",
       "  'learned',\n",
       "  'soften',\n",
       "  'speech',\n",
       "  'dissemble',\n",
       "  'flatter',\n",
       "  'said',\n",
       "  'thought',\n",
       "  'like',\n",
       "  'could',\n",
       "  'damned'],\n",
       " ['knew', 'learn', 'davos', 'say', 'soon', 'enough'],\n",
       " ['always'],\n",
       " ['would', 'help', 'cressen', 'said'],\n",
       " ['met', 'davos', 'stair'],\n",
       " ['told', 'suppose'],\n",
       " ['man', 'tongue', 'shortened', 'along', 'fingers'],\n",
       " ['would', 'made', 'poor', 'envoy', 'then'],\n",
       " ['made', 'poor', 'envoy', 'case'],\n",
       " ['storm', 'lords', 'rise'],\n",
       " ['seems', 'like', 'justice', 'cause', 'means', 'nothing'],\n",
       " ['cravenly',\n",
       "  'ones',\n",
       "  'sit',\n",
       "  'behind',\n",
       "  'walls',\n",
       "  'waiting',\n",
       "  'see',\n",
       "  'wind',\n",
       "  'rises',\n",
       "  'likely',\n",
       "  'triumph'],\n",
       " ['bold', 'ones', 'already', 'declared', 'renly'],\n",
       " ['renly'],\n",
       " ['spat', 'name', 'like', 'poison', 'tongue'],\n",
       " ['brother', 'lord', 'storm', 'end', 'past', 'thirteen', 'years'],\n",
       " ['lords', 'sworn', 'bannermen', 'stannis', 'broke', 'rights', 'mine'],\n",
       " ['never', 'asked', 'dragonstone'],\n",
       " ['never', 'wanted'],\n",
       " ['took', 'robert', 'enemies', 'commanded', 'root'],\n",
       " ['built', 'fleet', 'work', 'dutiful', 'younger', 'brother', 'elder', 'renly'],\n",
       " ['robert', 'thanks'],\n",
       " ['names', 'lord', 'dragonstone', 'gives', 'storm', 'end', 'incomes', 'renly'],\n",
       " ['storm',\n",
       "  'end',\n",
       "  'belonged',\n",
       "  'house',\n",
       "  'baratheon',\n",
       "  'three',\n",
       "  'hundred',\n",
       "  'years',\n",
       "  'rights',\n",
       "  'passed',\n",
       "  'robert',\n",
       "  'took',\n",
       "  'iron',\n",
       "  'throne'],\n",
       " ['old', 'grievance', 'deeply', 'felt', 'never'],\n",
       " ['heart',\n",
       "  'lord',\n",
       "  'weakness',\n",
       "  'dragonstone',\n",
       "  'old',\n",
       "  'strong',\n",
       "  'though',\n",
       "  'commanded',\n",
       "  'allegiance',\n",
       "  'handful',\n",
       "  'lesser',\n",
       "  'lords',\n",
       "  'whose',\n",
       "  'stony',\n",
       "  'island',\n",
       "  'holdings',\n",
       "  'thinly',\n",
       "  'peopled',\n",
       "  'yield',\n",
       "  'men',\n",
       "  'stannis',\n",
       "  'needed'],\n",
       " ['even',\n",
       "  'sellswords',\n",
       "  'brought',\n",
       "  'across',\n",
       "  'narrow',\n",
       "  'sea',\n",
       "  'free',\n",
       "  'cities',\n",
       "  'myr',\n",
       "  'lys',\n",
       "  'host',\n",
       "  'camped',\n",
       "  'outside',\n",
       "  'walls',\n",
       "  'far',\n",
       "  'small',\n",
       "  'bring',\n",
       "  'power',\n",
       "  'house',\n",
       "  'lannister'],\n",
       " ['robert',\n",
       "  'injustice',\n",
       "  'maester',\n",
       "  'cressen',\n",
       "  'replied',\n",
       "  'carefully',\n",
       "  'yet',\n",
       "  'sound',\n",
       "  'reasons'],\n",
       " ['dragonstone', 'long', 'seat', 'house', 'targaryen'],\n",
       " ['needed', 'man', 'strength', 'rule', 'renly', 'child'],\n",
       " ['child',\n",
       "  'still',\n",
       "  'stannis',\n",
       "  'declared',\n",
       "  'anger',\n",
       "  'ringing',\n",
       "  'loud',\n",
       "  'empty',\n",
       "  'hall',\n",
       "  'thieving',\n",
       "  'child',\n",
       "  'thinks',\n",
       "  'snatch',\n",
       "  'crown',\n",
       "  'brow'],\n",
       " ['renly', 'ever', 'done', 'earn', 'throne'],\n",
       " ['sits',\n",
       "  'council',\n",
       "  'jests',\n",
       "  'littlefinger',\n",
       "  'tourneys',\n",
       "  'dons',\n",
       "  'splendid',\n",
       "  'suit',\n",
       "  'armor',\n",
       "  'allows',\n",
       "  'knocked',\n",
       "  'horse',\n",
       "  'better',\n",
       "  'man'],\n",
       " ['sum', 'brother', 'renly', 'thinks', 'ought', 'king'],\n",
       " ['ask', 'gods', 'inflict', 'brothers'],\n",
       " ['answer', 'gods'],\n",
       " ['seldom', 'answer', 'days', 'seems'],\n",
       " ['maesters', 'renly'],\n",
       " ['perchance', 'send', 'might', 'like', 'counsel', 'better'],\n",
       " ['think', 'maester', 'said', 'brother', 'decided', 'steal', 'crown'],\n",
       " ['counsel', 'colleague', 'offer', 'traitor', 'blood', 'mine'],\n",
       " ['would', 'surprise', 'lord', 'renly', 'sought', 'counsel', 'grace'],\n",
       " ['youngest',\n",
       "  'lord',\n",
       "  'steffon',\n",
       "  'three',\n",
       "  'sons',\n",
       "  'grown',\n",
       "  'man',\n",
       "  'bold',\n",
       "  'heedless',\n",
       "  'acted',\n",
       "  'impulse',\n",
       "  'rather',\n",
       "  'calculation'],\n",
       " ['much',\n",
       "  'else',\n",
       "  'renly',\n",
       "  'like',\n",
       "  'brother',\n",
       "  'robert',\n",
       "  'utterly',\n",
       "  'unlike',\n",
       "  'stannis'],\n",
       " ['grace', 'stannis', 'repeated', 'bitterly'],\n",
       " ['mock', 'king', 'style', 'yet', 'king'],\n",
       " ['dragonstone', 'rocks', 'narrow', 'sea', 'kingdom'],\n",
       " ['descended',\n",
       "  'steps',\n",
       "  'chair',\n",
       "  'stand',\n",
       "  'table',\n",
       "  'shadow',\n",
       "  'falling',\n",
       "  'across',\n",
       "  'mouth',\n",
       "  'blackwater',\n",
       "  'rush',\n",
       "  'painted',\n",
       "  'forest',\n",
       "  'king',\n",
       "  'landing',\n",
       "  'stood'],\n",
       " ['stood',\n",
       "  'brooding',\n",
       "  'realm',\n",
       "  'sought',\n",
       "  'claim',\n",
       "  'near',\n",
       "  'hand',\n",
       "  'yet',\n",
       "  'far',\n",
       "  'away'],\n",
       " ['tonight', 'sup', 'lords', 'bannermen'],\n",
       " ['celtigar', 'velaryon', 'bar', 'emmon', 'whole', 'paltry', 'lot'],\n",
       " ['poor', 'crop', 'truth', 'told', 'brothers', 'left'],\n",
       " ['lysene',\n",
       "  'pirate',\n",
       "  'salladhor',\n",
       "  'saan',\n",
       "  'latest',\n",
       "  'tally',\n",
       "  'owe',\n",
       "  'morosh',\n",
       "  'myrman',\n",
       "  'caution',\n",
       "  'talk',\n",
       "  'tides',\n",
       "  'autumn',\n",
       "  'gales',\n",
       "  'lord',\n",
       "  'sunglass',\n",
       "  'mutters',\n",
       "  'piously',\n",
       "  'seven'],\n",
       " ['celtigar', 'want', 'know', 'storm', 'lords', 'joining', 'us'],\n",
       " ['velaryon', 'threaten', 'take', 'levies', 'home', 'unless', 'strike'],\n",
       " ['tell'],\n",
       " ['must'],\n",
       " ['true', 'enemies', 'lannisters', 'lord', 'maester', 'cressen', 'answered'],\n",
       " ['brother',\n",
       "  'make',\n",
       "  'common',\n",
       "  'cause',\n",
       "  'them',\n",
       "  'treat',\n",
       "  'renly',\n",
       "  'stannis',\n",
       "  'answered',\n",
       "  'tone',\n",
       "  'brooked',\n",
       "  'argument'],\n",
       " ['calls', 'king'],\n",
       " ['renly', 'maester', 'yielded'],\n",
       " ['lord', 'stubborn', 'proud', 'set', 'mind', 'changing'],\n",
       " ['others', 'might', 'serve', 'needs', 'well'],\n",
       " ['eddard',\n",
       "  'stark',\n",
       "  'son',\n",
       "  'proclaimed',\n",
       "  'king',\n",
       "  'north',\n",
       "  'power',\n",
       "  'winterfell',\n",
       "  'riverrun',\n",
       "  'behind',\n",
       "  'him'],\n",
       " ['green', 'boy', 'said', 'stannis', 'another', 'false', 'king'],\n",
       " ['accept', 'broken', 'realm'],\n",
       " ['surely',\n",
       "  'half',\n",
       "  'kingdom',\n",
       "  'better',\n",
       "  'none',\n",
       "  'cressen',\n",
       "  'said',\n",
       "  'help',\n",
       "  'boy',\n",
       "  'avenge',\n",
       "  'father',\n",
       "  'murder',\n",
       "  'avenge',\n",
       "  'eddard',\n",
       "  'stark'],\n",
       " ['man', 'nothing'],\n",
       " ['oh', 'robert', 'loved', 'sure'],\n",
       " ['loved', 'brother', 'often', 'hear'],\n",
       " ['brother', 'ned', 'stark', 'would', 'never', 'known', 'way', 'treated'],\n",
       " ['held',\n",
       "  'storm',\n",
       "  'end',\n",
       "  'watching',\n",
       "  'good',\n",
       "  'men',\n",
       "  'starve',\n",
       "  'mace',\n",
       "  'tyrell',\n",
       "  'paxter',\n",
       "  'redwyne',\n",
       "  'feasted',\n",
       "  'within',\n",
       "  'sight',\n",
       "  'walls'],\n",
       " ['robert', 'thank'],\n",
       " [],\n",
       " ['thanked', 'stark', 'lifting', 'siege', 'rats', 'radishes'],\n",
       " ['built', 'fleet', 'robert', 'command', 'took', 'dragonstone', 'name'],\n",
       " ['take', 'hand', 'say', 'well', 'done', 'brother', 'whatever', 'without'],\n",
       " ['blamed',\n",
       "  'letting',\n",
       "  'willem',\n",
       "  'darry',\n",
       "  'steal',\n",
       "  'away',\n",
       "  'viserys',\n",
       "  'babe',\n",
       "  'could',\n",
       "  'stopped'],\n",
       " ['sat',\n",
       "  'council',\n",
       "  'fifteen',\n",
       "  'years',\n",
       "  'helping',\n",
       "  'jon',\n",
       "  'arryn',\n",
       "  'rule',\n",
       "  'realm',\n",
       "  'robert',\n",
       "  'drank',\n",
       "  'whored',\n",
       "  'jon',\n",
       "  'died',\n",
       "  'brother',\n",
       "  'name',\n",
       "  'hand'],\n",
       " ['went', 'galloping', 'dear', 'friend', 'ned', 'stark', 'offered', 'honor'],\n",
       " ['small', 'good', 'either', 'them'],\n",
       " ['may', 'lord', 'maester', 'cressen', 'said', 'gently'],\n",
       " ['great', 'wrongs', 'done', 'past', 'dust'],\n",
       " ['future', 'may', 'yet', 'join', 'starks'],\n",
       " ['others', 'might', 'sound', 'well'],\n",
       " ['lady', 'arryn'],\n",
       " ['queen', 'murdered', 'husband', 'surely', 'want', 'justice'],\n",
       " ['young', 'son', 'jon', 'arryn', 'heir'],\n",
       " ['betroth',\n",
       "  'shireen',\n",
       "  'him',\n",
       "  'boy',\n",
       "  'weak',\n",
       "  'sickly',\n",
       "  'lord',\n",
       "  'stannis',\n",
       "  'objected'],\n",
       " ['even', 'father', 'saw', 'asked', 'foster', 'dragonstone'],\n",
       " ['service',\n",
       "  'page',\n",
       "  'might',\n",
       "  'done',\n",
       "  'good',\n",
       "  'damnable',\n",
       "  'lannister',\n",
       "  'woman',\n",
       "  'lord',\n",
       "  'arryn',\n",
       "  'poisoned',\n",
       "  'could',\n",
       "  'done',\n",
       "  'lysa',\n",
       "  'hides',\n",
       "  'eyrie'],\n",
       " ['never', 'part', 'boy', 'promise', 'that'],\n",
       " ['must', 'send', 'shireen', 'eyrie', 'maester', 'urged'],\n",
       " ['dragonstone', 'grim', 'home', 'child'],\n",
       " ['let', 'fool', 'go', 'familiar', 'face', 'her'],\n",
       " ['familiar', 'hideous'],\n",
       " ['stannis', 'furrowed', 'brow', 'thought'],\n",
       " ['still'],\n",
       " [],\n",
       " [],\n",
       " ['perhaps', 'worth', 'trying'],\n",
       " [],\n",
       " [],\n",
       " ['must',\n",
       "  'rightful',\n",
       "  'lord',\n",
       "  'seven',\n",
       "  'kingdoms',\n",
       "  'beg',\n",
       "  'help',\n",
       "  'widow',\n",
       "  'women',\n",
       "  'usurpers'],\n",
       " ['woman', 'voice', 'asked', 'sharply'],\n",
       " ['maester', 'cressen', 'turned', 'bowed', 'head'],\n",
       " ['lady', 'said', 'chagrined', 'heard', 'enter'],\n",
       " ['lord', 'stannis', 'scowled'],\n",
       " ['beg'],\n",
       " ['anyone'],\n",
       " ['mind', 'remember', 'woman'],\n",
       " ['pleased', 'hear', 'lord'],\n",
       " ['lady',\n",
       "  'selyse',\n",
       "  'tall',\n",
       "  'husband',\n",
       "  'thin',\n",
       "  'body',\n",
       "  'thin',\n",
       "  'face',\n",
       "  'prominent',\n",
       "  'ears',\n",
       "  'sharp',\n",
       "  'nose',\n",
       "  'faintest',\n",
       "  'hint',\n",
       "  'mustache',\n",
       "  'upper',\n",
       "  'lip'],\n",
       " ['plucked',\n",
       "  'daily',\n",
       "  'cursed',\n",
       "  'regularly',\n",
       "  'yet',\n",
       "  'never',\n",
       "  'failed',\n",
       "  'return'],\n",
       " ['eyes', 'pale', 'mouth', 'stern', 'voice', 'whip'],\n",
       " ['cracked'],\n",
       " ['lady', 'arryn', 'owes', 'allegiance', 'starks', 'brother', 'renly', 'rest'],\n",
       " ['one', 'true', 'king'],\n",
       " ['would', 'fitting', 'plead', 'bargain', 'rightfully', 'grace', 'god'],\n",
       " ['god', 'said', 'gods'],\n",
       " ['red',\n",
       "  'woman',\n",
       "  'heart',\n",
       "  'soul',\n",
       "  'turning',\n",
       "  'gods',\n",
       "  'seven',\n",
       "  'kingdoms',\n",
       "  'old',\n",
       "  'new',\n",
       "  'worship',\n",
       "  'one',\n",
       "  'called',\n",
       "  'lord',\n",
       "  'light'],\n",
       " ['god',\n",
       "  'keep',\n",
       "  'grace',\n",
       "  'said',\n",
       "  'lord',\n",
       "  'stannis',\n",
       "  'share',\n",
       "  'wife',\n",
       "  'fervent',\n",
       "  'new',\n",
       "  'faith'],\n",
       " ['swords', 'need', 'blessings'],\n",
       " ['army', 'hidden', 'somewhere', 'told'],\n",
       " ['affection', 'tone'],\n",
       " ['stannis', 'always', 'uncomfortable', 'around', 'women', 'even', 'wife'],\n",
       " ['gone',\n",
       "  'king',\n",
       "  'landing',\n",
       "  'sit',\n",
       "  'robert',\n",
       "  'council',\n",
       "  'left',\n",
       "  'selyse',\n",
       "  'dragonstone',\n",
       "  'daughter'],\n",
       " ['letters',\n",
       "  'visits',\n",
       "  'fewer',\n",
       "  'duty',\n",
       "  'marriage',\n",
       "  'bed',\n",
       "  'twice',\n",
       "  'year',\n",
       "  'took',\n",
       "  'joy',\n",
       "  'sons',\n",
       "  'hoped',\n",
       "  'never',\n",
       "  'come'],\n",
       " ['brothers', 'uncles', 'cousins', 'armies', 'told'],\n",
       " ['house', 'florent', 'rally', 'banner'],\n",
       " ['house', 'florent', 'field', 'two', 'thousand', 'swords', 'best'],\n",
       " ['said',\n",
       "  'stannis',\n",
       "  'knew',\n",
       "  'strength',\n",
       "  'every',\n",
       "  'house',\n",
       "  'seven',\n",
       "  'kingdoms'],\n",
       " ['deal', 'faith', 'brothers', 'uncles', 'lady'],\n",
       " ['florent',\n",
       "  'lands',\n",
       "  'lie',\n",
       "  'close',\n",
       "  'highgarden',\n",
       "  'lord',\n",
       "  'uncle',\n",
       "  'risk',\n",
       "  'mace',\n",
       "  'tyrell',\n",
       "  'wrath'],\n",
       " ['another', 'way'],\n",
       " ['lady', 'selyse', 'moved', 'closer'],\n",
       " ['look', 'windows', 'lord'],\n",
       " ['sign', 'waited', 'blazoned', 'sky'],\n",
       " ['red', 'red', 'flame', 'red', 'fiery', 'heart', 'true', 'god'],\n",
       " ['banner', 'and'],\n",
       " ['see',\n",
       "  'unfurls',\n",
       "  'across',\n",
       "  'heavens',\n",
       "  'like',\n",
       "  'dragon',\n",
       "  'hot',\n",
       "  'breath',\n",
       "  'lord',\n",
       "  'dragonstone'],\n",
       " ['means', 'time', 'come', 'grace'],\n",
       " ['nothing', 'certain'],\n",
       " ['meant',\n",
       "  'sail',\n",
       "  'desolate',\n",
       "  'rock',\n",
       "  'aegon',\n",
       "  'conqueror',\n",
       "  'sailed',\n",
       "  'sweep'],\n",
       " ['say', 'word', 'embrace', 'power', 'lord', 'light'],\n",
       " ['many', 'swords', 'lord', 'light', 'put', 'hand'],\n",
       " ['stannis', 'demanded'],\n",
       " ['need', 'wife', 'promised'],\n",
       " ['swords', 'storm', 'end', 'highgarden', 'start', 'lords', 'bannermen'],\n",
       " ['davos', 'would', 'tell', 'different', 'stannis', 'said'],\n",
       " ['swords', 'sworn', 'renly'],\n",
       " ['love', 'charming', 'young', 'brother', 'loved', 'robert'],\n",
       " [],\n",
       " [],\n",
       " ['never', 'loved', 'me'],\n",
       " ['yes', 'answered', 'renly', 'die'],\n",
       " [],\n",
       " [],\n",
       " ['stannis',\n",
       "  'looked',\n",
       "  'lady',\n",
       "  'narrowed',\n",
       "  'eyes',\n",
       "  'cressen',\n",
       "  'could',\n",
       "  'hold',\n",
       "  'tongue'],\n",
       " ['thought'],\n",
       " ['grace', 'whatever', 'follies', 'renly', 'committed', 'follies'],\n",
       " ['call', 'treasons'],\n",
       " ['stannis', 'turned', 'back', 'wife'],\n",
       " ['brother',\n",
       "  'young',\n",
       "  'strong',\n",
       "  'vast',\n",
       "  'host',\n",
       "  'around',\n",
       "  'rainbow',\n",
       "  'knights',\n",
       "  'his'],\n",
       " ['melisandre', 'gazed', 'flames', 'seen', 'dead'],\n",
       " ['cressen', 'horrorstruck'],\n",
       " ['fratricide'],\n",
       " [],\n",
       " [],\n",
       " ['lord', 'evil', 'unthinkable'],\n",
       " [],\n",
       " [],\n",
       " ['please', 'listen', 'me'],\n",
       " ['lady', 'selyse', 'gave', 'measured', 'look'],\n",
       " ['tell', 'maester'],\n",
       " ['might',\n",
       "  'win',\n",
       "  'half',\n",
       "  'kingdom',\n",
       "  'goes',\n",
       "  'starks',\n",
       "  'knees',\n",
       "  'sells',\n",
       "  'daughter',\n",
       "  'lysa',\n",
       "  'arryn'],\n",
       " ['heard', 'counsel', 'cressen', 'lord', 'stannis', 'said'],\n",
       " ['hear'],\n",
       " ['dismissed'],\n",
       " ['maester', 'cressen', 'bent', 'stiff', 'knee'],\n",
       " ['could',\n",
       "  'feel',\n",
       "  'lady',\n",
       "  'selyse',\n",
       "  'eyes',\n",
       "  'back',\n",
       "  'shuffled',\n",
       "  'slowly',\n",
       "  'across',\n",
       "  'room'],\n",
       " ['time', 'reached', 'bottom', 'steps', 'could', 'stand', 'erect'],\n",
       " ['help', 'said', 'pylos'],\n",
       " ['safe',\n",
       "  'back',\n",
       "  'rooms',\n",
       "  'cressen',\n",
       "  'sent',\n",
       "  'younger',\n",
       "  'man',\n",
       "  'away',\n",
       "  'limped',\n",
       "  'balcony',\n",
       "  'stand',\n",
       "  'gargoyles',\n",
       "  'stare',\n",
       "  'sea'],\n",
       " ['one',\n",
       "  'salladhor',\n",
       "  'saan',\n",
       "  'warships',\n",
       "  'sweeping',\n",
       "  'past',\n",
       "  'castle',\n",
       "  'gaily',\n",
       "  'striped',\n",
       "  'hull',\n",
       "  'slicing',\n",
       "  'grey',\n",
       "  'green',\n",
       "  'waters',\n",
       "  'oars',\n",
       "  'rose',\n",
       "  'fell'],\n",
       " ['watched', 'vanished', 'behind', 'headland'],\n",
       " ['would', 'fears', 'could', 'vanish', 'easily'],\n",
       " ['lived', 'long'],\n",
       " ['maester',\n",
       "  'donned',\n",
       "  'collar',\n",
       "  'put',\n",
       "  'aside',\n",
       "  'hope',\n",
       "  'children',\n",
       "  'yet',\n",
       "  'cressen',\n",
       "  'oft',\n",
       "  'felt',\n",
       "  'father',\n",
       "  'nonetheless'],\n",
       " ['robert', 'stannis', 'renly'],\n",
       " [],\n",
       " [],\n",
       " ['three', 'sons', 'raised', 'angry', 'sea', 'claimed', 'lord', 'steffon'],\n",
       " ['done', 'ill', 'must', 'watch', 'one', 'kill'],\n",
       " ['could', 'allow', 'would', 'allow'],\n",
       " ['woman', 'heart'],\n",
       " ['lady', 'selyse', 'one'],\n",
       " ['red', 'woman', 'servants', 'named', 'afraid', 'speak', 'name'],\n",
       " ['speak', 'name', 'cressen', 'told', 'stone', 'hellhound'],\n",
       " ['melisandre'],\n",
       " ['her'],\n",
       " ['melisandre',\n",
       "  'asshai',\n",
       "  'sorceress',\n",
       "  'shadowbinder',\n",
       "  'priestess',\n",
       "  'hllor',\n",
       "  'lord',\n",
       "  'light',\n",
       "  'heart',\n",
       "  'fire',\n",
       "  'god',\n",
       "  'flame',\n",
       "  'shadow'],\n",
       " ['melisandre',\n",
       "  'whose',\n",
       "  'madness',\n",
       "  'must',\n",
       "  'allowed',\n",
       "  'spread',\n",
       "  'beyond',\n",
       "  'dragonstone'],\n",
       " ['chambers', 'seemed', 'dim', 'gloomy', 'brightness', 'morning'],\n",
       " ['fumbling',\n",
       "  'hands',\n",
       "  'old',\n",
       "  'man',\n",
       "  'lit',\n",
       "  'candle',\n",
       "  'carried',\n",
       "  'workroom',\n",
       "  'beneath',\n",
       "  'rookery',\n",
       "  'stair',\n",
       "  'ointments',\n",
       "  'potions',\n",
       "  'medicines',\n",
       "  'stood',\n",
       "  'neatly',\n",
       "  'shelves'],\n",
       " ['bottom',\n",
       "  'shelf',\n",
       "  'behind',\n",
       "  'row',\n",
       "  'salves',\n",
       "  'squat',\n",
       "  'clay',\n",
       "  'jars',\n",
       "  'found',\n",
       "  'vial',\n",
       "  'indigo',\n",
       "  'glass',\n",
       "  'larger',\n",
       "  'little',\n",
       "  'finger'],\n",
       " ['rattled', 'shook'],\n",
       " ['cressen', 'blew', 'away', 'layer', 'dust', 'carried', 'back', 'table'],\n",
       " ['collapsing', 'chair', 'pulled', 'stopper', 'spilled', 'vial', 'contents'],\n",
       " ['dozen',\n",
       "  'crystals',\n",
       "  'larger',\n",
       "  'seeds',\n",
       "  'rattled',\n",
       "  'across',\n",
       "  'parchment',\n",
       "  'reading'],\n",
       " ['shone',\n",
       "  'like',\n",
       "  'jewels',\n",
       "  'candlelight',\n",
       "  'purple',\n",
       "  'maester',\n",
       "  'found',\n",
       "  'thinking',\n",
       "  'never',\n",
       "  'truly',\n",
       "  'seen',\n",
       "  'color'],\n",
       " ['chain', 'around', 'throat', 'felt', 'heavy'],\n",
       " ['touched', 'one', 'crystals', 'lightly', 'tip', 'little', 'finger'],\n",
       " ['small', 'thing', 'hold', 'power', 'life', 'death'],\n",
       " ['made',\n",
       "  'certain',\n",
       "  'plant',\n",
       "  'grew',\n",
       "  'islands',\n",
       "  'jade',\n",
       "  'sea',\n",
       "  'half',\n",
       "  'world',\n",
       "  'away'],\n",
       " ['leaves',\n",
       "  'aged',\n",
       "  'soaked',\n",
       "  'wash',\n",
       "  'limes',\n",
       "  'sugar',\n",
       "  'water',\n",
       "  'certain',\n",
       "  'rare',\n",
       "  'spices',\n",
       "  'summer',\n",
       "  'isles'],\n",
       " ['afterward',\n",
       "  'could',\n",
       "  'discarded',\n",
       "  'potion',\n",
       "  'must',\n",
       "  'thickened',\n",
       "  'ash',\n",
       "  'allowed',\n",
       "  'crystallize'],\n",
       " ['process', 'slow', 'difficult', 'necessaries', 'costly', 'hard', 'acquire'],\n",
       " ['alchemists', 'lys', 'knew', 'way', 'though', 'faceless', 'men', 'braavos'],\n",
       " [],\n",
       " [],\n",
       " ['maesters',\n",
       "  'order',\n",
       "  'well',\n",
       "  'though',\n",
       "  'something',\n",
       "  'talked',\n",
       "  'beyond',\n",
       "  'walls',\n",
       "  'citadel'],\n",
       " ['world',\n",
       "  'knew',\n",
       "  'maester',\n",
       "  'forged',\n",
       "  'silver',\n",
       "  'link',\n",
       "  'learned',\n",
       "  'art',\n",
       "  'healing',\n",
       "  'but',\n",
       "  'world',\n",
       "  'preferred',\n",
       "  'forget',\n",
       "  'men',\n",
       "  'knew',\n",
       "  'heal',\n",
       "  'also',\n",
       "  'knew',\n",
       "  'kill'],\n",
       " ['cressen',\n",
       "  'longer',\n",
       "  'recalled',\n",
       "  'name',\n",
       "  'asshai',\n",
       "  'gave',\n",
       "  'leaf',\n",
       "  'lysene',\n",
       "  'poisoners',\n",
       "  'crystal'],\n",
       " ['citadel', 'simply', 'called', 'strangler'],\n",
       " ['dissolved',\n",
       "  'wine',\n",
       "  'would',\n",
       "  'make',\n",
       "  'muscles',\n",
       "  'man',\n",
       "  'throat',\n",
       "  'clench',\n",
       "  'tighter',\n",
       "  'fist',\n",
       "  'shutting',\n",
       "  'windpipe'],\n",
       " ['said',\n",
       "  'victim',\n",
       "  'face',\n",
       "  'turned',\n",
       "  'purple',\n",
       "  'little',\n",
       "  'crystal',\n",
       "  'seed',\n",
       "  'death',\n",
       "  'grown',\n",
       "  'man',\n",
       "  'choking',\n",
       "  'morsel',\n",
       "  'food'],\n",
       " ['night', 'lord', 'stannis', 'would', 'feast', 'bannermen', 'lady', 'wife'],\n",
       " [],\n",
       " [],\n",
       " ['red', 'woman', 'melisandre', 'asshai'],\n",
       " ['must', 'rest', 'maester', 'cressen', 'told'],\n",
       " ['must', 'strength', 'come', 'dark'],\n",
       " ['hands', 'must', 'shake', 'courage', 'flag'],\n",
       " ['dreadful', 'thing', 'yet', 'must', 'done'],\n",
       " ['gods', 'surely', 'forgive'],\n",
       " ['slept', 'poorly', 'late'],\n",
       " ['nap', 'would', 'refresh', 'ordeal', 'ahead'],\n",
       " ['wearily', 'tottered', 'bed'],\n",
       " ['yet',\n",
       "  'closed',\n",
       "  'eyes',\n",
       "  'could',\n",
       "  'still',\n",
       "  'see',\n",
       "  'light',\n",
       "  'comet',\n",
       "  'red',\n",
       "  'fiery',\n",
       "  'vividly',\n",
       "  'alive',\n",
       "  'amidst',\n",
       "  'darkness',\n",
       "  'dreams'],\n",
       " ['perhaps', 'comet', 'thought', 'drowsily', 'last', 'sleep', 'took'],\n",
       " ['omen', 'blood', 'foretelling', 'murder'],\n",
       " [],\n",
       " [],\n",
       " ['yes'],\n",
       " [],\n",
       " [],\n",
       " ['woke',\n",
       "  'full',\n",
       "  'dark',\n",
       "  'bedchamber',\n",
       "  'black',\n",
       "  'every',\n",
       "  'joint',\n",
       "  'body',\n",
       "  'ached'],\n",
       " ['cressen', 'pushed', 'head', 'throbbing'],\n",
       " ['clutching', 'cane', 'rose', 'unsteady', 'feet'],\n",
       " ['late', 'thought'],\n",
       " ['summon'],\n",
       " ['always',\n",
       "  'summoned',\n",
       "  'feasts',\n",
       "  'seated',\n",
       "  'near',\n",
       "  'salt',\n",
       "  'close',\n",
       "  'lord',\n",
       "  'stannis'],\n",
       " ['lord',\n",
       "  'face',\n",
       "  'swam',\n",
       "  'man',\n",
       "  'boy',\n",
       "  'standing',\n",
       "  'cold',\n",
       "  'shadows',\n",
       "  'sun',\n",
       "  'shone',\n",
       "  'elder',\n",
       "  'brother'],\n",
       " ['whatever', 'robert', 'done', 'first', 'better'],\n",
       " ['poor', 'boy'],\n",
       " [],\n",
       " [],\n",
       " ['must', 'hurry', 'sake'],\n",
       " ['maester', 'found', 'crystals', 'left', 'scooped', 'parchment'],\n",
       " ['cressen',\n",
       "  'owned',\n",
       "  'hollow',\n",
       "  'rings',\n",
       "  'poisoners',\n",
       "  'lys',\n",
       "  'said',\n",
       "  'favor',\n",
       "  'myriad',\n",
       "  'pockets',\n",
       "  'great',\n",
       "  'small',\n",
       "  'sewn',\n",
       "  'inside',\n",
       "  'loose',\n",
       "  'sleeves',\n",
       "  'robe'],\n",
       " ['secreted',\n",
       "  'strangler',\n",
       "  'seeds',\n",
       "  'one',\n",
       "  'threw',\n",
       "  'open',\n",
       "  'door',\n",
       "  'called',\n",
       "  'pylos'],\n",
       " [],\n",
       " ['heard', 'reply', 'called', 'louder'],\n",
       " ['pylos', 'need', 'help'],\n",
       " ['still', 'came', 'answer'],\n",
       " ['queer',\n",
       "  'young',\n",
       "  'maester',\n",
       "  'cell',\n",
       "  'half',\n",
       "  'turn',\n",
       "  'stair',\n",
       "  'within',\n",
       "  'easy',\n",
       "  'earshot'],\n",
       " ['end', 'cressen', 'shout', 'servants'],\n",
       " ['make', 'haste', 'told'],\n",
       " ['slept', 'long'],\n",
       " ['feasting'],\n",
       " [],\n",
       " [],\n",
       " ['drinking'],\n",
       " [],\n",
       " [],\n",
       " ['woken'],\n",
       " ['happened', 'maester', 'pylos'],\n",
       " ['truly', 'understand'],\n",
       " ['cross', 'long', 'gallery'],\n",
       " ['night', 'wind', 'whispered', 'great', 'windows', 'sharp', 'smell', 'sea'],\n",
       " ['torches',\n",
       "  'flickered',\n",
       "  'along',\n",
       "  'walls',\n",
       "  'dragonstone',\n",
       "  'camp',\n",
       "  'beyond',\n",
       "  'could',\n",
       "  'see',\n",
       "  'hundreds',\n",
       "  'cookfires',\n",
       "  'burning',\n",
       "  'field',\n",
       "  'stars',\n",
       "  'fallen',\n",
       "  'earth'],\n",
       " ['comet', 'blazed', 'red', 'malevolent'],\n",
       " ['old', 'wise', 'fear', 'things', 'maester', 'told'],\n",
       " ['doors', 'great', 'hall', 'set', 'mouth', 'stone', 'dragon'],\n",
       " ['told', 'servants', 'leave', 'outside'],\n",
       " ['would', 'better', 'enter', 'alone', 'must', 'appear', 'feeble'],\n",
       " ['leaning',\n",
       "  'heavily',\n",
       "  'cane',\n",
       "  'cressen',\n",
       "  'climbed',\n",
       "  'last',\n",
       "  'steps',\n",
       "  'hobbled',\n",
       "  'beneath',\n",
       "  'gateway',\n",
       "  'teeth'],\n",
       " ['pair',\n",
       "  'guardsmen',\n",
       "  'opened',\n",
       "  'heavy',\n",
       "  'red',\n",
       "  'doors',\n",
       "  'unleashing',\n",
       "  'sudden',\n",
       "  'blast',\n",
       "  'noise',\n",
       "  'light'],\n",
       " ['cressen', 'stepped', 'dragon', 'maw'],\n",
       " ['clatter',\n",
       "  'knife',\n",
       "  'plate',\n",
       "  'low',\n",
       "  'mutter',\n",
       "  'table',\n",
       "  'talk',\n",
       "  'heard',\n",
       "  'patchface',\n",
       "  'singing'],\n",
       " [],\n",
       " [],\n",
       " ['dance', 'lord', 'dance', 'lord', 'accompaniment', 'jangling', 'cowbells'],\n",
       " ['dreadful', 'song', 'sung', 'morning'],\n",
       " ['shadows', 'come', 'stay', 'lord', 'stay', 'lord', 'stay', 'lord'],\n",
       " ['lower',\n",
       "  'tables',\n",
       "  'crowded',\n",
       "  'knights',\n",
       "  'archers',\n",
       "  'sellsword',\n",
       "  'captains',\n",
       "  'tearing',\n",
       "  'apart',\n",
       "  'loaves',\n",
       "  'black',\n",
       "  'bread',\n",
       "  'soak',\n",
       "  'fish',\n",
       "  'stew'],\n",
       " ['loud',\n",
       "  'laughter',\n",
       "  'raucous',\n",
       "  'shouting',\n",
       "  'marred',\n",
       "  'dignity',\n",
       "  'men',\n",
       "  'feasts',\n",
       "  'lord',\n",
       "  'stannis',\n",
       "  'permit'],\n",
       " ['cressen',\n",
       "  'made',\n",
       "  'way',\n",
       "  'toward',\n",
       "  'raised',\n",
       "  'platform',\n",
       "  'lords',\n",
       "  'sat',\n",
       "  'king'],\n",
       " ['step', 'wide', 'around', 'patchface'],\n",
       " ['dancing',\n",
       "  'bells',\n",
       "  'ringing',\n",
       "  'fool',\n",
       "  'neither',\n",
       "  'saw',\n",
       "  'heard',\n",
       "  'approach'],\n",
       " ['hopped',\n",
       "  'one',\n",
       "  'leg',\n",
       "  'patchface',\n",
       "  'lurched',\n",
       "  'cressen',\n",
       "  'knocking',\n",
       "  'cane'],\n",
       " ['went',\n",
       "  'crashing',\n",
       "  'together',\n",
       "  'amidst',\n",
       "  'rushes',\n",
       "  'tangle',\n",
       "  'arms',\n",
       "  'legs',\n",
       "  'sudden',\n",
       "  'gale',\n",
       "  'laughter',\n",
       "  'went',\n",
       "  'around'],\n",
       " ['doubt', 'comical', 'sight'],\n",
       " ['patchface',\n",
       "  'sprawled',\n",
       "  'half',\n",
       "  'top',\n",
       "  'motley',\n",
       "  'fool',\n",
       "  'face',\n",
       "  'pressed',\n",
       "  'close'],\n",
       " ['lost', 'tin', 'helm', 'antlers', 'bells'],\n",
       " ['sea', 'fall', 'declared'],\n",
       " ['know', 'know', 'oh', 'oh', 'oh'],\n",
       " ['giggling', 'fool', 'rolled', 'bounded', 'feet', 'little', 'dance'],\n",
       " ['trying',\n",
       "  'make',\n",
       "  'best',\n",
       "  'maester',\n",
       "  'smiled',\n",
       "  'feebly',\n",
       "  'struggled',\n",
       "  'rise',\n",
       "  'hip',\n",
       "  'pain',\n",
       "  'moment',\n",
       "  'half',\n",
       "  'afraid',\n",
       "  'broken'],\n",
       " ['felt', 'strong', 'hands', 'grasp', 'arms', 'lift', 'back', 'feet'],\n",
       " ['thank', 'ser', 'murmured', 'turning', 'see', 'knight', 'come', 'aid'],\n",
       " [],\n",
       " [],\n",
       " ['maester',\n",
       "  'said',\n",
       "  'lady',\n",
       "  'melisandre',\n",
       "  'deep',\n",
       "  'voice',\n",
       "  'flavored',\n",
       "  'music',\n",
       "  'jade',\n",
       "  'sea'],\n",
       " ['ought', 'take', 'care'],\n",
       " ['ever',\n",
       "  'wore',\n",
       "  'red',\n",
       "  'head',\n",
       "  'heel',\n",
       "  'long',\n",
       "  'loose',\n",
       "  'gown',\n",
       "  'flowing',\n",
       "  'silk',\n",
       "  'bright',\n",
       "  'fire',\n",
       "  'dagged',\n",
       "  'sleeves',\n",
       "  'deep',\n",
       "  'slashes',\n",
       "  'bodice',\n",
       "  'showed',\n",
       "  'glimpses',\n",
       "  'darker',\n",
       "  'bloodred',\n",
       "  'fabric',\n",
       "  'beneath'],\n",
       " ['around',\n",
       "  'throat',\n",
       "  'red',\n",
       "  'gold',\n",
       "  'choker',\n",
       "  'tighter',\n",
       "  'maester',\n",
       "  'chain',\n",
       "  'ornamented',\n",
       "  'single',\n",
       "  'great',\n",
       "  'ruby'],\n",
       " ['hair',\n",
       "  'orange',\n",
       "  'strawberry',\n",
       "  'color',\n",
       "  'common',\n",
       "  'red',\n",
       "  'haired',\n",
       "  'men',\n",
       "  'deep',\n",
       "  'burnished',\n",
       "  'copper',\n",
       "  'shone',\n",
       "  'light',\n",
       "  'torches'],\n",
       " ['even', 'eyes', 'red'],\n",
       " [],\n",
       " [],\n",
       " ['skin', 'smooth', 'white', 'unblemished', 'pale', 'cream'],\n",
       " ['slender',\n",
       "  'graceful',\n",
       "  'taller',\n",
       "  'knights',\n",
       "  'full',\n",
       "  'breasts',\n",
       "  'narrow',\n",
       "  'waist',\n",
       "  'heart',\n",
       "  'shaped',\n",
       "  'face'],\n",
       " ['men',\n",
       "  'eyes',\n",
       "  'found',\n",
       "  'quickly',\n",
       "  'look',\n",
       "  'away',\n",
       "  'even',\n",
       "  'maester',\n",
       "  'eyes'],\n",
       " ['many', 'called', 'beautiful'],\n",
       " ['beautiful'],\n",
       " ['red', 'terrible', 'red'],\n",
       " [],\n",
       " [],\n",
       " [],\n",
       " ['thank', 'lady'],\n",
       " ['man', 'age', 'must', 'look', 'steps', 'melisandre', 'said', 'courteously'],\n",
       " ['night', 'dark', 'full', 'terrors'],\n",
       " ['knew', 'phrase', 'prayer', 'faith'],\n",
       " ['makes', 'matter', 'faith'],\n",
       " ['children', 'fear', 'dark', 'told'],\n",
       " ['yet', 'even', 'said', 'words', 'heard', 'patchface', 'take', 'song'],\n",
       " ['shadows', 'come', 'dance', 'lord', 'dance', 'lord', 'dance', 'lord'],\n",
       " ['riddle', 'melisandre', 'said'],\n",
       " ['clever', 'fool', 'foolish', 'wise', 'man'],\n",
       " ['bending',\n",
       "  'picked',\n",
       "  'patchface',\n",
       "  'helm',\n",
       "  'fallen',\n",
       "  'set',\n",
       "  'cressen',\n",
       "  'head'],\n",
       " ['cowbells', 'rang', 'softly', 'tin', 'bucket', 'slid', 'ears'],\n",
       " ['crown', 'match', 'chain', 'lord', 'maester', 'announced'],\n",
       " ['around', 'men', 'laughing'],\n",
       " ['cressen', 'pressed', 'lips', 'together', 'fought', 'still', 'rage'],\n",
       " ['thought',\n",
       "  'feeble',\n",
       "  'helpless',\n",
       "  'would',\n",
       "  'learn',\n",
       "  'otherwise',\n",
       "  'night',\n",
       "  'done'],\n",
       " ['old', 'might', 'yet', 'still', 'maester', 'citadel'],\n",
       " ['need', 'crown', 'truth', 'told', 'removing', 'fool', 'helm', 'head'],\n",
       " ['truths', 'world', 'taught', 'oldtown'],\n",
       " ['melisandre',\n",
       "  'turned',\n",
       "  'swirl',\n",
       "  'red',\n",
       "  'silk',\n",
       "  'made',\n",
       "  'way',\n",
       "  'back',\n",
       "  'high',\n",
       "  'table',\n",
       "  'king',\n",
       "  'stannis',\n",
       "  'queen',\n",
       "  'seated'],\n",
       " ['cressen',\n",
       "  'handed',\n",
       "  'antlered',\n",
       "  'tin',\n",
       "  'bucket',\n",
       "  'back',\n",
       "  'patchface',\n",
       "  'made',\n",
       "  'follow'],\n",
       " ['maester', 'pylos', 'sat', 'place'],\n",
       " ['old', 'man', 'could', 'stop', 'stare'],\n",
       " ['maester', 'pylos', 'said', 'last'],\n",
       " [],\n",
       " [],\n",
       " [],\n",
       " ['wake', 'me'],\n",
       " ['grace', 'commanded', 'let', 'rest'],\n",
       " ['pylos', 'least', 'grace', 'blush'],\n",
       " ['told', 'needed', 'here'],\n",
       " ['cressen', 'looked', 'knights', 'captains', 'lords', 'sitting', 'silent'],\n",
       " ['lord',\n",
       "  'celtigar',\n",
       "  'aged',\n",
       "  'sour',\n",
       "  'wore',\n",
       "  'mantle',\n",
       "  'patterned',\n",
       "  'red',\n",
       "  'crabs',\n",
       "  'picked',\n",
       "  'garnets'],\n",
       " ['handsome',\n",
       "  'lord',\n",
       "  'velaryon',\n",
       "  'chose',\n",
       "  'sea',\n",
       "  'green',\n",
       "  'silk',\n",
       "  'white',\n",
       "  'gold',\n",
       "  'seahorse',\n",
       "  'throat',\n",
       "  'matching',\n",
       "  'long',\n",
       "  'fair',\n",
       "  'hair'],\n",
       " ['lord',\n",
       "  'bar',\n",
       "  'emmon',\n",
       "  'plump',\n",
       "  'boy',\n",
       "  'fourteen',\n",
       "  'swathed',\n",
       "  'purple',\n",
       "  'velvet',\n",
       "  'trimmed',\n",
       "  'white',\n",
       "  'seal',\n",
       "  'ser',\n",
       "  'axell',\n",
       "  'florent',\n",
       "  'remained',\n",
       "  'homely',\n",
       "  'even',\n",
       "  'russet',\n",
       "  'fox',\n",
       "  'fur',\n",
       "  'pious',\n",
       "  'lord',\n",
       "  'sunglass',\n",
       "  'wore',\n",
       "  'moonstones',\n",
       "  'throat',\n",
       "  'wrist',\n",
       "  'finger',\n",
       "  'lysene',\n",
       "  'captain',\n",
       "  'salladhor',\n",
       "  'saan',\n",
       "  'sunburst',\n",
       "  'scarlet',\n",
       "  'satin',\n",
       "  'gold',\n",
       "  'jewels'],\n",
       " ['ser',\n",
       "  'davos',\n",
       "  'dressed',\n",
       "  'simply',\n",
       "  'brown',\n",
       "  'doublet',\n",
       "  'green',\n",
       "  'wool',\n",
       "  'mantle',\n",
       "  'ser',\n",
       "  'davos',\n",
       "  'met',\n",
       "  'gaze',\n",
       "  'pity',\n",
       "  'eyes'],\n",
       " ['ill', 'confused', 'use', 'old', 'man'],\n",
       " ['sounded', 'like', 'lord', 'stannis', 'voice', 'could', 'could'],\n",
       " ['pylos', 'counsel', 'henceforth'],\n",
       " ['already', 'works', 'ravens', 'since', 'longer', 'climb', 'rookery'],\n",
       " ['kill', 'service'],\n",
       " ['maester', 'cressen', 'blinked'],\n",
       " ['stannis',\n",
       "  'lord',\n",
       "  'sad',\n",
       "  'sullen',\n",
       "  'boy',\n",
       "  'son',\n",
       "  'never',\n",
       "  'must',\n",
       "  'know',\n",
       "  'cared',\n",
       "  'lived',\n",
       "  'loved',\n",
       "  'despite'],\n",
       " ['yes',\n",
       "  'loved',\n",
       "  'better',\n",
       "  'robert',\n",
       "  'even',\n",
       "  'renly',\n",
       "  'one',\n",
       "  'unloved',\n",
       "  'one',\n",
       "  'needed'],\n",
       " ['yet', 'said', 'command', 'lord'],\n",
       " [],\n",
       " [],\n",
       " ['hungry'],\n",
       " ['might', 'place', 'table'],\n",
       " ['side', 'belong', 'side'],\n",
       " [],\n",
       " [],\n",
       " ['ser', 'davos', 'rose', 'bench'],\n",
       " ['honored', 'maester', 'would', 'sit', 'beside', 'grace'],\n",
       " ['will'],\n",
       " ['lord',\n",
       "  'stannis',\n",
       "  'turned',\n",
       "  'away',\n",
       "  'say',\n",
       "  'something',\n",
       "  'melisandre',\n",
       "  'seated',\n",
       "  'right',\n",
       "  'hand',\n",
       "  'place',\n",
       "  'high',\n",
       "  'honor'],\n",
       " ['lady',\n",
       "  'selyse',\n",
       "  'left',\n",
       "  'flashing',\n",
       "  'smile',\n",
       "  'bright',\n",
       "  'brittle',\n",
       "  'jewels'],\n",
       " ['far', 'cressen', 'thought', 'dully', 'looking', 'ser', 'davos', 'seated'],\n",
       " ['half', 'lords', 'bannermen', 'smuggler', 'high', 'table'],\n",
       " ['must', 'closer', 'get', 'strangler', 'cup', 'yet'],\n",
       " ['patchface',\n",
       "  'capering',\n",
       "  'maester',\n",
       "  'made',\n",
       "  'slow',\n",
       "  'way',\n",
       "  'around',\n",
       "  'table',\n",
       "  'davos',\n",
       "  'seaworth'],\n",
       " ['eat',\n",
       "  'fish',\n",
       "  'fool',\n",
       "  'declared',\n",
       "  'happily',\n",
       "  'waving',\n",
       "  'cod',\n",
       "  'like',\n",
       "  'scepter'],\n",
       " ['sea', 'fish', 'eat', 'us'],\n",
       " ['know', 'know', 'oh', 'oh', 'oh'],\n",
       " ['ser', 'davos', 'moved', 'aside', 'make', 'room', 'bench'],\n",
       " ['motley',\n",
       "  'tonight',\n",
       "  'said',\n",
       "  'gloomily',\n",
       "  'cressen',\n",
       "  'seated',\n",
       "  'fool',\n",
       "  'business'],\n",
       " ['red',\n",
       "  'woman',\n",
       "  'seen',\n",
       "  'victory',\n",
       "  'flames',\n",
       "  'stannis',\n",
       "  'means',\n",
       "  'press',\n",
       "  'claim',\n",
       "  'matter',\n",
       "  'numbers'],\n",
       " ['done', 'like', 'see', 'patchface', 'saw', 'fear', 'the', 'bottom', 'sea'],\n",
       " ['cressen', 'slid', 'hands', 'sleeves', 'warmth'],\n",
       " ['fingers', 'found', 'hard', 'lumps', 'crystals', 'made', 'wool'],\n",
       " ['lord', 'stannis'],\n",
       " ['stannis', 'turned', 'red', 'woman', 'lady', 'selyse', 'replied'],\n",
       " ['king', 'stannis'],\n",
       " ['forget', 'maester'],\n",
       " ['old', 'mind', 'wanders', 'king', 'told', 'gruffly'],\n",
       " ['cressen'],\n",
       " ['speak', 'mind'],\n",
       " ['intend',\n",
       "  'sail',\n",
       "  'vital',\n",
       "  'make',\n",
       "  'common',\n",
       "  'cause',\n",
       "  'lord',\n",
       "  'stark',\n",
       "  'lady',\n",
       "  'arryn'],\n",
       " [],\n",
       " [],\n",
       " ['make', 'common', 'cause', 'one', 'stannis', 'baratheon', 'said'],\n",
       " ['light', 'makes', 'common', 'cause', 'darkness'],\n",
       " ['lady', 'selyse', 'took', 'hand'],\n",
       " ['stannis', 'nodded'],\n",
       " ['starks',\n",
       "  'seek',\n",
       "  'steal',\n",
       "  'half',\n",
       "  'kingdom',\n",
       "  'even',\n",
       "  'lannisters',\n",
       "  'stolen',\n",
       "  'throne',\n",
       "  'sweet',\n",
       "  'brother',\n",
       "  'swords',\n",
       "  'service',\n",
       "  'strongholds',\n",
       "  'mine',\n",
       "  'rights'],\n",
       " ['usurpers', 'enemies'],\n",
       " ['lost', 'cressen', 'thought', 'despairing'],\n",
       " ['could', 'somehow', 'approach', 'melisandre', 'unseen'],\n",
       " [],\n",
       " [],\n",
       " ['needed', 'instant', 'access', 'cup'],\n",
       " ['rightful',\n",
       "  'heir',\n",
       "  'brother',\n",
       "  'robert',\n",
       "  'true',\n",
       "  'lord',\n",
       "  'seven',\n",
       "  'kingdoms',\n",
       "  'king',\n",
       "  'andals',\n",
       "  'rhoynar',\n",
       "  'first',\n",
       "  'men',\n",
       "  'said',\n",
       "  'desperately',\n",
       "  'even',\n",
       "  'hope',\n",
       "  'triumph',\n",
       "  'without',\n",
       "  'allies'],\n",
       " ['ally', 'lady', 'selyse', 'said'],\n",
       " ['hllor', 'lord', 'light', 'heart', 'fire', 'god', 'flame', 'shadow'],\n",
       " ['gods',\n",
       "  'make',\n",
       "  'uncertain',\n",
       "  'allies',\n",
       "  'best',\n",
       "  'old',\n",
       "  'man',\n",
       "  'insisted',\n",
       "  'one',\n",
       "  'power',\n",
       "  'here'],\n",
       " ['think'],\n",
       " ['ruby',\n",
       "  'melisandre',\n",
       "  'throat',\n",
       "  'caught',\n",
       "  'light',\n",
       "  'turned',\n",
       "  'head',\n",
       "  'instant',\n",
       "  'seemed',\n",
       "  'glow',\n",
       "  'bright',\n",
       "  'comet'],\n",
       " ['speak', 'folly', 'maester', 'ought', 'wear', 'crown', 'again'],\n",
       " ['yes', 'lady', 'selyse', 'agreed'],\n",
       " ['patches', 'helm'],\n",
       " ['suits', 'well', 'old', 'man'],\n",
       " ['put', 'command', 'you'],\n",
       " ['sea', 'one', 'wears', 'hats', 'patchface', 'said'],\n",
       " ['know', 'know', 'oh', 'oh', 'oh'],\n",
       " ['lord',\n",
       "  'stannis',\n",
       "  'eyes',\n",
       "  'shadowed',\n",
       "  'beneath',\n",
       "  'heavy',\n",
       "  'brow',\n",
       "  'mouth',\n",
       "  'tight',\n",
       "  'jaw',\n",
       "  'worked',\n",
       "  'silently'],\n",
       " ['always', 'ground', 'teeth', 'angry'],\n",
       " ['fool', 'growled', 'last', 'lady', 'wife', 'commands'],\n",
       " ['give', 'cressen', 'helm'],\n",
       " ['old',\n",
       "  'maester',\n",
       "  'thought',\n",
       "  'way',\n",
       "  'always',\n",
       "  'always',\n",
       "  'hard',\n",
       "  'yet',\n",
       "  'never',\n",
       "  'cruel',\n",
       "  'never',\n",
       "  'understand',\n",
       "  'mockery',\n",
       "  'understood',\n",
       "  'laughter'],\n",
       " ['patchface',\n",
       "  'danced',\n",
       "  'closer',\n",
       "  'cowbells',\n",
       "  'ringing',\n",
       "  'clang',\n",
       "  'lang',\n",
       "  'ding',\n",
       "  'ding',\n",
       "  'clink',\n",
       "  'clank',\n",
       "  'clink',\n",
       "  'clank'],\n",
       " ['maester', 'sat', 'silent', 'fool', 'set', 'antlered', 'bucket', 'brow'],\n",
       " ['cressen', 'bowed', 'head', 'beneath', 'weight'],\n",
       " ['bells', 'clanged'],\n",
       " ['perhaps',\n",
       "  'ought',\n",
       "  'sing',\n",
       "  'counsel',\n",
       "  'henceforth',\n",
       "  'lady',\n",
       "  'selyse',\n",
       "  'said'],\n",
       " ['go', 'far', 'woman', 'lord', 'stannis', 'said'],\n",
       " ['old', 'man', 'served', 'well'],\n",
       " ['serve',\n",
       "  'last',\n",
       "  'sweet',\n",
       "  'lord',\n",
       "  'poor',\n",
       "  'lonely',\n",
       "  'son',\n",
       "  'cressen',\n",
       "  'thought',\n",
       "  'suddenly',\n",
       "  'saw',\n",
       "  'way'],\n",
       " ['ser', 'davos', 'cup', 'still', 'half', 'full', 'sour', 'red'],\n",
       " ['found',\n",
       "  'hard',\n",
       "  'flake',\n",
       "  'crystal',\n",
       "  'sleeve',\n",
       "  'held',\n",
       "  'tight',\n",
       "  'thumb',\n",
       "  'forefinger',\n",
       "  'reached',\n",
       "  'cup'],\n",
       " ['smooth', 'motions', 'deft', 'must', 'fumble', 'prayed', 'gods', 'kind'],\n",
       " ['blink', 'eye', 'fingers', 'empty'],\n",
       " ['hands', 'steady', 'years', 'half', 'fluid'],\n",
       " ['davos', 'saw', 'one', 'else', 'certain'],\n",
       " ['cup', 'hand', 'rose', 'feet'],\n",
       " ['mayhaps', 'fool'],\n",
       " ['lady', 'melisandre', 'share', 'cup', 'wine'],\n",
       " ['cup', 'honor', 'god', 'lord', 'light'],\n",
       " ['cup', 'toast', 'power'],\n",
       " ['red', 'woman', 'studied'],\n",
       " ['wish'],\n",
       " ['could', 'feel', 'watching'],\n",
       " ['davos',\n",
       "  'clutched',\n",
       "  'left',\n",
       "  'bench',\n",
       "  'catching',\n",
       "  'sleeve',\n",
       "  'fingers',\n",
       "  'lord',\n",
       "  'stannis',\n",
       "  'shortened'],\n",
       " [],\n",
       " ['whispered'],\n",
       " ['thing',\n",
       "  'must',\n",
       "  'done',\n",
       "  'maester',\n",
       "  'cressen',\n",
       "  'answered',\n",
       "  'sake',\n",
       "  'realm',\n",
       "  'soul',\n",
       "  'lord'],\n",
       " ['shook', 'davos', 'hand', 'spilling', 'drop', 'wine', 'rushes'],\n",
       " ['met', 'beneath', 'high', 'table', 'every', 'man', 'eyes', 'upon'],\n",
       " ['cressen', 'saw'],\n",
       " ['red',\n",
       "  'silk',\n",
       "  'red',\n",
       "  'eyes',\n",
       "  'ruby',\n",
       "  'red',\n",
       "  'throat',\n",
       "  'red',\n",
       "  'lips',\n",
       "  'curled',\n",
       "  'faint',\n",
       "  'smile',\n",
       "  'put',\n",
       "  'hand',\n",
       "  'atop',\n",
       "  'around',\n",
       "  'cup'],\n",
       " ['skin', 'felt', 'hot', 'feverish'],\n",
       " ['late', 'spill', 'wine', 'maester'],\n",
       " ['whispered', 'hoarsely'],\n",
       " ['no'],\n",
       " ['will'],\n",
       " ['melisandre', 'asshai', 'took', 'cup', 'hands', 'drank', 'long', 'deep'],\n",
       " ['half', 'swallow', 'wine', 'remaining', 'offered', 'back'],\n",
       " ['you'],\n",
       " ['hands', 'shaking', 'made', 'strong'],\n",
       " ['maester', 'citadel', 'must', 'afraid'],\n",
       " ['wine', 'sour', 'tongue'],\n",
       " ['let', 'empty', 'cup', 'drop', 'fingers', 'shatter', 'floor'],\n",
       " ['power', 'lord', 'woman', 'said'],\n",
       " ['fire', 'cleanses'],\n",
       " ['throat', 'ruby', 'shimmered', 'redly'],\n",
       " ['cressen', 'tried', 'reply', 'words', 'caught', 'throat'],\n",
       " ['cough', 'became', 'terrible', 'thin', 'whistle', 'strained', 'suck', 'air'],\n",
       " ['iron', 'fingers', 'tightened', 'round', 'neck'],\n",
       " ['sank',\n",
       "  'knees',\n",
       "  'still',\n",
       "  'shook',\n",
       "  'head',\n",
       "  'denying',\n",
       "  'denying',\n",
       "  'power',\n",
       "  'denying',\n",
       "  'magic',\n",
       "  'denying',\n",
       "  'god'],\n",
       " ['cowbells',\n",
       "  'peeled',\n",
       "  'antlers',\n",
       "  'singing',\n",
       "  'fool',\n",
       "  'fool',\n",
       "  'fool',\n",
       "  'red',\n",
       "  'woman',\n",
       "  'looked',\n",
       "  'pity',\n",
       "  'candle',\n",
       "  'flames',\n",
       "  'dancing',\n",
       "  'red',\n",
       "  'red',\n",
       "  'eyes'],\n",
       " ['arya',\n",
       "  'winterfell',\n",
       "  'called',\n",
       "  'arya',\n",
       "  'horseface',\n",
       "  'thought',\n",
       "  'nothing',\n",
       "  'could',\n",
       "  'worse',\n",
       "  'orphan',\n",
       "  'boy',\n",
       "  'lommy',\n",
       "  'greenhands',\n",
       "  'named',\n",
       "  'lumpyhead'],\n",
       " ['head', 'felt', 'lumpy', 'touched'],\n",
       " ['yoren',\n",
       "  'dragged',\n",
       "  'alley',\n",
       "  'thought',\n",
       "  'meant',\n",
       "  'kill',\n",
       "  'sour',\n",
       "  'old',\n",
       "  'man',\n",
       "  'held',\n",
       "  'tight',\n",
       "  'sawing',\n",
       "  'mats',\n",
       "  'tangles',\n",
       "  'dagger'],\n",
       " ['remembered',\n",
       "  'breeze',\n",
       "  'sent',\n",
       "  'fistfuls',\n",
       "  'dirty',\n",
       "  'brown',\n",
       "  'hair',\n",
       "  'skittering',\n",
       "  'across',\n",
       "  'paving',\n",
       "  'stones',\n",
       "  'toward',\n",
       "  'sept',\n",
       "  'father',\n",
       "  'died'],\n",
       " ['taking',\n",
       "  'men',\n",
       "  'boys',\n",
       "  'city',\n",
       "  'yoren',\n",
       "  'growled',\n",
       "  'sharp',\n",
       "  'steel',\n",
       "  'scraped',\n",
       "  'head'],\n",
       " ['hold', 'still', 'boy'],\n",
       " ['time', 'finished', 'scalp', 'nothing', 'tufts', 'stubble'],\n",
       " ['afterward', 'told', 'winterfell', 'arry', 'orphan', 'boy'],\n",
       " ['gate', 'hard', 'road', 'another', 'matter'],\n",
       " ['got', 'long', 'way', 'go', 'bad', 'company'],\n",
       " ['got',\n",
       "  'thirty',\n",
       "  'time',\n",
       "  'men',\n",
       "  'boys',\n",
       "  'bound',\n",
       "  'wall',\n",
       "  'thinking',\n",
       "  'like',\n",
       "  'bastard',\n",
       "  'brother',\n",
       "  'yours'],\n",
       " ['shook'],\n",
       " ['lord', 'eddard', 'gave', 'pick', 'dungeons', 'find', 'little', 'lordlings'],\n",
       " ['lot',\n",
       "  'half',\n",
       "  'would',\n",
       "  'turn',\n",
       "  'queen',\n",
       "  'quick',\n",
       "  'spit',\n",
       "  'pardon',\n",
       "  'maybe',\n",
       "  'silvers'],\n",
       " ['half', 'rape', 'first'],\n",
       " ['keep', 'make', 'water', 'woods', 'alone'],\n",
       " ['hardest', 'part', 'pissing', 'drink', 'need'],\n",
       " ['leaving', 'king', 'landing', 'easy', 'like', 'said'],\n",
       " ['lannister',\n",
       "  'guardsmen',\n",
       "  'gate',\n",
       "  'stopping',\n",
       "  'everyone',\n",
       "  'yoren',\n",
       "  'called',\n",
       "  'one',\n",
       "  'name',\n",
       "  'wagons',\n",
       "  'waved'],\n",
       " ['one', 'spared', 'arya', 'glance'],\n",
       " ['looking',\n",
       "  'highborn',\n",
       "  'girl',\n",
       "  'daughter',\n",
       "  'king',\n",
       "  'hand',\n",
       "  'skinny',\n",
       "  'boy',\n",
       "  'hair',\n",
       "  'chopped'],\n",
       " ['arya', 'never', 'looked', 'back'],\n",
       " ['wished',\n",
       "  'rush',\n",
       "  'would',\n",
       "  'rise',\n",
       "  'wash',\n",
       "  'whole',\n",
       "  'city',\n",
       "  'away',\n",
       "  'flea',\n",
       "  'bottom',\n",
       "  'red',\n",
       "  'keep',\n",
       "  'great',\n",
       "  'sept',\n",
       "  'everything',\n",
       "  'everyone',\n",
       "  'especially',\n",
       "  'prince',\n",
       "  'joffrey',\n",
       "  'mother'],\n",
       " ['knew', 'anyhow', 'sansa', 'still', 'city', 'would', 'wash', 'away'],\n",
       " ['remembered', 'arya', 'decided', 'wish', 'winterfell', 'instead'],\n",
       " ['yoren', 'wrong', 'pissing', 'though'],\n",
       " ['hardest', 'part', 'lommy', 'greenhands', 'hot', 'pie', 'hardest', 'part'],\n",
       " ['orphan', 'boys'],\n",
       " ['yoren',\n",
       "  'plucked',\n",
       "  'streets',\n",
       "  'promises',\n",
       "  'food',\n",
       "  'bellies',\n",
       "  'shoes',\n",
       "  'feet'],\n",
       " ['rest', 'found', 'chains'],\n",
       " ['watch', 'needs', 'good', 'men', 'told', 'set', 'lot', 'do'],\n",
       " ['yoren',\n",
       "  'taken',\n",
       "  'grown',\n",
       "  'men',\n",
       "  'dungeons',\n",
       "  'well',\n",
       "  'thieves',\n",
       "  'poachers',\n",
       "  'rapers',\n",
       "  'like'],\n",
       " ['worst',\n",
       "  'three',\n",
       "  'found',\n",
       "  'black',\n",
       "  'cells',\n",
       "  'must',\n",
       "  'scared',\n",
       "  'even',\n",
       "  'kept',\n",
       "  'fettered',\n",
       "  'hand',\n",
       "  'foot',\n",
       "  'back',\n",
       "  'wagon',\n",
       "  'vowed',\n",
       "  'stay',\n",
       "  'irons',\n",
       "  'way',\n",
       "  'wall'],\n",
       " ['one',\n",
       "  'nose',\n",
       "  'hole',\n",
       "  'face',\n",
       "  'cut',\n",
       "  'gross',\n",
       "  'fat',\n",
       "  'bald',\n",
       "  'one',\n",
       "  'pointed',\n",
       "  'teeth',\n",
       "  'weeping',\n",
       "  'sores',\n",
       "  'cheeks',\n",
       "  'eyes',\n",
       "  'like',\n",
       "  'nothing',\n",
       "  'human'],\n",
       " ['took',\n",
       "  'five',\n",
       "  'wagons',\n",
       "  'king',\n",
       "  'landing',\n",
       "  'laden',\n",
       "  'supplies',\n",
       "  'wall',\n",
       "  'hides',\n",
       "  'bolts',\n",
       "  'cloth',\n",
       "  'bars',\n",
       "  'pig',\n",
       "  'iron',\n",
       "  'cage',\n",
       "  'ravens',\n",
       "  'books',\n",
       "  'paper',\n",
       "  'ink',\n",
       "  'bale',\n",
       "  'sourleaf',\n",
       "  'jars',\n",
       "  'oil',\n",
       "  'chests',\n",
       "  'medicine',\n",
       "  'spices'],\n",
       " ['teams',\n",
       "  'plow',\n",
       "  'horses',\n",
       "  'pulled',\n",
       "  'wagons',\n",
       "  'yoren',\n",
       "  'bought',\n",
       "  'two',\n",
       "  'coursers',\n",
       "  'half',\n",
       "  'dozen',\n",
       "  'donkeys',\n",
       "  'boys'],\n",
       " ['arya',\n",
       "  'would',\n",
       "  'preferred',\n",
       "  'real',\n",
       "  'horse',\n",
       "  'donkey',\n",
       "  'better',\n",
       "  'riding',\n",
       "  'wagon'],\n",
       " ['men', 'paid', 'mind', 'lucky', 'boys'],\n",
       " ['two',\n",
       "  'years',\n",
       "  'younger',\n",
       "  'youngest',\n",
       "  'orphan',\n",
       "  'mention',\n",
       "  'smaller',\n",
       "  'skinnier',\n",
       "  'lommy',\n",
       "  'hot',\n",
       "  'pie',\n",
       "  'took',\n",
       "  'silence',\n",
       "  'mean',\n",
       "  'scared',\n",
       "  'stupid',\n",
       "  'deaf'],\n",
       " ['look',\n",
       "  'sword',\n",
       "  'lumpyhead',\n",
       "  'got',\n",
       "  'lommy',\n",
       "  'said',\n",
       "  'one',\n",
       "  'morning',\n",
       "  'made',\n",
       "  'plodding',\n",
       "  'way',\n",
       "  'past',\n",
       "  'orchards',\n",
       "  'wheat',\n",
       "  'fields'],\n",
       " ['dyer',\n",
       "  'apprentice',\n",
       "  'caught',\n",
       "  'stealing',\n",
       "  'arms',\n",
       "  'mottled',\n",
       "  'green',\n",
       "  'elbow'],\n",
       " ['laughed', 'brayed', 'like', 'donkeys', 'riding'],\n",
       " ['gutter', 'rat', 'like', 'lumpyhead', 'get', 'sword'],\n",
       " ['arya', 'chewed', 'lip', 'sullenly'],\n",
       " ['could',\n",
       "  'see',\n",
       "  'back',\n",
       "  'yoren',\n",
       "  'faded',\n",
       "  'black',\n",
       "  'cloak',\n",
       "  'ahead',\n",
       "  'wagons',\n",
       "  'determined',\n",
       "  'go',\n",
       "  'crying',\n",
       "  'help'],\n",
       " ['maybe', 'little', 'squire', 'hot', 'pie', 'put'],\n",
       " ['mother',\n",
       "  'baker',\n",
       "  'died',\n",
       "  'pushed',\n",
       "  'cart',\n",
       "  'streets',\n",
       "  'day',\n",
       "  'shouting',\n",
       "  'hot',\n",
       "  'pies'],\n",
       " ['hot', 'pies'],\n",
       " ['lordy', 'lord', 'little', 'squire', 'boy', 'it'],\n",
       " ['squire', 'look'],\n",
       " ['bet', 'even', 'real', 'sword'],\n",
       " ['bet', 'play', 'sword', 'made', 'tin'],\n",
       " ['arya', 'hated', 'making', 'fun', 'needle'],\n",
       " ['castle',\n",
       "  'forged',\n",
       "  'steel',\n",
       "  'stupid',\n",
       "  'snapped',\n",
       "  'turning',\n",
       "  'saddle',\n",
       "  'glare',\n",
       "  'better',\n",
       "  'shut',\n",
       "  'mouth'],\n",
       " ['orphan', 'boys', 'hooted'],\n",
       " ['get', 'blade', 'like', 'lumpyface'],\n",
       " ['hot', 'pie', 'wanted', 'know'],\n",
       " ['lumpyhead', 'corrected', 'lommy'],\n",
       " ['prob', 'ly', 'stole', 'it'],\n",
       " [],\n",
       " ['shouted'],\n",
       " ['jon', 'snow', 'given', 'needle'],\n",
       " ['maybe', 'let', 'call', 'lumpyhead', 'going', 'let', 'call', 'jon', 'thief'],\n",
       " ['stole', 'could', 'take', 'said', 'hot', 'pie'],\n",
       " ['anyhow'],\n",
       " ['could', 'use', 'sword', 'like', 'that'],\n",
       " ['lommy', 'egged'],\n",
       " ['go', 'take', 'dare', 'you'],\n",
       " ['hot', 'pie', 'kicked', 'donkey', 'riding', 'closer'],\n",
       " ['hey', 'lumpyface', 'gim', 'sword'],\n",
       " ['hair', 'color', 'straw', 'fat', 'face', 'sunburnt', 'peeling'],\n",
       " ['know', 'use', 'it'],\n",
       " ['yes', 'arya', 'could', 'said'],\n",
       " ['killed',\n",
       "  'boy',\n",
       "  'fat',\n",
       "  'boy',\n",
       "  'like',\n",
       "  'stabbed',\n",
       "  'belly',\n",
       "  'died',\n",
       "  'kill',\n",
       "  'let',\n",
       "  'alone'],\n",
       " ['dare'],\n",
       " ['yoren', 'know', 'stableboy', 'afraid', 'might', 'found'],\n",
       " ['arya',\n",
       "  'pretty',\n",
       "  'sure',\n",
       "  'men',\n",
       "  'killers',\n",
       "  'three',\n",
       "  'manacles',\n",
       "  'sure',\n",
       "  'queen',\n",
       "  'looking'],\n",
       " ['look', 'brayed', 'lommy', 'greenhands'],\n",
       " ['bet', 'going', 'cry'],\n",
       " ['want', 'cry', 'lumpyhead'],\n",
       " ['cried', 'sleep', 'night', 'dreaming', 'father'],\n",
       " ['come',\n",
       "  'morning',\n",
       "  'woken',\n",
       "  'red',\n",
       "  'eyed',\n",
       "  'dry',\n",
       "  'could',\n",
       "  'shed',\n",
       "  'another',\n",
       "  'tear',\n",
       "  'life',\n",
       "  'hung'],\n",
       " ['going', 'wet', 'pants', 'hot', 'pie', 'suggested'],\n",
       " ['leave', 'said', 'boy', 'shaggy', 'black', 'hair', 'rode', 'behind'],\n",
       " ['lommy',\n",
       "  'named',\n",
       "  'bull',\n",
       "  'account',\n",
       "  'horned',\n",
       "  'helm',\n",
       "  'polished',\n",
       "  'time',\n",
       "  'never',\n",
       "  'wore'],\n",
       " ['lommy', 'dare', 'mock', 'bull'],\n",
       " ['older', 'big', 'age', 'broad', 'chest', 'strong', 'looking', 'arms'],\n",
       " ['better', 'give', 'hot', 'pie', 'sword', 'arry', 'lommy', 'said'],\n",
       " ['hot', 'pie', 'wants', 'bad'],\n",
       " ['kicked', 'boy', 'death'],\n",
       " ['bet'],\n",
       " ['knocked',\n",
       "  'kicked',\n",
       "  'balls',\n",
       "  'kept',\n",
       "  'kicking',\n",
       "  'dead',\n",
       "  'hot',\n",
       "  'pie',\n",
       "  'boasted'],\n",
       " ['kicked', 'pieces'],\n",
       " ['balls', 'broke', 'open', 'bloody', 'cock', 'turned', 'black'],\n",
       " ['better', 'gim', 'sword'],\n",
       " ['arya', 'slid', 'practice', 'sword', 'belt'],\n",
       " ['one', 'told', 'hot', 'pie', 'wanting', 'fight'],\n",
       " ['stick'],\n",
       " ['rode', 'nearer', 'tried', 'reach', 'needle', 'hilt'],\n",
       " ['arya',\n",
       "  'made',\n",
       "  'stick',\n",
       "  'whistle',\n",
       "  'laid',\n",
       "  'wood',\n",
       "  'across',\n",
       "  'donkey',\n",
       "  'hindquarters'],\n",
       " ['animal', 'hawed', 'bucked', 'dumping', 'hot', 'pie', 'ground'],\n",
       " ['vaulted', 'donkey', 'poked', 'gut', 'tried', 'get', 'sat', 'back', 'grunt'],\n",
       " ['whacked',\n",
       "  'across',\n",
       "  'face',\n",
       "  'nose',\n",
       "  'made',\n",
       "  'crack',\n",
       "  'like',\n",
       "  'branch',\n",
       "  'breaking'],\n",
       " ['blood', 'dribbled', 'nostrils'],\n",
       " ['hot',\n",
       "  'pie',\n",
       "  'began',\n",
       "  'wail',\n",
       "  'arya',\n",
       "  'whirled',\n",
       "  'toward',\n",
       "  'lommy',\n",
       "  'greenhands',\n",
       "  'sitting',\n",
       "  'donkey',\n",
       "  'openmouthed'],\n",
       " ['want', 'sword'],\n",
       " ['yelled'],\n",
       " ['raised',\n",
       "  'dyed',\n",
       "  'green',\n",
       "  'hands',\n",
       "  'front',\n",
       "  'face',\n",
       "  'squealed',\n",
       "  'get',\n",
       "  'away'],\n",
       " ['bull', 'shouted', 'behind', 'arya', 'spun'],\n",
       " ['hot', 'pie', 'knees', 'fist', 'closing', 'around', 'big', 'jagged', 'rock'],\n",
       " ['let', 'throw', 'ducking', 'head', 'sailed', 'past'],\n",
       " ['flew'],\n",
       " ['raised', 'hand', 'hit', 'cheek', 'knee'],\n",
       " ['grabbed', 'danced', 'aside', 'bounced', 'wood', 'back', 'head'],\n",
       " ['fell', 'got', 'stumbled', 'red', 'face', 'smeared', 'dirt', 'blood'],\n",
       " ['arya', 'slid', 'water', 'dancer', 'stance', 'waited'],\n",
       " ['came',\n",
       "  'close',\n",
       "  'enough',\n",
       "  'lunged',\n",
       "  'right',\n",
       "  'legs',\n",
       "  'hard',\n",
       "  'wooden',\n",
       "  'sword',\n",
       "  'point',\n",
       "  'would',\n",
       "  'come',\n",
       "  'butt',\n",
       "  'cheeks'],\n",
       " ...]"
      ]
     },
     "execution_count": 66,
     "metadata": {},
     "output_type": "execute_result"
    }
   ],
   "source": [
    "story"
   ]
  },
  {
   "cell_type": "markdown",
   "id": "8217be31",
   "metadata": {},
   "source": [
    "# Model Generation"
   ]
  },
  {
   "cell_type": "code",
   "execution_count": 67,
   "id": "6a1b195b",
   "metadata": {},
   "outputs": [],
   "source": [
    "model = gensim.models.Word2Vec(\n",
    "    window=10,\n",
    "    min_count=2,\n",
    "    workers=8,\n",
    ")"
   ]
  },
  {
   "cell_type": "code",
   "execution_count": 68,
   "id": "233d0834",
   "metadata": {},
   "outputs": [],
   "source": [
    "model.build_vocab(story)"
   ]
  },
  {
   "cell_type": "code",
   "execution_count": 69,
   "id": "6b5d9967",
   "metadata": {},
   "outputs": [
    {
     "data": {
      "text/plain": [
       "(4441586, 4621335)"
      ]
     },
     "execution_count": 69,
     "metadata": {},
     "output_type": "execute_result"
    }
   ],
   "source": [
    "model.train(story, total_examples=model.corpus_count, epochs=model.epochs)"
   ]
  },
  {
   "cell_type": "markdown",
   "id": "cf2d75e6",
   "metadata": {},
   "source": [
    "# Model Testing"
   ]
  },
  {
   "cell_type": "code",
   "execution_count": 70,
   "id": "649d2ee7",
   "metadata": {},
   "outputs": [
    {
     "data": {
      "text/plain": [
       "[('surname', 0.7319146394729614),\n",
       " ('sam', 0.6791117191314697),\n",
       " ('qhorin', 0.6589221954345703),\n",
       " ('grenn', 0.649080753326416),\n",
       " ('ghost', 0.6475927233695984),\n",
       " ('dolorous', 0.6471182703971863),\n",
       " ('theon', 0.6432061195373535),\n",
       " ('ygritte', 0.6369132399559021),\n",
       " ('edd', 0.6347445249557495),\n",
       " ('asha', 0.6287349462509155)]"
      ]
     },
     "execution_count": 70,
     "metadata": {},
     "output_type": "execute_result"
    }
   ],
   "source": [
    "model.wv.most_similar('jon')"
   ]
  },
  {
   "cell_type": "code",
   "execution_count": 71,
   "id": "57ca6d67",
   "metadata": {},
   "outputs": [
    {
     "data": {
      "text/plain": [
       "'jon'"
      ]
     },
     "execution_count": 71,
     "metadata": {},
     "output_type": "execute_result"
    }
   ],
   "source": [
    "model.wv.doesnt_match(['jon', 'rikon', 'robb', 'arya', 'sansa', 'bran'])"
   ]
  },
  {
   "cell_type": "code",
   "execution_count": 72,
   "id": "9730746e",
   "metadata": {},
   "outputs": [
    {
     "data": {
      "text/plain": [
       "'bronn'"
      ]
     },
     "execution_count": 72,
     "metadata": {},
     "output_type": "execute_result"
    }
   ],
   "source": [
    "model.wv.doesnt_match(['cersei', 'jaime', 'bronn', 'tyrion'])"
   ]
  },
  {
   "cell_type": "code",
   "execution_count": 73,
   "id": "9ba8f443",
   "metadata": {},
   "outputs": [
    {
     "data": {
      "text/plain": [
       "array([ 1.2325127 ,  1.9372822 ,  0.22342661, -0.3756587 ,  1.8213208 ,\n",
       "       -0.9114719 , -0.16468963,  2.0526843 ,  0.27278563,  0.24097817,\n",
       "        0.93436235, -1.067016  , -0.09273927,  0.21175374,  1.3054348 ,\n",
       "        0.27105612,  0.21076109, -0.88997555, -1.8251039 , -1.7673988 ,\n",
       "        0.22768411, -0.40976453, -0.24395129, -1.4708114 , -1.5821983 ,\n",
       "       -2.5363455 , -0.09525846,  0.15870453,  0.64542675, -0.60069484,\n",
       "       -1.0614601 , -2.6947753 ,  1.1666776 ,  0.42161208,  0.10234049,\n",
       "        0.11625234, -0.4028122 , -0.98606646, -0.7959067 , -0.8056132 ,\n",
       "        0.15731828, -0.47523162, -0.7846116 ,  1.3641535 ,  0.26233393,\n",
       "       -0.25001985,  1.8542655 , -0.41020182, -0.07323302,  2.1042426 ,\n",
       "        1.1265914 , -0.9679709 ,  0.47266087,  1.8382362 , -0.99616325,\n",
       "        1.2450552 , -0.16445419, -0.24796426, -0.3373431 , -0.5740928 ,\n",
       "       -0.5170271 ,  0.85053676, -0.29279426, -0.8072891 , -0.95520633,\n",
       "        1.909959  ,  1.2459009 , -0.51089644,  0.1917265 ,  0.9382468 ,\n",
       "       -1.2457129 ,  1.2776604 ,  0.18815994,  0.00606124, -0.6399242 ,\n",
       "        0.12157267,  0.5232647 ,  0.0517559 , -1.3062606 , -0.37690482,\n",
       "       -0.6486925 ,  1.048279  , -1.0425024 , -0.5378892 ,  1.1759233 ,\n",
       "        0.8239364 , -1.2758316 , -1.1591983 ,  0.3963365 ,  0.7858294 ,\n",
       "        0.5721242 , -0.79047424, -1.5004984 ,  0.66688657,  0.8972989 ,\n",
       "       -0.717515  ,  0.420982  , -0.53778464, -1.1434611 , -0.00774277],\n",
       "      dtype=float32)"
      ]
     },
     "execution_count": 73,
     "metadata": {},
     "output_type": "execute_result"
    }
   ],
   "source": [
    "model.wv['jon']"
   ]
  },
  {
   "cell_type": "code",
   "execution_count": 74,
   "id": "6bb8fcd9",
   "metadata": {},
   "outputs": [
    {
     "data": {
      "text/plain": [
       "(100,)"
      ]
     },
     "execution_count": 74,
     "metadata": {},
     "output_type": "execute_result"
    }
   ],
   "source": [
    "model.wv['king'].shape"
   ]
  },
  {
   "cell_type": "code",
   "execution_count": 75,
   "id": "54dcc38a",
   "metadata": {},
   "outputs": [
    {
     "data": {
      "text/plain": [
       "0.7996057"
      ]
     },
     "execution_count": 75,
     "metadata": {},
     "output_type": "execute_result"
    }
   ],
   "source": [
    "model.wv.similarity('arya', 'sansa')"
   ]
  },
  {
   "cell_type": "code",
   "execution_count": 76,
   "id": "8dde5704",
   "metadata": {},
   "outputs": [
    {
     "data": {
      "text/plain": [
       "0.74655277"
      ]
     },
     "execution_count": 76,
     "metadata": {},
     "output_type": "execute_result"
    }
   ],
   "source": [
    "model.wv.similarity('cersei', 'sansa')"
   ]
  },
  {
   "cell_type": "code",
   "execution_count": 77,
   "id": "14c6f9c0",
   "metadata": {},
   "outputs": [
    {
     "data": {
      "text/plain": [
       "0.35562402"
      ]
     },
     "execution_count": 77,
     "metadata": {},
     "output_type": "execute_result"
    }
   ],
   "source": [
    "model.wv.similarity('tywin', 'sansa')"
   ]
  },
  {
   "cell_type": "code",
   "execution_count": 78,
   "id": "8d3697eb",
   "metadata": {},
   "outputs": [
    {
     "data": {
      "text/plain": [
       "array([[ 0.01373875,  0.10173237, -0.04203181, ...,  0.02210657,\n",
       "        -0.0126978 ,  0.05009589],\n",
       "       [-0.10500804,  0.12222076,  0.04466277, ..., -0.01072783,\n",
       "        -0.21978587,  0.01839383],\n",
       "       [-0.1744469 ,  0.09951742,  0.01357904, ..., -0.14727664,\n",
       "         0.16898805, -0.14879382],\n",
       "       ...,\n",
       "       [-0.07491867,  0.15795586,  0.01631927, ..., -0.10990151,\n",
       "         0.01453382,  0.03492467],\n",
       "       [-0.14169778,  0.09457946,  0.06852347, ..., -0.18298796,\n",
       "        -0.01368346,  0.02725869],\n",
       "       [-0.26830375,  0.1962293 ,  0.03897475, ..., -0.04099725,\n",
       "        -0.07019613,  0.05533511]], dtype=float32)"
      ]
     },
     "execution_count": 78,
     "metadata": {},
     "output_type": "execute_result"
    }
   ],
   "source": [
    "model.wv.get_normed_vectors()"
   ]
  },
  {
   "cell_type": "code",
   "execution_count": 79,
   "id": "59b48c07",
   "metadata": {},
   "outputs": [
    {
     "data": {
      "text/plain": [
       "(17338, 100)"
      ]
     },
     "execution_count": 79,
     "metadata": {},
     "output_type": "execute_result"
    }
   ],
   "source": [
    "model.wv.get_normed_vectors().shape"
   ]
  },
  {
   "cell_type": "code",
   "execution_count": 80,
   "id": "e5d8174d",
   "metadata": {},
   "outputs": [],
   "source": [
    "y = model.wv.index_to_key"
   ]
  },
  {
   "cell_type": "code",
   "execution_count": 81,
   "id": "632e8bf8",
   "metadata": {},
   "outputs": [
    {
     "data": {
      "text/plain": [
       "['said',\n",
       " 'lord',\n",
       " 'would',\n",
       " 'one',\n",
       " 'ser',\n",
       " 'could',\n",
       " 'man',\n",
       " 'king',\n",
       " 'men',\n",
       " 'back',\n",
       " 'well',\n",
       " 'jon',\n",
       " 'like',\n",
       " 'father',\n",
       " 'old',\n",
       " 'hand',\n",
       " 'tyrion',\n",
       " 'even',\n",
       " 'never',\n",
       " 'see',\n",
       " 'know',\n",
       " 'made',\n",
       " 'eyes',\n",
       " 'black',\n",
       " 'told',\n",
       " 'lady',\n",
       " 'thought',\n",
       " 'time',\n",
       " 'long',\n",
       " 'might',\n",
       " 'us',\n",
       " 'come',\n",
       " 'still',\n",
       " 'face',\n",
       " 'head',\n",
       " 'red',\n",
       " 'way',\n",
       " 'boy',\n",
       " 'must',\n",
       " 'queen',\n",
       " 'good',\n",
       " 'two',\n",
       " 'brother',\n",
       " 'night',\n",
       " 'little',\n",
       " 'took',\n",
       " 'came',\n",
       " 'though',\n",
       " 'say',\n",
       " 'three',\n",
       " 'away',\n",
       " 'son',\n",
       " 'dead',\n",
       " 'blood',\n",
       " 'half',\n",
       " 'take',\n",
       " 'go',\n",
       " 'arya',\n",
       " 'make',\n",
       " 'saw',\n",
       " 'jaime',\n",
       " 'day',\n",
       " 'white',\n",
       " 'first',\n",
       " 'look',\n",
       " 'want',\n",
       " 'enough',\n",
       " 'much',\n",
       " 'bran',\n",
       " 'girl',\n",
       " 'sword',\n",
       " 'tell',\n",
       " 'great',\n",
       " 'looked',\n",
       " 'called',\n",
       " 'left',\n",
       " 'knew',\n",
       " 'maester',\n",
       " 'asked',\n",
       " 'gave',\n",
       " 'sansa',\n",
       " 'wall',\n",
       " 'every',\n",
       " 'heard',\n",
       " 'let',\n",
       " 'yet',\n",
       " 'went',\n",
       " 'turned',\n",
       " 'dany',\n",
       " 'need',\n",
       " 'behind',\n",
       " 'around',\n",
       " 'woman',\n",
       " 'another',\n",
       " 'beneath',\n",
       " 'snow',\n",
       " 'across',\n",
       " 'knight',\n",
       " 'keep',\n",
       " 'gold',\n",
       " 'grace',\n",
       " 'found',\n",
       " 'cersei',\n",
       " 'last',\n",
       " 'castle',\n",
       " 'stark',\n",
       " 'gods',\n",
       " 'think',\n",
       " 'hair',\n",
       " 'many',\n",
       " 'feet',\n",
       " 'stannis',\n",
       " 'mother',\n",
       " 'hands',\n",
       " 'catelyn',\n",
       " 'prince',\n",
       " 'robert',\n",
       " 'seemed',\n",
       " 'may',\n",
       " 'ever',\n",
       " 'lannister',\n",
       " 'robb',\n",
       " 'done',\n",
       " 'find',\n",
       " 'hear',\n",
       " 'grey',\n",
       " 'name',\n",
       " 'high',\n",
       " 'horse',\n",
       " 'put',\n",
       " 'wine',\n",
       " 'iron',\n",
       " 'stone',\n",
       " 'fire',\n",
       " 'hard',\n",
       " 'water',\n",
       " 'upon',\n",
       " 'voice',\n",
       " 'gone',\n",
       " 'give',\n",
       " 'seen',\n",
       " 'better',\n",
       " 'sam',\n",
       " 'ned',\n",
       " 'years',\n",
       " 'shall',\n",
       " 'always',\n",
       " 'dark',\n",
       " 'place',\n",
       " 'winterfell',\n",
       " 'small',\n",
       " 'house',\n",
       " 'cold',\n",
       " 'hundred',\n",
       " 'sister',\n",
       " 'end',\n",
       " 'words',\n",
       " 'stood',\n",
       " 'sea',\n",
       " 'right',\n",
       " 'nothing',\n",
       " 'joffrey',\n",
       " 'walls',\n",
       " 'fingers',\n",
       " 'young',\n",
       " 'cloak',\n",
       " 'seven',\n",
       " 'watch',\n",
       " 'beside',\n",
       " 'get',\n",
       " 'mouth',\n",
       " 'door',\n",
       " 'green',\n",
       " 'big',\n",
       " 'sent',\n",
       " 'daughter',\n",
       " 'perhaps',\n",
       " 'almost',\n",
       " 'true',\n",
       " 'wanted',\n",
       " 'leave',\n",
       " 'arms',\n",
       " 'city',\n",
       " 'children',\n",
       " 'wind',\n",
       " 'light',\n",
       " 'sweet',\n",
       " 'lost',\n",
       " 'theon',\n",
       " 'others',\n",
       " 'felt',\n",
       " 'brothers',\n",
       " 'yes',\n",
       " 'side',\n",
       " 'best',\n",
       " 'brought',\n",
       " 'die',\n",
       " 'died',\n",
       " 'soon',\n",
       " 'far',\n",
       " 'north',\n",
       " 'fear',\n",
       " 'child',\n",
       " 'brienne',\n",
       " 'along',\n",
       " 'word',\n",
       " 'battle',\n",
       " 'taken',\n",
       " 'new',\n",
       " 'help',\n",
       " 'wife',\n",
       " 'lords',\n",
       " 'tywin',\n",
       " 'davos',\n",
       " 'something',\n",
       " 'mean',\n",
       " 'you',\n",
       " 'rest',\n",
       " 'hall',\n",
       " 'kill',\n",
       " 'strong',\n",
       " 'dragon',\n",
       " 'steel',\n",
       " 'began',\n",
       " 'sound',\n",
       " 'past',\n",
       " 'life',\n",
       " 'tower',\n",
       " 'sons',\n",
       " 'killed',\n",
       " 'arm',\n",
       " 'free',\n",
       " 'tried',\n",
       " 'bear',\n",
       " 'thing',\n",
       " 'days',\n",
       " 'bloody',\n",
       " 'heart',\n",
       " 'pale',\n",
       " 'love',\n",
       " 'moment',\n",
       " 'sat',\n",
       " 'bring',\n",
       " 'knights',\n",
       " 'close',\n",
       " 'bed',\n",
       " 'wolf',\n",
       " 'death',\n",
       " 'cut',\n",
       " 'smile',\n",
       " 'horses',\n",
       " 'silver',\n",
       " 'inside',\n",
       " 'dragons',\n",
       " 'four',\n",
       " 'brown',\n",
       " 'bastard',\n",
       " 'landing',\n",
       " 'uncle',\n",
       " 'hot',\n",
       " 'part',\n",
       " 'thousand',\n",
       " 'open',\n",
       " 'captain',\n",
       " 'blue',\n",
       " 'going',\n",
       " 'air',\n",
       " 'please',\n",
       " 'me',\n",
       " 'river',\n",
       " 'laughed',\n",
       " 'rose',\n",
       " 'sun',\n",
       " 'fell',\n",
       " 'golden',\n",
       " 'war',\n",
       " 'without',\n",
       " 'sleep',\n",
       " 'swords',\n",
       " 'renly',\n",
       " 'speak',\n",
       " 'beyond',\n",
       " 'fool',\n",
       " 'full',\n",
       " 'certain',\n",
       " 'feel',\n",
       " 'fight',\n",
       " 'got',\n",
       " 'tongue',\n",
       " 'send',\n",
       " 'rode',\n",
       " 'thick',\n",
       " 'set',\n",
       " 'world',\n",
       " 'throat',\n",
       " 'deep',\n",
       " 'legs',\n",
       " 'rock',\n",
       " 'call',\n",
       " 'honor',\n",
       " 'trees',\n",
       " 'tall',\n",
       " 'mormont',\n",
       " 'table',\n",
       " 'broken',\n",
       " 'pulled',\n",
       " 'women',\n",
       " 'steps',\n",
       " 'things',\n",
       " 'next',\n",
       " 'hodor',\n",
       " 'heavy',\n",
       " 'oh',\n",
       " 'burned',\n",
       " 'toward',\n",
       " 'together',\n",
       " 'given',\n",
       " 'skin',\n",
       " 'storm',\n",
       " 'dwarf',\n",
       " 'since',\n",
       " 'alone',\n",
       " 'smiled',\n",
       " 'moved',\n",
       " 'ride',\n",
       " 'second',\n",
       " 'raised',\n",
       " 'ask',\n",
       " 'frey',\n",
       " 'hope',\n",
       " 'eye',\n",
       " 'soft',\n",
       " 'reached',\n",
       " 'remember',\n",
       " 'remembered',\n",
       " 'throne',\n",
       " 'someone',\n",
       " 'hold',\n",
       " 'coming',\n",
       " 'ten',\n",
       " 'meant',\n",
       " 'morning',\n",
       " 'teeth',\n",
       " 'command',\n",
       " 'else',\n",
       " 'fat',\n",
       " 'walder',\n",
       " 'commander',\n",
       " 'jorah',\n",
       " 'truth',\n",
       " 'outside',\n",
       " 'doubt',\n",
       " 'ground',\n",
       " 'cup',\n",
       " 'known',\n",
       " 'wore',\n",
       " 'ran',\n",
       " 'gate',\n",
       " 'room',\n",
       " 'held',\n",
       " 'closed',\n",
       " 'sky',\n",
       " 'home',\n",
       " 'matter',\n",
       " 'south',\n",
       " 'riverrun',\n",
       " 'wed',\n",
       " 'dozen',\n",
       " 'people',\n",
       " 'neck',\n",
       " 'wood',\n",
       " 'tyrell',\n",
       " 'tommen',\n",
       " 'near',\n",
       " 'food',\n",
       " 'talk',\n",
       " 'instead',\n",
       " 'it',\n",
       " 'turn',\n",
       " 'none',\n",
       " 'ships',\n",
       " 'shadow',\n",
       " 'and',\n",
       " 'moon',\n",
       " 'lips',\n",
       " 'summer',\n",
       " 'bolton',\n",
       " 'varys',\n",
       " 'watched',\n",
       " 'leather',\n",
       " 'times',\n",
       " 'septon',\n",
       " 'him',\n",
       " 'shoulder',\n",
       " 'warm',\n",
       " 'caught',\n",
       " 'believe',\n",
       " 'ice',\n",
       " 'blade',\n",
       " 'guards',\n",
       " 'least',\n",
       " 'god',\n",
       " 'answer',\n",
       " 'eddard',\n",
       " 'safe',\n",
       " 'wondered',\n",
       " 'shield',\n",
       " 'barristan',\n",
       " 'opened',\n",
       " 'mine',\n",
       " 'armor',\n",
       " 'daenerys',\n",
       " 'six',\n",
       " 'return',\n",
       " 'kept',\n",
       " 'wish',\n",
       " 'used',\n",
       " 'smell',\n",
       " 'less',\n",
       " 'squire',\n",
       " 'foot',\n",
       " 'floor',\n",
       " 'baratheon',\n",
       " 'followed',\n",
       " 'empty',\n",
       " 'run',\n",
       " 'wedding',\n",
       " 'friends',\n",
       " 'serve',\n",
       " 'boys',\n",
       " 'cloaks',\n",
       " 'eat',\n",
       " 'wrong',\n",
       " 'beard',\n",
       " 'ghost',\n",
       " 'flesh',\n",
       " 'sight',\n",
       " 'hound',\n",
       " 'strength',\n",
       " 'five',\n",
       " 'ship',\n",
       " 'crown',\n",
       " 'returned',\n",
       " 'nose',\n",
       " 'bones',\n",
       " 'master',\n",
       " 'yellow',\n",
       " 'aemon',\n",
       " 'says',\n",
       " 'chest',\n",
       " 'petyr',\n",
       " 'covered',\n",
       " 'sometimes',\n",
       " 'commanded',\n",
       " 'lysa',\n",
       " 'filled',\n",
       " 'friend',\n",
       " 'common',\n",
       " 'led',\n",
       " 'spoke',\n",
       " 'aye',\n",
       " 'show',\n",
       " 'flames',\n",
       " 'fighting',\n",
       " 'asha',\n",
       " 'huge',\n",
       " 'aside',\n",
       " 'crow',\n",
       " 'belly',\n",
       " 'yard',\n",
       " 'breath',\n",
       " 'seem',\n",
       " 'gates',\n",
       " 'greyjoy',\n",
       " 'waiting',\n",
       " 'within',\n",
       " 'realm',\n",
       " 'wet',\n",
       " 'looking',\n",
       " 'wooden',\n",
       " 'later',\n",
       " 'bad',\n",
       " 'use',\n",
       " 'thin',\n",
       " 'work',\n",
       " 'wildlings',\n",
       " 'husband',\n",
       " 'promised',\n",
       " 'grew',\n",
       " 'girls',\n",
       " 'littlefinger',\n",
       " 'loved',\n",
       " 'tree',\n",
       " 'onto',\n",
       " 'bronn',\n",
       " 'guard',\n",
       " 'afraid',\n",
       " 'rain',\n",
       " 'maid',\n",
       " 'shoulders',\n",
       " 'year',\n",
       " 'shouted',\n",
       " 'walked',\n",
       " 'fall',\n",
       " 'dog',\n",
       " 'margaery',\n",
       " 'late',\n",
       " 'mance',\n",
       " 'liked',\n",
       " 'remained',\n",
       " 'arryn',\n",
       " 'meereen',\n",
       " 'passed',\n",
       " 'hurt',\n",
       " 'balon',\n",
       " 'dothraki',\n",
       " 'taste',\n",
       " 'drew',\n",
       " 'sworn',\n",
       " 'lay',\n",
       " 'song',\n",
       " 'reach',\n",
       " 'realized',\n",
       " 'sure',\n",
       " 'pushed',\n",
       " 'named',\n",
       " 'princess',\n",
       " 'finally',\n",
       " 'kingdoms',\n",
       " 'brave',\n",
       " 'different',\n",
       " 'stand',\n",
       " 'heir',\n",
       " 'whispered',\n",
       " 'kingsguard',\n",
       " 'suddenly',\n",
       " 'wolves',\n",
       " 'spear',\n",
       " 'aegon',\n",
       " 'poor',\n",
       " 'ears',\n",
       " 'stay',\n",
       " 'drogo',\n",
       " 'kings',\n",
       " 'lannisters',\n",
       " 'burning',\n",
       " 'stop',\n",
       " 'edmure',\n",
       " 'born',\n",
       " 'axe',\n",
       " 'broke',\n",
       " 'dorne',\n",
       " 'faces',\n",
       " 'dream',\n",
       " 'clegane',\n",
       " 'direwolf',\n",
       " 'either',\n",
       " 'tears',\n",
       " 'drink',\n",
       " 'harrenhal',\n",
       " 'west',\n",
       " 'darkness',\n",
       " 'hill',\n",
       " 'pointed',\n",
       " 'try',\n",
       " 'khal',\n",
       " 'raven',\n",
       " 'pain',\n",
       " 'forward',\n",
       " 'grown',\n",
       " 'lie',\n",
       " 'dagger',\n",
       " 'truly',\n",
       " 'seat',\n",
       " 'care',\n",
       " 'road',\n",
       " 'helm',\n",
       " 'round',\n",
       " 'feast',\n",
       " 'meat',\n",
       " 'quick',\n",
       " 'pycelle',\n",
       " 'understand',\n",
       " 'amongst',\n",
       " 'lifted',\n",
       " 'longer',\n",
       " 'horn',\n",
       " 'rodrik',\n",
       " 'short',\n",
       " 'whilst',\n",
       " 'reminded',\n",
       " 'mountain',\n",
       " 'maybe',\n",
       " 'third',\n",
       " 'lands',\n",
       " 'melisandre',\n",
       " 'ones',\n",
       " 'pretty',\n",
       " 'step',\n",
       " 'younger',\n",
       " 'bit',\n",
       " 'stopped',\n",
       " 'worse',\n",
       " 'sit',\n",
       " 'victarion',\n",
       " 'save',\n",
       " 'sharp',\n",
       " 'slain',\n",
       " 'whose',\n",
       " 'knows',\n",
       " 'smoke',\n",
       " 'live',\n",
       " 'targaryen',\n",
       " 'pray',\n",
       " 'westeros',\n",
       " 'leg',\n",
       " 'window',\n",
       " 'twenty',\n",
       " 'pie',\n",
       " 'heads',\n",
       " 'silk',\n",
       " 'east',\n",
       " 'septa',\n",
       " 'them',\n",
       " 'slaves',\n",
       " 'ago',\n",
       " 'peace',\n",
       " 'blind',\n",
       " 'wants',\n",
       " 'mad',\n",
       " 'low',\n",
       " 'hizdahr',\n",
       " 'bright',\n",
       " 'laugh',\n",
       " 'mind',\n",
       " 'bread',\n",
       " 'sooner',\n",
       " 'salt',\n",
       " 'narrow',\n",
       " 'older',\n",
       " 'reek',\n",
       " 'towers',\n",
       " 'drowned',\n",
       " 'coin',\n",
       " 'camp',\n",
       " 'making',\n",
       " 'cousin',\n",
       " 'served',\n",
       " 'walk',\n",
       " 'wait',\n",
       " 'point',\n",
       " 'glanced',\n",
       " 'quiet',\n",
       " 'lion',\n",
       " 'riding',\n",
       " 'touched',\n",
       " 'luwin',\n",
       " 'often',\n",
       " 'knife',\n",
       " 'cheeks',\n",
       " 'sort',\n",
       " 'loras',\n",
       " 'tully',\n",
       " 'shook',\n",
       " 'stepped',\n",
       " 'naked',\n",
       " 'twisted',\n",
       " 'kevan',\n",
       " 'choice',\n",
       " 'silence',\n",
       " 'forgotten',\n",
       " 'fallen',\n",
       " 'hung',\n",
       " 'fish',\n",
       " 'ramsay',\n",
       " 'read',\n",
       " 'gift',\n",
       " 'running',\n",
       " 'knees',\n",
       " 'replied',\n",
       " 'rhaegar',\n",
       " 'casterly',\n",
       " 'large',\n",
       " 'cat',\n",
       " 'silent',\n",
       " 'ahead',\n",
       " 'fought',\n",
       " 'dogs',\n",
       " 'sept',\n",
       " 'pass',\n",
       " 'beautiful',\n",
       " 'company',\n",
       " 'needs',\n",
       " 'dawn',\n",
       " 'mud',\n",
       " 'knee',\n",
       " 'stupid',\n",
       " 'gregor',\n",
       " 'age',\n",
       " 'singer',\n",
       " 'body',\n",
       " 'court',\n",
       " 'swear',\n",
       " 'trying',\n",
       " 'top',\n",
       " 'meera',\n",
       " 'chain',\n",
       " 'kiss',\n",
       " 'kind',\n",
       " 'closer',\n",
       " 'offered',\n",
       " 'gendry',\n",
       " 'leaves',\n",
       " 'whole',\n",
       " 'anything',\n",
       " 'mail',\n",
       " 'stars',\n",
       " 'wonder',\n",
       " 'pay',\n",
       " 'whatever',\n",
       " 'threw',\n",
       " 'agreed',\n",
       " 'answered',\n",
       " 'trident',\n",
       " 'climbed',\n",
       " 'saddle',\n",
       " 'clothes',\n",
       " 'wide',\n",
       " 'saying',\n",
       " 'fair',\n",
       " 'host',\n",
       " 'comes',\n",
       " 'trust',\n",
       " 'fine',\n",
       " 'eight',\n",
       " 'pleased',\n",
       " 'yunkai',\n",
       " 'fast',\n",
       " 'dying',\n",
       " 'insisted',\n",
       " 'hour',\n",
       " 'stones',\n",
       " 'dry',\n",
       " 'spears',\n",
       " 'service',\n",
       " 'ought',\n",
       " 'ear',\n",
       " 'council',\n",
       " 'doors',\n",
       " 'fist',\n",
       " 'carried',\n",
       " 'join',\n",
       " 'needed',\n",
       " 'thank',\n",
       " 'milk',\n",
       " 'crossed',\n",
       " 'wildling',\n",
       " 'imp',\n",
       " 'quentyn',\n",
       " 'her',\n",
       " 'gilly',\n",
       " 'dragonstone',\n",
       " 'folk',\n",
       " 'woods',\n",
       " 'his',\n",
       " 'shadows',\n",
       " 'crows',\n",
       " 'land',\n",
       " 'winter',\n",
       " 'helped',\n",
       " 'finger',\n",
       " 'tent',\n",
       " 'boots',\n",
       " 'bird',\n",
       " 'somehow',\n",
       " 'names',\n",
       " 'kissed',\n",
       " 'banners',\n",
       " 'that',\n",
       " 'win',\n",
       " 'pink',\n",
       " 'letter',\n",
       " 'field',\n",
       " 'frightened',\n",
       " 'eunuch',\n",
       " 'screamed',\n",
       " 'angry',\n",
       " 'learn',\n",
       " 'alive',\n",
       " 'daughters',\n",
       " 'chair',\n",
       " 'tarly',\n",
       " 'sisters',\n",
       " 'torch',\n",
       " 'watching',\n",
       " 'nine',\n",
       " 'fires',\n",
       " 'serving',\n",
       " 'harm',\n",
       " 'easy',\n",
       " 'falling',\n",
       " 'standing',\n",
       " 'neither',\n",
       " 'learned',\n",
       " 'wings',\n",
       " 'question',\n",
       " 'myrcella',\n",
       " 'line',\n",
       " 'nodded',\n",
       " 'drunk',\n",
       " 'sail',\n",
       " 'harbor',\n",
       " 'priest',\n",
       " 'warned',\n",
       " 'forth',\n",
       " 'pyke',\n",
       " 'bone',\n",
       " 'slipped',\n",
       " 'giant',\n",
       " 'slow',\n",
       " 'viserys',\n",
       " 'slid',\n",
       " 'jojen',\n",
       " 'dreams',\n",
       " 'flowers',\n",
       " 'bronze',\n",
       " 'slowly',\n",
       " 'oldtown',\n",
       " 'atop',\n",
       " 'illyrio',\n",
       " 'promise',\n",
       " 'jeyne',\n",
       " 'slave',\n",
       " 'aerys',\n",
       " 'rise',\n",
       " 'move',\n",
       " 'whore',\n",
       " 'makes',\n",
       " 'laughter',\n",
       " 'grass',\n",
       " 'declared',\n",
       " 'loose',\n",
       " 'earth',\n",
       " 'power',\n",
       " 'dance',\n",
       " 'faced',\n",
       " 'bay',\n",
       " 'twice',\n",
       " 'front',\n",
       " 'lived',\n",
       " 'happened',\n",
       " 'eyrie',\n",
       " 'cell',\n",
       " 'claim',\n",
       " 'chains',\n",
       " 'play',\n",
       " 'break',\n",
       " 'clean',\n",
       " 'surely',\n",
       " 'highgarden',\n",
       " 'unless',\n",
       " 'fresh',\n",
       " 'cried',\n",
       " 'craster',\n",
       " 'at',\n",
       " 'quite',\n",
       " 'pair',\n",
       " 'laid',\n",
       " 'steward',\n",
       " 'tormund',\n",
       " 'rule',\n",
       " 'met',\n",
       " 'sad',\n",
       " 'shouting',\n",
       " 'morrow',\n",
       " 'grenn',\n",
       " 'already',\n",
       " 'touch',\n",
       " 'softly',\n",
       " 'started',\n",
       " 'sudden',\n",
       " 'mounted',\n",
       " 'afterward',\n",
       " 'sense',\n",
       " 'among',\n",
       " 'woke',\n",
       " 'count',\n",
       " 'means',\n",
       " 'cheek',\n",
       " 'ravens',\n",
       " 'captive',\n",
       " 'waters',\n",
       " 'hide',\n",
       " 'vale',\n",
       " 'game',\n",
       " 'course',\n",
       " 'however',\n",
       " 'thinking',\n",
       " 'carved',\n",
       " 'taking',\n",
       " 'rickon',\n",
       " 'follow',\n",
       " 'anyone',\n",
       " 'purple',\n",
       " 'here',\n",
       " 'noble',\n",
       " 'bare',\n",
       " 'wench',\n",
       " 'cruel',\n",
       " 'murdered',\n",
       " 'waited',\n",
       " 'eyed',\n",
       " 'rising',\n",
       " 'roose',\n",
       " 'roof',\n",
       " 'weak',\n",
       " 'forest',\n",
       " 'hidden',\n",
       " 'voices',\n",
       " 'arrow',\n",
       " 'blow',\n",
       " 'growing',\n",
       " 'no',\n",
       " 'burn',\n",
       " 'town',\n",
       " 'hungry',\n",
       " 'today',\n",
       " 'sorry',\n",
       " 'army',\n",
       " 'grand',\n",
       " 'cry',\n",
       " 'beric',\n",
       " 'tale',\n",
       " 'griff',\n",
       " 'protect',\n",
       " 'wound',\n",
       " 'inn',\n",
       " 'weight',\n",
       " 'sick',\n",
       " 'fur',\n",
       " 'wise',\n",
       " 'hoped',\n",
       " 'ugly',\n",
       " 'twins',\n",
       " 'knelt',\n",
       " 'forget',\n",
       " 'rolled',\n",
       " 'enemies',\n",
       " 'ygritte',\n",
       " 'climb',\n",
       " 'dressed',\n",
       " 'chance',\n",
       " 'marry',\n",
       " 'daario',\n",
       " 'seems',\n",
       " 'lad',\n",
       " 'smiling',\n",
       " 'grow',\n",
       " 'fleet',\n",
       " 'marriage',\n",
       " 'courage',\n",
       " 'unsullied',\n",
       " 'laughing',\n",
       " 'freys',\n",
       " 'bride',\n",
       " 'kingslayer',\n",
       " 'whether',\n",
       " 'square',\n",
       " 'meet',\n",
       " 'appeared',\n",
       " 'frozen',\n",
       " 'alayne',\n",
       " 'mercy',\n",
       " 'mountains',\n",
       " 'breasts',\n",
       " 'showed',\n",
       " 'drank',\n",
       " 'march',\n",
       " 'corpse',\n",
       " 'slynt',\n",
       " 'bound',\n",
       " 'trouble',\n",
       " 'sing',\n",
       " 'joff',\n",
       " 'edge',\n",
       " 'ragged',\n",
       " 'allowed',\n",
       " 'welcome',\n",
       " 'shae',\n",
       " 'arrows',\n",
       " 'wool',\n",
       " 'swore',\n",
       " 'ancient',\n",
       " 'longsword',\n",
       " 'recall',\n",
       " 'offer',\n",
       " 'decided',\n",
       " 'wear',\n",
       " 'mace',\n",
       " 'everything',\n",
       " ...]"
      ]
     },
     "execution_count": 81,
     "metadata": {},
     "output_type": "execute_result"
    }
   ],
   "source": [
    "y"
   ]
  },
  {
   "cell_type": "markdown",
   "id": "7e3539c0",
   "metadata": {},
   "source": [
    "# Reducing Dimensions of the vector for Visualization"
   ]
  },
  {
   "cell_type": "code",
   "execution_count": 82,
   "id": "3cfe0c38",
   "metadata": {},
   "outputs": [],
   "source": [
    "from sklearn.decomposition import PCA"
   ]
  },
  {
   "cell_type": "code",
   "execution_count": 83,
   "id": "569e883e",
   "metadata": {},
   "outputs": [],
   "source": [
    "pca = PCA(n_components=3)"
   ]
  },
  {
   "cell_type": "code",
   "execution_count": 84,
   "id": "a285b0d2",
   "metadata": {},
   "outputs": [],
   "source": [
    "X = pca.fit_transform(model.wv.get_normed_vectors())"
   ]
  },
  {
   "cell_type": "code",
   "execution_count": 85,
   "id": "4a6ab3e0",
   "metadata": {},
   "outputs": [
    {
     "data": {
      "text/plain": [
       "array([[-0.43545353,  0.00755186, -0.24982703],\n",
       "       [-0.3384117 ,  0.5741135 , -0.39475682],\n",
       "       [-0.47613046,  0.02344516,  0.3356842 ],\n",
       "       [ 0.06884101,  0.162747  ,  0.03372049],\n",
       "       [-0.23347433,  0.5064767 , -0.6255392 ]], dtype=float32)"
      ]
     },
     "execution_count": 85,
     "metadata": {},
     "output_type": "execute_result"
    }
   ],
   "source": [
    "X[:5]"
   ]
  },
  {
   "cell_type": "code",
   "execution_count": 86,
   "id": "7a3f1891",
   "metadata": {},
   "outputs": [
    {
     "data": {
      "text/plain": [
       "(17338, 3)"
      ]
     },
     "execution_count": 86,
     "metadata": {},
     "output_type": "execute_result"
    }
   ],
   "source": [
    "X.shape"
   ]
  },
  {
   "cell_type": "markdown",
   "id": "cfc5779f",
   "metadata": {},
   "source": [
    "# Visualizing the vectors"
   ]
  },
  {
   "cell_type": "code",
   "execution_count": 87,
   "id": "fe0d917e",
   "metadata": {},
   "outputs": [
    {
     "name": "stderr",
     "output_type": "stream",
     "text": [
      "C:\\ProgramData\\Anaconda3\\lib\\site-packages\\plotly\\express\\_core.py:1979: FutureWarning:\n",
      "\n",
      "When grouping with a length-1 list-like, you will need to pass a length-1 tuple to get_group in a future version of pandas. Pass `(name,)` instead of `name` to silence this warning.\n",
      "\n"
     ]
    },
    {
     "data": {
      "application/vnd.plotly.v1+json": {
       "config": {
        "plotlyServerURL": "https://plot.ly"
       },
       "data": [
        {
         "hovertemplate": "color=said<br>0=%{x}<br>1=%{y}<br>2=%{z}<extra></extra>",
         "legendgroup": "said",
         "marker": {
          "color": "#636efa",
          "symbol": "circle"
         },
         "mode": "markers",
         "name": "said",
         "scene": "scene",
         "showlegend": true,
         "type": "scatter3d",
         "x": [
          -0.43545353412628174
         ],
         "y": [
          0.007551862392574549
         ],
         "z": [
          -0.24982702732086182
         ]
        },
        {
         "hovertemplate": "color=lord<br>0=%{x}<br>1=%{y}<br>2=%{z}<extra></extra>",
         "legendgroup": "lord",
         "marker": {
          "color": "#EF553B",
          "symbol": "circle"
         },
         "mode": "markers",
         "name": "lord",
         "scene": "scene",
         "showlegend": true,
         "type": "scatter3d",
         "x": [
          -0.33841168880462646
         ],
         "y": [
          0.5741134881973267
         ],
         "z": [
          -0.39475682377815247
         ]
        },
        {
         "hovertemplate": "color=would<br>0=%{x}<br>1=%{y}<br>2=%{z}<extra></extra>",
         "legendgroup": "would",
         "marker": {
          "color": "#00cc96",
          "symbol": "circle"
         },
         "mode": "markers",
         "name": "would",
         "scene": "scene",
         "showlegend": true,
         "type": "scatter3d",
         "x": [
          -0.4761304557323456
         ],
         "y": [
          0.023445161059498787
         ],
         "z": [
          0.335684210062027
         ]
        },
        {
         "hovertemplate": "color=one<br>0=%{x}<br>1=%{y}<br>2=%{z}<extra></extra>",
         "legendgroup": "one",
         "marker": {
          "color": "#ab63fa",
          "symbol": "circle"
         },
         "mode": "markers",
         "name": "one",
         "scene": "scene",
         "showlegend": true,
         "type": "scatter3d",
         "x": [
          0.06884101033210754
         ],
         "y": [
          0.16274699568748474
         ],
         "z": [
          0.033720485866069794
         ]
        },
        {
         "hovertemplate": "color=ser<br>0=%{x}<br>1=%{y}<br>2=%{z}<extra></extra>",
         "legendgroup": "ser",
         "marker": {
          "color": "#FFA15A",
          "symbol": "circle"
         },
         "mode": "markers",
         "name": "ser",
         "scene": "scene",
         "showlegend": true,
         "type": "scatter3d",
         "x": [
          -0.23347432911396027
         ],
         "y": [
          0.5064767003059387
         ],
         "z": [
          -0.6255391836166382
         ]
        },
        {
         "hovertemplate": "color=could<br>0=%{x}<br>1=%{y}<br>2=%{z}<extra></extra>",
         "legendgroup": "could",
         "marker": {
          "color": "#19d3f3",
          "symbol": "circle"
         },
         "mode": "markers",
         "name": "could",
         "scene": "scene",
         "showlegend": true,
         "type": "scatter3d",
         "x": [
          0.001030399464070797
         ],
         "y": [
          -0.07549943774938583
         ],
         "z": [
          0.2966916263103485
         ]
        },
        {
         "hovertemplate": "color=man<br>0=%{x}<br>1=%{y}<br>2=%{z}<extra></extra>",
         "legendgroup": "man",
         "marker": {
          "color": "#FF6692",
          "symbol": "circle"
         },
         "mode": "markers",
         "name": "man",
         "scene": "scene",
         "showlegend": true,
         "type": "scatter3d",
         "x": [
          -0.004912117496132851
         ],
         "y": [
          0.12756015360355377
         ],
         "z": [
          -0.17446936666965485
         ]
        },
        {
         "hovertemplate": "color=king<br>0=%{x}<br>1=%{y}<br>2=%{z}<extra></extra>",
         "legendgroup": "king",
         "marker": {
          "color": "#B6E880",
          "symbol": "circle"
         },
         "mode": "markers",
         "name": "king",
         "scene": "scene",
         "showlegend": true,
         "type": "scatter3d",
         "x": [
          -0.31892597675323486
         ],
         "y": [
          0.55204838514328
         ],
         "z": [
          -0.16218112409114838
         ]
        },
        {
         "hovertemplate": "color=men<br>0=%{x}<br>1=%{y}<br>2=%{z}<extra></extra>",
         "legendgroup": "men",
         "marker": {
          "color": "#FF97FF",
          "symbol": "circle"
         },
         "mode": "markers",
         "name": "men",
         "scene": "scene",
         "showlegend": true,
         "type": "scatter3d",
         "x": [
          -0.05278667062520981
         ],
         "y": [
          0.5735076069831848
         ],
         "z": [
          0.23954205214977264
         ]
        },
        {
         "hovertemplate": "color=back<br>0=%{x}<br>1=%{y}<br>2=%{z}<extra></extra>",
         "legendgroup": "back",
         "marker": {
          "color": "#FECB52",
          "symbol": "circle"
         },
         "mode": "markers",
         "name": "back",
         "scene": "scene",
         "showlegend": true,
         "type": "scatter3d",
         "x": [
          0.27338171005249023
         ],
         "y": [
          0.07476292550563812
         ],
         "z": [
          -0.024462813511490822
         ]
        },
        {
         "hovertemplate": "color=well<br>0=%{x}<br>1=%{y}<br>2=%{z}<extra></extra>",
         "legendgroup": "well",
         "marker": {
          "color": "#636efa",
          "symbol": "circle"
         },
         "mode": "markers",
         "name": "well",
         "scene": "scene",
         "showlegend": true,
         "type": "scatter3d",
         "x": [
          -0.3957688808441162
         ],
         "y": [
          0.23027661442756653
         ],
         "z": [
          0.1999925822019577
         ]
        },
        {
         "hovertemplate": "color=jon<br>0=%{x}<br>1=%{y}<br>2=%{z}<extra></extra>",
         "legendgroup": "jon",
         "marker": {
          "color": "#EF553B",
          "symbol": "circle"
         },
         "mode": "markers",
         "name": "jon",
         "scene": "scene",
         "showlegend": true,
         "type": "scatter3d",
         "x": [
          0.01240255031734705
         ],
         "y": [
          0.03118979185819626
         ],
         "z": [
          -0.1448202133178711
         ]
        },
        {
         "hovertemplate": "color=like<br>0=%{x}<br>1=%{y}<br>2=%{z}<extra></extra>",
         "legendgroup": "like",
         "marker": {
          "color": "#00cc96",
          "symbol": "circle"
         },
         "mode": "markers",
         "name": "like",
         "scene": "scene",
         "showlegend": true,
         "type": "scatter3d",
         "x": [
          0.2940096855163574
         ],
         "y": [
          -0.07934050261974335
         ],
         "z": [
          0.2576809525489807
         ]
        },
        {
         "hovertemplate": "color=father<br>0=%{x}<br>1=%{y}<br>2=%{z}<extra></extra>",
         "legendgroup": "father",
         "marker": {
          "color": "#ab63fa",
          "symbol": "circle"
         },
         "mode": "markers",
         "name": "father",
         "scene": "scene",
         "showlegend": true,
         "type": "scatter3d",
         "x": [
          -0.586563229560852
         ],
         "y": [
          0.350691020488739
         ],
         "z": [
          -0.1945565789937973
         ]
        },
        {
         "hovertemplate": "color=old<br>0=%{x}<br>1=%{y}<br>2=%{z}<extra></extra>",
         "legendgroup": "old",
         "marker": {
          "color": "#FFA15A",
          "symbol": "circle"
         },
         "mode": "markers",
         "name": "old",
         "scene": "scene",
         "showlegend": true,
         "type": "scatter3d",
         "x": [
          0.029246341437101364
         ],
         "y": [
          0.3443223536014557
         ],
         "z": [
          -0.08399587124586105
         ]
        },
        {
         "hovertemplate": "color=hand<br>0=%{x}<br>1=%{y}<br>2=%{z}<extra></extra>",
         "legendgroup": "hand",
         "marker": {
          "color": "#19d3f3",
          "symbol": "circle"
         },
         "mode": "markers",
         "name": "hand",
         "scene": "scene",
         "showlegend": true,
         "type": "scatter3d",
         "x": [
          0.15675747394561768
         ],
         "y": [
          0.07982178777456284
         ],
         "z": [
          -0.3447471559047699
         ]
        },
        {
         "hovertemplate": "color=tyrion<br>0=%{x}<br>1=%{y}<br>2=%{z}<extra></extra>",
         "legendgroup": "tyrion",
         "marker": {
          "color": "#FF6692",
          "symbol": "circle"
         },
         "mode": "markers",
         "name": "tyrion",
         "scene": "scene",
         "showlegend": true,
         "type": "scatter3d",
         "x": [
          -0.04282246530056
         ],
         "y": [
          -0.2399246096611023
         ],
         "z": [
          -0.30544596910476685
         ]
        },
        {
         "hovertemplate": "color=even<br>0=%{x}<br>1=%{y}<br>2=%{z}<extra></extra>",
         "legendgroup": "even",
         "marker": {
          "color": "#B6E880",
          "symbol": "circle"
         },
         "mode": "markers",
         "name": "even",
         "scene": "scene",
         "showlegend": true,
         "type": "scatter3d",
         "x": [
          -0.026370808482170105
         ],
         "y": [
          0.011193745769560337
         ],
         "z": [
          0.4657020568847656
         ]
        },
        {
         "hovertemplate": "color=never<br>0=%{x}<br>1=%{y}<br>2=%{z}<extra></extra>",
         "legendgroup": "never",
         "marker": {
          "color": "#FF97FF",
          "symbol": "circle"
         },
         "mode": "markers",
         "name": "never",
         "scene": "scene",
         "showlegend": true,
         "type": "scatter3d",
         "x": [
          -0.4254928231239319
         ],
         "y": [
          -0.13592571020126343
         ],
         "z": [
          0.19241631031036377
         ]
        },
        {
         "hovertemplate": "color=see<br>0=%{x}<br>1=%{y}<br>2=%{z}<extra></extra>",
         "legendgroup": "see",
         "marker": {
          "color": "#FECB52",
          "symbol": "circle"
         },
         "mode": "markers",
         "name": "see",
         "scene": "scene",
         "showlegend": true,
         "type": "scatter3d",
         "x": [
          -0.000797591230366379
         ],
         "y": [
          -0.01648457907140255
         ],
         "z": [
          0.2079654335975647
         ]
        },
        {
         "hovertemplate": "color=know<br>0=%{x}<br>1=%{y}<br>2=%{z}<extra></extra>",
         "legendgroup": "know",
         "marker": {
          "color": "#636efa",
          "symbol": "circle"
         },
         "mode": "markers",
         "name": "know",
         "scene": "scene",
         "showlegend": true,
         "type": "scatter3d",
         "x": [
          -0.6521561145782471
         ],
         "y": [
          -0.005418936721980572
         ],
         "z": [
          0.23288629949092865
         ]
        },
        {
         "hovertemplate": "color=made<br>0=%{x}<br>1=%{y}<br>2=%{z}<extra></extra>",
         "legendgroup": "made",
         "marker": {
          "color": "#EF553B",
          "symbol": "circle"
         },
         "mode": "markers",
         "name": "made",
         "scene": "scene",
         "showlegend": true,
         "type": "scatter3d",
         "x": [
          0.14572516083717346
         ],
         "y": [
          -0.06622088700532913
         ],
         "z": [
          0.16869546473026276
         ]
        },
        {
         "hovertemplate": "color=eyes<br>0=%{x}<br>1=%{y}<br>2=%{z}<extra></extra>",
         "legendgroup": "eyes",
         "marker": {
          "color": "#00cc96",
          "symbol": "circle"
         },
         "mode": "markers",
         "name": "eyes",
         "scene": "scene",
         "showlegend": true,
         "type": "scatter3d",
         "x": [
          0.3183199465274811
         ],
         "y": [
          -0.17273366451263428
         ],
         "z": [
          -0.14899128675460815
         ]
        },
        {
         "hovertemplate": "color=black<br>0=%{x}<br>1=%{y}<br>2=%{z}<extra></extra>",
         "legendgroup": "black",
         "marker": {
          "color": "#ab63fa",
          "symbol": "circle"
         },
         "mode": "markers",
         "name": "black",
         "scene": "scene",
         "showlegend": true,
         "type": "scatter3d",
         "x": [
          0.47198939323425293
         ],
         "y": [
          0.49550339579582214
         ],
         "z": [
          -0.07982617616653442
         ]
        },
        {
         "hovertemplate": "color=told<br>0=%{x}<br>1=%{y}<br>2=%{z}<extra></extra>",
         "legendgroup": "told",
         "marker": {
          "color": "#FFA15A",
          "symbol": "circle"
         },
         "mode": "markers",
         "name": "told",
         "scene": "scene",
         "showlegend": true,
         "type": "scatter3d",
         "x": [
          -0.4436835050582886
         ],
         "y": [
          -0.001934348838403821
         ],
         "z": [
          0.09385433793067932
         ]
        },
        {
         "hovertemplate": "color=lady<br>0=%{x}<br>1=%{y}<br>2=%{z}<extra></extra>",
         "legendgroup": "lady",
         "marker": {
          "color": "#19d3f3",
          "symbol": "circle"
         },
         "mode": "markers",
         "name": "lady",
         "scene": "scene",
         "showlegend": true,
         "type": "scatter3d",
         "x": [
          -0.3753306567668915
         ],
         "y": [
          0.433910995721817
         ],
         "z": [
          -0.5046404004096985
         ]
        },
        {
         "hovertemplate": "color=thought<br>0=%{x}<br>1=%{y}<br>2=%{z}<extra></extra>",
         "legendgroup": "thought",
         "marker": {
          "color": "#FF6692",
          "symbol": "circle"
         },
         "mode": "markers",
         "name": "thought",
         "scene": "scene",
         "showlegend": true,
         "type": "scatter3d",
         "x": [
          -0.21286530792713165
         ],
         "y": [
          -0.21709387004375458
         ],
         "z": [
          0.1543089747428894
         ]
        },
        {
         "hovertemplate": "color=time<br>0=%{x}<br>1=%{y}<br>2=%{z}<extra></extra>",
         "legendgroup": "time",
         "marker": {
          "color": "#B6E880",
          "symbol": "circle"
         },
         "mode": "markers",
         "name": "time",
         "scene": "scene",
         "showlegend": true,
         "type": "scatter3d",
         "x": [
          0.017829036340117455
         ],
         "y": [
          0.0027516274712979794
         ],
         "z": [
          0.23622199892997742
         ]
        },
        {
         "hovertemplate": "color=long<br>0=%{x}<br>1=%{y}<br>2=%{z}<extra></extra>",
         "legendgroup": "long",
         "marker": {
          "color": "#FF97FF",
          "symbol": "circle"
         },
         "mode": "markers",
         "name": "long",
         "scene": "scene",
         "showlegend": true,
         "type": "scatter3d",
         "x": [
          0.3386661112308502
         ],
         "y": [
          0.29564034938812256
         ],
         "z": [
          0.21594944596290588
         ]
        },
        {
         "hovertemplate": "color=might<br>0=%{x}<br>1=%{y}<br>2=%{z}<extra></extra>",
         "legendgroup": "might",
         "marker": {
          "color": "#FECB52",
          "symbol": "circle"
         },
         "mode": "markers",
         "name": "might",
         "scene": "scene",
         "showlegend": true,
         "type": "scatter3d",
         "x": [
          -0.504782497882843
         ],
         "y": [
          -0.04358396679162979
         ],
         "z": [
          0.2832147181034088
         ]
        },
        {
         "hovertemplate": "color=us<br>0=%{x}<br>1=%{y}<br>2=%{z}<extra></extra>",
         "legendgroup": "us",
         "marker": {
          "color": "#636efa",
          "symbol": "circle"
         },
         "mode": "markers",
         "name": "us",
         "scene": "scene",
         "showlegend": true,
         "type": "scatter3d",
         "x": [
          -0.5140185356140137
         ],
         "y": [
          0.26083943247795105
         ],
         "z": [
          0.3639473021030426
         ]
        },
        {
         "hovertemplate": "color=come<br>0=%{x}<br>1=%{y}<br>2=%{z}<extra></extra>",
         "legendgroup": "come",
         "marker": {
          "color": "#EF553B",
          "symbol": "circle"
         },
         "mode": "markers",
         "name": "come",
         "scene": "scene",
         "showlegend": true,
         "type": "scatter3d",
         "x": [
          -0.31460991501808167
         ],
         "y": [
          0.16784316301345825
         ],
         "z": [
          0.4856766164302826
         ]
        },
        {
         "hovertemplate": "color=still<br>0=%{x}<br>1=%{y}<br>2=%{z}<extra></extra>",
         "legendgroup": "still",
         "marker": {
          "color": "#00cc96",
          "symbol": "circle"
         },
         "mode": "markers",
         "name": "still",
         "scene": "scene",
         "showlegend": true,
         "type": "scatter3d",
         "x": [
          0.17567937076091766
         ],
         "y": [
          0.1329403668642044
         ],
         "z": [
          0.3481655418872833
         ]
        },
        {
         "hovertemplate": "color=face<br>0=%{x}<br>1=%{y}<br>2=%{z}<extra></extra>",
         "legendgroup": "face",
         "marker": {
          "color": "#ab63fa",
          "symbol": "circle"
         },
         "mode": "markers",
         "name": "face",
         "scene": "scene",
         "showlegend": true,
         "type": "scatter3d",
         "x": [
          0.40264585614204407
         ],
         "y": [
          -0.25354641675949097
         ],
         "z": [
          -0.3141948878765106
         ]
        },
        {
         "hovertemplate": "color=head<br>0=%{x}<br>1=%{y}<br>2=%{z}<extra></extra>",
         "legendgroup": "head",
         "marker": {
          "color": "#FFA15A",
          "symbol": "circle"
         },
         "mode": "markers",
         "name": "head",
         "scene": "scene",
         "showlegend": true,
         "type": "scatter3d",
         "x": [
          0.4016754925251007
         ],
         "y": [
          -0.04737023636698723
         ],
         "z": [
          -0.4668041169643402
         ]
        },
        {
         "hovertemplate": "color=red<br>0=%{x}<br>1=%{y}<br>2=%{z}<extra></extra>",
         "legendgroup": "red",
         "marker": {
          "color": "#19d3f3",
          "symbol": "circle"
         },
         "mode": "markers",
         "name": "red",
         "scene": "scene",
         "showlegend": true,
         "type": "scatter3d",
         "x": [
          0.36857593059539795
         ],
         "y": [
          0.3936656415462494
         ],
         "z": [
          -0.22762435674667358
         ]
        },
        {
         "hovertemplate": "color=way<br>0=%{x}<br>1=%{y}<br>2=%{z}<extra></extra>",
         "legendgroup": "way",
         "marker": {
          "color": "#FF6692",
          "symbol": "circle"
         },
         "mode": "markers",
         "name": "way",
         "scene": "scene",
         "showlegend": true,
         "type": "scatter3d",
         "x": [
          0.13719287514686584
         ],
         "y": [
          0.03758806362748146
         ],
         "z": [
          0.3247102200984955
         ]
        },
        {
         "hovertemplate": "color=boy<br>0=%{x}<br>1=%{y}<br>2=%{z}<extra></extra>",
         "legendgroup": "boy",
         "marker": {
          "color": "#B6E880",
          "symbol": "circle"
         },
         "mode": "markers",
         "name": "boy",
         "scene": "scene",
         "showlegend": true,
         "type": "scatter3d",
         "x": [
          -0.23143936693668365
         ],
         "y": [
          0.2277967929840088
         ],
         "z": [
          -0.4285176992416382
         ]
        },
        {
         "hovertemplate": "color=must<br>0=%{x}<br>1=%{y}<br>2=%{z}<extra></extra>",
         "legendgroup": "must",
         "marker": {
          "color": "#FF97FF",
          "symbol": "circle"
         },
         "mode": "markers",
         "name": "must",
         "scene": "scene",
         "showlegend": true,
         "type": "scatter3d",
         "x": [
          -0.5905419588088989
         ],
         "y": [
          0.09768988937139511
         ],
         "z": [
          0.2947314381599426
         ]
        },
        {
         "hovertemplate": "color=queen<br>0=%{x}<br>1=%{y}<br>2=%{z}<extra></extra>",
         "legendgroup": "queen",
         "marker": {
          "color": "#FECB52",
          "symbol": "circle"
         },
         "mode": "markers",
         "name": "queen",
         "scene": "scene",
         "showlegend": true,
         "type": "scatter3d",
         "x": [
          -0.4209609627723694
         ],
         "y": [
          0.31865954399108887
         ],
         "z": [
          -0.29730045795440674
         ]
        },
        {
         "hovertemplate": "color=good<br>0=%{x}<br>1=%{y}<br>2=%{z}<extra></extra>",
         "legendgroup": "good",
         "marker": {
          "color": "#636efa",
          "symbol": "circle"
         },
         "mode": "markers",
         "name": "good",
         "scene": "scene",
         "showlegend": true,
         "type": "scatter3d",
         "x": [
          -0.4252118766307831
         ],
         "y": [
          -0.028169050812721252
         ],
         "z": [
          0.2029118686914444
         ]
        },
        {
         "hovertemplate": "color=two<br>0=%{x}<br>1=%{y}<br>2=%{z}<extra></extra>",
         "legendgroup": "two",
         "marker": {
          "color": "#EF553B",
          "symbol": "circle"
         },
         "mode": "markers",
         "name": "two",
         "scene": "scene",
         "showlegend": true,
         "type": "scatter3d",
         "x": [
          0.2228064090013504
         ],
         "y": [
          0.6466236710548401
         ],
         "z": [
          0.05528964474797249
         ]
        },
        {
         "hovertemplate": "color=brother<br>0=%{x}<br>1=%{y}<br>2=%{z}<extra></extra>",
         "legendgroup": "brother",
         "marker": {
          "color": "#00cc96",
          "symbol": "circle"
         },
         "mode": "markers",
         "name": "brother",
         "scene": "scene",
         "showlegend": true,
         "type": "scatter3d",
         "x": [
          -0.5019246935844421
         ],
         "y": [
          0.4777580201625824
         ],
         "z": [
          -0.39863261580467224
         ]
        },
        {
         "hovertemplate": "color=night<br>0=%{x}<br>1=%{y}<br>2=%{z}<extra></extra>",
         "legendgroup": "night",
         "marker": {
          "color": "#ab63fa",
          "symbol": "circle"
         },
         "mode": "markers",
         "name": "night",
         "scene": "scene",
         "showlegend": true,
         "type": "scatter3d",
         "x": [
          0.05370519682765007
         ],
         "y": [
          0.21193772554397583
         ],
         "z": [
          0.2853597402572632
         ]
        },
        {
         "hovertemplate": "color=little<br>0=%{x}<br>1=%{y}<br>2=%{z}<extra></extra>",
         "legendgroup": "little",
         "marker": {
          "color": "#FFA15A",
          "symbol": "circle"
         },
         "mode": "markers",
         "name": "little",
         "scene": "scene",
         "showlegend": true,
         "type": "scatter3d",
         "x": [
          -0.0637696161866188
         ],
         "y": [
          -0.11156011372804642
         ],
         "z": [
          -0.018744416534900665
         ]
        },
        {
         "hovertemplate": "color=took<br>0=%{x}<br>1=%{y}<br>2=%{z}<extra></extra>",
         "legendgroup": "took",
         "marker": {
          "color": "#19d3f3",
          "symbol": "circle"
         },
         "mode": "markers",
         "name": "took",
         "scene": "scene",
         "showlegend": true,
         "type": "scatter3d",
         "x": [
          0.09320517629384995
         ],
         "y": [
          0.19430649280548096
         ],
         "z": [
          -0.16524584591388702
         ]
        },
        {
         "hovertemplate": "color=came<br>0=%{x}<br>1=%{y}<br>2=%{z}<extra></extra>",
         "legendgroup": "came",
         "marker": {
          "color": "#FF6692",
          "symbol": "circle"
         },
         "mode": "markers",
         "name": "came",
         "scene": "scene",
         "showlegend": true,
         "type": "scatter3d",
         "x": [
          0.31371691823005676
         ],
         "y": [
          0.22746002674102783
         ],
         "z": [
          0.3579312562942505
         ]
        },
        {
         "hovertemplate": "color=though<br>0=%{x}<br>1=%{y}<br>2=%{z}<extra></extra>",
         "legendgroup": "though",
         "marker": {
          "color": "#B6E880",
          "symbol": "circle"
         },
         "mode": "markers",
         "name": "though",
         "scene": "scene",
         "showlegend": true,
         "type": "scatter3d",
         "x": [
          -0.11702360212802887
         ],
         "y": [
          -0.10688763856887817
         ],
         "z": [
          0.2109786868095398
         ]
        },
        {
         "hovertemplate": "color=say<br>0=%{x}<br>1=%{y}<br>2=%{z}<extra></extra>",
         "legendgroup": "say",
         "marker": {
          "color": "#FF97FF",
          "symbol": "circle"
         },
         "mode": "markers",
         "name": "say",
         "scene": "scene",
         "showlegend": true,
         "type": "scatter3d",
         "x": [
          -0.5630998015403748
         ],
         "y": [
          -0.1556805968284607
         ],
         "z": [
          0.1114482656121254
         ]
        },
        {
         "hovertemplate": "color=three<br>0=%{x}<br>1=%{y}<br>2=%{z}<extra></extra>",
         "legendgroup": "three",
         "marker": {
          "color": "#FECB52",
          "symbol": "circle"
         },
         "mode": "markers",
         "name": "three",
         "scene": "scene",
         "showlegend": true,
         "type": "scatter3d",
         "x": [
          0.1201329380273819
         ],
         "y": [
          0.7718314528465271
         ],
         "z": [
          0.07317455112934113
         ]
        },
        {
         "hovertemplate": "color=away<br>0=%{x}<br>1=%{y}<br>2=%{z}<extra></extra>",
         "legendgroup": "away",
         "marker": {
          "color": "#636efa",
          "symbol": "circle"
         },
         "mode": "markers",
         "name": "away",
         "scene": "scene",
         "showlegend": true,
         "type": "scatter3d",
         "x": [
          0.3222891390323639
         ],
         "y": [
          -0.10943713784217834
         ],
         "z": [
          0.1137610673904419
         ]
        },
        {
         "hovertemplate": "color=son<br>0=%{x}<br>1=%{y}<br>2=%{z}<extra></extra>",
         "legendgroup": "son",
         "marker": {
          "color": "#EF553B",
          "symbol": "circle"
         },
         "mode": "markers",
         "name": "son",
         "scene": "scene",
         "showlegend": true,
         "type": "scatter3d",
         "x": [
          -0.37738436460494995
         ],
         "y": [
          0.682727575302124
         ],
         "z": [
          -0.5302407145500183
         ]
        },
        {
         "hovertemplate": "color=dead<br>0=%{x}<br>1=%{y}<br>2=%{z}<extra></extra>",
         "legendgroup": "dead",
         "marker": {
          "color": "#00cc96",
          "symbol": "circle"
         },
         "mode": "markers",
         "name": "dead",
         "scene": "scene",
         "showlegend": true,
         "type": "scatter3d",
         "x": [
          0.004820260684937239
         ],
         "y": [
          0.19836778938770294
         ],
         "z": [
          0.24029697477817535
         ]
        },
        {
         "hovertemplate": "color=blood<br>0=%{x}<br>1=%{y}<br>2=%{z}<extra></extra>",
         "legendgroup": "blood",
         "marker": {
          "color": "#ab63fa",
          "symbol": "circle"
         },
         "mode": "markers",
         "name": "blood",
         "scene": "scene",
         "showlegend": true,
         "type": "scatter3d",
         "x": [
          0.2819378972053528
         ],
         "y": [
          -0.08311253786087036
         ],
         "z": [
          0.09407871961593628
         ]
        },
        {
         "hovertemplate": "color=half<br>0=%{x}<br>1=%{y}<br>2=%{z}<extra></extra>",
         "legendgroup": "half",
         "marker": {
          "color": "#FFA15A",
          "symbol": "circle"
         },
         "mode": "markers",
         "name": "half",
         "scene": "scene",
         "showlegend": true,
         "type": "scatter3d",
         "x": [
          0.29831331968307495
         ],
         "y": [
          0.29388126730918884
         ],
         "z": [
          0.263042151927948
         ]
        },
        {
         "hovertemplate": "color=take<br>0=%{x}<br>1=%{y}<br>2=%{z}<extra></extra>",
         "legendgroup": "take",
         "marker": {
          "color": "#19d3f3",
          "symbol": "circle"
         },
         "mode": "markers",
         "name": "take",
         "scene": "scene",
         "showlegend": true,
         "type": "scatter3d",
         "x": [
          -0.4323365390300751
         ],
         "y": [
          0.23355962336063385
         ],
         "z": [
          0.16830883920192719
         ]
        },
        {
         "hovertemplate": "color=go<br>0=%{x}<br>1=%{y}<br>2=%{z}<extra></extra>",
         "legendgroup": "go",
         "marker": {
          "color": "#FF6692",
          "symbol": "circle"
         },
         "mode": "markers",
         "name": "go",
         "scene": "scene",
         "showlegend": true,
         "type": "scatter3d",
         "x": [
          -0.22796162962913513
         ],
         "y": [
          -0.11622710525989532
         ],
         "z": [
          0.39693066477775574
         ]
        },
        {
         "hovertemplate": "color=arya<br>0=%{x}<br>1=%{y}<br>2=%{z}<extra></extra>",
         "legendgroup": "arya",
         "marker": {
          "color": "#B6E880",
          "symbol": "circle"
         },
         "mode": "markers",
         "name": "arya",
         "scene": "scene",
         "showlegend": true,
         "type": "scatter3d",
         "x": [
          0.14652854204177856
         ],
         "y": [
          -0.38939279317855835
         ],
         "z": [
          0.031134413555264473
         ]
        },
        {
         "hovertemplate": "color=make<br>0=%{x}<br>1=%{y}<br>2=%{z}<extra></extra>",
         "legendgroup": "make",
         "marker": {
          "color": "#FF97FF",
          "symbol": "circle"
         },
         "mode": "markers",
         "name": "make",
         "scene": "scene",
         "showlegend": true,
         "type": "scatter3d",
         "x": [
          -0.3837664723396301
         ],
         "y": [
          -0.12904715538024902
         ],
         "z": [
          0.3665335476398468
         ]
        },
        {
         "hovertemplate": "color=saw<br>0=%{x}<br>1=%{y}<br>2=%{z}<extra></extra>",
         "legendgroup": "saw",
         "marker": {
          "color": "#FECB52",
          "symbol": "circle"
         },
         "mode": "markers",
         "name": "saw",
         "scene": "scene",
         "showlegend": true,
         "type": "scatter3d",
         "x": [
          0.3896815776824951
         ],
         "y": [
          0.06513205915689468
         ],
         "z": [
          0.08116240799427032
         ]
        },
        {
         "hovertemplate": "color=jaime<br>0=%{x}<br>1=%{y}<br>2=%{z}<extra></extra>",
         "legendgroup": "jaime",
         "marker": {
          "color": "#636efa",
          "symbol": "circle"
         },
         "mode": "markers",
         "name": "jaime",
         "scene": "scene",
         "showlegend": true,
         "type": "scatter3d",
         "x": [
          -0.16652558743953705
         ],
         "y": [
          0.03757699206471443
         ],
         "z": [
          -0.35602712631225586
         ]
        },
        {
         "hovertemplate": "color=day<br>0=%{x}<br>1=%{y}<br>2=%{z}<extra></extra>",
         "legendgroup": "day",
         "marker": {
          "color": "#EF553B",
          "symbol": "circle"
         },
         "mode": "markers",
         "name": "day",
         "scene": "scene",
         "showlegend": true,
         "type": "scatter3d",
         "x": [
          -0.048191364854574203
         ],
         "y": [
          0.30084922909736633
         ],
         "z": [
          0.34669360518455505
         ]
        },
        {
         "hovertemplate": "color=white<br>0=%{x}<br>1=%{y}<br>2=%{z}<extra></extra>",
         "legendgroup": "white",
         "marker": {
          "color": "#00cc96",
          "symbol": "circle"
         },
         "mode": "markers",
         "name": "white",
         "scene": "scene",
         "showlegend": true,
         "type": "scatter3d",
         "x": [
          0.4242092967033386
         ],
         "y": [
          0.5461247563362122
         ],
         "z": [
          -0.33654046058654785
         ]
        },
        {
         "hovertemplate": "color=first<br>0=%{x}<br>1=%{y}<br>2=%{z}<extra></extra>",
         "legendgroup": "first",
         "marker": {
          "color": "#ab63fa",
          "symbol": "circle"
         },
         "mode": "markers",
         "name": "first",
         "scene": "scene",
         "showlegend": true,
         "type": "scatter3d",
         "x": [
          -0.1215803474187851
         ],
         "y": [
          0.4775148928165436
         ],
         "z": [
          0.1703934371471405
         ]
        },
        {
         "hovertemplate": "color=look<br>0=%{x}<br>1=%{y}<br>2=%{z}<extra></extra>",
         "legendgroup": "look",
         "marker": {
          "color": "#FFA15A",
          "symbol": "circle"
         },
         "mode": "markers",
         "name": "look",
         "scene": "scene",
         "showlegend": true,
         "type": "scatter3d",
         "x": [
          0.043237313628196716
         ],
         "y": [
          -0.22870686650276184
         ],
         "z": [
          -0.10985370725393295
         ]
        },
        {
         "hovertemplate": "color=want<br>0=%{x}<br>1=%{y}<br>2=%{z}<extra></extra>",
         "legendgroup": "want",
         "marker": {
          "color": "#19d3f3",
          "symbol": "circle"
         },
         "mode": "markers",
         "name": "want",
         "scene": "scene",
         "showlegend": true,
         "type": "scatter3d",
         "x": [
          -0.5079789161682129
         ],
         "y": [
          -0.14738179743289948
         ],
         "z": [
          0.27540314197540283
         ]
        },
        {
         "hovertemplate": "color=enough<br>0=%{x}<br>1=%{y}<br>2=%{z}<extra></extra>",
         "legendgroup": "enough",
         "marker": {
          "color": "#FF6692",
          "symbol": "circle"
         },
         "mode": "markers",
         "name": "enough",
         "scene": "scene",
         "showlegend": true,
         "type": "scatter3d",
         "x": [
          -0.13805976510047913
         ],
         "y": [
          0.0010151941096410155
         ],
         "z": [
          0.3698543310165405
         ]
        },
        {
         "hovertemplate": "color=much<br>0=%{x}<br>1=%{y}<br>2=%{z}<extra></extra>",
         "legendgroup": "much",
         "marker": {
          "color": "#B6E880",
          "symbol": "circle"
         },
         "mode": "markers",
         "name": "much",
         "scene": "scene",
         "showlegend": true,
         "type": "scatter3d",
         "x": [
          -0.4232916235923767
         ],
         "y": [
          -0.21969479322433472
         ],
         "z": [
          0.28470319509506226
         ]
        },
        {
         "hovertemplate": "color=bran<br>0=%{x}<br>1=%{y}<br>2=%{z}<extra></extra>",
         "legendgroup": "bran",
         "marker": {
          "color": "#FF97FF",
          "symbol": "circle"
         },
         "mode": "markers",
         "name": "bran",
         "scene": "scene",
         "showlegend": true,
         "type": "scatter3d",
         "x": [
          0.08782606571912766
         ],
         "y": [
          -0.29591238498687744
         ],
         "z": [
          0.12264230102300644
         ]
        },
        {
         "hovertemplate": "color=girl<br>0=%{x}<br>1=%{y}<br>2=%{z}<extra></extra>",
         "legendgroup": "girl",
         "marker": {
          "color": "#FECB52",
          "symbol": "circle"
         },
         "mode": "markers",
         "name": "girl",
         "scene": "scene",
         "showlegend": true,
         "type": "scatter3d",
         "x": [
          -0.1791883409023285
         ],
         "y": [
          0.061391763389110565
         ],
         "z": [
          -0.34897884726524353
         ]
        },
        {
         "hovertemplate": "color=sword<br>0=%{x}<br>1=%{y}<br>2=%{z}<extra></extra>",
         "legendgroup": "sword",
         "marker": {
          "color": "#636efa",
          "symbol": "circle"
         },
         "mode": "markers",
         "name": "sword",
         "scene": "scene",
         "showlegend": true,
         "type": "scatter3d",
         "x": [
          0.14891482889652252
         ],
         "y": [
          0.12978272140026093
         ],
         "z": [
          -0.2549748122692108
         ]
        },
        {
         "hovertemplate": "color=tell<br>0=%{x}<br>1=%{y}<br>2=%{z}<extra></extra>",
         "legendgroup": "tell",
         "marker": {
          "color": "#EF553B",
          "symbol": "circle"
         },
         "mode": "markers",
         "name": "tell",
         "scene": "scene",
         "showlegend": true,
         "type": "scatter3d",
         "x": [
          -0.6314325928688049
         ],
         "y": [
          -0.1037980243563652
         ],
         "z": [
          0.1942625194787979
         ]
        },
        {
         "hovertemplate": "color=great<br>0=%{x}<br>1=%{y}<br>2=%{z}<extra></extra>",
         "legendgroup": "great",
         "marker": {
          "color": "#00cc96",
          "symbol": "circle"
         },
         "mode": "markers",
         "name": "great",
         "scene": "scene",
         "showlegend": true,
         "type": "scatter3d",
         "x": [
          0.19212894141674042
         ],
         "y": [
          0.829079806804657
         ],
         "z": [
          0.09605914354324341
         ]
        },
        {
         "hovertemplate": "color=looked<br>0=%{x}<br>1=%{y}<br>2=%{z}<extra></extra>",
         "legendgroup": "looked",
         "marker": {
          "color": "#ab63fa",
          "symbol": "circle"
         },
         "mode": "markers",
         "name": "looked",
         "scene": "scene",
         "showlegend": true,
         "type": "scatter3d",
         "x": [
          0.2722302973270416
         ],
         "y": [
          -0.06805796176195145
         ],
         "z": [
          -0.2495388239622116
         ]
        },
        {
         "hovertemplate": "color=called<br>0=%{x}<br>1=%{y}<br>2=%{z}<extra></extra>",
         "legendgroup": "called",
         "marker": {
          "color": "#FFA15A",
          "symbol": "circle"
         },
         "mode": "markers",
         "name": "called",
         "scene": "scene",
         "showlegend": true,
         "type": "scatter3d",
         "x": [
          -0.1794833391904831
         ],
         "y": [
          0.6788634061813354
         ],
         "z": [
          -0.5004661679267883
         ]
        },
        {
         "hovertemplate": "color=left<br>0=%{x}<br>1=%{y}<br>2=%{z}<extra></extra>",
         "legendgroup": "left",
         "marker": {
          "color": "#19d3f3",
          "symbol": "circle"
         },
         "mode": "markers",
         "name": "left",
         "scene": "scene",
         "showlegend": true,
         "type": "scatter3d",
         "x": [
          0.2776944637298584
         ],
         "y": [
          0.29688796401023865
         ],
         "z": [
          0.032914064824581146
         ]
        },
        {
         "hovertemplate": "color=knew<br>0=%{x}<br>1=%{y}<br>2=%{z}<extra></extra>",
         "legendgroup": "knew",
         "marker": {
          "color": "#FF6692",
          "symbol": "circle"
         },
         "mode": "markers",
         "name": "knew",
         "scene": "scene",
         "showlegend": true,
         "type": "scatter3d",
         "x": [
          -0.3023557662963867
         ],
         "y": [
          -0.1405850499868393
         ],
         "z": [
          0.3063611686229706
         ]
        },
        {
         "hovertemplate": "color=maester<br>0=%{x}<br>1=%{y}<br>2=%{z}<extra></extra>",
         "legendgroup": "maester",
         "marker": {
          "color": "#B6E880",
          "symbol": "circle"
         },
         "mode": "markers",
         "name": "maester",
         "scene": "scene",
         "showlegend": true,
         "type": "scatter3d",
         "x": [
          -0.13239608705043793
         ],
         "y": [
          0.2559208273887634
         ],
         "z": [
          -0.4097507894039154
         ]
        },
        {
         "hovertemplate": "color=asked<br>0=%{x}<br>1=%{y}<br>2=%{z}<extra></extra>",
         "legendgroup": "asked",
         "marker": {
          "color": "#FF97FF",
          "symbol": "circle"
         },
         "mode": "markers",
         "name": "asked",
         "scene": "scene",
         "showlegend": true,
         "type": "scatter3d",
         "x": [
          -0.3545123338699341
         ],
         "y": [
          -0.07033531367778778
         ],
         "z": [
          -0.4566948115825653
         ]
        },
        {
         "hovertemplate": "color=gave<br>0=%{x}<br>1=%{y}<br>2=%{z}<extra></extra>",
         "legendgroup": "gave",
         "marker": {
          "color": "#FECB52",
          "symbol": "circle"
         },
         "mode": "markers",
         "name": "gave",
         "scene": "scene",
         "showlegend": true,
         "type": "scatter3d",
         "x": [
          0.05137787386775017
         ],
         "y": [
          -0.19584539532661438
         ],
         "z": [
          -0.4526238441467285
         ]
        },
        {
         "hovertemplate": "color=sansa<br>0=%{x}<br>1=%{y}<br>2=%{z}<extra></extra>",
         "legendgroup": "sansa",
         "marker": {
          "color": "#636efa",
          "symbol": "circle"
         },
         "mode": "markers",
         "name": "sansa",
         "scene": "scene",
         "showlegend": true,
         "type": "scatter3d",
         "x": [
          -0.166738823056221
         ],
         "y": [
          -0.2869251072406769
         ],
         "z": [
          -0.3319905400276184
         ]
        },
        {
         "hovertemplate": "color=wall<br>0=%{x}<br>1=%{y}<br>2=%{z}<extra></extra>",
         "legendgroup": "wall",
         "marker": {
          "color": "#EF553B",
          "symbol": "circle"
         },
         "mode": "markers",
         "name": "wall",
         "scene": "scene",
         "showlegend": true,
         "type": "scatter3d",
         "x": [
          0.2925066649913788
         ],
         "y": [
          0.4093521535396576
         ],
         "z": [
          0.44147375226020813
         ]
        },
        {
         "hovertemplate": "color=every<br>0=%{x}<br>1=%{y}<br>2=%{z}<extra></extra>",
         "legendgroup": "every",
         "marker": {
          "color": "#00cc96",
          "symbol": "circle"
         },
         "mode": "markers",
         "name": "every",
         "scene": "scene",
         "showlegend": true,
         "type": "scatter3d",
         "x": [
          0.17197221517562866
         ],
         "y": [
          0.28182339668273926
         ],
         "z": [
          0.33293643593788147
         ]
        },
        {
         "hovertemplate": "color=heard<br>0=%{x}<br>1=%{y}<br>2=%{z}<extra></extra>",
         "legendgroup": "heard",
         "marker": {
          "color": "#ab63fa",
          "symbol": "circle"
         },
         "mode": "markers",
         "name": "heard",
         "scene": "scene",
         "showlegend": true,
         "type": "scatter3d",
         "x": [
          0.027175985276699066
         ],
         "y": [
          -0.09301767498254776
         ],
         "z": [
          0.2520011067390442
         ]
        },
        {
         "hovertemplate": "color=let<br>0=%{x}<br>1=%{y}<br>2=%{z}<extra></extra>",
         "legendgroup": "let",
         "marker": {
          "color": "#FFA15A",
          "symbol": "circle"
         },
         "mode": "markers",
         "name": "let",
         "scene": "scene",
         "showlegend": true,
         "type": "scatter3d",
         "x": [
          -0.20592676103115082
         ],
         "y": [
          -0.22773484885692596
         ],
         "z": [
          0.2538301646709442
         ]
        },
        {
         "hovertemplate": "color=yet<br>0=%{x}<br>1=%{y}<br>2=%{z}<extra></extra>",
         "legendgroup": "yet",
         "marker": {
          "color": "#19d3f3",
          "symbol": "circle"
         },
         "mode": "markers",
         "name": "yet",
         "scene": "scene",
         "showlegend": true,
         "type": "scatter3d",
         "x": [
          -0.18231409788131714
         ],
         "y": [
          0.010732095688581467
         ],
         "z": [
          0.4120570421218872
         ]
        },
        {
         "hovertemplate": "color=went<br>0=%{x}<br>1=%{y}<br>2=%{z}<extra></extra>",
         "legendgroup": "went",
         "marker": {
          "color": "#FF6692",
          "symbol": "circle"
         },
         "mode": "markers",
         "name": "went",
         "scene": "scene",
         "showlegend": true,
         "type": "scatter3d",
         "x": [
          0.4231164753437042
         ],
         "y": [
          0.09690941870212555
         ],
         "z": [
          0.10941499471664429
         ]
        },
        {
         "hovertemplate": "color=turned<br>0=%{x}<br>1=%{y}<br>2=%{z}<extra></extra>",
         "legendgroup": "turned",
         "marker": {
          "color": "#B6E880",
          "symbol": "circle"
         },
         "mode": "markers",
         "name": "turned",
         "scene": "scene",
         "showlegend": true,
         "type": "scatter3d",
         "x": [
          0.35471221804618835
         ],
         "y": [
          0.10179967433214188
         ],
         "z": [
          -0.2374020516872406
         ]
        },
        {
         "hovertemplate": "color=dany<br>0=%{x}<br>1=%{y}<br>2=%{z}<extra></extra>",
         "legendgroup": "dany",
         "marker": {
          "color": "#FF97FF",
          "symbol": "circle"
         },
         "mode": "markers",
         "name": "dany",
         "scene": "scene",
         "showlegend": true,
         "type": "scatter3d",
         "x": [
          0.17674966156482697
         ],
         "y": [
          -0.17650188505649567
         ],
         "z": [
          0.006810358259826899
         ]
        },
        {
         "hovertemplate": "color=need<br>0=%{x}<br>1=%{y}<br>2=%{z}<extra></extra>",
         "legendgroup": "need",
         "marker": {
          "color": "#FECB52",
          "symbol": "circle"
         },
         "mode": "markers",
         "name": "need",
         "scene": "scene",
         "showlegend": true,
         "type": "scatter3d",
         "x": [
          -0.4546552002429962
         ],
         "y": [
          0.061347514390945435
         ],
         "z": [
          0.3867760896682739
         ]
        },
        {
         "hovertemplate": "color=behind<br>0=%{x}<br>1=%{y}<br>2=%{z}<extra></extra>",
         "legendgroup": "behind",
         "marker": {
          "color": "#636efa",
          "symbol": "circle"
         },
         "mode": "markers",
         "name": "behind",
         "scene": "scene",
         "showlegend": true,
         "type": "scatter3d",
         "x": [
          0.5906929969787598
         ],
         "y": [
          0.42116644978523254
         ],
         "z": [
          0.09520813822746277
         ]
        },
        {
         "hovertemplate": "color=around<br>0=%{x}<br>1=%{y}<br>2=%{z}<extra></extra>",
         "legendgroup": "around",
         "marker": {
          "color": "#EF553B",
          "symbol": "circle"
         },
         "mode": "markers",
         "name": "around",
         "scene": "scene",
         "showlegend": true,
         "type": "scatter3d",
         "x": [
          0.758046567440033
         ],
         "y": [
          0.15067283809185028
         ],
         "z": [
          0.06807789951562881
         ]
        },
        {
         "hovertemplate": "color=woman<br>0=%{x}<br>1=%{y}<br>2=%{z}<extra></extra>",
         "legendgroup": "woman",
         "marker": {
          "color": "#00cc96",
          "symbol": "circle"
         },
         "mode": "markers",
         "name": "woman",
         "scene": "scene",
         "showlegend": true,
         "type": "scatter3d",
         "x": [
          -0.011818005703389645
         ],
         "y": [
          -0.04949204623699188
         ],
         "z": [
          -0.25785863399505615
         ]
        },
        {
         "hovertemplate": "color=another<br>0=%{x}<br>1=%{y}<br>2=%{z}<extra></extra>",
         "legendgroup": "another",
         "marker": {
          "color": "#ab63fa",
          "symbol": "circle"
         },
         "mode": "markers",
         "name": "another",
         "scene": "scene",
         "showlegend": true,
         "type": "scatter3d",
         "x": [
          0.06439980864524841
         ],
         "y": [
          0.08544418215751648
         ],
         "z": [
          0.16111810505390167
         ]
        },
        {
         "hovertemplate": "color=beneath<br>0=%{x}<br>1=%{y}<br>2=%{z}<extra></extra>",
         "legendgroup": "beneath",
         "marker": {
          "color": "#FFA15A",
          "symbol": "circle"
         },
         "mode": "markers",
         "name": "beneath",
         "scene": "scene",
         "showlegend": true,
         "type": "scatter3d",
         "x": [
          0.7540454864501953
         ],
         "y": [
          0.3608209192752838
         ],
         "z": [
          0.13849101960659027
         ]
        },
        {
         "hovertemplate": "color=snow<br>0=%{x}<br>1=%{y}<br>2=%{z}<extra></extra>",
         "legendgroup": "snow",
         "marker": {
          "color": "#19d3f3",
          "symbol": "circle"
         },
         "mode": "markers",
         "name": "snow",
         "scene": "scene",
         "showlegend": true,
         "type": "scatter3d",
         "x": [
          0.33122968673706055
         ],
         "y": [
          0.05858336389064789
         ],
         "z": [
          0.11254484206438065
         ]
        },
        {
         "hovertemplate": "color=across<br>0=%{x}<br>1=%{y}<br>2=%{z}<extra></extra>",
         "legendgroup": "across",
         "marker": {
          "color": "#FF6692",
          "symbol": "circle"
         },
         "mode": "markers",
         "name": "across",
         "scene": "scene",
         "showlegend": true,
         "type": "scatter3d",
         "x": [
          0.7138502597808838
         ],
         "y": [
          0.3389180600643158
         ],
         "z": [
          0.071990966796875
         ]
        },
        {
         "hovertemplate": "color=knight<br>0=%{x}<br>1=%{y}<br>2=%{z}<extra></extra>",
         "legendgroup": "knight",
         "marker": {
          "color": "#B6E880",
          "symbol": "circle"
         },
         "mode": "markers",
         "name": "knight",
         "scene": "scene",
         "showlegend": true,
         "type": "scatter3d",
         "x": [
          -0.18043671548366547
         ],
         "y": [
          0.4569301903247833
         ],
         "z": [
          -0.612581729888916
         ]
        },
        {
         "hovertemplate": "color=keep<br>0=%{x}<br>1=%{y}<br>2=%{z}<extra></extra>",
         "legendgroup": "keep",
         "marker": {
          "color": "#FF97FF",
          "symbol": "circle"
         },
         "mode": "markers",
         "name": "keep",
         "scene": "scene",
         "showlegend": true,
         "type": "scatter3d",
         "x": [
          -0.04350478574633598
         ],
         "y": [
          0.25793442130088806
         ],
         "z": [
          0.3335845172405243
         ]
        },
        {
         "hovertemplate": "color=gold<br>0=%{x}<br>1=%{y}<br>2=%{z}<extra></extra>",
         "legendgroup": "gold",
         "marker": {
          "color": "#FECB52",
          "symbol": "circle"
         },
         "mode": "markers",
         "name": "gold",
         "scene": "scene",
         "showlegend": true,
         "type": "scatter3d",
         "x": [
          0.16357280313968658
         ],
         "y": [
          0.4877825081348419
         ],
         "z": [
          -0.2163269817829132
         ]
        },
        {
         "hovertemplate": "color=grace<br>0=%{x}<br>1=%{y}<br>2=%{z}<extra></extra>",
         "legendgroup": "grace",
         "marker": {
          "color": "#636efa",
          "symbol": "circle"
         },
         "mode": "markers",
         "name": "grace",
         "scene": "scene",
         "showlegend": true,
         "type": "scatter3d",
         "x": [
          -0.7171983122825623
         ],
         "y": [
          0.24079295992851257
         ],
         "z": [
          -0.19693335890769958
         ]
        },
        {
         "hovertemplate": "color=found<br>0=%{x}<br>1=%{y}<br>2=%{z}<extra></extra>",
         "legendgroup": "found",
         "marker": {
          "color": "#EF553B",
          "symbol": "circle"
         },
         "mode": "markers",
         "name": "found",
         "scene": "scene",
         "showlegend": true,
         "type": "scatter3d",
         "x": [
          0.387311726808548
         ],
         "y": [
          0.07914936542510986
         ],
         "z": [
          0.18334820866584778
         ]
        },
        {
         "hovertemplate": "color=cersei<br>0=%{x}<br>1=%{y}<br>2=%{z}<extra></extra>",
         "legendgroup": "cersei",
         "marker": {
          "color": "#00cc96",
          "symbol": "circle"
         },
         "mode": "markers",
         "name": "cersei",
         "scene": "scene",
         "showlegend": true,
         "type": "scatter3d",
         "x": [
          -0.2852594554424286
         ],
         "y": [
          -0.06741154938936234
         ],
         "z": [
          -0.40305110812187195
         ]
        },
        {
         "hovertemplate": "color=last<br>0=%{x}<br>1=%{y}<br>2=%{z}<extra></extra>",
         "legendgroup": "last",
         "marker": {
          "color": "#ab63fa",
          "symbol": "circle"
         },
         "mode": "markers",
         "name": "last",
         "scene": "scene",
         "showlegend": true,
         "type": "scatter3d",
         "x": [
          -0.044558484107255936
         ],
         "y": [
          0.22619734704494476
         ],
         "z": [
          0.09653117507696152
         ]
        },
        {
         "hovertemplate": "color=castle<br>0=%{x}<br>1=%{y}<br>2=%{z}<extra></extra>",
         "legendgroup": "castle",
         "marker": {
          "color": "#FFA15A",
          "symbol": "circle"
         },
         "mode": "markers",
         "name": "castle",
         "scene": "scene",
         "showlegend": true,
         "type": "scatter3d",
         "x": [
          -0.043031398206949234
         ],
         "y": [
          0.6877681016921997
         ],
         "z": [
          0.2350885272026062
         ]
        },
        {
         "hovertemplate": "color=stark<br>0=%{x}<br>1=%{y}<br>2=%{z}<extra></extra>",
         "legendgroup": "stark",
         "marker": {
          "color": "#19d3f3",
          "symbol": "circle"
         },
         "mode": "markers",
         "name": "stark",
         "scene": "scene",
         "showlegend": true,
         "type": "scatter3d",
         "x": [
          -0.33376818895339966
         ],
         "y": [
          0.3910861015319824
         ],
         "z": [
          -0.2510288655757904
         ]
        },
        {
         "hovertemplate": "color=gods<br>0=%{x}<br>1=%{y}<br>2=%{z}<extra></extra>",
         "legendgroup": "gods",
         "marker": {
          "color": "#FF6692",
          "symbol": "circle"
         },
         "mode": "markers",
         "name": "gods",
         "scene": "scene",
         "showlegend": true,
         "type": "scatter3d",
         "x": [
          -0.4262743890285492
         ],
         "y": [
          0.1584034413099289
         ],
         "z": [
          0.28978514671325684
         ]
        },
        {
         "hovertemplate": "color=think<br>0=%{x}<br>1=%{y}<br>2=%{z}<extra></extra>",
         "legendgroup": "think",
         "marker": {
          "color": "#B6E880",
          "symbol": "circle"
         },
         "mode": "markers",
         "name": "think",
         "scene": "scene",
         "showlegend": true,
         "type": "scatter3d",
         "x": [
          -0.5548050403594971
         ],
         "y": [
          -0.2991895079612732
         ],
         "z": [
          0.22420404851436615
         ]
        },
        {
         "hovertemplate": "color=hair<br>0=%{x}<br>1=%{y}<br>2=%{z}<extra></extra>",
         "legendgroup": "hair",
         "marker": {
          "color": "#FF97FF",
          "symbol": "circle"
         },
         "mode": "markers",
         "name": "hair",
         "scene": "scene",
         "showlegend": true,
         "type": "scatter3d",
         "x": [
          0.5088433027267456
         ],
         "y": [
          -0.042095571756362915
         ],
         "z": [
          -0.2939200699329376
         ]
        },
        {
         "hovertemplate": "color=many<br>0=%{x}<br>1=%{y}<br>2=%{z}<extra></extra>",
         "legendgroup": "many",
         "marker": {
          "color": "#FECB52",
          "symbol": "circle"
         },
         "mode": "markers",
         "name": "many",
         "scene": "scene",
         "showlegend": true,
         "type": "scatter3d",
         "x": [
          -0.22638699412345886
         ],
         "y": [
          0.5900999307632446
         ],
         "z": [
          0.4364088177680969
         ]
        },
        {
         "hovertemplate": "color=feet<br>0=%{x}<br>1=%{y}<br>2=%{z}<extra></extra>",
         "legendgroup": "feet",
         "marker": {
          "color": "#636efa",
          "symbol": "circle"
         },
         "mode": "markers",
         "name": "feet",
         "scene": "scene",
         "showlegend": true,
         "type": "scatter3d",
         "x": [
          0.6260848045349121
         ],
         "y": [
          0.22786177694797516
         ],
         "z": [
          -1.4079402717470657e-05
         ]
        },
        {
         "hovertemplate": "color=stannis<br>0=%{x}<br>1=%{y}<br>2=%{z}<extra></extra>",
         "legendgroup": "stannis",
         "marker": {
          "color": "#EF553B",
          "symbol": "circle"
         },
         "mode": "markers",
         "name": "stannis",
         "scene": "scene",
         "showlegend": true,
         "type": "scatter3d",
         "x": [
          -0.40711361169815063
         ],
         "y": [
          0.5438868999481201
         ],
         "z": [
          -0.1183370053768158
         ]
        },
        {
         "hovertemplate": "color=mother<br>0=%{x}<br>1=%{y}<br>2=%{z}<extra></extra>",
         "legendgroup": "mother",
         "marker": {
          "color": "#00cc96",
          "symbol": "circle"
         },
         "mode": "markers",
         "name": "mother",
         "scene": "scene",
         "showlegend": true,
         "type": "scatter3d",
         "x": [
          -0.447506844997406
         ],
         "y": [
          0.2903406322002411
         ],
         "z": [
          -0.06780818849802017
         ]
        },
        {
         "hovertemplate": "color=hands<br>0=%{x}<br>1=%{y}<br>2=%{z}<extra></extra>",
         "legendgroup": "hands",
         "marker": {
          "color": "#ab63fa",
          "symbol": "circle"
         },
         "mode": "markers",
         "name": "hands",
         "scene": "scene",
         "showlegend": true,
         "type": "scatter3d",
         "x": [
          0.5700098276138306
         ],
         "y": [
          -0.0796966403722763
         ],
         "z": [
          -0.19978612661361694
         ]
        },
        {
         "hovertemplate": "color=catelyn<br>0=%{x}<br>1=%{y}<br>2=%{z}<extra></extra>",
         "legendgroup": "catelyn",
         "marker": {
          "color": "#FFA15A",
          "symbol": "circle"
         },
         "mode": "markers",
         "name": "catelyn",
         "scene": "scene",
         "showlegend": true,
         "type": "scatter3d",
         "x": [
          -0.18653172254562378
         ],
         "y": [
          -0.03507629409432411
         ],
         "z": [
          -0.30508649349212646
         ]
        },
        {
         "hovertemplate": "color=prince<br>0=%{x}<br>1=%{y}<br>2=%{z}<extra></extra>",
         "legendgroup": "prince",
         "marker": {
          "color": "#19d3f3",
          "symbol": "circle"
         },
         "mode": "markers",
         "name": "prince",
         "scene": "scene",
         "showlegend": true,
         "type": "scatter3d",
         "x": [
          -0.40666934847831726
         ],
         "y": [
          0.5210999250411987
         ],
         "z": [
          -0.5233346223831177
         ]
        },
        {
         "hovertemplate": "color=robert<br>0=%{x}<br>1=%{y}<br>2=%{z}<extra></extra>",
         "legendgroup": "robert",
         "marker": {
          "color": "#FF6692",
          "symbol": "circle"
         },
         "mode": "markers",
         "name": "robert",
         "scene": "scene",
         "showlegend": true,
         "type": "scatter3d",
         "x": [
          -0.48696276545524597
         ],
         "y": [
          0.3993375897407532
         ],
         "z": [
          -0.27535662055015564
         ]
        },
        {
         "hovertemplate": "color=seemed<br>0=%{x}<br>1=%{y}<br>2=%{z}<extra></extra>",
         "legendgroup": "seemed",
         "marker": {
          "color": "#B6E880",
          "symbol": "circle"
         },
         "mode": "markers",
         "name": "seemed",
         "scene": "scene",
         "showlegend": true,
         "type": "scatter3d",
         "x": [
          0.18931013345718384
         ],
         "y": [
          -0.15895073115825653
         ],
         "z": [
          0.3726579546928406
         ]
        },
        {
         "hovertemplate": "color=may<br>0=%{x}<br>1=%{y}<br>2=%{z}<extra></extra>",
         "legendgroup": "may",
         "marker": {
          "color": "#FF97FF",
          "symbol": "circle"
         },
         "mode": "markers",
         "name": "may",
         "scene": "scene",
         "showlegend": true,
         "type": "scatter3d",
         "x": [
          -0.6745082139968872
         ],
         "y": [
          0.1439254879951477
         ],
         "z": [
          0.278934121131897
         ]
        },
        {
         "hovertemplate": "color=ever<br>0=%{x}<br>1=%{y}<br>2=%{z}<extra></extra>",
         "legendgroup": "ever",
         "marker": {
          "color": "#FECB52",
          "symbol": "circle"
         },
         "mode": "markers",
         "name": "ever",
         "scene": "scene",
         "showlegend": true,
         "type": "scatter3d",
         "x": [
          -0.354385107755661
         ],
         "y": [
          -0.01758507825434208
         ],
         "z": [
          0.20792602002620697
         ]
        },
        {
         "hovertemplate": "color=lannister<br>0=%{x}<br>1=%{y}<br>2=%{z}<extra></extra>",
         "legendgroup": "lannister",
         "marker": {
          "color": "#636efa",
          "symbol": "circle"
         },
         "mode": "markers",
         "name": "lannister",
         "scene": "scene",
         "showlegend": true,
         "type": "scatter3d",
         "x": [
          -0.2752792239189148
         ],
         "y": [
          0.5163599848747253
         ],
         "z": [
          -0.42491382360458374
         ]
        },
        {
         "hovertemplate": "color=robb<br>0=%{x}<br>1=%{y}<br>2=%{z}<extra></extra>",
         "legendgroup": "robb",
         "marker": {
          "color": "#EF553B",
          "symbol": "circle"
         },
         "mode": "markers",
         "name": "robb",
         "scene": "scene",
         "showlegend": true,
         "type": "scatter3d",
         "x": [
          -0.3402422070503235
         ],
         "y": [
          0.2572213411331177
         ],
         "z": [
          -0.24002759158611298
         ]
        },
        {
         "hovertemplate": "color=done<br>0=%{x}<br>1=%{y}<br>2=%{z}<extra></extra>",
         "legendgroup": "done",
         "marker": {
          "color": "#00cc96",
          "symbol": "circle"
         },
         "mode": "markers",
         "name": "done",
         "scene": "scene",
         "showlegend": true,
         "type": "scatter3d",
         "x": [
          -0.6076794266700745
         ],
         "y": [
          -0.04938848316669464
         ],
         "z": [
          0.20382905006408691
         ]
        },
        {
         "hovertemplate": "color=find<br>0=%{x}<br>1=%{y}<br>2=%{z}<extra></extra>",
         "legendgroup": "find",
         "marker": {
          "color": "#ab63fa",
          "symbol": "circle"
         },
         "mode": "markers",
         "name": "find",
         "scene": "scene",
         "showlegend": true,
         "type": "scatter3d",
         "x": [
          -0.3480636477470398
         ],
         "y": [
          -0.03920775651931763
         ],
         "z": [
          0.41510745882987976
         ]
        },
        {
         "hovertemplate": "color=hear<br>0=%{x}<br>1=%{y}<br>2=%{z}<extra></extra>",
         "legendgroup": "hear",
         "marker": {
          "color": "#FFA15A",
          "symbol": "circle"
         },
         "mode": "markers",
         "name": "hear",
         "scene": "scene",
         "showlegend": true,
         "type": "scatter3d",
         "x": [
          -0.051341112703084946
         ],
         "y": [
          -0.2158476561307907
         ],
         "z": [
          0.277649462223053
         ]
        },
        {
         "hovertemplate": "color=grey<br>0=%{x}<br>1=%{y}<br>2=%{z}<extra></extra>",
         "legendgroup": "grey",
         "marker": {
          "color": "#19d3f3",
          "symbol": "circle"
         },
         "mode": "markers",
         "name": "grey",
         "scene": "scene",
         "showlegend": true,
         "type": "scatter3d",
         "x": [
          0.5428553223609924
         ],
         "y": [
          0.36290091276168823
         ],
         "z": [
          -0.10126063972711563
         ]
        },
        {
         "hovertemplate": "color=name<br>0=%{x}<br>1=%{y}<br>2=%{z}<extra></extra>",
         "legendgroup": "name",
         "marker": {
          "color": "#FF6692",
          "symbol": "circle"
         },
         "mode": "markers",
         "name": "name",
         "scene": "scene",
         "showlegend": true,
         "type": "scatter3d",
         "x": [
          -0.5889314413070679
         ],
         "y": [
          0.2496780902147293
         ],
         "z": [
          -0.13032570481300354
         ]
        },
        {
         "hovertemplate": "color=high<br>0=%{x}<br>1=%{y}<br>2=%{z}<extra></extra>",
         "legendgroup": "high",
         "marker": {
          "color": "#B6E880",
          "symbol": "circle"
         },
         "mode": "markers",
         "name": "high",
         "scene": "scene",
         "showlegend": true,
         "type": "scatter3d",
         "x": [
          0.27910828590393066
         ],
         "y": [
          0.7057777047157288
         ],
         "z": [
          -0.04139163717627525
         ]
        },
        {
         "hovertemplate": "color=horse<br>0=%{x}<br>1=%{y}<br>2=%{z}<extra></extra>",
         "legendgroup": "horse",
         "marker": {
          "color": "#FF97FF",
          "symbol": "circle"
         },
         "mode": "markers",
         "name": "horse",
         "scene": "scene",
         "showlegend": true,
         "type": "scatter3d",
         "x": [
          0.47781437635421753
         ],
         "y": [
          0.0687490776181221
         ],
         "z": [
          0.03387993574142456
         ]
        },
        {
         "hovertemplate": "color=put<br>0=%{x}<br>1=%{y}<br>2=%{z}<extra></extra>",
         "legendgroup": "put",
         "marker": {
          "color": "#FECB52",
          "symbol": "circle"
         },
         "mode": "markers",
         "name": "put",
         "scene": "scene",
         "showlegend": true,
         "type": "scatter3d",
         "x": [
          -0.07970605045557022
         ],
         "y": [
          0.11441940069198608
         ],
         "z": [
          -0.10245930403470993
         ]
        },
        {
         "hovertemplate": "color=wine<br>0=%{x}<br>1=%{y}<br>2=%{z}<extra></extra>",
         "legendgroup": "wine",
         "marker": {
          "color": "#636efa",
          "symbol": "circle"
         },
         "mode": "markers",
         "name": "wine",
         "scene": "scene",
         "showlegend": true,
         "type": "scatter3d",
         "x": [
          0.17244955897331238
         ],
         "y": [
          -0.19811265170574188
         ],
         "z": [
          -0.14296546578407288
         ]
        },
        {
         "hovertemplate": "color=iron<br>0=%{x}<br>1=%{y}<br>2=%{z}<extra></extra>",
         "legendgroup": "iron",
         "marker": {
          "color": "#EF553B",
          "symbol": "circle"
         },
         "mode": "markers",
         "name": "iron",
         "scene": "scene",
         "showlegend": true,
         "type": "scatter3d",
         "x": [
          0.2692955732345581
         ],
         "y": [
          0.6761123538017273
         ],
         "z": [
          -0.09998717159032822
         ]
        },
        {
         "hovertemplate": "color=stone<br>0=%{x}<br>1=%{y}<br>2=%{z}<extra></extra>",
         "legendgroup": "stone",
         "marker": {
          "color": "#00cc96",
          "symbol": "circle"
         },
         "mode": "markers",
         "name": "stone",
         "scene": "scene",
         "showlegend": true,
         "type": "scatter3d",
         "x": [
          0.6587647199630737
         ],
         "y": [
          0.4774826169013977
         ],
         "z": [
          0.23944565653800964
         ]
        },
        {
         "hovertemplate": "color=fire<br>0=%{x}<br>1=%{y}<br>2=%{z}<extra></extra>",
         "legendgroup": "fire",
         "marker": {
          "color": "#ab63fa",
          "symbol": "circle"
         },
         "mode": "markers",
         "name": "fire",
         "scene": "scene",
         "showlegend": true,
         "type": "scatter3d",
         "x": [
          0.5447033047676086
         ],
         "y": [
          0.012914975173771381
         ],
         "z": [
          0.4342716932296753
         ]
        },
        {
         "hovertemplate": "color=hard<br>0=%{x}<br>1=%{y}<br>2=%{z}<extra></extra>",
         "legendgroup": "hard",
         "marker": {
          "color": "#FFA15A",
          "symbol": "circle"
         },
         "mode": "markers",
         "name": "hard",
         "scene": "scene",
         "showlegend": true,
         "type": "scatter3d",
         "x": [
          0.4831281304359436
         ],
         "y": [
          -0.3549431562423706
         ],
         "z": [
          0.21430560946464539
         ]
        },
        {
         "hovertemplate": "color=water<br>0=%{x}<br>1=%{y}<br>2=%{z}<extra></extra>",
         "legendgroup": "water",
         "marker": {
          "color": "#19d3f3",
          "symbol": "circle"
         },
         "mode": "markers",
         "name": "water",
         "scene": "scene",
         "showlegend": true,
         "type": "scatter3d",
         "x": [
          0.6200945377349854
         ],
         "y": [
          -0.14297981560230255
         ],
         "z": [
          0.3829229176044464
         ]
        },
        {
         "hovertemplate": "color=upon<br>0=%{x}<br>1=%{y}<br>2=%{z}<extra></extra>",
         "legendgroup": "upon",
         "marker": {
          "color": "#FF6692",
          "symbol": "circle"
         },
         "mode": "markers",
         "name": "upon",
         "scene": "scene",
         "showlegend": true,
         "type": "scatter3d",
         "x": [
          0.3785007894039154
         ],
         "y": [
          0.5182463526725769
         ],
         "z": [
          0.05636274442076683
         ]
        },
        {
         "hovertemplate": "color=voice<br>0=%{x}<br>1=%{y}<br>2=%{z}<extra></extra>",
         "legendgroup": "voice",
         "marker": {
          "color": "#B6E880",
          "symbol": "circle"
         },
         "mode": "markers",
         "name": "voice",
         "scene": "scene",
         "showlegend": true,
         "type": "scatter3d",
         "x": [
          0.10358598083257675
         ],
         "y": [
          -0.3797816038131714
         ],
         "z": [
          -0.26476892828941345
         ]
        },
        {
         "hovertemplate": "color=gone<br>0=%{x}<br>1=%{y}<br>2=%{z}<extra></extra>",
         "legendgroup": "gone",
         "marker": {
          "color": "#FF97FF",
          "symbol": "circle"
         },
         "mode": "markers",
         "name": "gone",
         "scene": "scene",
         "showlegend": true,
         "type": "scatter3d",
         "x": [
          0.0441288948059082
         ],
         "y": [
          -0.02727941796183586
         ],
         "z": [
          0.3252237141132355
         ]
        },
        {
         "hovertemplate": "color=give<br>0=%{x}<br>1=%{y}<br>2=%{z}<extra></extra>",
         "legendgroup": "give",
         "marker": {
          "color": "#FECB52",
          "symbol": "circle"
         },
         "mode": "markers",
         "name": "give",
         "scene": "scene",
         "showlegend": true,
         "type": "scatter3d",
         "x": [
          -0.601841926574707
         ],
         "y": [
          0.07922614365816116
         ],
         "z": [
          0.13688674569129944
         ]
        },
        {
         "hovertemplate": "color=seen<br>0=%{x}<br>1=%{y}<br>2=%{z}<extra></extra>",
         "legendgroup": "seen",
         "marker": {
          "color": "#636efa",
          "symbol": "circle"
         },
         "mode": "markers",
         "name": "seen",
         "scene": "scene",
         "showlegend": true,
         "type": "scatter3d",
         "x": [
          0.00775868957862258
         ],
         "y": [
          0.23922725021839142
         ],
         "z": [
          0.3112685978412628
         ]
        },
        {
         "hovertemplate": "color=better<br>0=%{x}<br>1=%{y}<br>2=%{z}<extra></extra>",
         "legendgroup": "better",
         "marker": {
          "color": "#EF553B",
          "symbol": "circle"
         },
         "mode": "markers",
         "name": "better",
         "scene": "scene",
         "showlegend": true,
         "type": "scatter3d",
         "x": [
          -0.5712036490440369
         ],
         "y": [
          -0.10194488614797592
         ],
         "z": [
          0.318499892950058
         ]
        },
        {
         "hovertemplate": "color=sam<br>0=%{x}<br>1=%{y}<br>2=%{z}<extra></extra>",
         "legendgroup": "sam",
         "marker": {
          "color": "#00cc96",
          "symbol": "circle"
         },
         "mode": "markers",
         "name": "sam",
         "scene": "scene",
         "showlegend": true,
         "type": "scatter3d",
         "x": [
          0.1031593382358551
         ],
         "y": [
          -0.4039408266544342
         ],
         "z": [
          -0.023672590032219887
         ]
        },
        {
         "hovertemplate": "color=ned<br>0=%{x}<br>1=%{y}<br>2=%{z}<extra></extra>",
         "legendgroup": "ned",
         "marker": {
          "color": "#ab63fa",
          "symbol": "circle"
         },
         "mode": "markers",
         "name": "ned",
         "scene": "scene",
         "showlegend": true,
         "type": "scatter3d",
         "x": [
          -0.23355616629123688
         ],
         "y": [
          -0.11877413839101791
         ],
         "z": [
          -0.26306676864624023
         ]
        },
        {
         "hovertemplate": "color=years<br>0=%{x}<br>1=%{y}<br>2=%{z}<extra></extra>",
         "legendgroup": "years",
         "marker": {
          "color": "#FFA15A",
          "symbol": "circle"
         },
         "mode": "markers",
         "name": "years",
         "scene": "scene",
         "showlegend": true,
         "type": "scatter3d",
         "x": [
          -0.23419953882694244
         ],
         "y": [
          0.6824369430541992
         ],
         "z": [
          0.08605951070785522
         ]
        },
        {
         "hovertemplate": "color=shall<br>0=%{x}<br>1=%{y}<br>2=%{z}<extra></extra>",
         "legendgroup": "shall",
         "marker": {
          "color": "#19d3f3",
          "symbol": "circle"
         },
         "mode": "markers",
         "name": "shall",
         "scene": "scene",
         "showlegend": true,
         "type": "scatter3d",
         "x": [
          -0.583376407623291
         ],
         "y": [
          0.3247341513633728
         ],
         "z": [
          0.19405034184455872
         ]
        },
        {
         "hovertemplate": "color=always<br>0=%{x}<br>1=%{y}<br>2=%{z}<extra></extra>",
         "legendgroup": "always",
         "marker": {
          "color": "#FF6692",
          "symbol": "circle"
         },
         "mode": "markers",
         "name": "always",
         "scene": "scene",
         "showlegend": true,
         "type": "scatter3d",
         "x": [
          -0.4722249209880829
         ],
         "y": [
          -0.16985510289669037
         ],
         "z": [
          0.2123471200466156
         ]
        },
        {
         "hovertemplate": "color=dark<br>0=%{x}<br>1=%{y}<br>2=%{z}<extra></extra>",
         "legendgroup": "dark",
         "marker": {
          "color": "#B6E880",
          "symbol": "circle"
         },
         "mode": "markers",
         "name": "dark",
         "scene": "scene",
         "showlegend": true,
         "type": "scatter3d",
         "x": [
          0.5980493426322937
         ],
         "y": [
          0.023624446243047714
         ],
         "z": [
          0.18959179520606995
         ]
        },
        {
         "hovertemplate": "color=place<br>0=%{x}<br>1=%{y}<br>2=%{z}<extra></extra>",
         "legendgroup": "place",
         "marker": {
          "color": "#FF97FF",
          "symbol": "circle"
         },
         "mode": "markers",
         "name": "place",
         "scene": "scene",
         "showlegend": true,
         "type": "scatter3d",
         "x": [
          -0.3002488911151886
         ],
         "y": [
          0.4099484980106354
         ],
         "z": [
          0.37580054998397827
         ]
        },
        {
         "hovertemplate": "color=winterfell<br>0=%{x}<br>1=%{y}<br>2=%{z}<extra></extra>",
         "legendgroup": "winterfell",
         "marker": {
          "color": "#FECB52",
          "symbol": "circle"
         },
         "mode": "markers",
         "name": "winterfell",
         "scene": "scene",
         "showlegend": true,
         "type": "scatter3d",
         "x": [
          -0.2894832193851471
         ],
         "y": [
          0.5187159180641174
         ],
         "z": [
          0.12283633649349213
         ]
        },
        {
         "hovertemplate": "color=small<br>0=%{x}<br>1=%{y}<br>2=%{z}<extra></extra>",
         "legendgroup": "small",
         "marker": {
          "color": "#636efa",
          "symbol": "circle"
         },
         "mode": "markers",
         "name": "small",
         "scene": "scene",
         "showlegend": true,
         "type": "scatter3d",
         "x": [
          0.3428712785243988
         ],
         "y": [
          0.3532543182373047
         ],
         "z": [
          0.1982288658618927
         ]
        },
        {
         "hovertemplate": "color=house<br>0=%{x}<br>1=%{y}<br>2=%{z}<extra></extra>",
         "legendgroup": "house",
         "marker": {
          "color": "#EF553B",
          "symbol": "circle"
         },
         "mode": "markers",
         "name": "house",
         "scene": "scene",
         "showlegend": true,
         "type": "scatter3d",
         "x": [
          -0.19231954216957092
         ],
         "y": [
          0.7730789184570312
         ],
         "z": [
          -0.40745532512664795
         ]
        },
        {
         "hovertemplate": "color=cold<br>0=%{x}<br>1=%{y}<br>2=%{z}<extra></extra>",
         "legendgroup": "cold",
         "marker": {
          "color": "#00cc96",
          "symbol": "circle"
         },
         "mode": "markers",
         "name": "cold",
         "scene": "scene",
         "showlegend": true,
         "type": "scatter3d",
         "x": [
          0.47355350852012634
         ],
         "y": [
          -0.2132977694272995
         ],
         "z": [
          0.44165173172950745
         ]
        },
        {
         "hovertemplate": "color=hundred<br>0=%{x}<br>1=%{y}<br>2=%{z}<extra></extra>",
         "legendgroup": "hundred",
         "marker": {
          "color": "#ab63fa",
          "symbol": "circle"
         },
         "mode": "markers",
         "name": "hundred",
         "scene": "scene",
         "showlegend": true,
         "type": "scatter3d",
         "x": [
          0.09579562395811081
         ],
         "y": [
          0.6954529881477356
         ],
         "z": [
          0.3269421458244324
         ]
        },
        {
         "hovertemplate": "color=sister<br>0=%{x}<br>1=%{y}<br>2=%{z}<extra></extra>",
         "legendgroup": "sister",
         "marker": {
          "color": "#FFA15A",
          "symbol": "circle"
         },
         "mode": "markers",
         "name": "sister",
         "scene": "scene",
         "showlegend": true,
         "type": "scatter3d",
         "x": [
          -0.584399938583374
         ],
         "y": [
          0.13970893621444702
         ],
         "z": [
          -0.3381471633911133
         ]
        },
        {
         "hovertemplate": "color=end<br>0=%{x}<br>1=%{y}<br>2=%{z}<extra></extra>",
         "legendgroup": "end",
         "marker": {
          "color": "#19d3f3",
          "symbol": "circle"
         },
         "mode": "markers",
         "name": "end",
         "scene": "scene",
         "showlegend": true,
         "type": "scatter3d",
         "x": [
          -0.05579192563891411
         ],
         "y": [
          0.5899110436439514
         ],
         "z": [
          0.20199988782405853
         ]
        },
        {
         "hovertemplate": "color=words<br>0=%{x}<br>1=%{y}<br>2=%{z}<extra></extra>",
         "legendgroup": "words",
         "marker": {
          "color": "#FF6692",
          "symbol": "circle"
         },
         "mode": "markers",
         "name": "words",
         "scene": "scene",
         "showlegend": true,
         "type": "scatter3d",
         "x": [
          -0.23752480745315552
         ],
         "y": [
          -0.48273202776908875
         ],
         "z": [
          0.010366933420300484
         ]
        },
        {
         "hovertemplate": "color=stood<br>0=%{x}<br>1=%{y}<br>2=%{z}<extra></extra>",
         "legendgroup": "stood",
         "marker": {
          "color": "#B6E880",
          "symbol": "circle"
         },
         "mode": "markers",
         "name": "stood",
         "scene": "scene",
         "showlegend": true,
         "type": "scatter3d",
         "x": [
          0.49047717452049255
         ],
         "y": [
          0.6132575273513794
         ],
         "z": [
          -0.22464628517627716
         ]
        },
        {
         "hovertemplate": "color=sea<br>0=%{x}<br>1=%{y}<br>2=%{z}<extra></extra>",
         "legendgroup": "sea",
         "marker": {
          "color": "#FF97FF",
          "symbol": "circle"
         },
         "mode": "markers",
         "name": "sea",
         "scene": "scene",
         "showlegend": true,
         "type": "scatter3d",
         "x": [
          0.1725061684846878
         ],
         "y": [
          0.7007148861885071
         ],
         "z": [
          0.4136107265949249
         ]
        },
        {
         "hovertemplate": "color=right<br>0=%{x}<br>1=%{y}<br>2=%{z}<extra></extra>",
         "legendgroup": "right",
         "marker": {
          "color": "#FECB52",
          "symbol": "circle"
         },
         "mode": "markers",
         "name": "right",
         "scene": "scene",
         "showlegend": true,
         "type": "scatter3d",
         "x": [
          0.20891420543193817
         ],
         "y": [
          -0.028979672119021416
         ],
         "z": [
          -0.13462527096271515
         ]
        },
        {
         "hovertemplate": "color=nothing<br>0=%{x}<br>1=%{y}<br>2=%{z}<extra></extra>",
         "legendgroup": "nothing",
         "marker": {
          "color": "#636efa",
          "symbol": "circle"
         },
         "mode": "markers",
         "name": "nothing",
         "scene": "scene",
         "showlegend": true,
         "type": "scatter3d",
         "x": [
          -0.1495044082403183
         ],
         "y": [
          -0.390146940946579
         ],
         "z": [
          0.39892759919166565
         ]
        },
        {
         "hovertemplate": "color=joffrey<br>0=%{x}<br>1=%{y}<br>2=%{z}<extra></extra>",
         "legendgroup": "joffrey",
         "marker": {
          "color": "#EF553B",
          "symbol": "circle"
         },
         "mode": "markers",
         "name": "joffrey",
         "scene": "scene",
         "showlegend": true,
         "type": "scatter3d",
         "x": [
          -0.4195699691772461
         ],
         "y": [
          0.15454983711242676
         ],
         "z": [
          -0.357060968875885
         ]
        },
        {
         "hovertemplate": "color=walls<br>0=%{x}<br>1=%{y}<br>2=%{z}<extra></extra>",
         "legendgroup": "walls",
         "marker": {
          "color": "#00cc96",
          "symbol": "circle"
         },
         "mode": "markers",
         "name": "walls",
         "scene": "scene",
         "showlegend": true,
         "type": "scatter3d",
         "x": [
          0.4683830440044403
         ],
         "y": [
          0.5748722553253174
         ],
         "z": [
          0.4174175262451172
         ]
        },
        {
         "hovertemplate": "color=fingers<br>0=%{x}<br>1=%{y}<br>2=%{z}<extra></extra>",
         "legendgroup": "fingers",
         "marker": {
          "color": "#ab63fa",
          "symbol": "circle"
         },
         "mode": "markers",
         "name": "fingers",
         "scene": "scene",
         "showlegend": true,
         "type": "scatter3d",
         "x": [
          0.6783433556556702
         ],
         "y": [
          -0.19469141960144043
         ],
         "z": [
          -0.14302848279476166
         ]
        },
        {
         "hovertemplate": "color=young<br>0=%{x}<br>1=%{y}<br>2=%{z}<extra></extra>",
         "legendgroup": "young",
         "marker": {
          "color": "#FFA15A",
          "symbol": "circle"
         },
         "mode": "markers",
         "name": "young",
         "scene": "scene",
         "showlegend": true,
         "type": "scatter3d",
         "x": [
          -0.33742183446884155
         ],
         "y": [
          0.5015523433685303
         ],
         "z": [
          -0.4371982216835022
         ]
        },
        {
         "hovertemplate": "color=cloak<br>0=%{x}<br>1=%{y}<br>2=%{z}<extra></extra>",
         "legendgroup": "cloak",
         "marker": {
          "color": "#19d3f3",
          "symbol": "circle"
         },
         "mode": "markers",
         "name": "cloak",
         "scene": "scene",
         "showlegend": true,
         "type": "scatter3d",
         "x": [
          0.5832222700119019
         ],
         "y": [
          0.28659960627555847
         ],
         "z": [
          -0.4821851849555969
         ]
        },
        {
         "hovertemplate": "color=seven<br>0=%{x}<br>1=%{y}<br>2=%{z}<extra></extra>",
         "legendgroup": "seven",
         "marker": {
          "color": "#FF6692",
          "symbol": "circle"
         },
         "mode": "markers",
         "name": "seven",
         "scene": "scene",
         "showlegend": true,
         "type": "scatter3d",
         "x": [
          -0.22889460623264313
         ],
         "y": [
          0.7003931999206543
         ],
         "z": [
          0.15673932433128357
         ]
        },
        {
         "hovertemplate": "color=watch<br>0=%{x}<br>1=%{y}<br>2=%{z}<extra></extra>",
         "legendgroup": "watch",
         "marker": {
          "color": "#B6E880",
          "symbol": "circle"
         },
         "mode": "markers",
         "name": "watch",
         "scene": "scene",
         "showlegend": true,
         "type": "scatter3d",
         "x": [
          -0.22817642986774445
         ],
         "y": [
          0.5147260427474976
         ],
         "z": [
          0.08222250640392303
         ]
        },
        {
         "hovertemplate": "color=beside<br>0=%{x}<br>1=%{y}<br>2=%{z}<extra></extra>",
         "legendgroup": "beside",
         "marker": {
          "color": "#FF97FF",
          "symbol": "circle"
         },
         "mode": "markers",
         "name": "beside",
         "scene": "scene",
         "showlegend": true,
         "type": "scatter3d",
         "x": [
          0.5166791677474976
         ],
         "y": [
          0.4829251170158386
         ],
         "z": [
          -0.24504594504833221
         ]
        },
        {
         "hovertemplate": "color=get<br>0=%{x}<br>1=%{y}<br>2=%{z}<extra></extra>",
         "legendgroup": "get",
         "marker": {
          "color": "#FECB52",
          "symbol": "circle"
         },
         "mode": "markers",
         "name": "get",
         "scene": "scene",
         "showlegend": true,
         "type": "scatter3d",
         "x": [
          -0.12009236216545105
         ],
         "y": [
          -0.2582687437534332
         ],
         "z": [
          0.38047653436660767
         ]
        },
        {
         "hovertemplate": "color=mouth<br>0=%{x}<br>1=%{y}<br>2=%{z}<extra></extra>",
         "legendgroup": "mouth",
         "marker": {
          "color": "#636efa",
          "symbol": "circle"
         },
         "mode": "markers",
         "name": "mouth",
         "scene": "scene",
         "showlegend": true,
         "type": "scatter3d",
         "x": [
          0.5109327435493469
         ],
         "y": [
          -0.47434574365615845
         ],
         "z": [
          -0.19674541056156158
         ]
        },
        {
         "hovertemplate": "color=door<br>0=%{x}<br>1=%{y}<br>2=%{z}<extra></extra>",
         "legendgroup": "door",
         "marker": {
          "color": "#EF553B",
          "symbol": "circle"
         },
         "mode": "markers",
         "name": "door",
         "scene": "scene",
         "showlegend": true,
         "type": "scatter3d",
         "x": [
          0.5278072953224182
         ],
         "y": [
          0.11545627564191818
         ],
         "z": [
          -0.15605974197387695
         ]
        },
        {
         "hovertemplate": "color=green<br>0=%{x}<br>1=%{y}<br>2=%{z}<extra></extra>",
         "legendgroup": "green",
         "marker": {
          "color": "#00cc96",
          "symbol": "circle"
         },
         "mode": "markers",
         "name": "green",
         "scene": "scene",
         "showlegend": true,
         "type": "scatter3d",
         "x": [
          0.540503978729248
         ],
         "y": [
          0.40873533487319946
         ],
         "z": [
          -0.12185632437467575
         ]
        },
        {
         "hovertemplate": "color=big<br>0=%{x}<br>1=%{y}<br>2=%{z}<extra></extra>",
         "legendgroup": "big",
         "marker": {
          "color": "#ab63fa",
          "symbol": "circle"
         },
         "mode": "markers",
         "name": "big",
         "scene": "scene",
         "showlegend": true,
         "type": "scatter3d",
         "x": [
          0.41384539008140564
         ],
         "y": [
          0.09651409834623337
         ],
         "z": [
          -0.21025297045707703
         ]
        },
        {
         "hovertemplate": "color=sent<br>0=%{x}<br>1=%{y}<br>2=%{z}<extra></extra>",
         "legendgroup": "sent",
         "marker": {
          "color": "#FFA15A",
          "symbol": "circle"
         },
         "mode": "markers",
         "name": "sent",
         "scene": "scene",
         "showlegend": true,
         "type": "scatter3d",
         "x": [
          -0.17744125425815582
         ],
         "y": [
          0.4915730655193329
         ],
         "z": [
          0.042137786746025085
         ]
        },
        {
         "hovertemplate": "color=daughter<br>0=%{x}<br>1=%{y}<br>2=%{z}<extra></extra>",
         "legendgroup": "daughter",
         "marker": {
          "color": "#19d3f3",
          "symbol": "circle"
         },
         "mode": "markers",
         "name": "daughter",
         "scene": "scene",
         "showlegend": true,
         "type": "scatter3d",
         "x": [
          -0.39870449900627136
         ],
         "y": [
          0.6165719628334045
         ],
         "z": [
          -0.5715709924697876
         ]
        },
        {
         "hovertemplate": "color=perhaps<br>0=%{x}<br>1=%{y}<br>2=%{z}<extra></extra>",
         "legendgroup": "perhaps",
         "marker": {
          "color": "#FF6692",
          "symbol": "circle"
         },
         "mode": "markers",
         "name": "perhaps",
         "scene": "scene",
         "showlegend": true,
         "type": "scatter3d",
         "x": [
          -0.6961416006088257
         ],
         "y": [
          -0.007796796970069408
         ],
         "z": [
          0.2739781141281128
         ]
        },
        {
         "hovertemplate": "color=almost<br>0=%{x}<br>1=%{y}<br>2=%{z}<extra></extra>",
         "legendgroup": "almost",
         "marker": {
          "color": "#B6E880",
          "symbol": "circle"
         },
         "mode": "markers",
         "name": "almost",
         "scene": "scene",
         "showlegend": true,
         "type": "scatter3d",
         "x": [
          0.3781360685825348
         ],
         "y": [
          -0.3235023319721222
         ],
         "z": [
          0.1359301209449768
         ]
        },
        {
         "hovertemplate": "color=true<br>0=%{x}<br>1=%{y}<br>2=%{z}<extra></extra>",
         "legendgroup": "true",
         "marker": {
          "color": "#FF97FF",
          "symbol": "circle"
         },
         "mode": "markers",
         "name": "true",
         "scene": "scene",
         "showlegend": true,
         "type": "scatter3d",
         "x": [
          -0.7135519981384277
         ],
         "y": [
          0.13295724987983704
         ],
         "z": [
          0.0757523849606514
         ]
        },
        {
         "hovertemplate": "color=wanted<br>0=%{x}<br>1=%{y}<br>2=%{z}<extra></extra>",
         "legendgroup": "wanted",
         "marker": {
          "color": "#FECB52",
          "symbol": "circle"
         },
         "mode": "markers",
         "name": "wanted",
         "scene": "scene",
         "showlegend": true,
         "type": "scatter3d",
         "x": [
          -0.4303417205810547
         ],
         "y": [
          -0.3870391547679901
         ],
         "z": [
          0.301827996969223
         ]
        },
        {
         "hovertemplate": "color=leave<br>0=%{x}<br>1=%{y}<br>2=%{z}<extra></extra>",
         "legendgroup": "leave",
         "marker": {
          "color": "#636efa",
          "symbol": "circle"
         },
         "mode": "markers",
         "name": "leave",
         "scene": "scene",
         "showlegend": true,
         "type": "scatter3d",
         "x": [
          -0.5168864130973816
         ],
         "y": [
          0.09122411906719208
         ],
         "z": [
          0.18949119746685028
         ]
        },
        {
         "hovertemplate": "color=arms<br>0=%{x}<br>1=%{y}<br>2=%{z}<extra></extra>",
         "legendgroup": "arms",
         "marker": {
          "color": "#EF553B",
          "symbol": "circle"
         },
         "mode": "markers",
         "name": "arms",
         "scene": "scene",
         "showlegend": true,
         "type": "scatter3d",
         "x": [
          0.3101871609687805
         ],
         "y": [
          0.5072934627532959
         ],
         "z": [
          -0.4571835994720459
         ]
        },
        {
         "hovertemplate": "color=city<br>0=%{x}<br>1=%{y}<br>2=%{z}<extra></extra>",
         "legendgroup": "city",
         "marker": {
          "color": "#00cc96",
          "symbol": "circle"
         },
         "mode": "markers",
         "name": "city",
         "scene": "scene",
         "showlegend": true,
         "type": "scatter3d",
         "x": [
          -0.09402573108673096
         ],
         "y": [
          0.690815269947052
         ],
         "z": [
          0.38591763377189636
         ]
        },
        {
         "hovertemplate": "color=children<br>0=%{x}<br>1=%{y}<br>2=%{z}<extra></extra>",
         "legendgroup": "children",
         "marker": {
          "color": "#ab63fa",
          "symbol": "circle"
         },
         "mode": "markers",
         "name": "children",
         "scene": "scene",
         "showlegend": true,
         "type": "scatter3d",
         "x": [
          -0.3684980869293213
         ],
         "y": [
          0.5441617369651794
         ],
         "z": [
          0.2605825364589691
         ]
        },
        {
         "hovertemplate": "color=wind<br>0=%{x}<br>1=%{y}<br>2=%{z}<extra></extra>",
         "legendgroup": "wind",
         "marker": {
          "color": "#FFA15A",
          "symbol": "circle"
         },
         "mode": "markers",
         "name": "wind",
         "scene": "scene",
         "showlegend": true,
         "type": "scatter3d",
         "x": [
          0.657752513885498
         ],
         "y": [
          0.07244917005300522
         ],
         "z": [
          0.28164011240005493
         ]
        },
        {
         "hovertemplate": "color=light<br>0=%{x}<br>1=%{y}<br>2=%{z}<extra></extra>",
         "legendgroup": "light",
         "marker": {
          "color": "#19d3f3",
          "symbol": "circle"
         },
         "mode": "markers",
         "name": "light",
         "scene": "scene",
         "showlegend": true,
         "type": "scatter3d",
         "x": [
          0.49536651372909546
         ],
         "y": [
          0.22620263695716858
         ],
         "z": [
          0.27998191118240356
         ]
        },
        {
         "hovertemplate": "color=sweet<br>0=%{x}<br>1=%{y}<br>2=%{z}<extra></extra>",
         "legendgroup": "sweet",
         "marker": {
          "color": "#FF6692",
          "symbol": "circle"
         },
         "mode": "markers",
         "name": "sweet",
         "scene": "scene",
         "showlegend": true,
         "type": "scatter3d",
         "x": [
          -0.2269946038722992
         ],
         "y": [
          -0.2774321436882019
         ],
         "z": [
          -0.12546199560165405
         ]
        },
        {
         "hovertemplate": "color=lost<br>0=%{x}<br>1=%{y}<br>2=%{z}<extra></extra>",
         "legendgroup": "lost",
         "marker": {
          "color": "#B6E880",
          "symbol": "circle"
         },
         "mode": "markers",
         "name": "lost",
         "scene": "scene",
         "showlegend": true,
         "type": "scatter3d",
         "x": [
          -0.1454148292541504
         ],
         "y": [
          0.4047274887561798
         ],
         "z": [
          0.10136313736438751
         ]
        },
        {
         "hovertemplate": "color=theon<br>0=%{x}<br>1=%{y}<br>2=%{z}<extra></extra>",
         "legendgroup": "theon",
         "marker": {
          "color": "#FF97FF",
          "symbol": "circle"
         },
         "mode": "markers",
         "name": "theon",
         "scene": "scene",
         "showlegend": true,
         "type": "scatter3d",
         "x": [
          -0.09616334736347198
         ],
         "y": [
          -0.00525527261197567
         ],
         "z": [
          -0.2815268933773041
         ]
        },
        {
         "hovertemplate": "color=others<br>0=%{x}<br>1=%{y}<br>2=%{z}<extra></extra>",
         "legendgroup": "others",
         "marker": {
          "color": "#FECB52",
          "symbol": "circle"
         },
         "mode": "markers",
         "name": "others",
         "scene": "scene",
         "showlegend": true,
         "type": "scatter3d",
         "x": [
          -0.01606929488480091
         ],
         "y": [
          0.33510541915893555
         ],
         "z": [
          0.20596960186958313
         ]
        },
        {
         "hovertemplate": "color=felt<br>0=%{x}<br>1=%{y}<br>2=%{z}<extra></extra>",
         "legendgroup": "felt",
         "marker": {
          "color": "#636efa",
          "symbol": "circle"
         },
         "mode": "markers",
         "name": "felt",
         "scene": "scene",
         "showlegend": true,
         "type": "scatter3d",
         "x": [
          0.31604519486427307
         ],
         "y": [
          -0.44337475299835205
         ],
         "z": [
          0.12200675904750824
         ]
        },
        {
         "hovertemplate": "color=brothers<br>0=%{x}<br>1=%{y}<br>2=%{z}<extra></extra>",
         "legendgroup": "brothers",
         "marker": {
          "color": "#EF553B",
          "symbol": "circle"
         },
         "mode": "markers",
         "name": "brothers",
         "scene": "scene",
         "showlegend": true,
         "type": "scatter3d",
         "x": [
          -0.2738136947154999
         ],
         "y": [
          0.6626884937286377
         ],
         "z": [
          0.06182650849223137
         ]
        },
        {
         "hovertemplate": "color=yes<br>0=%{x}<br>1=%{y}<br>2=%{z}<extra></extra>",
         "legendgroup": "yes",
         "marker": {
          "color": "#00cc96",
          "symbol": "circle"
         },
         "mode": "markers",
         "name": "yes",
         "scene": "scene",
         "showlegend": true,
         "type": "scatter3d",
         "x": [
          -0.6835504770278931
         ],
         "y": [
          -0.18873974680900574
         ],
         "z": [
          -0.1254425346851349
         ]
        },
        {
         "hovertemplate": "color=side<br>0=%{x}<br>1=%{y}<br>2=%{z}<extra></extra>",
         "legendgroup": "side",
         "marker": {
          "color": "#ab63fa",
          "symbol": "circle"
         },
         "mode": "markers",
         "name": "side",
         "scene": "scene",
         "showlegend": true,
         "type": "scatter3d",
         "x": [
          0.4809955656528473
         ],
         "y": [
          0.401374876499176
         ],
         "z": [
          0.031132230535149574
         ]
        },
        {
         "hovertemplate": "color=best<br>0=%{x}<br>1=%{y}<br>2=%{z}<extra></extra>",
         "legendgroup": "best",
         "marker": {
          "color": "#FFA15A",
          "symbol": "circle"
         },
         "mode": "markers",
         "name": "best",
         "scene": "scene",
         "showlegend": true,
         "type": "scatter3d",
         "x": [
          -0.5594449043273926
         ],
         "y": [
          -0.022226562723517418
         ],
         "z": [
          0.4436863660812378
         ]
        },
        {
         "hovertemplate": "color=brought<br>0=%{x}<br>1=%{y}<br>2=%{z}<extra></extra>",
         "legendgroup": "brought",
         "marker": {
          "color": "#19d3f3",
          "symbol": "circle"
         },
         "mode": "markers",
         "name": "brought",
         "scene": "scene",
         "showlegend": true,
         "type": "scatter3d",
         "x": [
          0.017206428572535515
         ],
         "y": [
          0.3343943953514099
         ],
         "z": [
          -0.04391723871231079
         ]
        },
        {
         "hovertemplate": "color=die<br>0=%{x}<br>1=%{y}<br>2=%{z}<extra></extra>",
         "legendgroup": "die",
         "marker": {
          "color": "#FF6692",
          "symbol": "circle"
         },
         "mode": "markers",
         "name": "die",
         "scene": "scene",
         "showlegend": true,
         "type": "scatter3d",
         "x": [
          -0.574333906173706
         ],
         "y": [
          -0.001789382309652865
         ],
         "z": [
          0.3858429789543152
         ]
        },
        {
         "hovertemplate": "color=died<br>0=%{x}<br>1=%{y}<br>2=%{z}<extra></extra>",
         "legendgroup": "died",
         "marker": {
          "color": "#B6E880",
          "symbol": "circle"
         },
         "mode": "markers",
         "name": "died",
         "scene": "scene",
         "showlegend": true,
         "type": "scatter3d",
         "x": [
          -0.29143884778022766
         ],
         "y": [
          0.5916939377784729
         ],
         "z": [
          -0.07141868770122528
         ]
        },
        {
         "hovertemplate": "color=soon<br>0=%{x}<br>1=%{y}<br>2=%{z}<extra></extra>",
         "legendgroup": "soon",
         "marker": {
          "color": "#FF97FF",
          "symbol": "circle"
         },
         "mode": "markers",
         "name": "soon",
         "scene": "scene",
         "showlegend": true,
         "type": "scatter3d",
         "x": [
          -0.2491527646780014
         ],
         "y": [
          0.09040212631225586
         ],
         "z": [
          0.5442537665367126
         ]
        },
        {
         "hovertemplate": "color=far<br>0=%{x}<br>1=%{y}<br>2=%{z}<extra></extra>",
         "legendgroup": "far",
         "marker": {
          "color": "#FECB52",
          "symbol": "circle"
         },
         "mode": "markers",
         "name": "far",
         "scene": "scene",
         "showlegend": true,
         "type": "scatter3d",
         "x": [
          0.052192166447639465
         ],
         "y": [
          0.1732056885957718
         ],
         "z": [
          0.5557030439376831
         ]
        },
        {
         "hovertemplate": "color=north<br>0=%{x}<br>1=%{y}<br>2=%{z}<extra></extra>",
         "legendgroup": "north",
         "marker": {
          "color": "#636efa",
          "symbol": "circle"
         },
         "mode": "markers",
         "name": "north",
         "scene": "scene",
         "showlegend": true,
         "type": "scatter3d",
         "x": [
          -0.0725846216082573
         ],
         "y": [
          0.6963379979133606
         ],
         "z": [
          0.26303815841674805
         ]
        },
        {
         "hovertemplate": "color=fear<br>0=%{x}<br>1=%{y}<br>2=%{z}<extra></extra>",
         "legendgroup": "fear",
         "marker": {
          "color": "#EF553B",
          "symbol": "circle"
         },
         "mode": "markers",
         "name": "fear",
         "scene": "scene",
         "showlegend": true,
         "type": "scatter3d",
         "x": [
          -0.28074973821640015
         ],
         "y": [
          -0.43048569560050964
         ],
         "z": [
          0.3603125214576721
         ]
        },
        {
         "hovertemplate": "color=child<br>0=%{x}<br>1=%{y}<br>2=%{z}<extra></extra>",
         "legendgroup": "child",
         "marker": {
          "color": "#00cc96",
          "symbol": "circle"
         },
         "mode": "markers",
         "name": "child",
         "scene": "scene",
         "showlegend": true,
         "type": "scatter3d",
         "x": [
          -0.47612619400024414
         ],
         "y": [
          -0.08563339710235596
         ],
         "z": [
          -0.09890389442443848
         ]
        },
        {
         "hovertemplate": "color=brienne<br>0=%{x}<br>1=%{y}<br>2=%{z}<extra></extra>",
         "legendgroup": "brienne",
         "marker": {
          "color": "#ab63fa",
          "symbol": "circle"
         },
         "mode": "markers",
         "name": "brienne",
         "scene": "scene",
         "showlegend": true,
         "type": "scatter3d",
         "x": [
          0.10617442429065704
         ],
         "y": [
          -0.305592805147171
         ],
         "z": [
          -0.31379395723342896
         ]
        },
        {
         "hovertemplate": "color=along<br>0=%{x}<br>1=%{y}<br>2=%{z}<extra></extra>",
         "legendgroup": "along",
         "marker": {
          "color": "#FFA15A",
          "symbol": "circle"
         },
         "mode": "markers",
         "name": "along",
         "scene": "scene",
         "showlegend": true,
         "type": "scatter3d",
         "x": [
          0.5095884203910828
         ],
         "y": [
          0.6010182499885559
         ],
         "z": [
          0.34263521432876587
         ]
        },
        {
         "hovertemplate": "color=word<br>0=%{x}<br>1=%{y}<br>2=%{z}<extra></extra>",
         "legendgroup": "word",
         "marker": {
          "color": "#19d3f3",
          "symbol": "circle"
         },
         "mode": "markers",
         "name": "word",
         "scene": "scene",
         "showlegend": true,
         "type": "scatter3d",
         "x": [
          -0.5761035680770874
         ],
         "y": [
          -0.05418264493346214
         ],
         "z": [
          0.04035012796521187
         ]
        },
        {
         "hovertemplate": "color=battle<br>0=%{x}<br>1=%{y}<br>2=%{z}<extra></extra>",
         "legendgroup": "battle",
         "marker": {
          "color": "#FF6692",
          "symbol": "circle"
         },
         "mode": "markers",
         "name": "battle",
         "scene": "scene",
         "showlegend": true,
         "type": "scatter3d",
         "x": [
          -0.37460842728614807
         ],
         "y": [
          0.6846386790275574
         ],
         "z": [
          0.06824490427970886
         ]
        },
        {
         "hovertemplate": "color=taken<br>0=%{x}<br>1=%{y}<br>2=%{z}<extra></extra>",
         "legendgroup": "taken",
         "marker": {
          "color": "#B6E880",
          "symbol": "circle"
         },
         "mode": "markers",
         "name": "taken",
         "scene": "scene",
         "showlegend": true,
         "type": "scatter3d",
         "x": [
          -0.32237762212753296
         ],
         "y": [
          0.6341071128845215
         ],
         "z": [
          0.039368581026792526
         ]
        },
        {
         "hovertemplate": "color=new<br>0=%{x}<br>1=%{y}<br>2=%{z}<extra></extra>",
         "legendgroup": "new",
         "marker": {
          "color": "#FF97FF",
          "symbol": "circle"
         },
         "mode": "markers",
         "name": "new",
         "scene": "scene",
         "showlegend": true,
         "type": "scatter3d",
         "x": [
          -0.2623373866081238
         ],
         "y": [
          0.6863407492637634
         ],
         "z": [
          0.015257301740348339
         ]
        },
        {
         "hovertemplate": "color=help<br>0=%{x}<br>1=%{y}<br>2=%{z}<extra></extra>",
         "legendgroup": "help",
         "marker": {
          "color": "#FECB52",
          "symbol": "circle"
         },
         "mode": "markers",
         "name": "help",
         "scene": "scene",
         "showlegend": true,
         "type": "scatter3d",
         "x": [
          -0.485086590051651
         ],
         "y": [
          -0.20830608904361725
         ],
         "z": [
          0.20101870596408844
         ]
        },
        {
         "hovertemplate": "color=wife<br>0=%{x}<br>1=%{y}<br>2=%{z}<extra></extra>",
         "legendgroup": "wife",
         "marker": {
          "color": "#636efa",
          "symbol": "circle"
         },
         "mode": "markers",
         "name": "wife",
         "scene": "scene",
         "showlegend": true,
         "type": "scatter3d",
         "x": [
          -0.5329790711402893
         ],
         "y": [
          0.5152350664138794
         ],
         "z": [
          -0.37941038608551025
         ]
        },
        {
         "hovertemplate": "color=lords<br>0=%{x}<br>1=%{y}<br>2=%{z}<extra></extra>",
         "legendgroup": "lords",
         "marker": {
          "color": "#EF553B",
          "symbol": "circle"
         },
         "mode": "markers",
         "name": "lords",
         "scene": "scene",
         "showlegend": true,
         "type": "scatter3d",
         "x": [
          -0.4241996109485626
         ],
         "y": [
          0.8247209191322327
         ],
         "z": [
          -0.04107236862182617
         ]
        },
        {
         "hovertemplate": "color=tywin<br>0=%{x}<br>1=%{y}<br>2=%{z}<extra></extra>",
         "legendgroup": "tywin",
         "marker": {
          "color": "#00cc96",
          "symbol": "circle"
         },
         "mode": "markers",
         "name": "tywin",
         "scene": "scene",
         "showlegend": true,
         "type": "scatter3d",
         "x": [
          -0.37746262550354004
         ],
         "y": [
          0.3142431974411011
         ],
         "z": [
          -0.2886228859424591
         ]
        },
        {
         "hovertemplate": "color=davos<br>0=%{x}<br>1=%{y}<br>2=%{z}<extra></extra>",
         "legendgroup": "davos",
         "marker": {
          "color": "#ab63fa",
          "symbol": "circle"
         },
         "mode": "markers",
         "name": "davos",
         "scene": "scene",
         "showlegend": true,
         "type": "scatter3d",
         "x": [
          -0.12516871094703674
         ],
         "y": [
          -0.14076629281044006
         ],
         "z": [
          -0.21169695258140564
         ]
        },
        {
         "hovertemplate": "color=something<br>0=%{x}<br>1=%{y}<br>2=%{z}<extra></extra>",
         "legendgroup": "something",
         "marker": {
          "color": "#FFA15A",
          "symbol": "circle"
         },
         "mode": "markers",
         "name": "something",
         "scene": "scene",
         "showlegend": true,
         "type": "scatter3d",
         "x": [
          -0.02711784467101097
         ],
         "y": [
          -0.6557909846305847
         ],
         "z": [
          0.12187754362821579
         ]
        },
        {
         "hovertemplate": "color=mean<br>0=%{x}<br>1=%{y}<br>2=%{z}<extra></extra>",
         "legendgroup": "mean",
         "marker": {
          "color": "#19d3f3",
          "symbol": "circle"
         },
         "mode": "markers",
         "name": "mean",
         "scene": "scene",
         "showlegend": true,
         "type": "scatter3d",
         "x": [
          -0.7197284698486328
         ],
         "y": [
          0.13033103942871094
         ],
         "z": [
          0.23874947428703308
         ]
        },
        {
         "hovertemplate": "color=you<br>0=%{x}<br>1=%{y}<br>2=%{z}<extra></extra>",
         "legendgroup": "you",
         "marker": {
          "color": "#FF6692",
          "symbol": "circle"
         },
         "mode": "markers",
         "name": "you",
         "scene": "scene",
         "showlegend": true,
         "type": "scatter3d",
         "x": [
          -0.6982723474502563
         ],
         "y": [
          -0.12804631888866425
         ],
         "z": [
          0.10125025361776352
         ]
        },
        {
         "hovertemplate": "color=rest<br>0=%{x}<br>1=%{y}<br>2=%{z}<extra></extra>",
         "legendgroup": "rest",
         "marker": {
          "color": "#B6E880",
          "symbol": "circle"
         },
         "mode": "markers",
         "name": "rest",
         "scene": "scene",
         "showlegend": true,
         "type": "scatter3d",
         "x": [
          -0.16703081130981445
         ],
         "y": [
          0.3151484727859497
         ],
         "z": [
          0.4351257085800171
         ]
        },
        {
         "hovertemplate": "color=hall<br>0=%{x}<br>1=%{y}<br>2=%{z}<extra></extra>",
         "legendgroup": "hall",
         "marker": {
          "color": "#FF97FF",
          "symbol": "circle"
         },
         "mode": "markers",
         "name": "hall",
         "scene": "scene",
         "showlegend": true,
         "type": "scatter3d",
         "x": [
          0.3607637584209442
         ],
         "y": [
          0.5914007425308228
         ],
         "z": [
          0.03904077783226967
         ]
        },
        {
         "hovertemplate": "color=kill<br>0=%{x}<br>1=%{y}<br>2=%{z}<extra></extra>",
         "legendgroup": "kill",
         "marker": {
          "color": "#FECB52",
          "symbol": "circle"
         },
         "mode": "markers",
         "name": "kill",
         "scene": "scene",
         "showlegend": true,
         "type": "scatter3d",
         "x": [
          -0.6144336462020874
         ],
         "y": [
          -0.20331533253192902
         ],
         "z": [
          0.22580336034297943
         ]
        },
        {
         "hovertemplate": "color=strong<br>0=%{x}<br>1=%{y}<br>2=%{z}<extra></extra>",
         "legendgroup": "strong",
         "marker": {
          "color": "#636efa",
          "symbol": "circle"
         },
         "mode": "markers",
         "name": "strong",
         "scene": "scene",
         "showlegend": true,
         "type": "scatter3d",
         "x": [
          -0.12665444612503052
         ],
         "y": [
          0.14374852180480957
         ],
         "z": [
          0.1448020488023758
         ]
        },
        {
         "hovertemplate": "color=dragon<br>0=%{x}<br>1=%{y}<br>2=%{z}<extra></extra>",
         "legendgroup": "dragon",
         "marker": {
          "color": "#EF553B",
          "symbol": "circle"
         },
         "mode": "markers",
         "name": "dragon",
         "scene": "scene",
         "showlegend": true,
         "type": "scatter3d",
         "x": [
          0.15317848324775696
         ],
         "y": [
          0.38950443267822266
         ],
         "z": [
          0.32357969880104065
         ]
        },
        {
         "hovertemplate": "color=steel<br>0=%{x}<br>1=%{y}<br>2=%{z}<extra></extra>",
         "legendgroup": "steel",
         "marker": {
          "color": "#00cc96",
          "symbol": "circle"
         },
         "mode": "markers",
         "name": "steel",
         "scene": "scene",
         "showlegend": true,
         "type": "scatter3d",
         "x": [
          0.6698436141014099
         ],
         "y": [
          0.1300683617591858
         ],
         "z": [
          -0.024755077436566353
         ]
        },
        {
         "hovertemplate": "color=began<br>0=%{x}<br>1=%{y}<br>2=%{z}<extra></extra>",
         "legendgroup": "began",
         "marker": {
          "color": "#ab63fa",
          "symbol": "circle"
         },
         "mode": "markers",
         "name": "began",
         "scene": "scene",
         "showlegend": true,
         "type": "scatter3d",
         "x": [
          0.5498093366622925
         ],
         "y": [
          -0.1319614052772522
         ],
         "z": [
          0.28445836901664734
         ]
        },
        {
         "hovertemplate": "color=sound<br>0=%{x}<br>1=%{y}<br>2=%{z}<extra></extra>",
         "legendgroup": "sound",
         "marker": {
          "color": "#FFA15A",
          "symbol": "circle"
         },
         "mode": "markers",
         "name": "sound",
         "scene": "scene",
         "showlegend": true,
         "type": "scatter3d",
         "x": [
          0.5022681951522827
         ],
         "y": [
          -0.28110602498054504
         ],
         "z": [
          0.27023449540138245
         ]
        },
        {
         "hovertemplate": "color=past<br>0=%{x}<br>1=%{y}<br>2=%{z}<extra></extra>",
         "legendgroup": "past",
         "marker": {
          "color": "#19d3f3",
          "symbol": "circle"
         },
         "mode": "markers",
         "name": "past",
         "scene": "scene",
         "showlegend": true,
         "type": "scatter3d",
         "x": [
          0.4811827540397644
         ],
         "y": [
          0.5173594951629639
         ],
         "z": [
          0.20468319952487946
         ]
        },
        {
         "hovertemplate": "color=life<br>0=%{x}<br>1=%{y}<br>2=%{z}<extra></extra>",
         "legendgroup": "life",
         "marker": {
          "color": "#FF6692",
          "symbol": "circle"
         },
         "mode": "markers",
         "name": "life",
         "scene": "scene",
         "showlegend": true,
         "type": "scatter3d",
         "x": [
          -0.5407657623291016
         ],
         "y": [
          0.17003875970840454
         ],
         "z": [
          0.39810940623283386
         ]
        },
        {
         "hovertemplate": "color=tower<br>0=%{x}<br>1=%{y}<br>2=%{z}<extra></extra>",
         "legendgroup": "tower",
         "marker": {
          "color": "#B6E880",
          "symbol": "circle"
         },
         "mode": "markers",
         "name": "tower",
         "scene": "scene",
         "showlegend": true,
         "type": "scatter3d",
         "x": [
          0.36794453859329224
         ],
         "y": [
          0.6546356081962585
         ],
         "z": [
          0.15029765665531158
         ]
        },
        {
         "hovertemplate": "color=sons<br>0=%{x}<br>1=%{y}<br>2=%{z}<extra></extra>",
         "legendgroup": "sons",
         "marker": {
          "color": "#FF97FF",
          "symbol": "circle"
         },
         "mode": "markers",
         "name": "sons",
         "scene": "scene",
         "showlegend": true,
         "type": "scatter3d",
         "x": [
          -0.43765130639076233
         ],
         "y": [
          0.8263874053955078
         ],
         "z": [
          -0.18442325294017792
         ]
        },
        {
         "hovertemplate": "color=killed<br>0=%{x}<br>1=%{y}<br>2=%{z}<extra></extra>",
         "legendgroup": "killed",
         "marker": {
          "color": "#FECB52",
          "symbol": "circle"
         },
         "mode": "markers",
         "name": "killed",
         "scene": "scene",
         "showlegend": true,
         "type": "scatter3d",
         "x": [
          -0.5702655911445618
         ],
         "y": [
          0.2360452115535736
         ],
         "z": [
          -0.18695664405822754
         ]
        },
        {
         "hovertemplate": "color=arm<br>0=%{x}<br>1=%{y}<br>2=%{z}<extra></extra>",
         "legendgroup": "arm",
         "marker": {
          "color": "#636efa",
          "symbol": "circle"
         },
         "mode": "markers",
         "name": "arm",
         "scene": "scene",
         "showlegend": true,
         "type": "scatter3d",
         "x": [
          0.5125617980957031
         ],
         "y": [
          -0.0778832659125328
         ],
         "z": [
          -0.3036210834980011
         ]
        },
        {
         "hovertemplate": "color=free<br>0=%{x}<br>1=%{y}<br>2=%{z}<extra></extra>",
         "legendgroup": "free",
         "marker": {
          "color": "#EF553B",
          "symbol": "circle"
         },
         "mode": "markers",
         "name": "free",
         "scene": "scene",
         "showlegend": true,
         "type": "scatter3d",
         "x": [
          -0.07117591053247452
         ],
         "y": [
          0.47206151485443115
         ],
         "z": [
          0.46597567200660706
         ]
        },
        {
         "hovertemplate": "color=tried<br>0=%{x}<br>1=%{y}<br>2=%{z}<extra></extra>",
         "legendgroup": "tried",
         "marker": {
          "color": "#00cc96",
          "symbol": "circle"
         },
         "mode": "markers",
         "name": "tried",
         "scene": "scene",
         "showlegend": true,
         "type": "scatter3d",
         "x": [
          0.04176917299628258
         ],
         "y": [
          -0.3688110411167145
         ],
         "z": [
          0.14556623995304108
         ]
        },
        {
         "hovertemplate": "color=bear<br>0=%{x}<br>1=%{y}<br>2=%{z}<extra></extra>",
         "legendgroup": "bear",
         "marker": {
          "color": "#ab63fa",
          "symbol": "circle"
         },
         "mode": "markers",
         "name": "bear",
         "scene": "scene",
         "showlegend": true,
         "type": "scatter3d",
         "x": [
          -0.05411864072084427
         ],
         "y": [
          0.15447723865509033
         ],
         "z": [
          -0.06658035516738892
         ]
        },
        {
         "hovertemplate": "color=thing<br>0=%{x}<br>1=%{y}<br>2=%{z}<extra></extra>",
         "legendgroup": "thing",
         "marker": {
          "color": "#FFA15A",
          "symbol": "circle"
         },
         "mode": "markers",
         "name": "thing",
         "scene": "scene",
         "showlegend": true,
         "type": "scatter3d",
         "x": [
          -0.14376814663410187
         ],
         "y": [
          -0.3413164019584656
         ],
         "z": [
          0.2835996448993683
         ]
        },
        {
         "hovertemplate": "color=days<br>0=%{x}<br>1=%{y}<br>2=%{z}<extra></extra>",
         "legendgroup": "days",
         "marker": {
          "color": "#19d3f3",
          "symbol": "circle"
         },
         "mode": "markers",
         "name": "days",
         "scene": "scene",
         "showlegend": true,
         "type": "scatter3d",
         "x": [
          -0.0722026452422142
         ],
         "y": [
          0.5171006321907043
         ],
         "z": [
          0.5297961831092834
         ]
        },
        {
         "hovertemplate": "color=bloody<br>0=%{x}<br>1=%{y}<br>2=%{z}<extra></extra>",
         "legendgroup": "bloody",
         "marker": {
          "color": "#FF6692",
          "symbol": "circle"
         },
         "mode": "markers",
         "name": "bloody",
         "scene": "scene",
         "showlegend": true,
         "type": "scatter3d",
         "x": [
          0.05960028991103172
         ],
         "y": [
          -0.17050524055957794
         ],
         "z": [
          0.2644626796245575
         ]
        },
        {
         "hovertemplate": "color=heart<br>0=%{x}<br>1=%{y}<br>2=%{z}<extra></extra>",
         "legendgroup": "heart",
         "marker": {
          "color": "#B6E880",
          "symbol": "circle"
         },
         "mode": "markers",
         "name": "heart",
         "scene": "scene",
         "showlegend": true,
         "type": "scatter3d",
         "x": [
          0.32272279262542725
         ],
         "y": [
          -0.029766833409667015
         ],
         "z": [
          0.15887759625911713
         ]
        },
        {
         "hovertemplate": "color=pale<br>0=%{x}<br>1=%{y}<br>2=%{z}<extra></extra>",
         "legendgroup": "pale",
         "marker": {
          "color": "#FF97FF",
          "symbol": "circle"
         },
         "mode": "markers",
         "name": "pale",
         "scene": "scene",
         "showlegend": true,
         "type": "scatter3d",
         "x": [
          0.6970087289810181
         ],
         "y": [
          0.11083228886127472
         ],
         "z": [
          -0.15820711851119995
         ]
        },
        {
         "hovertemplate": "color=love<br>0=%{x}<br>1=%{y}<br>2=%{z}<extra></extra>",
         "legendgroup": "love",
         "marker": {
          "color": "#FECB52",
          "symbol": "circle"
         },
         "mode": "markers",
         "name": "love",
         "scene": "scene",
         "showlegend": true,
         "type": "scatter3d",
         "x": [
          -0.746863603591919
         ],
         "y": [
          -0.025216037407517433
         ],
         "z": [
          0.06820010393857956
         ]
        },
        {
         "hovertemplate": "color=moment<br>0=%{x}<br>1=%{y}<br>2=%{z}<extra></extra>",
         "legendgroup": "moment",
         "marker": {
          "color": "#636efa",
          "symbol": "circle"
         },
         "mode": "markers",
         "name": "moment",
         "scene": "scene",
         "showlegend": true,
         "type": "scatter3d",
         "x": [
          0.08346786350011826
         ],
         "y": [
          -0.4910224676132202
         ],
         "z": [
          -0.08382441848516464
         ]
        },
        {
         "hovertemplate": "color=sat<br>0=%{x}<br>1=%{y}<br>2=%{z}<extra></extra>",
         "legendgroup": "sat",
         "marker": {
          "color": "#EF553B",
          "symbol": "circle"
         },
         "mode": "markers",
         "name": "sat",
         "scene": "scene",
         "showlegend": true,
         "type": "scatter3d",
         "x": [
          0.5369843244552612
         ],
         "y": [
          0.34431490302085876
         ],
         "z": [
          -0.3108488619327545
         ]
        },
        {
         "hovertemplate": "color=bring<br>0=%{x}<br>1=%{y}<br>2=%{z}<extra></extra>",
         "legendgroup": "bring",
         "marker": {
          "color": "#00cc96",
          "symbol": "circle"
         },
         "mode": "markers",
         "name": "bring",
         "scene": "scene",
         "showlegend": true,
         "type": "scatter3d",
         "x": [
          -0.4806649684906006
         ],
         "y": [
          0.13585145771503448
         ],
         "z": [
          0.16733549535274506
         ]
        },
        {
         "hovertemplate": "color=knights<br>0=%{x}<br>1=%{y}<br>2=%{z}<extra></extra>",
         "legendgroup": "knights",
         "marker": {
          "color": "#ab63fa",
          "symbol": "circle"
         },
         "mode": "markers",
         "name": "knights",
         "scene": "scene",
         "showlegend": true,
         "type": "scatter3d",
         "x": [
          -0.1906142681837082
         ],
         "y": [
          0.8782486915588379
         ],
         "z": [
          -0.09838230162858963
         ]
        },
        {
         "hovertemplate": "color=close<br>0=%{x}<br>1=%{y}<br>2=%{z}<extra></extra>",
         "legendgroup": "close",
         "marker": {
          "color": "#FFA15A",
          "symbol": "circle"
         },
         "mode": "markers",
         "name": "close",
         "scene": "scene",
         "showlegend": true,
         "type": "scatter3d",
         "x": [
          0.3107283115386963
         ],
         "y": [
          -0.11089237034320831
         ],
         "z": [
          0.14847245812416077
         ]
        },
        {
         "hovertemplate": "color=bed<br>0=%{x}<br>1=%{y}<br>2=%{z}<extra></extra>",
         "legendgroup": "bed",
         "marker": {
          "color": "#19d3f3",
          "symbol": "circle"
         },
         "mode": "markers",
         "name": "bed",
         "scene": "scene",
         "showlegend": true,
         "type": "scatter3d",
         "x": [
          0.14923438429832458
         ],
         "y": [
          -0.20564553141593933
         ],
         "z": [
          0.14315974712371826
         ]
        },
        {
         "hovertemplate": "color=wolf<br>0=%{x}<br>1=%{y}<br>2=%{z}<extra></extra>",
         "legendgroup": "wolf",
         "marker": {
          "color": "#FF6692",
          "symbol": "circle"
         },
         "mode": "markers",
         "name": "wolf",
         "scene": "scene",
         "showlegend": true,
         "type": "scatter3d",
         "x": [
          0.05178700014948845
         ],
         "y": [
          -0.0738881379365921
         ],
         "z": [
          -0.002234282437711954
         ]
        },
        {
         "hovertemplate": "color=death<br>0=%{x}<br>1=%{y}<br>2=%{z}<extra></extra>",
         "legendgroup": "death",
         "marker": {
          "color": "#B6E880",
          "symbol": "circle"
         },
         "mode": "markers",
         "name": "death",
         "scene": "scene",
         "showlegend": true,
         "type": "scatter3d",
         "x": [
          -0.5168577432632446
         ],
         "y": [
          0.13466569781303406
         ],
         "z": [
          0.23640376329421997
         ]
        },
        {
         "hovertemplate": "color=cut<br>0=%{x}<br>1=%{y}<br>2=%{z}<extra></extra>",
         "legendgroup": "cut",
         "marker": {
          "color": "#FF97FF",
          "symbol": "circle"
         },
         "mode": "markers",
         "name": "cut",
         "scene": "scene",
         "showlegend": true,
         "type": "scatter3d",
         "x": [
          0.3577100932598114
         ],
         "y": [
          -0.16533656418323517
         ],
         "z": [
          0.09067349135875702
         ]
        },
        {
         "hovertemplate": "color=smile<br>0=%{x}<br>1=%{y}<br>2=%{z}<extra></extra>",
         "legendgroup": "smile",
         "marker": {
          "color": "#FECB52",
          "symbol": "circle"
         },
         "mode": "markers",
         "name": "smile",
         "scene": "scene",
         "showlegend": true,
         "type": "scatter3d",
         "x": [
          0.036266520619392395
         ],
         "y": [
          -0.49056676030158997
         ],
         "z": [
          -0.49537596106529236
         ]
        },
        {
         "hovertemplate": "color=horses<br>0=%{x}<br>1=%{y}<br>2=%{z}<extra></extra>",
         "legendgroup": "horses",
         "marker": {
          "color": "#636efa",
          "symbol": "circle"
         },
         "mode": "markers",
         "name": "horses",
         "scene": "scene",
         "showlegend": true,
         "type": "scatter3d",
         "x": [
          0.406939834356308
         ],
         "y": [
          0.25964683294296265
         ],
         "z": [
          0.5367254018783569
         ]
        },
        {
         "hovertemplate": "color=silver<br>0=%{x}<br>1=%{y}<br>2=%{z}<extra></extra>",
         "legendgroup": "silver",
         "marker": {
          "color": "#EF553B",
          "symbol": "circle"
         },
         "mode": "markers",
         "name": "silver",
         "scene": "scene",
         "showlegend": true,
         "type": "scatter3d",
         "x": [
          0.5454622507095337
         ],
         "y": [
          0.40124645829200745
         ],
         "z": [
          -0.2374381721019745
         ]
        },
        {
         "hovertemplate": "color=inside<br>0=%{x}<br>1=%{y}<br>2=%{z}<extra></extra>",
         "legendgroup": "inside",
         "marker": {
          "color": "#00cc96",
          "symbol": "circle"
         },
         "mode": "markers",
         "name": "inside",
         "scene": "scene",
         "showlegend": true,
         "type": "scatter3d",
         "x": [
          0.6787602305412292
         ],
         "y": [
          0.013165990822017193
         ],
         "z": [
          0.34512361884117126
         ]
        },
        {
         "hovertemplate": "color=dragons<br>0=%{x}<br>1=%{y}<br>2=%{z}<extra></extra>",
         "legendgroup": "dragons",
         "marker": {
          "color": "#ab63fa",
          "symbol": "circle"
         },
         "mode": "markers",
         "name": "dragons",
         "scene": "scene",
         "showlegend": true,
         "type": "scatter3d",
         "x": [
          -0.21455413103103638
         ],
         "y": [
          0.3662448823451996
         ],
         "z": [
          0.47741442918777466
         ]
        },
        {
         "hovertemplate": "color=four<br>0=%{x}<br>1=%{y}<br>2=%{z}<extra></extra>",
         "legendgroup": "four",
         "marker": {
          "color": "#FFA15A",
          "symbol": "circle"
         },
         "mode": "markers",
         "name": "four",
         "scene": "scene",
         "showlegend": true,
         "type": "scatter3d",
         "x": [
          0.10462448745965958
         ],
         "y": [
          0.7469952702522278
         ],
         "z": [
          0.09102239459753036
         ]
        },
        {
         "hovertemplate": "color=brown<br>0=%{x}<br>1=%{y}<br>2=%{z}<extra></extra>",
         "legendgroup": "brown",
         "marker": {
          "color": "#19d3f3",
          "symbol": "circle"
         },
         "mode": "markers",
         "name": "brown",
         "scene": "scene",
         "showlegend": true,
         "type": "scatter3d",
         "x": [
          0.6165298223495483
         ],
         "y": [
          0.12046239525079727
         ],
         "z": [
          -0.2606181800365448
         ]
        },
        {
         "hovertemplate": "color=bastard<br>0=%{x}<br>1=%{y}<br>2=%{z}<extra></extra>",
         "legendgroup": "bastard",
         "marker": {
          "color": "#FF6692",
          "symbol": "circle"
         },
         "mode": "markers",
         "name": "bastard",
         "scene": "scene",
         "showlegend": true,
         "type": "scatter3d",
         "x": [
          -0.5398328900337219
         ],
         "y": [
          0.5047637224197388
         ],
         "z": [
          -0.36235788464546204
         ]
        },
        {
         "hovertemplate": "color=landing<br>0=%{x}<br>1=%{y}<br>2=%{z}<extra></extra>",
         "legendgroup": "landing",
         "marker": {
          "color": "#B6E880",
          "symbol": "circle"
         },
         "mode": "markers",
         "name": "landing",
         "scene": "scene",
         "showlegend": true,
         "type": "scatter3d",
         "x": [
          -0.3009282648563385
         ],
         "y": [
          0.5161815285682678
         ],
         "z": [
          0.016878999769687653
         ]
        },
        {
         "hovertemplate": "color=uncle<br>0=%{x}<br>1=%{y}<br>2=%{z}<extra></extra>",
         "legendgroup": "uncle",
         "marker": {
          "color": "#FF97FF",
          "symbol": "circle"
         },
         "mode": "markers",
         "name": "uncle",
         "scene": "scene",
         "showlegend": true,
         "type": "scatter3d",
         "x": [
          -0.6249632239341736
         ],
         "y": [
          0.4524354934692383
         ],
         "z": [
          -0.40738674998283386
         ]
        },
        {
         "hovertemplate": "color=hot<br>0=%{x}<br>1=%{y}<br>2=%{z}<extra></extra>",
         "legendgroup": "hot",
         "marker": {
          "color": "#FECB52",
          "symbol": "circle"
         },
         "mode": "markers",
         "name": "hot",
         "scene": "scene",
         "showlegend": true,
         "type": "scatter3d",
         "x": [
          0.42389410734176636
         ],
         "y": [
          -0.3959815800189972
         ],
         "z": [
          0.3291235864162445
         ]
        },
        {
         "hovertemplate": "color=part<br>0=%{x}<br>1=%{y}<br>2=%{z}<extra></extra>",
         "legendgroup": "part",
         "marker": {
          "color": "#636efa",
          "symbol": "circle"
         },
         "mode": "markers",
         "name": "part",
         "scene": "scene",
         "showlegend": true,
         "type": "scatter3d",
         "x": [
          -0.5465556979179382
         ],
         "y": [
          0.20834863185882568
         ],
         "z": [
          0.3647576570510864
         ]
        },
        {
         "hovertemplate": "color=thousand<br>0=%{x}<br>1=%{y}<br>2=%{z}<extra></extra>",
         "legendgroup": "thousand",
         "marker": {
          "color": "#EF553B",
          "symbol": "circle"
         },
         "mode": "markers",
         "name": "thousand",
         "scene": "scene",
         "showlegend": true,
         "type": "scatter3d",
         "x": [
          -0.0010291164508089423
         ],
         "y": [
          0.6742207407951355
         ],
         "z": [
          0.4335685074329376
         ]
        },
        {
         "hovertemplate": "color=open<br>0=%{x}<br>1=%{y}<br>2=%{z}<extra></extra>",
         "legendgroup": "open",
         "marker": {
          "color": "#00cc96",
          "symbol": "circle"
         },
         "mode": "markers",
         "name": "open",
         "scene": "scene",
         "showlegend": true,
         "type": "scatter3d",
         "x": [
          0.5389659404754639
         ],
         "y": [
          0.01944238319993019
         ],
         "z": [
          0.015570354647934437
         ]
        },
        {
         "hovertemplate": "color=captain<br>0=%{x}<br>1=%{y}<br>2=%{z}<extra></extra>",
         "legendgroup": "captain",
         "marker": {
          "color": "#ab63fa",
          "symbol": "circle"
         },
         "mode": "markers",
         "name": "captain",
         "scene": "scene",
         "showlegend": true,
         "type": "scatter3d",
         "x": [
          -0.19846254587173462
         ],
         "y": [
          0.6084544062614441
         ],
         "z": [
          -0.5510112047195435
         ]
        },
        {
         "hovertemplate": "color=blue<br>0=%{x}<br>1=%{y}<br>2=%{z}<extra></extra>",
         "legendgroup": "blue",
         "marker": {
          "color": "#FFA15A",
          "symbol": "circle"
         },
         "mode": "markers",
         "name": "blue",
         "scene": "scene",
         "showlegend": true,
         "type": "scatter3d",
         "x": [
          0.5584545135498047
         ],
         "y": [
          0.3087444603443146
         ],
         "z": [
          -0.19554074108600616
         ]
        },
        {
         "hovertemplate": "color=going<br>0=%{x}<br>1=%{y}<br>2=%{z}<extra></extra>",
         "legendgroup": "going",
         "marker": {
          "color": "#19d3f3",
          "symbol": "circle"
         },
         "mode": "markers",
         "name": "going",
         "scene": "scene",
         "showlegend": true,
         "type": "scatter3d",
         "x": [
          -0.2525367736816406
         ],
         "y": [
          -0.19831302762031555
         ],
         "z": [
          0.5546408891677856
         ]
        },
        {
         "hovertemplate": "color=air<br>0=%{x}<br>1=%{y}<br>2=%{z}<extra></extra>",
         "legendgroup": "air",
         "marker": {
          "color": "#FF6692",
          "symbol": "circle"
         },
         "mode": "markers",
         "name": "air",
         "scene": "scene",
         "showlegend": true,
         "type": "scatter3d",
         "x": [
          0.7439773678779602
         ],
         "y": [
          -0.13318756222724915
         ],
         "z": [
          0.25104692578315735
         ]
        },
        {
         "hovertemplate": "color=please<br>0=%{x}<br>1=%{y}<br>2=%{z}<extra></extra>",
         "legendgroup": "please",
         "marker": {
          "color": "#B6E880",
          "symbol": "circle"
         },
         "mode": "markers",
         "name": "please",
         "scene": "scene",
         "showlegend": true,
         "type": "scatter3d",
         "x": [
          -0.6723341941833496
         ],
         "y": [
          -0.17562295496463776
         ],
         "z": [
          -0.0003086706856265664
         ]
        },
        {
         "hovertemplate": "color=me<br>0=%{x}<br>1=%{y}<br>2=%{z}<extra></extra>",
         "legendgroup": "me",
         "marker": {
          "color": "#FF97FF",
          "symbol": "circle"
         },
         "mode": "markers",
         "name": "me",
         "scene": "scene",
         "showlegend": true,
         "type": "scatter3d",
         "x": [
          -0.6421458125114441
         ],
         "y": [
          -0.2100299596786499
         ],
         "z": [
          0.1418287307024002
         ]
        },
        {
         "hovertemplate": "color=river<br>0=%{x}<br>1=%{y}<br>2=%{z}<extra></extra>",
         "legendgroup": "river",
         "marker": {
          "color": "#FECB52",
          "symbol": "circle"
         },
         "mode": "markers",
         "name": "river",
         "scene": "scene",
         "showlegend": true,
         "type": "scatter3d",
         "x": [
          0.44466471672058105
         ],
         "y": [
          0.48108044266700745
         ],
         "z": [
          0.45238539576530457
         ]
        },
        {
         "hovertemplate": "color=laughed<br>0=%{x}<br>1=%{y}<br>2=%{z}<extra></extra>",
         "legendgroup": "laughed",
         "marker": {
          "color": "#636efa",
          "symbol": "circle"
         },
         "mode": "markers",
         "name": "laughed",
         "scene": "scene",
         "showlegend": true,
         "type": "scatter3d",
         "x": [
          -0.18107230961322784
         ],
         "y": [
          -0.33968400955200195
         ],
         "z": [
          -0.5159938335418701
         ]
        },
        {
         "hovertemplate": "color=rose<br>0=%{x}<br>1=%{y}<br>2=%{z}<extra></extra>",
         "legendgroup": "rose",
         "marker": {
          "color": "#EF553B",
          "symbol": "circle"
         },
         "mode": "markers",
         "name": "rose",
         "scene": "scene",
         "showlegend": true,
         "type": "scatter3d",
         "x": [
          0.690951943397522
         ],
         "y": [
          0.4004688858985901
         ],
         "z": [
          -0.13188399374485016
         ]
        },
        {
         "hovertemplate": "color=sun<br>0=%{x}<br>1=%{y}<br>2=%{z}<extra></extra>",
         "legendgroup": "sun",
         "marker": {
          "color": "#00cc96",
          "symbol": "circle"
         },
         "mode": "markers",
         "name": "sun",
         "scene": "scene",
         "showlegend": true,
         "type": "scatter3d",
         "x": [
          0.5402591228485107
         ],
         "y": [
          0.33965328335762024
         ],
         "z": [
          0.3289957344532013
         ]
        },
        {
         "hovertemplate": "color=fell<br>0=%{x}<br>1=%{y}<br>2=%{z}<extra></extra>",
         "legendgroup": "fell",
         "marker": {
          "color": "#ab63fa",
          "symbol": "circle"
         },
         "mode": "markers",
         "name": "fell",
         "scene": "scene",
         "showlegend": true,
         "type": "scatter3d",
         "x": [
          0.6526839137077332
         ],
         "y": [
          0.14181450009346008
         ],
         "z": [
          -0.07377561181783676
         ]
        },
        {
         "hovertemplate": "color=golden<br>0=%{x}<br>1=%{y}<br>2=%{z}<extra></extra>",
         "legendgroup": "golden",
         "marker": {
          "color": "#FFA15A",
          "symbol": "circle"
         },
         "mode": "markers",
         "name": "golden",
         "scene": "scene",
         "showlegend": true,
         "type": "scatter3d",
         "x": [
          0.4670415222644806
         ],
         "y": [
          0.5604313015937805
         ],
         "z": [
          -0.30409952998161316
         ]
        },
        {
         "hovertemplate": "color=war<br>0=%{x}<br>1=%{y}<br>2=%{z}<extra></extra>",
         "legendgroup": "war",
         "marker": {
          "color": "#19d3f3",
          "symbol": "circle"
         },
         "mode": "markers",
         "name": "war",
         "scene": "scene",
         "showlegend": true,
         "type": "scatter3d",
         "x": [
          -0.5317061543464661
         ],
         "y": [
          0.6195488572120667
         ],
         "z": [
          0.305482417345047
         ]
        },
        {
         "hovertemplate": "color=without<br>0=%{x}<br>1=%{y}<br>2=%{z}<extra></extra>",
         "legendgroup": "without",
         "marker": {
          "color": "#FF6692",
          "symbol": "circle"
         },
         "mode": "markers",
         "name": "without",
         "scene": "scene",
         "showlegend": true,
         "type": "scatter3d",
         "x": [
          -0.4501626789569855
         ],
         "y": [
          0.1307196021080017
         ],
         "z": [
          0.3964672386646271
         ]
        },
        {
         "hovertemplate": "color=sleep<br>0=%{x}<br>1=%{y}<br>2=%{z}<extra></extra>",
         "legendgroup": "sleep",
         "marker": {
          "color": "#B6E880",
          "symbol": "circle"
         },
         "mode": "markers",
         "name": "sleep",
         "scene": "scene",
         "showlegend": true,
         "type": "scatter3d",
         "x": [
          0.038620419800281525
         ],
         "y": [
          -0.4418167471885681
         ],
         "z": [
          0.3751746118068695
         ]
        },
        {
         "hovertemplate": "color=swords<br>0=%{x}<br>1=%{y}<br>2=%{z}<extra></extra>",
         "legendgroup": "swords",
         "marker": {
          "color": "#FF97FF",
          "symbol": "circle"
         },
         "mode": "markers",
         "name": "swords",
         "scene": "scene",
         "showlegend": true,
         "type": "scatter3d",
         "x": [
          -0.01109809335321188
         ],
         "y": [
          0.7245121598243713
         ],
         "z": [
          0.2621757388114929
         ]
        },
        {
         "hovertemplate": "color=renly<br>0=%{x}<br>1=%{y}<br>2=%{z}<extra></extra>",
         "legendgroup": "renly",
         "marker": {
          "color": "#FECB52",
          "symbol": "circle"
         },
         "mode": "markers",
         "name": "renly",
         "scene": "scene",
         "showlegend": true,
         "type": "scatter3d",
         "x": [
          -0.43622520565986633
         ],
         "y": [
          0.5112910866737366
         ],
         "z": [
          -0.3492320775985718
         ]
        },
        {
         "hovertemplate": "color=speak<br>0=%{x}<br>1=%{y}<br>2=%{z}<extra></extra>",
         "legendgroup": "speak",
         "marker": {
          "color": "#636efa",
          "symbol": "circle"
         },
         "mode": "markers",
         "name": "speak",
         "scene": "scene",
         "showlegend": true,
         "type": "scatter3d",
         "x": [
          -0.6675137877464294
         ],
         "y": [
          -0.15358781814575195
         ],
         "z": [
          0.1222960352897644
         ]
        },
        {
         "hovertemplate": "color=beyond<br>0=%{x}<br>1=%{y}<br>2=%{z}<extra></extra>",
         "legendgroup": "beyond",
         "marker": {
          "color": "#EF553B",
          "symbol": "circle"
         },
         "mode": "markers",
         "name": "beyond",
         "scene": "scene",
         "showlegend": true,
         "type": "scatter3d",
         "x": [
          0.08461696654558182
         ],
         "y": [
          0.5844742655754089
         ],
         "z": [
          0.5323078632354736
         ]
        },
        {
         "hovertemplate": "color=fool<br>0=%{x}<br>1=%{y}<br>2=%{z}<extra></extra>",
         "legendgroup": "fool",
         "marker": {
          "color": "#00cc96",
          "symbol": "circle"
         },
         "mode": "markers",
         "name": "fool",
         "scene": "scene",
         "showlegend": true,
         "type": "scatter3d",
         "x": [
          -0.5542097687721252
         ],
         "y": [
          -0.16481196880340576
         ],
         "z": [
          -0.23393215239048004
         ]
        },
        {
         "hovertemplate": "color=full<br>0=%{x}<br>1=%{y}<br>2=%{z}<extra></extra>",
         "legendgroup": "full",
         "marker": {
          "color": "#ab63fa",
          "symbol": "circle"
         },
         "mode": "markers",
         "name": "full",
         "scene": "scene",
         "showlegend": true,
         "type": "scatter3d",
         "x": [
          0.45306310057640076
         ],
         "y": [
          -0.09578468650579453
         ],
         "z": [
          0.3589276373386383
         ]
        },
        {
         "hovertemplate": "color=certain<br>0=%{x}<br>1=%{y}<br>2=%{z}<extra></extra>",
         "legendgroup": "certain",
         "marker": {
          "color": "#FFA15A",
          "symbol": "circle"
         },
         "mode": "markers",
         "name": "certain",
         "scene": "scene",
         "showlegend": true,
         "type": "scatter3d",
         "x": [
          -0.5601968169212341
         ],
         "y": [
          -0.17845961451530457
         ],
         "z": [
          0.24523130059242249
         ]
        },
        {
         "hovertemplate": "color=feel<br>0=%{x}<br>1=%{y}<br>2=%{z}<extra></extra>",
         "legendgroup": "feel",
         "marker": {
          "color": "#19d3f3",
          "symbol": "circle"
         },
         "mode": "markers",
         "name": "feel",
         "scene": "scene",
         "showlegend": true,
         "type": "scatter3d",
         "x": [
          0.24756857752799988
         ],
         "y": [
          -0.4296857714653015
         ],
         "z": [
          0.22215469181537628
         ]
        },
        {
         "hovertemplate": "color=fight<br>0=%{x}<br>1=%{y}<br>2=%{z}<extra></extra>",
         "legendgroup": "fight",
         "marker": {
          "color": "#FF6692",
          "symbol": "circle"
         },
         "mode": "markers",
         "name": "fight",
         "scene": "scene",
         "showlegend": true,
         "type": "scatter3d",
         "x": [
          -0.48042240738868713
         ],
         "y": [
          0.11298728734254837
         ],
         "z": [
          0.46963319182395935
         ]
        },
        {
         "hovertemplate": "color=got<br>0=%{x}<br>1=%{y}<br>2=%{z}<extra></extra>",
         "legendgroup": "got",
         "marker": {
          "color": "#B6E880",
          "symbol": "circle"
         },
         "mode": "markers",
         "name": "got",
         "scene": "scene",
         "showlegend": true,
         "type": "scatter3d",
         "x": [
          0.10524709522724152
         ],
         "y": [
          -0.2766205966472626
         ],
         "z": [
          0.1513863056898117
         ]
        },
        {
         "hovertemplate": "color=tongue<br>0=%{x}<br>1=%{y}<br>2=%{z}<extra></extra>",
         "legendgroup": "tongue",
         "marker": {
          "color": "#FF97FF",
          "symbol": "circle"
         },
         "mode": "markers",
         "name": "tongue",
         "scene": "scene",
         "showlegend": true,
         "type": "scatter3d",
         "x": [
          -0.061831578612327576
         ],
         "y": [
          -0.4138287305831909
         ],
         "z": [
          -0.08590332418680191
         ]
        },
        {
         "hovertemplate": "color=send<br>0=%{x}<br>1=%{y}<br>2=%{z}<extra></extra>",
         "legendgroup": "send",
         "marker": {
          "color": "#FECB52",
          "symbol": "circle"
         },
         "mode": "markers",
         "name": "send",
         "scene": "scene",
         "showlegend": true,
         "type": "scatter3d",
         "x": [
          -0.5343551635742188
         ],
         "y": [
          0.22017830610275269
         ],
         "z": [
          0.1843729019165039
         ]
        },
        {
         "hovertemplate": "color=rode<br>0=%{x}<br>1=%{y}<br>2=%{z}<extra></extra>",
         "legendgroup": "rode",
         "marker": {
          "color": "#636efa",
          "symbol": "circle"
         },
         "mode": "markers",
         "name": "rode",
         "scene": "scene",
         "showlegend": true,
         "type": "scatter3d",
         "x": [
          0.3920249938964844
         ],
         "y": [
          0.581574559211731
         ],
         "z": [
          -0.013981797732412815
         ]
        },
        {
         "hovertemplate": "color=thick<br>0=%{x}<br>1=%{y}<br>2=%{z}<extra></extra>",
         "legendgroup": "thick",
         "marker": {
          "color": "#EF553B",
          "symbol": "circle"
         },
         "mode": "markers",
         "name": "thick",
         "scene": "scene",
         "showlegend": true,
         "type": "scatter3d",
         "x": [
          0.7539232969284058
         ],
         "y": [
          0.10823465138673782
         ],
         "z": [
          -0.04041022062301636
         ]
        },
        {
         "hovertemplate": "color=set<br>0=%{x}<br>1=%{y}<br>2=%{z}<extra></extra>",
         "legendgroup": "set",
         "marker": {
          "color": "#00cc96",
          "symbol": "circle"
         },
         "mode": "markers",
         "name": "set",
         "scene": "scene",
         "showlegend": true,
         "type": "scatter3d",
         "x": [
          0.3706222474575043
         ],
         "y": [
          0.3656003475189209
         ],
         "z": [
          0.20875975489616394
         ]
        },
        {
         "hovertemplate": "color=world<br>0=%{x}<br>1=%{y}<br>2=%{z}<extra></extra>",
         "legendgroup": "world",
         "marker": {
          "color": "#ab63fa",
          "symbol": "circle"
         },
         "mode": "markers",
         "name": "world",
         "scene": "scene",
         "showlegend": true,
         "type": "scatter3d",
         "x": [
          0.07520710676908493
         ],
         "y": [
          0.14975567162036896
         ],
         "z": [
          0.7040855884552002
         ]
        },
        {
         "hovertemplate": "color=throat<br>0=%{x}<br>1=%{y}<br>2=%{z}<extra></extra>",
         "legendgroup": "throat",
         "marker": {
          "color": "#FFA15A",
          "symbol": "circle"
         },
         "mode": "markers",
         "name": "throat",
         "scene": "scene",
         "showlegend": true,
         "type": "scatter3d",
         "x": [
          0.5316733717918396
         ],
         "y": [
          -0.42184317111968994
         ],
         "z": [
          -0.25779497623443604
         ]
        },
        {
         "hovertemplate": "color=deep<br>0=%{x}<br>1=%{y}<br>2=%{z}<extra></extra>",
         "legendgroup": "deep",
         "marker": {
          "color": "#19d3f3",
          "symbol": "circle"
         },
         "mode": "markers",
         "name": "deep",
         "scene": "scene",
         "showlegend": true,
         "type": "scatter3d",
         "x": [
          0.7821430563926697
         ],
         "y": [
          0.0707806870341301
         ],
         "z": [
          0.09485740214586258
         ]
        },
        {
         "hovertemplate": "color=legs<br>0=%{x}<br>1=%{y}<br>2=%{z}<extra></extra>",
         "legendgroup": "legs",
         "marker": {
          "color": "#FF6692",
          "symbol": "circle"
         },
         "mode": "markers",
         "name": "legs",
         "scene": "scene",
         "showlegend": true,
         "type": "scatter3d",
         "x": [
          0.6949597597122192
         ],
         "y": [
          -0.19743120670318604
         ],
         "z": [
          -0.027735862880945206
         ]
        },
        {
         "hovertemplate": "color=rock<br>0=%{x}<br>1=%{y}<br>2=%{z}<extra></extra>",
         "legendgroup": "rock",
         "marker": {
          "color": "#B6E880",
          "symbol": "circle"
         },
         "mode": "markers",
         "name": "rock",
         "scene": "scene",
         "showlegend": true,
         "type": "scatter3d",
         "x": [
          0.1582746058702469
         ],
         "y": [
          0.5774725675582886
         ],
         "z": [
          -0.0770731270313263
         ]
        },
        {
         "hovertemplate": "color=call<br>0=%{x}<br>1=%{y}<br>2=%{z}<extra></extra>",
         "legendgroup": "call",
         "marker": {
          "color": "#FF97FF",
          "symbol": "circle"
         },
         "mode": "markers",
         "name": "call",
         "scene": "scene",
         "showlegend": true,
         "type": "scatter3d",
         "x": [
          -0.616052508354187
         ],
         "y": [
          0.05482577160000801
         ],
         "z": [
          0.06549212336540222
         ]
        },
        {
         "hovertemplate": "color=honor<br>0=%{x}<br>1=%{y}<br>2=%{z}<extra></extra>",
         "legendgroup": "honor",
         "marker": {
          "color": "#FECB52",
          "symbol": "circle"
         },
         "mode": "markers",
         "name": "honor",
         "scene": "scene",
         "showlegend": true,
         "type": "scatter3d",
         "x": [
          -0.7079945802688599
         ],
         "y": [
          0.4751293957233429
         ],
         "z": [
          -0.10371607542037964
         ]
        },
        {
         "hovertemplate": "color=trees<br>0=%{x}<br>1=%{y}<br>2=%{z}<extra></extra>",
         "legendgroup": "trees",
         "marker": {
          "color": "#636efa",
          "symbol": "circle"
         },
         "mode": "markers",
         "name": "trees",
         "scene": "scene",
         "showlegend": true,
         "type": "scatter3d",
         "x": [
          0.6747192144393921
         ],
         "y": [
          0.21052199602127075
         ],
         "z": [
          0.3751243054866791
         ]
        },
        {
         "hovertemplate": "color=tall<br>0=%{x}<br>1=%{y}<br>2=%{z}<extra></extra>",
         "legendgroup": "tall",
         "marker": {
          "color": "#EF553B",
          "symbol": "circle"
         },
         "mode": "markers",
         "name": "tall",
         "scene": "scene",
         "showlegend": true,
         "type": "scatter3d",
         "x": [
          0.5554108619689941
         ],
         "y": [
          0.5417993068695068
         ],
         "z": [
          -0.16307425498962402
         ]
        },
        {
         "hovertemplate": "color=mormont<br>0=%{x}<br>1=%{y}<br>2=%{z}<extra></extra>",
         "legendgroup": "mormont",
         "marker": {
          "color": "#00cc96",
          "symbol": "circle"
         },
         "mode": "markers",
         "name": "mormont",
         "scene": "scene",
         "showlegend": true,
         "type": "scatter3d",
         "x": [
          0.008327572606503963
         ],
         "y": [
          0.19589856266975403
         ],
         "z": [
          -0.5396551489830017
         ]
        },
        {
         "hovertemplate": "color=table<br>0=%{x}<br>1=%{y}<br>2=%{z}<extra></extra>",
         "legendgroup": "table",
         "marker": {
          "color": "#ab63fa",
          "symbol": "circle"
         },
         "mode": "markers",
         "name": "table",
         "scene": "scene",
         "showlegend": true,
         "type": "scatter3d",
         "x": [
          0.41361555457115173
         ],
         "y": [
          0.3269088566303253
         ],
         "z": [
          -0.3740527629852295
         ]
        },
        {
         "hovertemplate": "color=broken<br>0=%{x}<br>1=%{y}<br>2=%{z}<extra></extra>",
         "legendgroup": "broken",
         "marker": {
          "color": "#FFA15A",
          "symbol": "circle"
         },
         "mode": "markers",
         "name": "broken",
         "scene": "scene",
         "showlegend": true,
         "type": "scatter3d",
         "x": [
          0.7388427257537842
         ],
         "y": [
          0.21184870600700378
         ],
         "z": [
          0.1704423874616623
         ]
        },
        {
         "hovertemplate": "color=pulled<br>0=%{x}<br>1=%{y}<br>2=%{z}<extra></extra>",
         "legendgroup": "pulled",
         "marker": {
          "color": "#19d3f3",
          "symbol": "circle"
         },
         "mode": "markers",
         "name": "pulled",
         "scene": "scene",
         "showlegend": true,
         "type": "scatter3d",
         "x": [
          0.6649271845817566
         ],
         "y": [
          -0.02099480852484703
         ],
         "z": [
          -0.3384353518486023
         ]
        },
        {
         "hovertemplate": "color=women<br>0=%{x}<br>1=%{y}<br>2=%{z}<extra></extra>",
         "legendgroup": "women",
         "marker": {
          "color": "#FF6692",
          "symbol": "circle"
         },
         "mode": "markers",
         "name": "women",
         "scene": "scene",
         "showlegend": true,
         "type": "scatter3d",
         "x": [
          -0.12170835584402084
         ],
         "y": [
          0.28433141112327576
         ],
         "z": [
          0.4015847146511078
         ]
        },
        {
         "hovertemplate": "color=steps<br>0=%{x}<br>1=%{y}<br>2=%{z}<extra></extra>",
         "legendgroup": "steps",
         "marker": {
          "color": "#B6E880",
          "symbol": "circle"
         },
         "mode": "markers",
         "name": "steps",
         "scene": "scene",
         "showlegend": true,
         "type": "scatter3d",
         "x": [
          0.6091139316558838
         ],
         "y": [
          0.30960613489151
         ],
         "z": [
          0.15314066410064697
         ]
        },
        {
         "hovertemplate": "color=things<br>0=%{x}<br>1=%{y}<br>2=%{z}<extra></extra>",
         "legendgroup": "things",
         "marker": {
          "color": "#FF97FF",
          "symbol": "circle"
         },
         "mode": "markers",
         "name": "things",
         "scene": "scene",
         "showlegend": true,
         "type": "scatter3d",
         "x": [
          -0.3067430853843689
         ],
         "y": [
          -0.22959370911121368
         ],
         "z": [
          0.47264787554740906
         ]
        },
        {
         "hovertemplate": "color=next<br>0=%{x}<br>1=%{y}<br>2=%{z}<extra></extra>",
         "legendgroup": "next",
         "marker": {
          "color": "#FECB52",
          "symbol": "circle"
         },
         "mode": "markers",
         "name": "next",
         "scene": "scene",
         "showlegend": true,
         "type": "scatter3d",
         "x": [
          -0.015825562179088593
         ],
         "y": [
          0.05056549608707428
         ],
         "z": [
          0.2860410511493683
         ]
        },
        {
         "hovertemplate": "color=hodor<br>0=%{x}<br>1=%{y}<br>2=%{z}<extra></extra>",
         "legendgroup": "hodor",
         "marker": {
          "color": "#636efa",
          "symbol": "circle"
         },
         "mode": "markers",
         "name": "hodor",
         "scene": "scene",
         "showlegend": true,
         "type": "scatter3d",
         "x": [
          0.3399958312511444
         ],
         "y": [
          -0.3643765151500702
         ],
         "z": [
          0.04433843493461609
         ]
        },
        {
         "hovertemplate": "color=heavy<br>0=%{x}<br>1=%{y}<br>2=%{z}<extra></extra>",
         "legendgroup": "heavy",
         "marker": {
          "color": "#EF553B",
          "symbol": "circle"
         },
         "mode": "markers",
         "name": "heavy",
         "scene": "scene",
         "showlegend": true,
         "type": "scatter3d",
         "x": [
          0.7626864314079285
         ],
         "y": [
          0.14969342947006226
         ],
         "z": [
          -0.1260506510734558
         ]
        },
        {
         "hovertemplate": "color=oh<br>0=%{x}<br>1=%{y}<br>2=%{z}<extra></extra>",
         "legendgroup": "oh",
         "marker": {
          "color": "#00cc96",
          "symbol": "circle"
         },
         "mode": "markers",
         "name": "oh",
         "scene": "scene",
         "showlegend": true,
         "type": "scatter3d",
         "x": [
          -0.6519104838371277
         ],
         "y": [
          -0.20675475895404816
         ],
         "z": [
          -0.04274328425526619
         ]
        },
        {
         "hovertemplate": "color=burned<br>0=%{x}<br>1=%{y}<br>2=%{z}<extra></extra>",
         "legendgroup": "burned",
         "marker": {
          "color": "#ab63fa",
          "symbol": "circle"
         },
         "mode": "markers",
         "name": "burned",
         "scene": "scene",
         "showlegend": true,
         "type": "scatter3d",
         "x": [
          0.46773138642311096
         ],
         "y": [
          0.3649590015411377
         ],
         "z": [
          0.4168452024459839
         ]
        },
        {
         "hovertemplate": "color=toward<br>0=%{x}<br>1=%{y}<br>2=%{z}<extra></extra>",
         "legendgroup": "toward",
         "marker": {
          "color": "#FFA15A",
          "symbol": "circle"
         },
         "mode": "markers",
         "name": "toward",
         "scene": "scene",
         "showlegend": true,
         "type": "scatter3d",
         "x": [
          0.6498209238052368
         ],
         "y": [
          0.26086002588272095
         ],
         "z": [
          -0.07895360141992569
         ]
        },
        {
         "hovertemplate": "color=together<br>0=%{x}<br>1=%{y}<br>2=%{z}<extra></extra>",
         "legendgroup": "together",
         "marker": {
          "color": "#19d3f3",
          "symbol": "circle"
         },
         "mode": "markers",
         "name": "together",
         "scene": "scene",
         "showlegend": true,
         "type": "scatter3d",
         "x": [
          0.494705468416214
         ],
         "y": [
          0.28276509046554565
         ],
         "z": [
          0.26911115646362305
         ]
        },
        {
         "hovertemplate": "color=given<br>0=%{x}<br>1=%{y}<br>2=%{z}<extra></extra>",
         "legendgroup": "given",
         "marker": {
          "color": "#FF6692",
          "symbol": "circle"
         },
         "mode": "markers",
         "name": "given",
         "scene": "scene",
         "showlegend": true,
         "type": "scatter3d",
         "x": [
          -0.49930378794670105
         ],
         "y": [
          0.3327578902244568
         ],
         "z": [
          0.013930700719356537
         ]
        },
        {
         "hovertemplate": "color=skin<br>0=%{x}<br>1=%{y}<br>2=%{z}<extra></extra>",
         "legendgroup": "skin",
         "marker": {
          "color": "#B6E880",
          "symbol": "circle"
         },
         "mode": "markers",
         "name": "skin",
         "scene": "scene",
         "showlegend": true,
         "type": "scatter3d",
         "x": [
          0.6594814658164978
         ],
         "y": [
          -0.25914204120635986
         ],
         "z": [
          -0.09872934222221375
         ]
        },
        {
         "hovertemplate": "color=storm<br>0=%{x}<br>1=%{y}<br>2=%{z}<extra></extra>",
         "legendgroup": "storm",
         "marker": {
          "color": "#FF97FF",
          "symbol": "circle"
         },
         "mode": "markers",
         "name": "storm",
         "scene": "scene",
         "showlegend": true,
         "type": "scatter3d",
         "x": [
          -0.16096808016300201
         ],
         "y": [
          0.6760252118110657
         ],
         "z": [
          0.20947127044200897
         ]
        },
        {
         "hovertemplate": "color=dwarf<br>0=%{x}<br>1=%{y}<br>2=%{z}<extra></extra>",
         "legendgroup": "dwarf",
         "marker": {
          "color": "#FECB52",
          "symbol": "circle"
         },
         "mode": "markers",
         "name": "dwarf",
         "scene": "scene",
         "showlegend": true,
         "type": "scatter3d",
         "x": [
          -0.30042269825935364
         ],
         "y": [
          -0.40659797191619873
         ],
         "z": [
          -0.36700335144996643
         ]
        },
        {
         "hovertemplate": "color=since<br>0=%{x}<br>1=%{y}<br>2=%{z}<extra></extra>",
         "legendgroup": "since",
         "marker": {
          "color": "#636efa",
          "symbol": "circle"
         },
         "mode": "markers",
         "name": "since",
         "scene": "scene",
         "showlegend": true,
         "type": "scatter3d",
         "x": [
          -0.27653318643569946
         ],
         "y": [
          0.453273743391037
         ],
         "z": [
          0.28621047735214233
         ]
        },
        {
         "hovertemplate": "color=alone<br>0=%{x}<br>1=%{y}<br>2=%{z}<extra></extra>",
         "legendgroup": "alone",
         "marker": {
          "color": "#EF553B",
          "symbol": "circle"
         },
         "mode": "markers",
         "name": "alone",
         "scene": "scene",
         "showlegend": true,
         "type": "scatter3d",
         "x": [
          -0.2575925588607788
         ],
         "y": [
          0.040257737040519714
         ],
         "z": [
          0.41052618622779846
         ]
        },
        {
         "hovertemplate": "color=smiled<br>0=%{x}<br>1=%{y}<br>2=%{z}<extra></extra>",
         "legendgroup": "smiled",
         "marker": {
          "color": "#00cc96",
          "symbol": "circle"
         },
         "mode": "markers",
         "name": "smiled",
         "scene": "scene",
         "showlegend": true,
         "type": "scatter3d",
         "x": [
          0.005289055872708559
         ],
         "y": [
          -0.3524411916732788
         ],
         "z": [
          -0.5954297184944153
         ]
        },
        {
         "hovertemplate": "color=moved<br>0=%{x}<br>1=%{y}<br>2=%{z}<extra></extra>",
         "legendgroup": "moved",
         "marker": {
          "color": "#ab63fa",
          "symbol": "circle"
         },
         "mode": "markers",
         "name": "moved",
         "scene": "scene",
         "showlegend": true,
         "type": "scatter3d",
         "x": [
          0.5833522081375122
         ],
         "y": [
          -0.008256676606833935
         ],
         "z": [
          -0.024586131796240807
         ]
        },
        {
         "hovertemplate": "color=ride<br>0=%{x}<br>1=%{y}<br>2=%{z}<extra></extra>",
         "legendgroup": "ride",
         "marker": {
          "color": "#FFA15A",
          "symbol": "circle"
         },
         "mode": "markers",
         "name": "ride",
         "scene": "scene",
         "showlegend": true,
         "type": "scatter3d",
         "x": [
          -0.26955023407936096
         ],
         "y": [
          0.2577012777328491
         ],
         "z": [
          0.5498595833778381
         ]
        },
        {
         "hovertemplate": "color=second<br>0=%{x}<br>1=%{y}<br>2=%{z}<extra></extra>",
         "legendgroup": "second",
         "marker": {
          "color": "#19d3f3",
          "symbol": "circle"
         },
         "mode": "markers",
         "name": "second",
         "scene": "scene",
         "showlegend": true,
         "type": "scatter3d",
         "x": [
          0.02031036838889122
         ],
         "y": [
          0.6690884232521057
         ],
         "z": [
          -0.2660401463508606
         ]
        },
        {
         "hovertemplate": "color=raised<br>0=%{x}<br>1=%{y}<br>2=%{z}<extra></extra>",
         "legendgroup": "raised",
         "marker": {
          "color": "#FF6692",
          "symbol": "circle"
         },
         "mode": "markers",
         "name": "raised",
         "scene": "scene",
         "showlegend": true,
         "type": "scatter3d",
         "x": [
          0.34847545623779297
         ],
         "y": [
          0.35214656591415405
         ],
         "z": [
          -0.323940247297287
         ]
        },
        {
         "hovertemplate": "color=ask<br>0=%{x}<br>1=%{y}<br>2=%{z}<extra></extra>",
         "legendgroup": "ask",
         "marker": {
          "color": "#B6E880",
          "symbol": "circle"
         },
         "mode": "markers",
         "name": "ask",
         "scene": "scene",
         "showlegend": true,
         "type": "scatter3d",
         "x": [
          -0.7551673650741577
         ],
         "y": [
          -0.06329014152288437
         ],
         "z": [
          0.12029580026865005
         ]
        },
        {
         "hovertemplate": "color=frey<br>0=%{x}<br>1=%{y}<br>2=%{z}<extra></extra>",
         "legendgroup": "frey",
         "marker": {
          "color": "#FF97FF",
          "symbol": "circle"
         },
         "mode": "markers",
         "name": "frey",
         "scene": "scene",
         "showlegend": true,
         "type": "scatter3d",
         "x": [
          -0.274800568819046
         ],
         "y": [
          0.5970267057418823
         ],
         "z": [
          -0.595162034034729
         ]
        },
        {
         "hovertemplate": "color=hope<br>0=%{x}<br>1=%{y}<br>2=%{z}<extra></extra>",
         "legendgroup": "hope",
         "marker": {
          "color": "#FECB52",
          "symbol": "circle"
         },
         "mode": "markers",
         "name": "hope",
         "scene": "scene",
         "showlegend": true,
         "type": "scatter3d",
         "x": [
          -0.6598420143127441
         ],
         "y": [
          -0.029977675527334213
         ],
         "z": [
          0.25807487964630127
         ]
        },
        {
         "hovertemplate": "color=eye<br>0=%{x}<br>1=%{y}<br>2=%{z}<extra></extra>",
         "legendgroup": "eye",
         "marker": {
          "color": "#636efa",
          "symbol": "circle"
         },
         "mode": "markers",
         "name": "eye",
         "scene": "scene",
         "showlegend": true,
         "type": "scatter3d",
         "x": [
          0.3781326115131378
         ],
         "y": [
          0.18250174820423126
         ],
         "z": [
          0.01350949052721262
         ]
        },
        {
         "hovertemplate": "color=soft<br>0=%{x}<br>1=%{y}<br>2=%{z}<extra></extra>",
         "legendgroup": "soft",
         "marker": {
          "color": "#EF553B",
          "symbol": "circle"
         },
         "mode": "markers",
         "name": "soft",
         "scene": "scene",
         "showlegend": true,
         "type": "scatter3d",
         "x": [
          0.6845365166664124
         ],
         "y": [
          -0.22112667560577393
         ],
         "z": [
          -0.19133619964122772
         ]
        },
        {
         "hovertemplate": "color=reached<br>0=%{x}<br>1=%{y}<br>2=%{z}<extra></extra>",
         "legendgroup": "reached",
         "marker": {
          "color": "#00cc96",
          "symbol": "circle"
         },
         "mode": "markers",
         "name": "reached",
         "scene": "scene",
         "showlegend": true,
         "type": "scatter3d",
         "x": [
          0.510332465171814
         ],
         "y": [
          0.13944731652736664
         ],
         "z": [
          -0.013472565449774265
         ]
        },
        {
         "hovertemplate": "color=remember<br>0=%{x}<br>1=%{y}<br>2=%{z}<extra></extra>",
         "legendgroup": "remember",
         "marker": {
          "color": "#ab63fa",
          "symbol": "circle"
         },
         "mode": "markers",
         "name": "remember",
         "scene": "scene",
         "showlegend": true,
         "type": "scatter3d",
         "x": [
          -0.39109885692596436
         ],
         "y": [
          -0.32801806926727295
         ],
         "z": [
          0.2653525471687317
         ]
        },
        {
         "hovertemplate": "color=remembered<br>0=%{x}<br>1=%{y}<br>2=%{z}<extra></extra>",
         "legendgroup": "remembered",
         "marker": {
          "color": "#FFA15A",
          "symbol": "circle"
         },
         "mode": "markers",
         "name": "remembered",
         "scene": "scene",
         "showlegend": true,
         "type": "scatter3d",
         "x": [
          0.018923994153738022
         ],
         "y": [
          -0.15163366496562958
         ],
         "z": [
          0.08082752674818039
         ]
        },
        {
         "hovertemplate": "color=throne<br>0=%{x}<br>1=%{y}<br>2=%{z}<extra></extra>",
         "legendgroup": "throne",
         "marker": {
          "color": "#19d3f3",
          "symbol": "circle"
         },
         "mode": "markers",
         "name": "throne",
         "scene": "scene",
         "showlegend": true,
         "type": "scatter3d",
         "x": [
          -0.19026127457618713
         ],
         "y": [
          0.5106720328330994
         ],
         "z": [
          -0.09050054103136063
         ]
        },
        {
         "hovertemplate": "color=someone<br>0=%{x}<br>1=%{y}<br>2=%{z}<extra></extra>",
         "legendgroup": "someone",
         "marker": {
          "color": "#FF6692",
          "symbol": "circle"
         },
         "mode": "markers",
         "name": "someone",
         "scene": "scene",
         "showlegend": true,
         "type": "scatter3d",
         "x": [
          -0.2667457163333893
         ],
         "y": [
          -0.48011231422424316
         ],
         "z": [
          0.16043666005134583
         ]
        },
        {
         "hovertemplate": "color=hold<br>0=%{x}<br>1=%{y}<br>2=%{z}<extra></extra>",
         "legendgroup": "hold",
         "marker": {
          "color": "#B6E880",
          "symbol": "circle"
         },
         "mode": "markers",
         "name": "hold",
         "scene": "scene",
         "showlegend": true,
         "type": "scatter3d",
         "x": [
          -0.2768263518810272
         ],
         "y": [
          0.1639135330915451
         ],
         "z": [
          0.2242918163537979
         ]
        },
        {
         "hovertemplate": "color=coming<br>0=%{x}<br>1=%{y}<br>2=%{z}<extra></extra>",
         "legendgroup": "coming",
         "marker": {
          "color": "#FF97FF",
          "symbol": "circle"
         },
         "mode": "markers",
         "name": "coming",
         "scene": "scene",
         "showlegend": true,
         "type": "scatter3d",
         "x": [
          0.09172677248716354
         ],
         "y": [
          0.07201465219259262
         ],
         "z": [
          0.619143009185791
         ]
        },
        {
         "hovertemplate": "color=ten<br>0=%{x}<br>1=%{y}<br>2=%{z}<extra></extra>",
         "legendgroup": "ten",
         "marker": {
          "color": "#FECB52",
          "symbol": "circle"
         },
         "mode": "markers",
         "name": "ten",
         "scene": "scene",
         "showlegend": true,
         "type": "scatter3d",
         "x": [
          -0.051960624754428864
         ],
         "y": [
          0.6580851674079895
         ],
         "z": [
          0.14110662043094635
         ]
        },
        {
         "hovertemplate": "color=meant<br>0=%{x}<br>1=%{y}<br>2=%{z}<extra></extra>",
         "legendgroup": "meant",
         "marker": {
          "color": "#636efa",
          "symbol": "circle"
         },
         "mode": "markers",
         "name": "meant",
         "scene": "scene",
         "showlegend": true,
         "type": "scatter3d",
         "x": [
          -0.6541458964347839
         ],
         "y": [
          -0.21442553400993347
         ],
         "z": [
          0.24054594337940216
         ]
        },
        {
         "hovertemplate": "color=morning<br>0=%{x}<br>1=%{y}<br>2=%{z}<extra></extra>",
         "legendgroup": "morning",
         "marker": {
          "color": "#EF553B",
          "symbol": "circle"
         },
         "mode": "markers",
         "name": "morning",
         "scene": "scene",
         "showlegend": true,
         "type": "scatter3d",
         "x": [
          0.3446708917617798
         ],
         "y": [
          0.1302717626094818
         ],
         "z": [
          0.3769267201423645
         ]
        },
        {
         "hovertemplate": "color=teeth<br>0=%{x}<br>1=%{y}<br>2=%{z}<extra></extra>",
         "legendgroup": "teeth",
         "marker": {
          "color": "#00cc96",
          "symbol": "circle"
         },
         "mode": "markers",
         "name": "teeth",
         "scene": "scene",
         "showlegend": true,
         "type": "scatter3d",
         "x": [
          0.6711961030960083
         ],
         "y": [
          -0.31781190633773804
         ],
         "z": [
          -0.12002042680978775
         ]
        },
        {
         "hovertemplate": "color=command<br>0=%{x}<br>1=%{y}<br>2=%{z}<extra></extra>",
         "legendgroup": "command",
         "marker": {
          "color": "#ab63fa",
          "symbol": "circle"
         },
         "mode": "markers",
         "name": "command",
         "scene": "scene",
         "showlegend": true,
         "type": "scatter3d",
         "x": [
          -0.5626700520515442
         ],
         "y": [
          0.5810938477516174
         ],
         "z": [
          -0.14550906419754028
         ]
        },
        {
         "hovertemplate": "color=else<br>0=%{x}<br>1=%{y}<br>2=%{z}<extra></extra>",
         "legendgroup": "else",
         "marker": {
          "color": "#FFA15A",
          "symbol": "circle"
         },
         "mode": "markers",
         "name": "else",
         "scene": "scene",
         "showlegend": true,
         "type": "scatter3d",
         "x": [
          -0.4637104272842407
         ],
         "y": [
          -0.3559345602989197
         ],
         "z": [
          0.3646206855773926
         ]
        },
        {
         "hovertemplate": "color=fat<br>0=%{x}<br>1=%{y}<br>2=%{z}<extra></extra>",
         "legendgroup": "fat",
         "marker": {
          "color": "#19d3f3",
          "symbol": "circle"
         },
         "mode": "markers",
         "name": "fat",
         "scene": "scene",
         "showlegend": true,
         "type": "scatter3d",
         "x": [
          0.14395079016685486
         ],
         "y": [
          0.05024423822760582
         ],
         "z": [
          -0.44852545857429504
         ]
        },
        {
         "hovertemplate": "color=walder<br>0=%{x}<br>1=%{y}<br>2=%{z}<extra></extra>",
         "legendgroup": "walder",
         "marker": {
          "color": "#FF6692",
          "symbol": "circle"
         },
         "mode": "markers",
         "name": "walder",
         "scene": "scene",
         "showlegend": true,
         "type": "scatter3d",
         "x": [
          -0.2658994197845459
         ],
         "y": [
          0.5347979068756104
         ],
         "z": [
          -0.49875080585479736
         ]
        },
        {
         "hovertemplate": "color=commander<br>0=%{x}<br>1=%{y}<br>2=%{z}<extra></extra>",
         "legendgroup": "commander",
         "marker": {
          "color": "#B6E880",
          "symbol": "circle"
         },
         "mode": "markers",
         "name": "commander",
         "scene": "scene",
         "showlegend": true,
         "type": "scatter3d",
         "x": [
          -0.26748088002204895
         ],
         "y": [
          0.6258454918861389
         ],
         "z": [
          -0.23497119545936584
         ]
        },
        {
         "hovertemplate": "color=jorah<br>0=%{x}<br>1=%{y}<br>2=%{z}<extra></extra>",
         "legendgroup": "jorah",
         "marker": {
          "color": "#FF97FF",
          "symbol": "circle"
         },
         "mode": "markers",
         "name": "jorah",
         "scene": "scene",
         "showlegend": true,
         "type": "scatter3d",
         "x": [
          -0.06497309356927872
         ],
         "y": [
          -0.03677051141858101
         ],
         "z": [
          -0.302614688873291
         ]
        },
        {
         "hovertemplate": "color=truth<br>0=%{x}<br>1=%{y}<br>2=%{z}<extra></extra>",
         "legendgroup": "truth",
         "marker": {
          "color": "#FECB52",
          "symbol": "circle"
         },
         "mode": "markers",
         "name": "truth",
         "scene": "scene",
         "showlegend": true,
         "type": "scatter3d",
         "x": [
          -0.6732317209243774
         ],
         "y": [
          -0.18978001177310944
         ],
         "z": [
          0.14936770498752594
         ]
        },
        {
         "hovertemplate": "color=outside<br>0=%{x}<br>1=%{y}<br>2=%{z}<extra></extra>",
         "legendgroup": "outside",
         "marker": {
          "color": "#636efa",
          "symbol": "circle"
         },
         "mode": "markers",
         "name": "outside",
         "scene": "scene",
         "showlegend": true,
         "type": "scatter3d",
         "x": [
          0.43842941522598267
         ],
         "y": [
          0.4033428728580475
         ],
         "z": [
          0.33888518810272217
         ]
        },
        {
         "hovertemplate": "color=doubt<br>0=%{x}<br>1=%{y}<br>2=%{z}<extra></extra>",
         "legendgroup": "doubt",
         "marker": {
          "color": "#EF553B",
          "symbol": "circle"
         },
         "mode": "markers",
         "name": "doubt",
         "scene": "scene",
         "showlegend": true,
         "type": "scatter3d",
         "x": [
          -0.710789144039154
         ],
         "y": [
          0.09248317033052444
         ],
         "z": [
          0.07066399604082108
         ]
        },
        {
         "hovertemplate": "color=ground<br>0=%{x}<br>1=%{y}<br>2=%{z}<extra></extra>",
         "legendgroup": "ground",
         "marker": {
          "color": "#00cc96",
          "symbol": "circle"
         },
         "mode": "markers",
         "name": "ground",
         "scene": "scene",
         "showlegend": true,
         "type": "scatter3d",
         "x": [
          0.7911685109138489
         ],
         "y": [
          0.031180964782834053
         ],
         "z": [
          0.15155404806137085
         ]
        },
        {
         "hovertemplate": "color=cup<br>0=%{x}<br>1=%{y}<br>2=%{z}<extra></extra>",
         "legendgroup": "cup",
         "marker": {
          "color": "#ab63fa",
          "symbol": "circle"
         },
         "mode": "markers",
         "name": "cup",
         "scene": "scene",
         "showlegend": true,
         "type": "scatter3d",
         "x": [
          0.1468167006969452
         ],
         "y": [
          -0.21254082024097443
         ],
         "z": [
          -0.3450075685977936
         ]
        },
        {
         "hovertemplate": "color=known<br>0=%{x}<br>1=%{y}<br>2=%{z}<extra></extra>",
         "legendgroup": "known",
         "marker": {
          "color": "#FFA15A",
          "symbol": "circle"
         },
         "mode": "markers",
         "name": "known",
         "scene": "scene",
         "showlegend": true,
         "type": "scatter3d",
         "x": [
          -0.49767792224884033
         ],
         "y": [
          0.10045827180147171
         ],
         "z": [
          0.13302606344223022
         ]
        },
        {
         "hovertemplate": "color=wore<br>0=%{x}<br>1=%{y}<br>2=%{z}<extra></extra>",
         "legendgroup": "wore",
         "marker": {
          "color": "#19d3f3",
          "symbol": "circle"
         },
         "mode": "markers",
         "name": "wore",
         "scene": "scene",
         "showlegend": true,
         "type": "scatter3d",
         "x": [
          0.5043113827705383
         ],
         "y": [
          0.40436074137687683
         ],
         "z": [
          -0.3422659933567047
         ]
        },
        {
         "hovertemplate": "color=ran<br>0=%{x}<br>1=%{y}<br>2=%{z}<extra></extra>",
         "legendgroup": "ran",
         "marker": {
          "color": "#FF6692",
          "symbol": "circle"
         },
         "mode": "markers",
         "name": "ran",
         "scene": "scene",
         "showlegend": true,
         "type": "scatter3d",
         "x": [
          0.6914644837379456
         ],
         "y": [
          -0.09061296284198761
         ],
         "z": [
          0.01888224482536316
         ]
        },
        {
         "hovertemplate": "color=gate<br>0=%{x}<br>1=%{y}<br>2=%{z}<extra></extra>",
         "legendgroup": "gate",
         "marker": {
          "color": "#B6E880",
          "symbol": "circle"
         },
         "mode": "markers",
         "name": "gate",
         "scene": "scene",
         "showlegend": true,
         "type": "scatter3d",
         "x": [
          0.398671954870224
         ],
         "y": [
          0.5320054292678833
         ],
         "z": [
          0.17398324608802795
         ]
        },
        {
         "hovertemplate": "color=room<br>0=%{x}<br>1=%{y}<br>2=%{z}<extra></extra>",
         "legendgroup": "room",
         "marker": {
          "color": "#FF97FF",
          "symbol": "circle"
         },
         "mode": "markers",
         "name": "room",
         "scene": "scene",
         "showlegend": true,
         "type": "scatter3d",
         "x": [
          0.5709902048110962
         ],
         "y": [
          0.2438306361436844
         ],
         "z": [
          0.15181390941143036
         ]
        },
        {
         "hovertemplate": "color=held<br>0=%{x}<br>1=%{y}<br>2=%{z}<extra></extra>",
         "legendgroup": "held",
         "marker": {
          "color": "#FECB52",
          "symbol": "circle"
         },
         "mode": "markers",
         "name": "held",
         "scene": "scene",
         "showlegend": true,
         "type": "scatter3d",
         "x": [
          0.33198514580726624
         ],
         "y": [
          0.2543560862541199
         ],
         "z": [
          -0.3755488991737366
         ]
        },
        {
         "hovertemplate": "color=closed<br>0=%{x}<br>1=%{y}<br>2=%{z}<extra></extra>",
         "legendgroup": "closed",
         "marker": {
          "color": "#636efa",
          "symbol": "circle"
         },
         "mode": "markers",
         "name": "closed",
         "scene": "scene",
         "showlegend": true,
         "type": "scatter3d",
         "x": [
          0.49043649435043335
         ],
         "y": [
          0.012857980094850063
         ],
         "z": [
          0.013790273107588291
         ]
        },
        {
         "hovertemplate": "color=sky<br>0=%{x}<br>1=%{y}<br>2=%{z}<extra></extra>",
         "legendgroup": "sky",
         "marker": {
          "color": "#EF553B",
          "symbol": "circle"
         },
         "mode": "markers",
         "name": "sky",
         "scene": "scene",
         "showlegend": true,
         "type": "scatter3d",
         "x": [
          0.669108510017395
         ],
         "y": [
          0.2415175884962082
         ],
         "z": [
          0.23738716542720795
         ]
        },
        {
         "hovertemplate": "color=home<br>0=%{x}<br>1=%{y}<br>2=%{z}<extra></extra>",
         "legendgroup": "home",
         "marker": {
          "color": "#00cc96",
          "symbol": "circle"
         },
         "mode": "markers",
         "name": "home",
         "scene": "scene",
         "showlegend": true,
         "type": "scatter3d",
         "x": [
          -0.4130414128303528
         ],
         "y": [
          0.16372472047805786
         ],
         "z": [
          0.4023299813270569
         ]
        },
        {
         "hovertemplate": "color=matter<br>0=%{x}<br>1=%{y}<br>2=%{z}<extra></extra>",
         "legendgroup": "matter",
         "marker": {
          "color": "#ab63fa",
          "symbol": "circle"
         },
         "mode": "markers",
         "name": "matter",
         "scene": "scene",
         "showlegend": true,
         "type": "scatter3d",
         "x": [
          -0.5494459867477417
         ],
         "y": [
          -0.14143148064613342
         ],
         "z": [
          0.2606963515281677
         ]
        },
        {
         "hovertemplate": "color=south<br>0=%{x}<br>1=%{y}<br>2=%{z}<extra></extra>",
         "legendgroup": "south",
         "marker": {
          "color": "#FFA15A",
          "symbol": "circle"
         },
         "mode": "markers",
         "name": "south",
         "scene": "scene",
         "showlegend": true,
         "type": "scatter3d",
         "x": [
          0.03667663037776947
         ],
         "y": [
          0.6631450653076172
         ],
         "z": [
          0.3819645643234253
         ]
        },
        {
         "hovertemplate": "color=riverrun<br>0=%{x}<br>1=%{y}<br>2=%{z}<extra></extra>",
         "legendgroup": "riverrun",
         "marker": {
          "color": "#19d3f3",
          "symbol": "circle"
         },
         "mode": "markers",
         "name": "riverrun",
         "scene": "scene",
         "showlegend": true,
         "type": "scatter3d",
         "x": [
          -0.44255292415618896
         ],
         "y": [
          0.6679832339286804
         ],
         "z": [
          -0.16147452592849731
         ]
        },
        {
         "hovertemplate": "color=wed<br>0=%{x}<br>1=%{y}<br>2=%{z}<extra></extra>",
         "legendgroup": "wed",
         "marker": {
          "color": "#FF6692",
          "symbol": "circle"
         },
         "mode": "markers",
         "name": "wed",
         "scene": "scene",
         "showlegend": true,
         "type": "scatter3d",
         "x": [
          -0.6926552057266235
         ],
         "y": [
          0.46093642711639404
         ],
         "z": [
          -0.27804917097091675
         ]
        },
        {
         "hovertemplate": "color=dozen<br>0=%{x}<br>1=%{y}<br>2=%{z}<extra></extra>",
         "legendgroup": "dozen",
         "marker": {
          "color": "#B6E880",
          "symbol": "circle"
         },
         "mode": "markers",
         "name": "dozen",
         "scene": "scene",
         "showlegend": true,
         "type": "scatter3d",
         "x": [
          0.3304622769355774
         ],
         "y": [
          0.6716249585151672
         ],
         "z": [
          0.22372813522815704
         ]
        },
        {
         "hovertemplate": "color=people<br>0=%{x}<br>1=%{y}<br>2=%{z}<extra></extra>",
         "legendgroup": "people",
         "marker": {
          "color": "#FF97FF",
          "symbol": "circle"
         },
         "mode": "markers",
         "name": "people",
         "scene": "scene",
         "showlegend": true,
         "type": "scatter3d",
         "x": [
          -0.4024963080883026
         ],
         "y": [
          0.32904210686683655
         ],
         "z": [
          0.5875700116157532
         ]
        },
        {
         "hovertemplate": "color=neck<br>0=%{x}<br>1=%{y}<br>2=%{z}<extra></extra>",
         "legendgroup": "neck",
         "marker": {
          "color": "#FECB52",
          "symbol": "circle"
         },
         "mode": "markers",
         "name": "neck",
         "scene": "scene",
         "showlegend": true,
         "type": "scatter3d",
         "x": [
          0.7248604893684387
         ],
         "y": [
          -0.022183813154697418
         ],
         "z": [
          -0.1776113659143448
         ]
        },
        {
         "hovertemplate": "color=wood<br>0=%{x}<br>1=%{y}<br>2=%{z}<extra></extra>",
         "legendgroup": "wood",
         "marker": {
          "color": "#636efa",
          "symbol": "circle"
         },
         "mode": "markers",
         "name": "wood",
         "scene": "scene",
         "showlegend": true,
         "type": "scatter3d",
         "x": [
          0.7414535284042358
         ],
         "y": [
          0.2839895486831665
         ],
         "z": [
          0.20370668172836304
         ]
        },
        {
         "hovertemplate": "color=tyrell<br>0=%{x}<br>1=%{y}<br>2=%{z}<extra></extra>",
         "legendgroup": "tyrell",
         "marker": {
          "color": "#EF553B",
          "symbol": "circle"
         },
         "mode": "markers",
         "name": "tyrell",
         "scene": "scene",
         "showlegend": true,
         "type": "scatter3d",
         "x": [
          -0.4433671236038208
         ],
         "y": [
          0.6177385449409485
         ],
         "z": [
          -0.5611057877540588
         ]
        },
        {
         "hovertemplate": "color=tommen<br>0=%{x}<br>1=%{y}<br>2=%{z}<extra></extra>",
         "legendgroup": "tommen",
         "marker": {
          "color": "#00cc96",
          "symbol": "circle"
         },
         "mode": "markers",
         "name": "tommen",
         "scene": "scene",
         "showlegend": true,
         "type": "scatter3d",
         "x": [
          -0.5305983424186707
         ],
         "y": [
          0.30306366086006165
         ],
         "z": [
          -0.307599812746048
         ]
        },
        {
         "hovertemplate": "color=near<br>0=%{x}<br>1=%{y}<br>2=%{z}<extra></extra>",
         "legendgroup": "near",
         "marker": {
          "color": "#ab63fa",
          "symbol": "circle"
         },
         "mode": "markers",
         "name": "near",
         "scene": "scene",
         "showlegend": true,
         "type": "scatter3d",
         "x": [
          0.3164235055446625
         ],
         "y": [
          0.5513425469398499
         ],
         "z": [
          0.25722748041152954
         ]
        },
        {
         "hovertemplate": "color=food<br>0=%{x}<br>1=%{y}<br>2=%{z}<extra></extra>",
         "legendgroup": "food",
         "marker": {
          "color": "#FFA15A",
          "symbol": "circle"
         },
         "mode": "markers",
         "name": "food",
         "scene": "scene",
         "showlegend": true,
         "type": "scatter3d",
         "x": [
          -0.027160778641700745
         ],
         "y": [
          -0.12941698729991913
         ],
         "z": [
          0.4759500026702881
         ]
        },
        {
         "hovertemplate": "color=talk<br>0=%{x}<br>1=%{y}<br>2=%{z}<extra></extra>",
         "legendgroup": "talk",
         "marker": {
          "color": "#19d3f3",
          "symbol": "circle"
         },
         "mode": "markers",
         "name": "talk",
         "scene": "scene",
         "showlegend": true,
         "type": "scatter3d",
         "x": [
          -0.5589785575866699
         ],
         "y": [
          -0.1530475616455078
         ],
         "z": [
          0.3872658908367157
         ]
        },
        {
         "hovertemplate": "color=instead<br>0=%{x}<br>1=%{y}<br>2=%{z}<extra></extra>",
         "legendgroup": "instead",
         "marker": {
          "color": "#FF6692",
          "symbol": "circle"
         },
         "mode": "markers",
         "name": "instead",
         "scene": "scene",
         "showlegend": true,
         "type": "scatter3d",
         "x": [
          0.13045087456703186
         ],
         "y": [
          0.025622176006436348
         ],
         "z": [
          -0.16495759785175323
         ]
        },
        {
         "hovertemplate": "color=it<br>0=%{x}<br>1=%{y}<br>2=%{z}<extra></extra>",
         "legendgroup": "it",
         "marker": {
          "color": "#B6E880",
          "symbol": "circle"
         },
         "mode": "markers",
         "name": "it",
         "scene": "scene",
         "showlegend": true,
         "type": "scatter3d",
         "x": [
          -0.5571036338806152
         ],
         "y": [
          -0.21968857944011688
         ],
         "z": [
          0.3056344985961914
         ]
        },
        {
         "hovertemplate": "color=turn<br>0=%{x}<br>1=%{y}<br>2=%{z}<extra></extra>",
         "legendgroup": "turn",
         "marker": {
          "color": "#FF97FF",
          "symbol": "circle"
         },
         "mode": "markers",
         "name": "turn",
         "scene": "scene",
         "showlegend": true,
         "type": "scatter3d",
         "x": [
          -0.15442809462547302
         ],
         "y": [
          -0.033137332648038864
         ],
         "z": [
          0.32518675923347473
         ]
        },
        {
         "hovertemplate": "color=none<br>0=%{x}<br>1=%{y}<br>2=%{z}<extra></extra>",
         "legendgroup": "none",
         "marker": {
          "color": "#FECB52",
          "symbol": "circle"
         },
         "mode": "markers",
         "name": "none",
         "scene": "scene",
         "showlegend": true,
         "type": "scatter3d",
         "x": [
          -0.610166609287262
         ],
         "y": [
          -0.04138597846031189
         ],
         "z": [
          0.3446301817893982
         ]
        },
        {
         "hovertemplate": "color=ships<br>0=%{x}<br>1=%{y}<br>2=%{z}<extra></extra>",
         "legendgroup": "ships",
         "marker": {
          "color": "#636efa",
          "symbol": "circle"
         },
         "mode": "markers",
         "name": "ships",
         "scene": "scene",
         "showlegend": true,
         "type": "scatter3d",
         "x": [
          -0.0995839536190033
         ],
         "y": [
          0.6564002633094788
         ],
         "z": [
          0.5074864625930786
         ]
        },
        {
         "hovertemplate": "color=shadow<br>0=%{x}<br>1=%{y}<br>2=%{z}<extra></extra>",
         "legendgroup": "shadow",
         "marker": {
          "color": "#EF553B",
          "symbol": "circle"
         },
         "mode": "markers",
         "name": "shadow",
         "scene": "scene",
         "showlegend": true,
         "type": "scatter3d",
         "x": [
          0.46287456154823303
         ],
         "y": [
          0.4661750793457031
         ],
         "z": [
          0.22906814515590668
         ]
        },
        {
         "hovertemplate": "color=and<br>0=%{x}<br>1=%{y}<br>2=%{z}<extra></extra>",
         "legendgroup": "and",
         "marker": {
          "color": "#00cc96",
          "symbol": "circle"
         },
         "mode": "markers",
         "name": "and",
         "scene": "scene",
         "showlegend": true,
         "type": "scatter3d",
         "x": [
          0.35698801279067993
         ],
         "y": [
          0.7076881527900696
         ],
         "z": [
          -0.11170344054698944
         ]
        },
        {
         "hovertemplate": "color=moon<br>0=%{x}<br>1=%{y}<br>2=%{z}<extra></extra>",
         "legendgroup": "moon",
         "marker": {
          "color": "#ab63fa",
          "symbol": "circle"
         },
         "mode": "markers",
         "name": "moon",
         "scene": "scene",
         "showlegend": true,
         "type": "scatter3d",
         "x": [
          0.3849627673625946
         ],
         "y": [
          0.4489668607711792
         ],
         "z": [
          0.11544257402420044
         ]
        },
        {
         "hovertemplate": "color=lips<br>0=%{x}<br>1=%{y}<br>2=%{z}<extra></extra>",
         "legendgroup": "lips",
         "marker": {
          "color": "#FFA15A",
          "symbol": "circle"
         },
         "mode": "markers",
         "name": "lips",
         "scene": "scene",
         "showlegend": true,
         "type": "scatter3d",
         "x": [
          0.4727667570114136
         ],
         "y": [
          -0.4549688696861267
         ],
         "z": [
          -0.3899540603160858
         ]
        },
        {
         "hovertemplate": "color=summer<br>0=%{x}<br>1=%{y}<br>2=%{z}<extra></extra>",
         "legendgroup": "summer",
         "marker": {
          "color": "#19d3f3",
          "symbol": "circle"
         },
         "mode": "markers",
         "name": "summer",
         "scene": "scene",
         "showlegend": true,
         "type": "scatter3d",
         "x": [
          0.3485943377017975
         ],
         "y": [
          0.1331862211227417
         ],
         "z": [
          0.3677063286304474
         ]
        },
        {
         "hovertemplate": "color=bolton<br>0=%{x}<br>1=%{y}<br>2=%{z}<extra></extra>",
         "legendgroup": "bolton",
         "marker": {
          "color": "#FF6692",
          "symbol": "circle"
         },
         "mode": "markers",
         "name": "bolton",
         "scene": "scene",
         "showlegend": true,
         "type": "scatter3d",
         "x": [
          -0.3944540023803711
         ],
         "y": [
          0.40671107172966003
         ],
         "z": [
          -0.38527318835258484
         ]
        },
        {
         "hovertemplate": "color=varys<br>0=%{x}<br>1=%{y}<br>2=%{z}<extra></extra>",
         "legendgroup": "varys",
         "marker": {
          "color": "#B6E880",
          "symbol": "circle"
         },
         "mode": "markers",
         "name": "varys",
         "scene": "scene",
         "showlegend": true,
         "type": "scatter3d",
         "x": [
          -0.4892767071723938
         ],
         "y": [
          -0.13600727915763855
         ],
         "z": [
          -0.476704865694046
         ]
        },
        {
         "hovertemplate": "color=watched<br>0=%{x}<br>1=%{y}<br>2=%{z}<extra></extra>",
         "legendgroup": "watched",
         "marker": {
          "color": "#FF97FF",
          "symbol": "circle"
         },
         "mode": "markers",
         "name": "watched",
         "scene": "scene",
         "showlegend": true,
         "type": "scatter3d",
         "x": [
          0.4527466893196106
         ],
         "y": [
          0.018163185566663742
         ],
         "z": [
          0.04392031207680702
         ]
        },
        {
         "hovertemplate": "color=leather<br>0=%{x}<br>1=%{y}<br>2=%{z}<extra></extra>",
         "legendgroup": "leather",
         "marker": {
          "color": "#FECB52",
          "symbol": "circle"
         },
         "mode": "markers",
         "name": "leather",
         "scene": "scene",
         "showlegend": true,
         "type": "scatter3d",
         "x": [
          0.7157334089279175
         ],
         "y": [
          0.2289809137582779
         ],
         "z": [
          -0.24321924149990082
         ]
        },
        {
         "hovertemplate": "color=times<br>0=%{x}<br>1=%{y}<br>2=%{z}<extra></extra>",
         "legendgroup": "times",
         "marker": {
          "color": "#636efa",
          "symbol": "circle"
         },
         "mode": "markers",
         "name": "times",
         "scene": "scene",
         "showlegend": true,
         "type": "scatter3d",
         "x": [
          -0.20102933049201965
         ],
         "y": [
          0.39464810490608215
         ],
         "z": [
          0.453065425157547
         ]
        },
        {
         "hovertemplate": "color=septon<br>0=%{x}<br>1=%{y}<br>2=%{z}<extra></extra>",
         "legendgroup": "septon",
         "marker": {
          "color": "#EF553B",
          "symbol": "circle"
         },
         "mode": "markers",
         "name": "septon",
         "scene": "scene",
         "showlegend": true,
         "type": "scatter3d",
         "x": [
          -0.20326122641563416
         ],
         "y": [
          0.43508046865463257
         ],
         "z": [
          -0.19454728066921234
         ]
        },
        {
         "hovertemplate": "color=him<br>0=%{x}<br>1=%{y}<br>2=%{z}<extra></extra>",
         "legendgroup": "him",
         "marker": {
          "color": "#00cc96",
          "symbol": "circle"
         },
         "mode": "markers",
         "name": "him",
         "scene": "scene",
         "showlegend": true,
         "type": "scatter3d",
         "x": [
          -0.6664150357246399
         ],
         "y": [
          -0.05966085568070412
         ],
         "z": [
          0.17233380675315857
         ]
        },
        {
         "hovertemplate": "color=shoulder<br>0=%{x}<br>1=%{y}<br>2=%{z}<extra></extra>",
         "legendgroup": "shoulder",
         "marker": {
          "color": "#ab63fa",
          "symbol": "circle"
         },
         "mode": "markers",
         "name": "shoulder",
         "scene": "scene",
         "showlegend": true,
         "type": "scatter3d",
         "x": [
          0.6238012313842773
         ],
         "y": [
          0.0016874067950993776
         ],
         "z": [
          -0.3789181411266327
         ]
        },
        {
         "hovertemplate": "color=warm<br>0=%{x}<br>1=%{y}<br>2=%{z}<extra></extra>",
         "legendgroup": "warm",
         "marker": {
          "color": "#FFA15A",
          "symbol": "circle"
         },
         "mode": "markers",
         "name": "warm",
         "scene": "scene",
         "showlegend": true,
         "type": "scatter3d",
         "x": [
          0.43084076046943665
         ],
         "y": [
          -0.299906849861145
         ],
         "z": [
          0.38153553009033203
         ]
        },
        {
         "hovertemplate": "color=caught<br>0=%{x}<br>1=%{y}<br>2=%{z}<extra></extra>",
         "legendgroup": "caught",
         "marker": {
          "color": "#19d3f3",
          "symbol": "circle"
         },
         "mode": "markers",
         "name": "caught",
         "scene": "scene",
         "showlegend": true,
         "type": "scatter3d",
         "x": [
          0.5752386450767517
         ],
         "y": [
          -0.16895125806331635
         ],
         "z": [
          -0.01268647238612175
         ]
        },
        {
         "hovertemplate": "color=believe<br>0=%{x}<br>1=%{y}<br>2=%{z}<extra></extra>",
         "legendgroup": "believe",
         "marker": {
          "color": "#FF6692",
          "symbol": "circle"
         },
         "mode": "markers",
         "name": "believe",
         "scene": "scene",
         "showlegend": true,
         "type": "scatter3d",
         "x": [
          -0.686153769493103
         ],
         "y": [
          -0.14885646104812622
         ],
         "z": [
          0.13104206323623657
         ]
        },
        {
         "hovertemplate": "color=ice<br>0=%{x}<br>1=%{y}<br>2=%{z}<extra></extra>",
         "legendgroup": "ice",
         "marker": {
          "color": "#B6E880",
          "symbol": "circle"
         },
         "mode": "markers",
         "name": "ice",
         "scene": "scene",
         "showlegend": true,
         "type": "scatter3d",
         "x": [
          0.6744990348815918
         ],
         "y": [
          0.12761510908603668
         ],
         "z": [
          0.33533382415771484
         ]
        },
        {
         "hovertemplate": "color=blade<br>0=%{x}<br>1=%{y}<br>2=%{z}<extra></extra>",
         "legendgroup": "blade",
         "marker": {
          "color": "#FF97FF",
          "symbol": "circle"
         },
         "mode": "markers",
         "name": "blade",
         "scene": "scene",
         "showlegend": true,
         "type": "scatter3d",
         "x": [
          0.5507307052612305
         ],
         "y": [
          -0.08392497897148132
         ],
         "z": [
          -0.32147860527038574
         ]
        },
        {
         "hovertemplate": "color=guards<br>0=%{x}<br>1=%{y}<br>2=%{z}<extra></extra>",
         "legendgroup": "guards",
         "marker": {
          "color": "#FECB52",
          "symbol": "circle"
         },
         "mode": "markers",
         "name": "guards",
         "scene": "scene",
         "showlegend": true,
         "type": "scatter3d",
         "x": [
          0.06807727366685867
         ],
         "y": [
          0.5958362221717834
         ],
         "z": [
          -0.0936843752861023
         ]
        },
        {
         "hovertemplate": "color=least<br>0=%{x}<br>1=%{y}<br>2=%{z}<extra></extra>",
         "legendgroup": "least",
         "marker": {
          "color": "#636efa",
          "symbol": "circle"
         },
         "mode": "markers",
         "name": "least",
         "scene": "scene",
         "showlegend": true,
         "type": "scatter3d",
         "x": [
          -0.49713096022605896
         ],
         "y": [
          -0.07003828883171082
         ],
         "z": [
          0.4021071493625641
         ]
        },
        {
         "hovertemplate": "color=god<br>0=%{x}<br>1=%{y}<br>2=%{z}<extra></extra>",
         "legendgroup": "god",
         "marker": {
          "color": "#EF553B",
          "symbol": "circle"
         },
         "mode": "markers",
         "name": "god",
         "scene": "scene",
         "showlegend": true,
         "type": "scatter3d",
         "x": [
          -0.1885591596364975
         ],
         "y": [
          0.48406392335891724
         ],
         "z": [
          0.29141026735305786
         ]
        },
        {
         "hovertemplate": "color=answer<br>0=%{x}<br>1=%{y}<br>2=%{z}<extra></extra>",
         "legendgroup": "answer",
         "marker": {
          "color": "#00cc96",
          "symbol": "circle"
         },
         "mode": "markers",
         "name": "answer",
         "scene": "scene",
         "showlegend": true,
         "type": "scatter3d",
         "x": [
          -0.5007871389389038
         ],
         "y": [
          -0.34223636984825134
         ],
         "z": [
          -0.04908185824751854
         ]
        },
        {
         "hovertemplate": "color=eddard<br>0=%{x}<br>1=%{y}<br>2=%{z}<extra></extra>",
         "legendgroup": "eddard",
         "marker": {
          "color": "#ab63fa",
          "symbol": "circle"
         },
         "mode": "markers",
         "name": "eddard",
         "scene": "scene",
         "showlegend": true,
         "type": "scatter3d",
         "x": [
          -0.3869509696960449
         ],
         "y": [
          0.2489355057477951
         ],
         "z": [
          -0.243111714720726
         ]
        },
        {
         "hovertemplate": "color=safe<br>0=%{x}<br>1=%{y}<br>2=%{z}<extra></extra>",
         "legendgroup": "safe",
         "marker": {
          "color": "#FFA15A",
          "symbol": "circle"
         },
         "mode": "markers",
         "name": "safe",
         "scene": "scene",
         "showlegend": true,
         "type": "scatter3d",
         "x": [
          -0.45601698756217957
         ],
         "y": [
          0.1611717790365219
         ],
         "z": [
          0.39666128158569336
         ]
        },
        {
         "hovertemplate": "color=wondered<br>0=%{x}<br>1=%{y}<br>2=%{z}<extra></extra>",
         "legendgroup": "wondered",
         "marker": {
          "color": "#19d3f3",
          "symbol": "circle"
         },
         "mode": "markers",
         "name": "wondered",
         "scene": "scene",
         "showlegend": true,
         "type": "scatter3d",
         "x": [
          -0.407016783952713
         ],
         "y": [
          -0.2503454387187958
         ],
         "z": [
          0.07916559278964996
         ]
        },
        {
         "hovertemplate": "color=shield<br>0=%{x}<br>1=%{y}<br>2=%{z}<extra></extra>",
         "legendgroup": "shield",
         "marker": {
          "color": "#FF6692",
          "symbol": "circle"
         },
         "mode": "markers",
         "name": "shield",
         "scene": "scene",
         "showlegend": true,
         "type": "scatter3d",
         "x": [
          0.3898196518421173
         ],
         "y": [
          0.5018071532249451
         ],
         "z": [
          -0.3658883571624756
         ]
        },
        {
         "hovertemplate": "color=barristan<br>0=%{x}<br>1=%{y}<br>2=%{z}<extra></extra>",
         "legendgroup": "barristan",
         "marker": {
          "color": "#B6E880",
          "symbol": "circle"
         },
         "mode": "markers",
         "name": "barristan",
         "scene": "scene",
         "showlegend": true,
         "type": "scatter3d",
         "x": [
          -0.25592756271362305
         ],
         "y": [
          0.13208447396755219
         ],
         "z": [
          -0.42525041103363037
         ]
        },
        {
         "hovertemplate": "color=opened<br>0=%{x}<br>1=%{y}<br>2=%{z}<extra></extra>",
         "legendgroup": "opened",
         "marker": {
          "color": "#FF97FF",
          "symbol": "circle"
         },
         "mode": "markers",
         "name": "opened",
         "scene": "scene",
         "showlegend": true,
         "type": "scatter3d",
         "x": [
          0.6117159724235535
         ],
         "y": [
          0.0016800746088847518
         ],
         "z": [
          -0.08595036715269089
         ]
        },
        {
         "hovertemplate": "color=mine<br>0=%{x}<br>1=%{y}<br>2=%{z}<extra></extra>",
         "legendgroup": "mine",
         "marker": {
          "color": "#FECB52",
          "symbol": "circle"
         },
         "mode": "markers",
         "name": "mine",
         "scene": "scene",
         "showlegend": true,
         "type": "scatter3d",
         "x": [
          -0.6003910899162292
         ],
         "y": [
          0.021348625421524048
         ],
         "z": [
          0.12210803478956223
         ]
        },
        {
         "hovertemplate": "color=armor<br>0=%{x}<br>1=%{y}<br>2=%{z}<extra></extra>",
         "legendgroup": "armor",
         "marker": {
          "color": "#636efa",
          "symbol": "circle"
         },
         "mode": "markers",
         "name": "armor",
         "scene": "scene",
         "showlegend": true,
         "type": "scatter3d",
         "x": [
          0.5037996172904968
         ],
         "y": [
          0.4278404712677002
         ],
         "z": [
          -0.2716398239135742
         ]
        },
        {
         "hovertemplate": "color=daenerys<br>0=%{x}<br>1=%{y}<br>2=%{z}<extra></extra>",
         "legendgroup": "daenerys",
         "marker": {
          "color": "#EF553B",
          "symbol": "circle"
         },
         "mode": "markers",
         "name": "daenerys",
         "scene": "scene",
         "showlegend": true,
         "type": "scatter3d",
         "x": [
          -0.43045082688331604
         ],
         "y": [
          0.16421987116336823
         ],
         "z": [
          -0.06506405770778656
         ]
        },
        {
         "hovertemplate": "color=six<br>0=%{x}<br>1=%{y}<br>2=%{z}<extra></extra>",
         "legendgroup": "six",
         "marker": {
          "color": "#00cc96",
          "symbol": "circle"
         },
         "mode": "markers",
         "name": "six",
         "scene": "scene",
         "showlegend": true,
         "type": "scatter3d",
         "x": [
          0.09292624890804291
         ],
         "y": [
          0.7062058448791504
         ],
         "z": [
          0.15810056030750275
         ]
        },
        {
         "hovertemplate": "color=return<br>0=%{x}<br>1=%{y}<br>2=%{z}<extra></extra>",
         "legendgroup": "return",
         "marker": {
          "color": "#ab63fa",
          "symbol": "circle"
         },
         "mode": "markers",
         "name": "return",
         "scene": "scene",
         "showlegend": true,
         "type": "scatter3d",
         "x": [
          -0.6346880793571472
         ],
         "y": [
          0.30001312494277954
         ],
         "z": [
          0.2595047652721405
         ]
        },
        {
         "hovertemplate": "color=kept<br>0=%{x}<br>1=%{y}<br>2=%{z}<extra></extra>",
         "legendgroup": "kept",
         "marker": {
          "color": "#FFA15A",
          "symbol": "circle"
         },
         "mode": "markers",
         "name": "kept",
         "scene": "scene",
         "showlegend": true,
         "type": "scatter3d",
         "x": [
          0.12131060659885406
         ],
         "y": [
          0.05333169922232628
         ],
         "z": [
          0.3239433169364929
         ]
        },
        {
         "hovertemplate": "color=wish<br>0=%{x}<br>1=%{y}<br>2=%{z}<extra></extra>",
         "legendgroup": "wish",
         "marker": {
          "color": "#19d3f3",
          "symbol": "circle"
         },
         "mode": "markers",
         "name": "wish",
         "scene": "scene",
         "showlegend": true,
         "type": "scatter3d",
         "x": [
          -0.7374112010002136
         ],
         "y": [
          -0.08024602383375168
         ],
         "z": [
          0.08547637611627579
         ]
        },
        {
         "hovertemplate": "color=used<br>0=%{x}<br>1=%{y}<br>2=%{z}<extra></extra>",
         "legendgroup": "used",
         "marker": {
          "color": "#FF6692",
          "symbol": "circle"
         },
         "mode": "markers",
         "name": "used",
         "scene": "scene",
         "showlegend": true,
         "type": "scatter3d",
         "x": [
          -0.22622832655906677
         ],
         "y": [
          -0.15502212941646576
         ],
         "z": [
          0.4031544029712677
         ]
        },
        {
         "hovertemplate": "color=smell<br>0=%{x}<br>1=%{y}<br>2=%{z}<extra></extra>",
         "legendgroup": "smell",
         "marker": {
          "color": "#B6E880",
          "symbol": "circle"
         },
         "mode": "markers",
         "name": "smell",
         "scene": "scene",
         "showlegend": true,
         "type": "scatter3d",
         "x": [
          0.36558154225349426
         ],
         "y": [
          -0.391706258058548
         ],
         "z": [
          0.298410564661026
         ]
        },
        {
         "hovertemplate": "color=less<br>0=%{x}<br>1=%{y}<br>2=%{z}<extra></extra>",
         "legendgroup": "less",
         "marker": {
          "color": "#FF97FF",
          "symbol": "circle"
         },
         "mode": "markers",
         "name": "less",
         "scene": "scene",
         "showlegend": true,
         "type": "scatter3d",
         "x": [
          -0.41458913683891296
         ],
         "y": [
          0.0008095581433735788
         ],
         "z": [
          0.26171374320983887
         ]
        },
        {
         "hovertemplate": "color=squire<br>0=%{x}<br>1=%{y}<br>2=%{z}<extra></extra>",
         "legendgroup": "squire",
         "marker": {
          "color": "#FECB52",
          "symbol": "circle"
         },
         "mode": "markers",
         "name": "squire",
         "scene": "scene",
         "showlegend": true,
         "type": "scatter3d",
         "x": [
          -0.33868417143821716
         ],
         "y": [
          0.5903823971748352
         ],
         "z": [
          -0.6206716895103455
         ]
        },
        {
         "hovertemplate": "color=foot<br>0=%{x}<br>1=%{y}<br>2=%{z}<extra></extra>",
         "legendgroup": "foot",
         "marker": {
          "color": "#636efa",
          "symbol": "circle"
         },
         "mode": "markers",
         "name": "foot",
         "scene": "scene",
         "showlegend": true,
         "type": "scatter3d",
         "x": [
          0.578335702419281
         ],
         "y": [
          0.28087446093559265
         ],
         "z": [
          -0.009569959715008736
         ]
        },
        {
         "hovertemplate": "color=floor<br>0=%{x}<br>1=%{y}<br>2=%{z}<extra></extra>",
         "legendgroup": "floor",
         "marker": {
          "color": "#EF553B",
          "symbol": "circle"
         },
         "mode": "markers",
         "name": "floor",
         "scene": "scene",
         "showlegend": true,
         "type": "scatter3d",
         "x": [
          0.7825185656547546
         ],
         "y": [
          0.11119066923856735
         ],
         "z": [
          -0.06215113773941994
         ]
        },
        {
         "hovertemplate": "color=baratheon<br>0=%{x}<br>1=%{y}<br>2=%{z}<extra></extra>",
         "legendgroup": "baratheon",
         "marker": {
          "color": "#00cc96",
          "symbol": "circle"
         },
         "mode": "markers",
         "name": "baratheon",
         "scene": "scene",
         "showlegend": true,
         "type": "scatter3d",
         "x": [
          -0.31437161564826965
         ],
         "y": [
          0.5985808372497559
         ],
         "z": [
          -0.2647531032562256
         ]
        },
        {
         "hovertemplate": "color=followed<br>0=%{x}<br>1=%{y}<br>2=%{z}<extra></extra>",
         "legendgroup": "followed",
         "marker": {
          "color": "#ab63fa",
          "symbol": "circle"
         },
         "mode": "markers",
         "name": "followed",
         "scene": "scene",
         "showlegend": true,
         "type": "scatter3d",
         "x": [
          0.43688830733299255
         ],
         "y": [
          0.3013738691806793
         ],
         "z": [
          0.02130003832280636
         ]
        },
        {
         "hovertemplate": "color=empty<br>0=%{x}<br>1=%{y}<br>2=%{z}<extra></extra>",
         "legendgroup": "empty",
         "marker": {
          "color": "#FFA15A",
          "symbol": "circle"
         },
         "mode": "markers",
         "name": "empty",
         "scene": "scene",
         "showlegend": true,
         "type": "scatter3d",
         "x": [
          0.59398353099823
         ],
         "y": [
          0.12559308111667633
         ],
         "z": [
          0.16066056489944458
         ]
        },
        {
         "hovertemplate": "color=run<br>0=%{x}<br>1=%{y}<br>2=%{z}<extra></extra>",
         "legendgroup": "run",
         "marker": {
          "color": "#19d3f3",
          "symbol": "circle"
         },
         "mode": "markers",
         "name": "run",
         "scene": "scene",
         "showlegend": true,
         "type": "scatter3d",
         "x": [
          -0.011851203627884388
         ],
         "y": [
          -0.36610880494117737
         ],
         "z": [
          0.4777645766735077
         ]
        },
        {
         "hovertemplate": "color=wedding<br>0=%{x}<br>1=%{y}<br>2=%{z}<extra></extra>",
         "legendgroup": "wedding",
         "marker": {
          "color": "#FF6692",
          "symbol": "circle"
         },
         "mode": "markers",
         "name": "wedding",
         "scene": "scene",
         "showlegend": true,
         "type": "scatter3d",
         "x": [
          -0.47347360849380493
         ],
         "y": [
          0.4087688624858856
         ],
         "z": [
          -0.2357446551322937
         ]
        },
        {
         "hovertemplate": "color=friends<br>0=%{x}<br>1=%{y}<br>2=%{z}<extra></extra>",
         "legendgroup": "friends",
         "marker": {
          "color": "#B6E880",
          "symbol": "circle"
         },
         "mode": "markers",
         "name": "friends",
         "scene": "scene",
         "showlegend": true,
         "type": "scatter3d",
         "x": [
          -0.643724262714386
         ],
         "y": [
          0.34179022908210754
         ],
         "z": [
          0.2647991180419922
         ]
        },
        {
         "hovertemplate": "color=serve<br>0=%{x}<br>1=%{y}<br>2=%{z}<extra></extra>",
         "legendgroup": "serve",
         "marker": {
          "color": "#FF97FF",
          "symbol": "circle"
         },
         "mode": "markers",
         "name": "serve",
         "scene": "scene",
         "showlegend": true,
         "type": "scatter3d",
         "x": [
          -0.696461021900177
         ],
         "y": [
          0.20197680592536926
         ],
         "z": [
          0.09952487796545029
         ]
        },
        {
         "hovertemplate": "color=boys<br>0=%{x}<br>1=%{y}<br>2=%{z}<extra></extra>",
         "legendgroup": "boys",
         "marker": {
          "color": "#FECB52",
          "symbol": "circle"
         },
         "mode": "markers",
         "name": "boys",
         "scene": "scene",
         "showlegend": true,
         "type": "scatter3d",
         "x": [
          -0.1127144992351532
         ],
         "y": [
          0.3981500566005707
         ],
         "z": [
          0.22633880376815796
         ]
        },
        {
         "hovertemplate": "color=cloaks<br>0=%{x}<br>1=%{y}<br>2=%{z}<extra></extra>",
         "legendgroup": "cloaks",
         "marker": {
          "color": "#636efa",
          "symbol": "circle"
         },
         "mode": "markers",
         "name": "cloaks",
         "scene": "scene",
         "showlegend": true,
         "type": "scatter3d",
         "x": [
          0.3647218346595764
         ],
         "y": [
          0.6533988118171692
         ],
         "z": [
          -0.11690983921289444
         ]
        },
        {
         "hovertemplate": "color=eat<br>0=%{x}<br>1=%{y}<br>2=%{z}<extra></extra>",
         "legendgroup": "eat",
         "marker": {
          "color": "#EF553B",
          "symbol": "circle"
         },
         "mode": "markers",
         "name": "eat",
         "scene": "scene",
         "showlegend": true,
         "type": "scatter3d",
         "x": [
          -0.18832917511463165
         ],
         "y": [
          -0.33409667015075684
         ],
         "z": [
          0.4623122215270996
         ]
        },
        {
         "hovertemplate": "color=wrong<br>0=%{x}<br>1=%{y}<br>2=%{z}<extra></extra>",
         "legendgroup": "wrong",
         "marker": {
          "color": "#00cc96",
          "symbol": "circle"
         },
         "mode": "markers",
         "name": "wrong",
         "scene": "scene",
         "showlegend": true,
         "type": "scatter3d",
         "x": [
          -0.3985859751701355
         ],
         "y": [
          -0.43325045704841614
         ],
         "z": [
          0.14407901465892792
         ]
        },
        {
         "hovertemplate": "color=beard<br>0=%{x}<br>1=%{y}<br>2=%{z}<extra></extra>",
         "legendgroup": "beard",
         "marker": {
          "color": "#ab63fa",
          "symbol": "circle"
         },
         "mode": "markers",
         "name": "beard",
         "scene": "scene",
         "showlegend": true,
         "type": "scatter3d",
         "x": [
          0.5621460676193237
         ],
         "y": [
          -0.010099104605615139
         ],
         "z": [
          -0.3938515782356262
         ]
        },
        {
         "hovertemplate": "color=ghost<br>0=%{x}<br>1=%{y}<br>2=%{z}<extra></extra>",
         "legendgroup": "ghost",
         "marker": {
          "color": "#FFA15A",
          "symbol": "circle"
         },
         "mode": "markers",
         "name": "ghost",
         "scene": "scene",
         "showlegend": true,
         "type": "scatter3d",
         "x": [
          0.4189283549785614
         ],
         "y": [
          -0.07576794177293777
         ],
         "z": [
          -0.01668221689760685
         ]
        },
        {
         "hovertemplate": "color=flesh<br>0=%{x}<br>1=%{y}<br>2=%{z}<extra></extra>",
         "legendgroup": "flesh",
         "marker": {
          "color": "#19d3f3",
          "symbol": "circle"
         },
         "mode": "markers",
         "name": "flesh",
         "scene": "scene",
         "showlegend": true,
         "type": "scatter3d",
         "x": [
          0.651891827583313
         ],
         "y": [
          -0.1671883910894394
         ],
         "z": [
          0.1611764132976532
         ]
        },
        {
         "hovertemplate": "color=sight<br>0=%{x}<br>1=%{y}<br>2=%{z}<extra></extra>",
         "legendgroup": "sight",
         "marker": {
          "color": "#FF6692",
          "symbol": "circle"
         },
         "mode": "markers",
         "name": "sight",
         "scene": "scene",
         "showlegend": true,
         "type": "scatter3d",
         "x": [
          0.16125549376010895
         ],
         "y": [
          -0.2035273015499115
         ],
         "z": [
          0.32426148653030396
         ]
        },
        {
         "hovertemplate": "color=hound<br>0=%{x}<br>1=%{y}<br>2=%{z}<extra></extra>",
         "legendgroup": "hound",
         "marker": {
          "color": "#B6E880",
          "symbol": "circle"
         },
         "mode": "markers",
         "name": "hound",
         "scene": "scene",
         "showlegend": true,
         "type": "scatter3d",
         "x": [
          -0.029058588668704033
         ],
         "y": [
          -0.3112373352050781
         ],
         "z": [
          -0.37916162610054016
         ]
        },
        {
         "hovertemplate": "color=strength<br>0=%{x}<br>1=%{y}<br>2=%{z}<extra></extra>",
         "legendgroup": "strength",
         "marker": {
          "color": "#FF97FF",
          "symbol": "circle"
         },
         "mode": "markers",
         "name": "strength",
         "scene": "scene",
         "showlegend": true,
         "type": "scatter3d",
         "x": [
          -0.3828536570072174
         ],
         "y": [
          0.3211093842983246
         ],
         "z": [
          0.33482664823532104
         ]
        },
        {
         "hovertemplate": "color=five<br>0=%{x}<br>1=%{y}<br>2=%{z}<extra></extra>",
         "legendgroup": "five",
         "marker": {
          "color": "#FECB52",
          "symbol": "circle"
         },
         "mode": "markers",
         "name": "five",
         "scene": "scene",
         "showlegend": true,
         "type": "scatter3d",
         "x": [
          0.003155808662995696
         ],
         "y": [
          0.710259199142456
         ],
         "z": [
          0.16997340321540833
         ]
        },
        {
         "hovertemplate": "color=ship<br>0=%{x}<br>1=%{y}<br>2=%{z}<extra></extra>",
         "legendgroup": "ship",
         "marker": {
          "color": "#636efa",
          "symbol": "circle"
         },
         "mode": "markers",
         "name": "ship",
         "scene": "scene",
         "showlegend": true,
         "type": "scatter3d",
         "x": [
          -0.09973610937595367
         ],
         "y": [
          0.27271977066993713
         ],
         "z": [
          0.5182311534881592
         ]
        },
        {
         "hovertemplate": "color=crown<br>0=%{x}<br>1=%{y}<br>2=%{z}<extra></extra>",
         "legendgroup": "crown",
         "marker": {
          "color": "#EF553B",
          "symbol": "circle"
         },
         "mode": "markers",
         "name": "crown",
         "scene": "scene",
         "showlegend": true,
         "type": "scatter3d",
         "x": [
          -0.07220546901226044
         ],
         "y": [
          0.47704505920410156
         ],
         "z": [
          -0.2332099825143814
         ]
        },
        {
         "hovertemplate": "color=returned<br>0=%{x}<br>1=%{y}<br>2=%{z}<extra></extra>",
         "legendgroup": "returned",
         "marker": {
          "color": "#00cc96",
          "symbol": "circle"
         },
         "mode": "markers",
         "name": "returned",
         "scene": "scene",
         "showlegend": true,
         "type": "scatter3d",
         "x": [
          -0.17108361423015594
         ],
         "y": [
          0.38709595799446106
         ],
         "z": [
          -0.08410690724849701
         ]
        },
        {
         "hovertemplate": "color=nose<br>0=%{x}<br>1=%{y}<br>2=%{z}<extra></extra>",
         "legendgroup": "nose",
         "marker": {
          "color": "#ab63fa",
          "symbol": "circle"
         },
         "mode": "markers",
         "name": "nose",
         "scene": "scene",
         "showlegend": true,
         "type": "scatter3d",
         "x": [
          0.5660721659660339
         ],
         "y": [
          -0.27997392416000366
         ],
         "z": [
          -0.30487146973609924
         ]
        },
        {
         "hovertemplate": "color=bones<br>0=%{x}<br>1=%{y}<br>2=%{z}<extra></extra>",
         "legendgroup": "bones",
         "marker": {
          "color": "#FFA15A",
          "symbol": "circle"
         },
         "mode": "markers",
         "name": "bones",
         "scene": "scene",
         "showlegend": true,
         "type": "scatter3d",
         "x": [
          0.4742971360683441
         ],
         "y": [
          0.17321623861789703
         ],
         "z": [
          0.2935514450073242
         ]
        },
        {
         "hovertemplate": "color=master<br>0=%{x}<br>1=%{y}<br>2=%{z}<extra></extra>",
         "legendgroup": "master",
         "marker": {
          "color": "#19d3f3",
          "symbol": "circle"
         },
         "mode": "markers",
         "name": "master",
         "scene": "scene",
         "showlegend": true,
         "type": "scatter3d",
         "x": [
          -0.3295148015022278
         ],
         "y": [
          0.6198146939277649
         ],
         "z": [
          -0.4485519528388977
         ]
        },
        {
         "hovertemplate": "color=yellow<br>0=%{x}<br>1=%{y}<br>2=%{z}<extra></extra>",
         "legendgroup": "yellow",
         "marker": {
          "color": "#FF6692",
          "symbol": "circle"
         },
         "mode": "markers",
         "name": "yellow",
         "scene": "scene",
         "showlegend": true,
         "type": "scatter3d",
         "x": [
          0.6347708106040955
         ],
         "y": [
          0.18875086307525635
         ],
         "z": [
          -0.1555318683385849
         ]
        },
        {
         "hovertemplate": "color=aemon<br>0=%{x}<br>1=%{y}<br>2=%{z}<extra></extra>",
         "legendgroup": "aemon",
         "marker": {
          "color": "#B6E880",
          "symbol": "circle"
         },
         "mode": "markers",
         "name": "aemon",
         "scene": "scene",
         "showlegend": true,
         "type": "scatter3d",
         "x": [
          -0.28467440605163574
         ],
         "y": [
          0.045238833874464035
         ],
         "z": [
          -0.127090185880661
         ]
        },
        {
         "hovertemplate": "color=says<br>0=%{x}<br>1=%{y}<br>2=%{z}<extra></extra>",
         "legendgroup": "says",
         "marker": {
          "color": "#FF97FF",
          "symbol": "circle"
         },
         "mode": "markers",
         "name": "says",
         "scene": "scene",
         "showlegend": true,
         "type": "scatter3d",
         "x": [
          -0.6873422265052795
         ],
         "y": [
          0.09303329139947891
         ],
         "z": [
          0.06183839589357376
         ]
        },
        {
         "hovertemplate": "color=chest<br>0=%{x}<br>1=%{y}<br>2=%{z}<extra></extra>",
         "legendgroup": "chest",
         "marker": {
          "color": "#FECB52",
          "symbol": "circle"
         },
         "mode": "markers",
         "name": "chest",
         "scene": "scene",
         "showlegend": true,
         "type": "scatter3d",
         "x": [
          0.7497236728668213
         ],
         "y": [
          3.731765173142776e-05
         ],
         "z": [
          -0.2509114742279053
         ]
        },
        {
         "hovertemplate": "color=petyr<br>0=%{x}<br>1=%{y}<br>2=%{z}<extra></extra>",
         "legendgroup": "petyr",
         "marker": {
          "color": "#636efa",
          "symbol": "circle"
         },
         "mode": "markers",
         "name": "petyr",
         "scene": "scene",
         "showlegend": true,
         "type": "scatter3d",
         "x": [
          -0.4783990979194641
         ],
         "y": [
          0.17170585691928864
         ],
         "z": [
          -0.5552360415458679
         ]
        },
        {
         "hovertemplate": "color=covered<br>0=%{x}<br>1=%{y}<br>2=%{z}<extra></extra>",
         "legendgroup": "covered",
         "marker": {
          "color": "#EF553B",
          "symbol": "circle"
         },
         "mode": "markers",
         "name": "covered",
         "scene": "scene",
         "showlegend": true,
         "type": "scatter3d",
         "x": [
          0.7911857962608337
         ],
         "y": [
          0.03726348280906677
         ],
         "z": [
          -0.11830343306064606
         ]
        },
        {
         "hovertemplate": "color=sometimes<br>0=%{x}<br>1=%{y}<br>2=%{z}<extra></extra>",
         "legendgroup": "sometimes",
         "marker": {
          "color": "#00cc96",
          "symbol": "circle"
         },
         "mode": "markers",
         "name": "sometimes",
         "scene": "scene",
         "showlegend": true,
         "type": "scatter3d",
         "x": [
          -0.04477586969733238
         ],
         "y": [
          -0.4010253846645355
         ],
         "z": [
          0.4530602991580963
         ]
        },
        {
         "hovertemplate": "color=commanded<br>0=%{x}<br>1=%{y}<br>2=%{z}<extra></extra>",
         "legendgroup": "commanded",
         "marker": {
          "color": "#ab63fa",
          "symbol": "circle"
         },
         "mode": "markers",
         "name": "commanded",
         "scene": "scene",
         "showlegend": true,
         "type": "scatter3d",
         "x": [
          -0.3820113241672516
         ],
         "y": [
          0.27847084403038025
         ],
         "z": [
          -0.05075699836015701
         ]
        },
        {
         "hovertemplate": "color=lysa<br>0=%{x}<br>1=%{y}<br>2=%{z}<extra></extra>",
         "legendgroup": "lysa",
         "marker": {
          "color": "#FFA15A",
          "symbol": "circle"
         },
         "mode": "markers",
         "name": "lysa",
         "scene": "scene",
         "showlegend": true,
         "type": "scatter3d",
         "x": [
          -0.42950186133384705
         ],
         "y": [
          0.13439175486564636
         ],
         "z": [
          -0.34068796038627625
         ]
        },
        {
         "hovertemplate": "color=filled<br>0=%{x}<br>1=%{y}<br>2=%{z}<extra></extra>",
         "legendgroup": "filled",
         "marker": {
          "color": "#19d3f3",
          "symbol": "circle"
         },
         "mode": "markers",
         "name": "filled",
         "scene": "scene",
         "showlegend": true,
         "type": "scatter3d",
         "x": [
          0.6331499814987183
         ],
         "y": [
          -0.10686863958835602
         ],
         "z": [
          0.07425806671380997
         ]
        },
        {
         "hovertemplate": "color=friend<br>0=%{x}<br>1=%{y}<br>2=%{z}<extra></extra>",
         "legendgroup": "friend",
         "marker": {
          "color": "#FF6692",
          "symbol": "circle"
         },
         "mode": "markers",
         "name": "friend",
         "scene": "scene",
         "showlegend": true,
         "type": "scatter3d",
         "x": [
          -0.6917348504066467
         ],
         "y": [
          -0.06635387241840363
         ],
         "z": [
          -0.16610214114189148
         ]
        },
        {
         "hovertemplate": "color=common<br>0=%{x}<br>1=%{y}<br>2=%{z}<extra></extra>",
         "legendgroup": "common",
         "marker": {
          "color": "#B6E880",
          "symbol": "circle"
         },
         "mode": "markers",
         "name": "common",
         "scene": "scene",
         "showlegend": true,
         "type": "scatter3d",
         "x": [
          -0.1980048418045044
         ],
         "y": [
          0.1890232264995575
         ],
         "z": [
          0.21533073484897614
         ]
        },
        {
         "hovertemplate": "color=led<br>0=%{x}<br>1=%{y}<br>2=%{z}<extra></extra>",
         "legendgroup": "led",
         "marker": {
          "color": "#FF97FF",
          "symbol": "circle"
         },
         "mode": "markers",
         "name": "led",
         "scene": "scene",
         "showlegend": true,
         "type": "scatter3d",
         "x": [
          0.29257839918136597
         ],
         "y": [
          0.6182698607444763
         ],
         "z": [
          -0.06129492446780205
         ]
        },
        {
         "hovertemplate": "color=spoke<br>0=%{x}<br>1=%{y}<br>2=%{z}<extra></extra>",
         "legendgroup": "spoke",
         "marker": {
          "color": "#FECB52",
          "symbol": "circle"
         },
         "mode": "markers",
         "name": "spoke",
         "scene": "scene",
         "showlegend": true,
         "type": "scatter3d",
         "x": [
          -0.27286040782928467
         ],
         "y": [
          -0.1302080899477005
         ],
         "z": [
          -0.2972019910812378
         ]
        },
        {
         "hovertemplate": "color=aye<br>0=%{x}<br>1=%{y}<br>2=%{z}<extra></extra>",
         "legendgroup": "aye",
         "marker": {
          "color": "#636efa",
          "symbol": "circle"
         },
         "mode": "markers",
         "name": "aye",
         "scene": "scene",
         "showlegend": true,
         "type": "scatter3d",
         "x": [
          -0.5184224247932434
         ],
         "y": [
          -0.01325379591435194
         ],
         "z": [
          -0.11018729954957962
         ]
        },
        {
         "hovertemplate": "color=show<br>0=%{x}<br>1=%{y}<br>2=%{z}<extra></extra>",
         "legendgroup": "show",
         "marker": {
          "color": "#EF553B",
          "symbol": "circle"
         },
         "mode": "markers",
         "name": "show",
         "scene": "scene",
         "showlegend": true,
         "type": "scatter3d",
         "x": [
          -0.42386674880981445
         ],
         "y": [
          -0.1786760538816452
         ],
         "z": [
          0.12718167901039124
         ]
        },
        {
         "hovertemplate": "color=flames<br>0=%{x}<br>1=%{y}<br>2=%{z}<extra></extra>",
         "legendgroup": "flames",
         "marker": {
          "color": "#00cc96",
          "symbol": "circle"
         },
         "mode": "markers",
         "name": "flames",
         "scene": "scene",
         "showlegend": true,
         "type": "scatter3d",
         "x": [
          0.6736240983009338
         ],
         "y": [
          -0.033349379897117615
         ],
         "z": [
          0.1695886105298996
         ]
        },
        {
         "hovertemplate": "color=fighting<br>0=%{x}<br>1=%{y}<br>2=%{z}<extra></extra>",
         "legendgroup": "fighting",
         "marker": {
          "color": "#ab63fa",
          "symbol": "circle"
         },
         "mode": "markers",
         "name": "fighting",
         "scene": "scene",
         "showlegend": true,
         "type": "scatter3d",
         "x": [
          -0.20013366639614105
         ],
         "y": [
          0.5354304909706116
         ],
         "z": [
          0.5033234357833862
         ]
        },
        {
         "hovertemplate": "color=asha<br>0=%{x}<br>1=%{y}<br>2=%{z}<extra></extra>",
         "legendgroup": "asha",
         "marker": {
          "color": "#FFA15A",
          "symbol": "circle"
         },
         "mode": "markers",
         "name": "asha",
         "scene": "scene",
         "showlegend": true,
         "type": "scatter3d",
         "x": [
          -0.19624361395835876
         ],
         "y": [
          0.011337985284626484
         ],
         "z": [
          -0.20773270726203918
         ]
        },
        {
         "hovertemplate": "color=huge<br>0=%{x}<br>1=%{y}<br>2=%{z}<extra></extra>",
         "legendgroup": "huge",
         "marker": {
          "color": "#19d3f3",
          "symbol": "circle"
         },
         "mode": "markers",
         "name": "huge",
         "scene": "scene",
         "showlegend": true,
         "type": "scatter3d",
         "x": [
          0.7529733777046204
         ],
         "y": [
          0.3113720715045929
         ],
         "z": [
          0.02182789519429207
         ]
        },
        {
         "hovertemplate": "color=aside<br>0=%{x}<br>1=%{y}<br>2=%{z}<extra></extra>",
         "legendgroup": "aside",
         "marker": {
          "color": "#FF6692",
          "symbol": "circle"
         },
         "mode": "markers",
         "name": "aside",
         "scene": "scene",
         "showlegend": true,
         "type": "scatter3d",
         "x": [
          0.2793786823749542
         ],
         "y": [
          -0.029369117692112923
         ],
         "z": [
          -0.3590952157974243
         ]
        },
        {
         "hovertemplate": "color=crow<br>0=%{x}<br>1=%{y}<br>2=%{z}<extra></extra>",
         "legendgroup": "crow",
         "marker": {
          "color": "#B6E880",
          "symbol": "circle"
         },
         "mode": "markers",
         "name": "crow",
         "scene": "scene",
         "showlegend": true,
         "type": "scatter3d",
         "x": [
          -0.197698712348938
         ],
         "y": [
          0.19372819364070892
         ],
         "z": [
          0.21178282797336578
         ]
        },
        {
         "hovertemplate": "color=belly<br>0=%{x}<br>1=%{y}<br>2=%{z}<extra></extra>",
         "legendgroup": "belly",
         "marker": {
          "color": "#FF97FF",
          "symbol": "circle"
         },
         "mode": "markers",
         "name": "belly",
         "scene": "scene",
         "showlegend": true,
         "type": "scatter3d",
         "x": [
          0.6432071328163147
         ],
         "y": [
          -0.31383460760116577
         ],
         "z": [
          -0.041557032614946365
         ]
        },
        {
         "hovertemplate": "color=yard<br>0=%{x}<br>1=%{y}<br>2=%{z}<extra></extra>",
         "legendgroup": "yard",
         "marker": {
          "color": "#FECB52",
          "symbol": "circle"
         },
         "mode": "markers",
         "name": "yard",
         "scene": "scene",
         "showlegend": true,
         "type": "scatter3d",
         "x": [
          0.5619152188301086
         ],
         "y": [
          0.22746463119983673
         ],
         "z": [
          0.18324843049049377
         ]
        },
        {
         "hovertemplate": "color=breath<br>0=%{x}<br>1=%{y}<br>2=%{z}<extra></extra>",
         "legendgroup": "breath",
         "marker": {
          "color": "#636efa",
          "symbol": "circle"
         },
         "mode": "markers",
         "name": "breath",
         "scene": "scene",
         "showlegend": true,
         "type": "scatter3d",
         "x": [
          0.5786874294281006
         ],
         "y": [
          -0.37308406829833984
         ],
         "z": [
          0.16912265121936798
         ]
        },
        {
         "hovertemplate": "color=seem<br>0=%{x}<br>1=%{y}<br>2=%{z}<extra></extra>",
         "legendgroup": "seem",
         "marker": {
          "color": "#EF553B",
          "symbol": "circle"
         },
         "mode": "markers",
         "name": "seem",
         "scene": "scene",
         "showlegend": true,
         "type": "scatter3d",
         "x": [
          -0.43780869245529175
         ],
         "y": [
          -0.3383701741695404
         ],
         "z": [
          0.261536180973053
         ]
        },
        {
         "hovertemplate": "color=gates<br>0=%{x}<br>1=%{y}<br>2=%{z}<extra></extra>",
         "legendgroup": "gates",
         "marker": {
          "color": "#00cc96",
          "symbol": "circle"
         },
         "mode": "markers",
         "name": "gates",
         "scene": "scene",
         "showlegend": true,
         "type": "scatter3d",
         "x": [
          0.24889039993286133
         ],
         "y": [
          0.6489730477333069
         ],
         "z": [
          0.2957308888435364
         ]
        },
        {
         "hovertemplate": "color=greyjoy<br>0=%{x}<br>1=%{y}<br>2=%{z}<extra></extra>",
         "legendgroup": "greyjoy",
         "marker": {
          "color": "#ab63fa",
          "symbol": "circle"
         },
         "mode": "markers",
         "name": "greyjoy",
         "scene": "scene",
         "showlegend": true,
         "type": "scatter3d",
         "x": [
          -0.2686757445335388
         ],
         "y": [
          0.568536639213562
         ],
         "z": [
          -0.40589556097984314
         ]
        },
        {
         "hovertemplate": "color=waiting<br>0=%{x}<br>1=%{y}<br>2=%{z}<extra></extra>",
         "legendgroup": "waiting",
         "marker": {
          "color": "#FFA15A",
          "symbol": "circle"
         },
         "mode": "markers",
         "name": "waiting",
         "scene": "scene",
         "showlegend": true,
         "type": "scatter3d",
         "x": [
          0.0183222908526659
         ],
         "y": [
          0.5714909434318542
         ],
         "z": [
          0.24957279860973358
         ]
        },
        {
         "hovertemplate": "color=within<br>0=%{x}<br>1=%{y}<br>2=%{z}<extra></extra>",
         "legendgroup": "within",
         "marker": {
          "color": "#19d3f3",
          "symbol": "circle"
         },
         "mode": "markers",
         "name": "within",
         "scene": "scene",
         "showlegend": true,
         "type": "scatter3d",
         "x": [
          0.32415851950645447
         ],
         "y": [
          0.5501983761787415
         ],
         "z": [
          0.5048302412033081
         ]
        },
        {
         "hovertemplate": "color=realm<br>0=%{x}<br>1=%{y}<br>2=%{z}<extra></extra>",
         "legendgroup": "realm",
         "marker": {
          "color": "#FF6692",
          "symbol": "circle"
         },
         "mode": "markers",
         "name": "realm",
         "scene": "scene",
         "showlegend": true,
         "type": "scatter3d",
         "x": [
          -0.6490544080734253
         ],
         "y": [
          0.49018481373786926
         ],
         "z": [
          0.1408274918794632
         ]
        },
        {
         "hovertemplate": "color=wet<br>0=%{x}<br>1=%{y}<br>2=%{z}<extra></extra>",
         "legendgroup": "wet",
         "marker": {
          "color": "#B6E880",
          "symbol": "circle"
         },
         "mode": "markers",
         "name": "wet",
         "scene": "scene",
         "showlegend": true,
         "type": "scatter3d",
         "x": [
          0.699543297290802
         ],
         "y": [
          -0.24048244953155518
         ],
         "z": [
          0.06595353037118912
         ]
        },
        {
         "hovertemplate": "color=looking<br>0=%{x}<br>1=%{y}<br>2=%{z}<extra></extra>",
         "legendgroup": "looking",
         "marker": {
          "color": "#FF97FF",
          "symbol": "circle"
         },
         "mode": "markers",
         "name": "looking",
         "scene": "scene",
         "showlegend": true,
         "type": "scatter3d",
         "x": [
          0.2620542645454407
         ],
         "y": [
          -0.2618181109428406
         ],
         "z": [
          0.09371550381183624
         ]
        },
        {
         "hovertemplate": "color=wooden<br>0=%{x}<br>1=%{y}<br>2=%{z}<extra></extra>",
         "legendgroup": "wooden",
         "marker": {
          "color": "#FECB52",
          "symbol": "circle"
         },
         "mode": "markers",
         "name": "wooden",
         "scene": "scene",
         "showlegend": true,
         "type": "scatter3d",
         "x": [
          0.7234320640563965
         ],
         "y": [
          0.365200012922287
         ],
         "z": [
          0.0836571678519249
         ]
        },
        {
         "hovertemplate": "color=later<br>0=%{x}<br>1=%{y}<br>2=%{z}<extra></extra>",
         "legendgroup": "later",
         "marker": {
          "color": "#636efa",
          "symbol": "circle"
         },
         "mode": "markers",
         "name": "later",
         "scene": "scene",
         "showlegend": true,
         "type": "scatter3d",
         "x": [
          0.06797335296869278
         ],
         "y": [
          0.36390936374664307
         ],
         "z": [
          0.2449796497821808
         ]
        },
        {
         "hovertemplate": "color=bad<br>0=%{x}<br>1=%{y}<br>2=%{z}<extra></extra>",
         "legendgroup": "bad",
         "marker": {
          "color": "#EF553B",
          "symbol": "circle"
         },
         "mode": "markers",
         "name": "bad",
         "scene": "scene",
         "showlegend": true,
         "type": "scatter3d",
         "x": [
          -0.28350868821144104
         ],
         "y": [
          -0.3494184613227844
         ],
         "z": [
          0.36774393916130066
         ]
        },
        {
         "hovertemplate": "color=use<br>0=%{x}<br>1=%{y}<br>2=%{z}<extra></extra>",
         "legendgroup": "use",
         "marker": {
          "color": "#00cc96",
          "symbol": "circle"
         },
         "mode": "markers",
         "name": "use",
         "scene": "scene",
         "showlegend": true,
         "type": "scatter3d",
         "x": [
          -0.4328157901763916
         ],
         "y": [
          -0.16836896538734436
         ],
         "z": [
          0.26498061418533325
         ]
        },
        {
         "hovertemplate": "color=thin<br>0=%{x}<br>1=%{y}<br>2=%{z}<extra></extra>",
         "legendgroup": "thin",
         "marker": {
          "color": "#ab63fa",
          "symbol": "circle"
         },
         "mode": "markers",
         "name": "thin",
         "scene": "scene",
         "showlegend": true,
         "type": "scatter3d",
         "x": [
          0.7087421417236328
         ],
         "y": [
          -0.09050324559211731
         ],
         "z": [
          -0.18233247101306915
         ]
        },
        {
         "hovertemplate": "color=work<br>0=%{x}<br>1=%{y}<br>2=%{z}<extra></extra>",
         "legendgroup": "work",
         "marker": {
          "color": "#FFA15A",
          "symbol": "circle"
         },
         "mode": "markers",
         "name": "work",
         "scene": "scene",
         "showlegend": true,
         "type": "scatter3d",
         "x": [
          -0.3908724784851074
         ],
         "y": [
          -0.10145190358161926
         ],
         "z": [
          0.24643076956272125
         ]
        },
        {
         "hovertemplate": "color=wildlings<br>0=%{x}<br>1=%{y}<br>2=%{z}<extra></extra>",
         "legendgroup": "wildlings",
         "marker": {
          "color": "#19d3f3",
          "symbol": "circle"
         },
         "mode": "markers",
         "name": "wildlings",
         "scene": "scene",
         "showlegend": true,
         "type": "scatter3d",
         "x": [
          -0.14136840403079987
         ],
         "y": [
          0.3290903568267822
         ],
         "z": [
          0.6133073568344116
         ]
        },
        {
         "hovertemplate": "color=husband<br>0=%{x}<br>1=%{y}<br>2=%{z}<extra></extra>",
         "legendgroup": "husband",
         "marker": {
          "color": "#FF6692",
          "symbol": "circle"
         },
         "mode": "markers",
         "name": "husband",
         "scene": "scene",
         "showlegend": true,
         "type": "scatter3d",
         "x": [
          -0.6880221962928772
         ],
         "y": [
          0.24461179971694946
         ],
         "z": [
          -0.21954724192619324
         ]
        },
        {
         "hovertemplate": "color=promised<br>0=%{x}<br>1=%{y}<br>2=%{z}<extra></extra>",
         "legendgroup": "promised",
         "marker": {
          "color": "#B6E880",
          "symbol": "circle"
         },
         "mode": "markers",
         "name": "promised",
         "scene": "scene",
         "showlegend": true,
         "type": "scatter3d",
         "x": [
          -0.5832421183586121
         ],
         "y": [
          0.105521559715271
         ],
         "z": [
          0.13989375531673431
         ]
        },
        {
         "hovertemplate": "color=grew<br>0=%{x}<br>1=%{y}<br>2=%{z}<extra></extra>",
         "legendgroup": "grew",
         "marker": {
          "color": "#FF97FF",
          "symbol": "circle"
         },
         "mode": "markers",
         "name": "grew",
         "scene": "scene",
         "showlegend": true,
         "type": "scatter3d",
         "x": [
          0.6192660331726074
         ],
         "y": [
          0.013199448585510254
         ],
         "z": [
          0.30379775166511536
         ]
        },
        {
         "hovertemplate": "color=girls<br>0=%{x}<br>1=%{y}<br>2=%{z}<extra></extra>",
         "legendgroup": "girls",
         "marker": {
          "color": "#FECB52",
          "symbol": "circle"
         },
         "mode": "markers",
         "name": "girls",
         "scene": "scene",
         "showlegend": true,
         "type": "scatter3d",
         "x": [
          -0.3108329176902771
         ],
         "y": [
          0.21947051584720612
         ],
         "z": [
          0.11856430768966675
         ]
        },
        {
         "hovertemplate": "color=littlefinger<br>0=%{x}<br>1=%{y}<br>2=%{z}<extra></extra>",
         "legendgroup": "littlefinger",
         "marker": {
          "color": "#636efa",
          "symbol": "circle"
         },
         "mode": "markers",
         "name": "littlefinger",
         "scene": "scene",
         "showlegend": true,
         "type": "scatter3d",
         "x": [
          -0.37536126375198364
         ],
         "y": [
          -0.1091214194893837
         ],
         "z": [
          -0.5397256016731262
         ]
        },
        {
         "hovertemplate": "color=loved<br>0=%{x}<br>1=%{y}<br>2=%{z}<extra></extra>",
         "legendgroup": "loved",
         "marker": {
          "color": "#EF553B",
          "symbol": "circle"
         },
         "mode": "markers",
         "name": "loved",
         "scene": "scene",
         "showlegend": true,
         "type": "scatter3d",
         "x": [
          -0.5582117438316345
         ],
         "y": [
          -0.10254918783903122
         ],
         "z": [
          -0.03278914839029312
         ]
        },
        {
         "hovertemplate": "color=tree<br>0=%{x}<br>1=%{y}<br>2=%{z}<extra></extra>",
         "legendgroup": "tree",
         "marker": {
          "color": "#00cc96",
          "symbol": "circle"
         },
         "mode": "markers",
         "name": "tree",
         "scene": "scene",
         "showlegend": true,
         "type": "scatter3d",
         "x": [
          0.7167199850082397
         ],
         "y": [
          0.07036278396844864
         ],
         "z": [
          0.11871180683374405
         ]
        },
        {
         "hovertemplate": "color=onto<br>0=%{x}<br>1=%{y}<br>2=%{z}<extra></extra>",
         "legendgroup": "onto",
         "marker": {
          "color": "#ab63fa",
          "symbol": "circle"
         },
         "mode": "markers",
         "name": "onto",
         "scene": "scene",
         "showlegend": true,
         "type": "scatter3d",
         "x": [
          0.6939738392829895
         ],
         "y": [
          0.13393960893154144
         ],
         "z": [
          -0.24702709913253784
         ]
        },
        {
         "hovertemplate": "color=bronn<br>0=%{x}<br>1=%{y}<br>2=%{z}<extra></extra>",
         "legendgroup": "bronn",
         "marker": {
          "color": "#FFA15A",
          "symbol": "circle"
         },
         "mode": "markers",
         "name": "bronn",
         "scene": "scene",
         "showlegend": true,
         "type": "scatter3d",
         "x": [
          -0.114866241812706
         ],
         "y": [
          -0.10927382111549377
         ],
         "z": [
          -0.4188850224018097
         ]
        },
        {
         "hovertemplate": "color=guard<br>0=%{x}<br>1=%{y}<br>2=%{z}<extra></extra>",
         "legendgroup": "guard",
         "marker": {
          "color": "#19d3f3",
          "symbol": "circle"
         },
         "mode": "markers",
         "name": "guard",
         "scene": "scene",
         "showlegend": true,
         "type": "scatter3d",
         "x": [
          -0.1355806440114975
         ],
         "y": [
          0.6473706960678101
         ],
         "z": [
          -0.2590339481830597
         ]
        },
        {
         "hovertemplate": "color=afraid<br>0=%{x}<br>1=%{y}<br>2=%{z}<extra></extra>",
         "legendgroup": "afraid",
         "marker": {
          "color": "#FF6692",
          "symbol": "circle"
         },
         "mode": "markers",
         "name": "afraid",
         "scene": "scene",
         "showlegend": true,
         "type": "scatter3d",
         "x": [
          -0.3168894052505493
         ],
         "y": [
          -0.513359010219574
         ],
         "z": [
          0.22940291464328766
         ]
        },
        {
         "hovertemplate": "color=rain<br>0=%{x}<br>1=%{y}<br>2=%{z}<extra></extra>",
         "legendgroup": "rain",
         "marker": {
          "color": "#B6E880",
          "symbol": "circle"
         },
         "mode": "markers",
         "name": "rain",
         "scene": "scene",
         "showlegend": true,
         "type": "scatter3d",
         "x": [
          0.6560414433479309
         ],
         "y": [
          -0.03947495296597481
         ],
         "z": [
          0.3778253495693207
         ]
        },
        {
         "hovertemplate": "color=maid<br>0=%{x}<br>1=%{y}<br>2=%{z}<extra></extra>",
         "legendgroup": "maid",
         "marker": {
          "color": "#FF97FF",
          "symbol": "circle"
         },
         "mode": "markers",
         "name": "maid",
         "scene": "scene",
         "showlegend": true,
         "type": "scatter3d",
         "x": [
          -0.25694477558135986
         ],
         "y": [
          0.38673803210258484
         ],
         "z": [
          -0.42506882548332214
         ]
        },
        {
         "hovertemplate": "color=shoulders<br>0=%{x}<br>1=%{y}<br>2=%{z}<extra></extra>",
         "legendgroup": "shoulders",
         "marker": {
          "color": "#FECB52",
          "symbol": "circle"
         },
         "mode": "markers",
         "name": "shoulders",
         "scene": "scene",
         "showlegend": true,
         "type": "scatter3d",
         "x": [
          0.7197241187095642
         ],
         "y": [
          0.1344640552997589
         ],
         "z": [
          -0.3113528788089752
         ]
        }
       ],
       "layout": {
        "legend": {
         "title": {
          "text": "color"
         },
         "tracegroupgap": 0
        },
        "margin": {
         "t": 60
        },
        "scene": {
         "domain": {
          "x": [
           0,
           1
          ],
          "y": [
           0,
           1
          ]
         },
         "xaxis": {
          "title": {
           "text": "0"
          }
         },
         "yaxis": {
          "title": {
           "text": "1"
          }
         },
         "zaxis": {
          "title": {
           "text": "2"
          }
         }
        },
        "template": {
         "data": {
          "bar": [
           {
            "error_x": {
             "color": "#2a3f5f"
            },
            "error_y": {
             "color": "#2a3f5f"
            },
            "marker": {
             "line": {
              "color": "#E5ECF6",
              "width": 0.5
             },
             "pattern": {
              "fillmode": "overlay",
              "size": 10,
              "solidity": 0.2
             }
            },
            "type": "bar"
           }
          ],
          "barpolar": [
           {
            "marker": {
             "line": {
              "color": "#E5ECF6",
              "width": 0.5
             },
             "pattern": {
              "fillmode": "overlay",
              "size": 10,
              "solidity": 0.2
             }
            },
            "type": "barpolar"
           }
          ],
          "carpet": [
           {
            "aaxis": {
             "endlinecolor": "#2a3f5f",
             "gridcolor": "white",
             "linecolor": "white",
             "minorgridcolor": "white",
             "startlinecolor": "#2a3f5f"
            },
            "baxis": {
             "endlinecolor": "#2a3f5f",
             "gridcolor": "white",
             "linecolor": "white",
             "minorgridcolor": "white",
             "startlinecolor": "#2a3f5f"
            },
            "type": "carpet"
           }
          ],
          "choropleth": [
           {
            "colorbar": {
             "outlinewidth": 0,
             "ticks": ""
            },
            "type": "choropleth"
           }
          ],
          "contour": [
           {
            "colorbar": {
             "outlinewidth": 0,
             "ticks": ""
            },
            "colorscale": [
             [
              0,
              "#0d0887"
             ],
             [
              0.1111111111111111,
              "#46039f"
             ],
             [
              0.2222222222222222,
              "#7201a8"
             ],
             [
              0.3333333333333333,
              "#9c179e"
             ],
             [
              0.4444444444444444,
              "#bd3786"
             ],
             [
              0.5555555555555556,
              "#d8576b"
             ],
             [
              0.6666666666666666,
              "#ed7953"
             ],
             [
              0.7777777777777778,
              "#fb9f3a"
             ],
             [
              0.8888888888888888,
              "#fdca26"
             ],
             [
              1,
              "#f0f921"
             ]
            ],
            "type": "contour"
           }
          ],
          "contourcarpet": [
           {
            "colorbar": {
             "outlinewidth": 0,
             "ticks": ""
            },
            "type": "contourcarpet"
           }
          ],
          "heatmap": [
           {
            "colorbar": {
             "outlinewidth": 0,
             "ticks": ""
            },
            "colorscale": [
             [
              0,
              "#0d0887"
             ],
             [
              0.1111111111111111,
              "#46039f"
             ],
             [
              0.2222222222222222,
              "#7201a8"
             ],
             [
              0.3333333333333333,
              "#9c179e"
             ],
             [
              0.4444444444444444,
              "#bd3786"
             ],
             [
              0.5555555555555556,
              "#d8576b"
             ],
             [
              0.6666666666666666,
              "#ed7953"
             ],
             [
              0.7777777777777778,
              "#fb9f3a"
             ],
             [
              0.8888888888888888,
              "#fdca26"
             ],
             [
              1,
              "#f0f921"
             ]
            ],
            "type": "heatmap"
           }
          ],
          "heatmapgl": [
           {
            "colorbar": {
             "outlinewidth": 0,
             "ticks": ""
            },
            "colorscale": [
             [
              0,
              "#0d0887"
             ],
             [
              0.1111111111111111,
              "#46039f"
             ],
             [
              0.2222222222222222,
              "#7201a8"
             ],
             [
              0.3333333333333333,
              "#9c179e"
             ],
             [
              0.4444444444444444,
              "#bd3786"
             ],
             [
              0.5555555555555556,
              "#d8576b"
             ],
             [
              0.6666666666666666,
              "#ed7953"
             ],
             [
              0.7777777777777778,
              "#fb9f3a"
             ],
             [
              0.8888888888888888,
              "#fdca26"
             ],
             [
              1,
              "#f0f921"
             ]
            ],
            "type": "heatmapgl"
           }
          ],
          "histogram": [
           {
            "marker": {
             "pattern": {
              "fillmode": "overlay",
              "size": 10,
              "solidity": 0.2
             }
            },
            "type": "histogram"
           }
          ],
          "histogram2d": [
           {
            "colorbar": {
             "outlinewidth": 0,
             "ticks": ""
            },
            "colorscale": [
             [
              0,
              "#0d0887"
             ],
             [
              0.1111111111111111,
              "#46039f"
             ],
             [
              0.2222222222222222,
              "#7201a8"
             ],
             [
              0.3333333333333333,
              "#9c179e"
             ],
             [
              0.4444444444444444,
              "#bd3786"
             ],
             [
              0.5555555555555556,
              "#d8576b"
             ],
             [
              0.6666666666666666,
              "#ed7953"
             ],
             [
              0.7777777777777778,
              "#fb9f3a"
             ],
             [
              0.8888888888888888,
              "#fdca26"
             ],
             [
              1,
              "#f0f921"
             ]
            ],
            "type": "histogram2d"
           }
          ],
          "histogram2dcontour": [
           {
            "colorbar": {
             "outlinewidth": 0,
             "ticks": ""
            },
            "colorscale": [
             [
              0,
              "#0d0887"
             ],
             [
              0.1111111111111111,
              "#46039f"
             ],
             [
              0.2222222222222222,
              "#7201a8"
             ],
             [
              0.3333333333333333,
              "#9c179e"
             ],
             [
              0.4444444444444444,
              "#bd3786"
             ],
             [
              0.5555555555555556,
              "#d8576b"
             ],
             [
              0.6666666666666666,
              "#ed7953"
             ],
             [
              0.7777777777777778,
              "#fb9f3a"
             ],
             [
              0.8888888888888888,
              "#fdca26"
             ],
             [
              1,
              "#f0f921"
             ]
            ],
            "type": "histogram2dcontour"
           }
          ],
          "mesh3d": [
           {
            "colorbar": {
             "outlinewidth": 0,
             "ticks": ""
            },
            "type": "mesh3d"
           }
          ],
          "parcoords": [
           {
            "line": {
             "colorbar": {
              "outlinewidth": 0,
              "ticks": ""
             }
            },
            "type": "parcoords"
           }
          ],
          "pie": [
           {
            "automargin": true,
            "type": "pie"
           }
          ],
          "scatter": [
           {
            "fillpattern": {
             "fillmode": "overlay",
             "size": 10,
             "solidity": 0.2
            },
            "type": "scatter"
           }
          ],
          "scatter3d": [
           {
            "line": {
             "colorbar": {
              "outlinewidth": 0,
              "ticks": ""
             }
            },
            "marker": {
             "colorbar": {
              "outlinewidth": 0,
              "ticks": ""
             }
            },
            "type": "scatter3d"
           }
          ],
          "scattercarpet": [
           {
            "marker": {
             "colorbar": {
              "outlinewidth": 0,
              "ticks": ""
             }
            },
            "type": "scattercarpet"
           }
          ],
          "scattergeo": [
           {
            "marker": {
             "colorbar": {
              "outlinewidth": 0,
              "ticks": ""
             }
            },
            "type": "scattergeo"
           }
          ],
          "scattergl": [
           {
            "marker": {
             "colorbar": {
              "outlinewidth": 0,
              "ticks": ""
             }
            },
            "type": "scattergl"
           }
          ],
          "scattermapbox": [
           {
            "marker": {
             "colorbar": {
              "outlinewidth": 0,
              "ticks": ""
             }
            },
            "type": "scattermapbox"
           }
          ],
          "scatterpolar": [
           {
            "marker": {
             "colorbar": {
              "outlinewidth": 0,
              "ticks": ""
             }
            },
            "type": "scatterpolar"
           }
          ],
          "scatterpolargl": [
           {
            "marker": {
             "colorbar": {
              "outlinewidth": 0,
              "ticks": ""
             }
            },
            "type": "scatterpolargl"
           }
          ],
          "scatterternary": [
           {
            "marker": {
             "colorbar": {
              "outlinewidth": 0,
              "ticks": ""
             }
            },
            "type": "scatterternary"
           }
          ],
          "surface": [
           {
            "colorbar": {
             "outlinewidth": 0,
             "ticks": ""
            },
            "colorscale": [
             [
              0,
              "#0d0887"
             ],
             [
              0.1111111111111111,
              "#46039f"
             ],
             [
              0.2222222222222222,
              "#7201a8"
             ],
             [
              0.3333333333333333,
              "#9c179e"
             ],
             [
              0.4444444444444444,
              "#bd3786"
             ],
             [
              0.5555555555555556,
              "#d8576b"
             ],
             [
              0.6666666666666666,
              "#ed7953"
             ],
             [
              0.7777777777777778,
              "#fb9f3a"
             ],
             [
              0.8888888888888888,
              "#fdca26"
             ],
             [
              1,
              "#f0f921"
             ]
            ],
            "type": "surface"
           }
          ],
          "table": [
           {
            "cells": {
             "fill": {
              "color": "#EBF0F8"
             },
             "line": {
              "color": "white"
             }
            },
            "header": {
             "fill": {
              "color": "#C8D4E3"
             },
             "line": {
              "color": "white"
             }
            },
            "type": "table"
           }
          ]
         },
         "layout": {
          "annotationdefaults": {
           "arrowcolor": "#2a3f5f",
           "arrowhead": 0,
           "arrowwidth": 1
          },
          "autotypenumbers": "strict",
          "coloraxis": {
           "colorbar": {
            "outlinewidth": 0,
            "ticks": ""
           }
          },
          "colorscale": {
           "diverging": [
            [
             0,
             "#8e0152"
            ],
            [
             0.1,
             "#c51b7d"
            ],
            [
             0.2,
             "#de77ae"
            ],
            [
             0.3,
             "#f1b6da"
            ],
            [
             0.4,
             "#fde0ef"
            ],
            [
             0.5,
             "#f7f7f7"
            ],
            [
             0.6,
             "#e6f5d0"
            ],
            [
             0.7,
             "#b8e186"
            ],
            [
             0.8,
             "#7fbc41"
            ],
            [
             0.9,
             "#4d9221"
            ],
            [
             1,
             "#276419"
            ]
           ],
           "sequential": [
            [
             0,
             "#0d0887"
            ],
            [
             0.1111111111111111,
             "#46039f"
            ],
            [
             0.2222222222222222,
             "#7201a8"
            ],
            [
             0.3333333333333333,
             "#9c179e"
            ],
            [
             0.4444444444444444,
             "#bd3786"
            ],
            [
             0.5555555555555556,
             "#d8576b"
            ],
            [
             0.6666666666666666,
             "#ed7953"
            ],
            [
             0.7777777777777778,
             "#fb9f3a"
            ],
            [
             0.8888888888888888,
             "#fdca26"
            ],
            [
             1,
             "#f0f921"
            ]
           ],
           "sequentialminus": [
            [
             0,
             "#0d0887"
            ],
            [
             0.1111111111111111,
             "#46039f"
            ],
            [
             0.2222222222222222,
             "#7201a8"
            ],
            [
             0.3333333333333333,
             "#9c179e"
            ],
            [
             0.4444444444444444,
             "#bd3786"
            ],
            [
             0.5555555555555556,
             "#d8576b"
            ],
            [
             0.6666666666666666,
             "#ed7953"
            ],
            [
             0.7777777777777778,
             "#fb9f3a"
            ],
            [
             0.8888888888888888,
             "#fdca26"
            ],
            [
             1,
             "#f0f921"
            ]
           ]
          },
          "colorway": [
           "#636efa",
           "#EF553B",
           "#00cc96",
           "#ab63fa",
           "#FFA15A",
           "#19d3f3",
           "#FF6692",
           "#B6E880",
           "#FF97FF",
           "#FECB52"
          ],
          "font": {
           "color": "#2a3f5f"
          },
          "geo": {
           "bgcolor": "white",
           "lakecolor": "white",
           "landcolor": "#E5ECF6",
           "showlakes": true,
           "showland": true,
           "subunitcolor": "white"
          },
          "hoverlabel": {
           "align": "left"
          },
          "hovermode": "closest",
          "mapbox": {
           "style": "light"
          },
          "paper_bgcolor": "white",
          "plot_bgcolor": "#E5ECF6",
          "polar": {
           "angularaxis": {
            "gridcolor": "white",
            "linecolor": "white",
            "ticks": ""
           },
           "bgcolor": "#E5ECF6",
           "radialaxis": {
            "gridcolor": "white",
            "linecolor": "white",
            "ticks": ""
           }
          },
          "scene": {
           "xaxis": {
            "backgroundcolor": "#E5ECF6",
            "gridcolor": "white",
            "gridwidth": 2,
            "linecolor": "white",
            "showbackground": true,
            "ticks": "",
            "zerolinecolor": "white"
           },
           "yaxis": {
            "backgroundcolor": "#E5ECF6",
            "gridcolor": "white",
            "gridwidth": 2,
            "linecolor": "white",
            "showbackground": true,
            "ticks": "",
            "zerolinecolor": "white"
           },
           "zaxis": {
            "backgroundcolor": "#E5ECF6",
            "gridcolor": "white",
            "gridwidth": 2,
            "linecolor": "white",
            "showbackground": true,
            "ticks": "",
            "zerolinecolor": "white"
           }
          },
          "shapedefaults": {
           "line": {
            "color": "#2a3f5f"
           }
          },
          "ternary": {
           "aaxis": {
            "gridcolor": "white",
            "linecolor": "white",
            "ticks": ""
           },
           "baxis": {
            "gridcolor": "white",
            "linecolor": "white",
            "ticks": ""
           },
           "bgcolor": "#E5ECF6",
           "caxis": {
            "gridcolor": "white",
            "linecolor": "white",
            "ticks": ""
           }
          },
          "title": {
           "x": 0.05
          },
          "xaxis": {
           "automargin": true,
           "gridcolor": "white",
           "linecolor": "white",
           "ticks": "",
           "title": {
            "standoff": 15
           },
           "zerolinecolor": "white",
           "zerolinewidth": 2
          },
          "yaxis": {
           "automargin": true,
           "gridcolor": "white",
           "linecolor": "white",
           "ticks": "",
           "title": {
            "standoff": 15
           },
           "zerolinecolor": "white",
           "zerolinewidth": 2
          }
         }
        }
       }
      },
      "text/html": [
       "<div>                            <div id=\"b5100b8a-4860-4958-8ffb-e5d10ffd5a23\" class=\"plotly-graph-div\" style=\"height:525px; width:100%;\"></div>            <script type=\"text/javascript\">                require([\"plotly\"], function(Plotly) {                    window.PLOTLYENV=window.PLOTLYENV || {};                                    if (document.getElementById(\"b5100b8a-4860-4958-8ffb-e5d10ffd5a23\")) {                    Plotly.newPlot(                        \"b5100b8a-4860-4958-8ffb-e5d10ffd5a23\",                        [{\"hovertemplate\":\"color=said<br>0=%{x}<br>1=%{y}<br>2=%{z}<extra></extra>\",\"legendgroup\":\"said\",\"marker\":{\"color\":\"#636efa\",\"symbol\":\"circle\"},\"mode\":\"markers\",\"name\":\"said\",\"scene\":\"scene\",\"showlegend\":true,\"x\":[-0.43545353412628174],\"y\":[0.007551862392574549],\"z\":[-0.24982702732086182],\"type\":\"scatter3d\"},{\"hovertemplate\":\"color=lord<br>0=%{x}<br>1=%{y}<br>2=%{z}<extra></extra>\",\"legendgroup\":\"lord\",\"marker\":{\"color\":\"#EF553B\",\"symbol\":\"circle\"},\"mode\":\"markers\",\"name\":\"lord\",\"scene\":\"scene\",\"showlegend\":true,\"x\":[-0.33841168880462646],\"y\":[0.5741134881973267],\"z\":[-0.39475682377815247],\"type\":\"scatter3d\"},{\"hovertemplate\":\"color=would<br>0=%{x}<br>1=%{y}<br>2=%{z}<extra></extra>\",\"legendgroup\":\"would\",\"marker\":{\"color\":\"#00cc96\",\"symbol\":\"circle\"},\"mode\":\"markers\",\"name\":\"would\",\"scene\":\"scene\",\"showlegend\":true,\"x\":[-0.4761304557323456],\"y\":[0.023445161059498787],\"z\":[0.335684210062027],\"type\":\"scatter3d\"},{\"hovertemplate\":\"color=one<br>0=%{x}<br>1=%{y}<br>2=%{z}<extra></extra>\",\"legendgroup\":\"one\",\"marker\":{\"color\":\"#ab63fa\",\"symbol\":\"circle\"},\"mode\":\"markers\",\"name\":\"one\",\"scene\":\"scene\",\"showlegend\":true,\"x\":[0.06884101033210754],\"y\":[0.16274699568748474],\"z\":[0.033720485866069794],\"type\":\"scatter3d\"},{\"hovertemplate\":\"color=ser<br>0=%{x}<br>1=%{y}<br>2=%{z}<extra></extra>\",\"legendgroup\":\"ser\",\"marker\":{\"color\":\"#FFA15A\",\"symbol\":\"circle\"},\"mode\":\"markers\",\"name\":\"ser\",\"scene\":\"scene\",\"showlegend\":true,\"x\":[-0.23347432911396027],\"y\":[0.5064767003059387],\"z\":[-0.6255391836166382],\"type\":\"scatter3d\"},{\"hovertemplate\":\"color=could<br>0=%{x}<br>1=%{y}<br>2=%{z}<extra></extra>\",\"legendgroup\":\"could\",\"marker\":{\"color\":\"#19d3f3\",\"symbol\":\"circle\"},\"mode\":\"markers\",\"name\":\"could\",\"scene\":\"scene\",\"showlegend\":true,\"x\":[0.001030399464070797],\"y\":[-0.07549943774938583],\"z\":[0.2966916263103485],\"type\":\"scatter3d\"},{\"hovertemplate\":\"color=man<br>0=%{x}<br>1=%{y}<br>2=%{z}<extra></extra>\",\"legendgroup\":\"man\",\"marker\":{\"color\":\"#FF6692\",\"symbol\":\"circle\"},\"mode\":\"markers\",\"name\":\"man\",\"scene\":\"scene\",\"showlegend\":true,\"x\":[-0.004912117496132851],\"y\":[0.12756015360355377],\"z\":[-0.17446936666965485],\"type\":\"scatter3d\"},{\"hovertemplate\":\"color=king<br>0=%{x}<br>1=%{y}<br>2=%{z}<extra></extra>\",\"legendgroup\":\"king\",\"marker\":{\"color\":\"#B6E880\",\"symbol\":\"circle\"},\"mode\":\"markers\",\"name\":\"king\",\"scene\":\"scene\",\"showlegend\":true,\"x\":[-0.31892597675323486],\"y\":[0.55204838514328],\"z\":[-0.16218112409114838],\"type\":\"scatter3d\"},{\"hovertemplate\":\"color=men<br>0=%{x}<br>1=%{y}<br>2=%{z}<extra></extra>\",\"legendgroup\":\"men\",\"marker\":{\"color\":\"#FF97FF\",\"symbol\":\"circle\"},\"mode\":\"markers\",\"name\":\"men\",\"scene\":\"scene\",\"showlegend\":true,\"x\":[-0.05278667062520981],\"y\":[0.5735076069831848],\"z\":[0.23954205214977264],\"type\":\"scatter3d\"},{\"hovertemplate\":\"color=back<br>0=%{x}<br>1=%{y}<br>2=%{z}<extra></extra>\",\"legendgroup\":\"back\",\"marker\":{\"color\":\"#FECB52\",\"symbol\":\"circle\"},\"mode\":\"markers\",\"name\":\"back\",\"scene\":\"scene\",\"showlegend\":true,\"x\":[0.27338171005249023],\"y\":[0.07476292550563812],\"z\":[-0.024462813511490822],\"type\":\"scatter3d\"},{\"hovertemplate\":\"color=well<br>0=%{x}<br>1=%{y}<br>2=%{z}<extra></extra>\",\"legendgroup\":\"well\",\"marker\":{\"color\":\"#636efa\",\"symbol\":\"circle\"},\"mode\":\"markers\",\"name\":\"well\",\"scene\":\"scene\",\"showlegend\":true,\"x\":[-0.3957688808441162],\"y\":[0.23027661442756653],\"z\":[0.1999925822019577],\"type\":\"scatter3d\"},{\"hovertemplate\":\"color=jon<br>0=%{x}<br>1=%{y}<br>2=%{z}<extra></extra>\",\"legendgroup\":\"jon\",\"marker\":{\"color\":\"#EF553B\",\"symbol\":\"circle\"},\"mode\":\"markers\",\"name\":\"jon\",\"scene\":\"scene\",\"showlegend\":true,\"x\":[0.01240255031734705],\"y\":[0.03118979185819626],\"z\":[-0.1448202133178711],\"type\":\"scatter3d\"},{\"hovertemplate\":\"color=like<br>0=%{x}<br>1=%{y}<br>2=%{z}<extra></extra>\",\"legendgroup\":\"like\",\"marker\":{\"color\":\"#00cc96\",\"symbol\":\"circle\"},\"mode\":\"markers\",\"name\":\"like\",\"scene\":\"scene\",\"showlegend\":true,\"x\":[0.2940096855163574],\"y\":[-0.07934050261974335],\"z\":[0.2576809525489807],\"type\":\"scatter3d\"},{\"hovertemplate\":\"color=father<br>0=%{x}<br>1=%{y}<br>2=%{z}<extra></extra>\",\"legendgroup\":\"father\",\"marker\":{\"color\":\"#ab63fa\",\"symbol\":\"circle\"},\"mode\":\"markers\",\"name\":\"father\",\"scene\":\"scene\",\"showlegend\":true,\"x\":[-0.586563229560852],\"y\":[0.350691020488739],\"z\":[-0.1945565789937973],\"type\":\"scatter3d\"},{\"hovertemplate\":\"color=old<br>0=%{x}<br>1=%{y}<br>2=%{z}<extra></extra>\",\"legendgroup\":\"old\",\"marker\":{\"color\":\"#FFA15A\",\"symbol\":\"circle\"},\"mode\":\"markers\",\"name\":\"old\",\"scene\":\"scene\",\"showlegend\":true,\"x\":[0.029246341437101364],\"y\":[0.3443223536014557],\"z\":[-0.08399587124586105],\"type\":\"scatter3d\"},{\"hovertemplate\":\"color=hand<br>0=%{x}<br>1=%{y}<br>2=%{z}<extra></extra>\",\"legendgroup\":\"hand\",\"marker\":{\"color\":\"#19d3f3\",\"symbol\":\"circle\"},\"mode\":\"markers\",\"name\":\"hand\",\"scene\":\"scene\",\"showlegend\":true,\"x\":[0.15675747394561768],\"y\":[0.07982178777456284],\"z\":[-0.3447471559047699],\"type\":\"scatter3d\"},{\"hovertemplate\":\"color=tyrion<br>0=%{x}<br>1=%{y}<br>2=%{z}<extra></extra>\",\"legendgroup\":\"tyrion\",\"marker\":{\"color\":\"#FF6692\",\"symbol\":\"circle\"},\"mode\":\"markers\",\"name\":\"tyrion\",\"scene\":\"scene\",\"showlegend\":true,\"x\":[-0.04282246530056],\"y\":[-0.2399246096611023],\"z\":[-0.30544596910476685],\"type\":\"scatter3d\"},{\"hovertemplate\":\"color=even<br>0=%{x}<br>1=%{y}<br>2=%{z}<extra></extra>\",\"legendgroup\":\"even\",\"marker\":{\"color\":\"#B6E880\",\"symbol\":\"circle\"},\"mode\":\"markers\",\"name\":\"even\",\"scene\":\"scene\",\"showlegend\":true,\"x\":[-0.026370808482170105],\"y\":[0.011193745769560337],\"z\":[0.4657020568847656],\"type\":\"scatter3d\"},{\"hovertemplate\":\"color=never<br>0=%{x}<br>1=%{y}<br>2=%{z}<extra></extra>\",\"legendgroup\":\"never\",\"marker\":{\"color\":\"#FF97FF\",\"symbol\":\"circle\"},\"mode\":\"markers\",\"name\":\"never\",\"scene\":\"scene\",\"showlegend\":true,\"x\":[-0.4254928231239319],\"y\":[-0.13592571020126343],\"z\":[0.19241631031036377],\"type\":\"scatter3d\"},{\"hovertemplate\":\"color=see<br>0=%{x}<br>1=%{y}<br>2=%{z}<extra></extra>\",\"legendgroup\":\"see\",\"marker\":{\"color\":\"#FECB52\",\"symbol\":\"circle\"},\"mode\":\"markers\",\"name\":\"see\",\"scene\":\"scene\",\"showlegend\":true,\"x\":[-0.000797591230366379],\"y\":[-0.01648457907140255],\"z\":[0.2079654335975647],\"type\":\"scatter3d\"},{\"hovertemplate\":\"color=know<br>0=%{x}<br>1=%{y}<br>2=%{z}<extra></extra>\",\"legendgroup\":\"know\",\"marker\":{\"color\":\"#636efa\",\"symbol\":\"circle\"},\"mode\":\"markers\",\"name\":\"know\",\"scene\":\"scene\",\"showlegend\":true,\"x\":[-0.6521561145782471],\"y\":[-0.005418936721980572],\"z\":[0.23288629949092865],\"type\":\"scatter3d\"},{\"hovertemplate\":\"color=made<br>0=%{x}<br>1=%{y}<br>2=%{z}<extra></extra>\",\"legendgroup\":\"made\",\"marker\":{\"color\":\"#EF553B\",\"symbol\":\"circle\"},\"mode\":\"markers\",\"name\":\"made\",\"scene\":\"scene\",\"showlegend\":true,\"x\":[0.14572516083717346],\"y\":[-0.06622088700532913],\"z\":[0.16869546473026276],\"type\":\"scatter3d\"},{\"hovertemplate\":\"color=eyes<br>0=%{x}<br>1=%{y}<br>2=%{z}<extra></extra>\",\"legendgroup\":\"eyes\",\"marker\":{\"color\":\"#00cc96\",\"symbol\":\"circle\"},\"mode\":\"markers\",\"name\":\"eyes\",\"scene\":\"scene\",\"showlegend\":true,\"x\":[0.3183199465274811],\"y\":[-0.17273366451263428],\"z\":[-0.14899128675460815],\"type\":\"scatter3d\"},{\"hovertemplate\":\"color=black<br>0=%{x}<br>1=%{y}<br>2=%{z}<extra></extra>\",\"legendgroup\":\"black\",\"marker\":{\"color\":\"#ab63fa\",\"symbol\":\"circle\"},\"mode\":\"markers\",\"name\":\"black\",\"scene\":\"scene\",\"showlegend\":true,\"x\":[0.47198939323425293],\"y\":[0.49550339579582214],\"z\":[-0.07982617616653442],\"type\":\"scatter3d\"},{\"hovertemplate\":\"color=told<br>0=%{x}<br>1=%{y}<br>2=%{z}<extra></extra>\",\"legendgroup\":\"told\",\"marker\":{\"color\":\"#FFA15A\",\"symbol\":\"circle\"},\"mode\":\"markers\",\"name\":\"told\",\"scene\":\"scene\",\"showlegend\":true,\"x\":[-0.4436835050582886],\"y\":[-0.001934348838403821],\"z\":[0.09385433793067932],\"type\":\"scatter3d\"},{\"hovertemplate\":\"color=lady<br>0=%{x}<br>1=%{y}<br>2=%{z}<extra></extra>\",\"legendgroup\":\"lady\",\"marker\":{\"color\":\"#19d3f3\",\"symbol\":\"circle\"},\"mode\":\"markers\",\"name\":\"lady\",\"scene\":\"scene\",\"showlegend\":true,\"x\":[-0.3753306567668915],\"y\":[0.433910995721817],\"z\":[-0.5046404004096985],\"type\":\"scatter3d\"},{\"hovertemplate\":\"color=thought<br>0=%{x}<br>1=%{y}<br>2=%{z}<extra></extra>\",\"legendgroup\":\"thought\",\"marker\":{\"color\":\"#FF6692\",\"symbol\":\"circle\"},\"mode\":\"markers\",\"name\":\"thought\",\"scene\":\"scene\",\"showlegend\":true,\"x\":[-0.21286530792713165],\"y\":[-0.21709387004375458],\"z\":[0.1543089747428894],\"type\":\"scatter3d\"},{\"hovertemplate\":\"color=time<br>0=%{x}<br>1=%{y}<br>2=%{z}<extra></extra>\",\"legendgroup\":\"time\",\"marker\":{\"color\":\"#B6E880\",\"symbol\":\"circle\"},\"mode\":\"markers\",\"name\":\"time\",\"scene\":\"scene\",\"showlegend\":true,\"x\":[0.017829036340117455],\"y\":[0.0027516274712979794],\"z\":[0.23622199892997742],\"type\":\"scatter3d\"},{\"hovertemplate\":\"color=long<br>0=%{x}<br>1=%{y}<br>2=%{z}<extra></extra>\",\"legendgroup\":\"long\",\"marker\":{\"color\":\"#FF97FF\",\"symbol\":\"circle\"},\"mode\":\"markers\",\"name\":\"long\",\"scene\":\"scene\",\"showlegend\":true,\"x\":[0.3386661112308502],\"y\":[0.29564034938812256],\"z\":[0.21594944596290588],\"type\":\"scatter3d\"},{\"hovertemplate\":\"color=might<br>0=%{x}<br>1=%{y}<br>2=%{z}<extra></extra>\",\"legendgroup\":\"might\",\"marker\":{\"color\":\"#FECB52\",\"symbol\":\"circle\"},\"mode\":\"markers\",\"name\":\"might\",\"scene\":\"scene\",\"showlegend\":true,\"x\":[-0.504782497882843],\"y\":[-0.04358396679162979],\"z\":[0.2832147181034088],\"type\":\"scatter3d\"},{\"hovertemplate\":\"color=us<br>0=%{x}<br>1=%{y}<br>2=%{z}<extra></extra>\",\"legendgroup\":\"us\",\"marker\":{\"color\":\"#636efa\",\"symbol\":\"circle\"},\"mode\":\"markers\",\"name\":\"us\",\"scene\":\"scene\",\"showlegend\":true,\"x\":[-0.5140185356140137],\"y\":[0.26083943247795105],\"z\":[0.3639473021030426],\"type\":\"scatter3d\"},{\"hovertemplate\":\"color=come<br>0=%{x}<br>1=%{y}<br>2=%{z}<extra></extra>\",\"legendgroup\":\"come\",\"marker\":{\"color\":\"#EF553B\",\"symbol\":\"circle\"},\"mode\":\"markers\",\"name\":\"come\",\"scene\":\"scene\",\"showlegend\":true,\"x\":[-0.31460991501808167],\"y\":[0.16784316301345825],\"z\":[0.4856766164302826],\"type\":\"scatter3d\"},{\"hovertemplate\":\"color=still<br>0=%{x}<br>1=%{y}<br>2=%{z}<extra></extra>\",\"legendgroup\":\"still\",\"marker\":{\"color\":\"#00cc96\",\"symbol\":\"circle\"},\"mode\":\"markers\",\"name\":\"still\",\"scene\":\"scene\",\"showlegend\":true,\"x\":[0.17567937076091766],\"y\":[0.1329403668642044],\"z\":[0.3481655418872833],\"type\":\"scatter3d\"},{\"hovertemplate\":\"color=face<br>0=%{x}<br>1=%{y}<br>2=%{z}<extra></extra>\",\"legendgroup\":\"face\",\"marker\":{\"color\":\"#ab63fa\",\"symbol\":\"circle\"},\"mode\":\"markers\",\"name\":\"face\",\"scene\":\"scene\",\"showlegend\":true,\"x\":[0.40264585614204407],\"y\":[-0.25354641675949097],\"z\":[-0.3141948878765106],\"type\":\"scatter3d\"},{\"hovertemplate\":\"color=head<br>0=%{x}<br>1=%{y}<br>2=%{z}<extra></extra>\",\"legendgroup\":\"head\",\"marker\":{\"color\":\"#FFA15A\",\"symbol\":\"circle\"},\"mode\":\"markers\",\"name\":\"head\",\"scene\":\"scene\",\"showlegend\":true,\"x\":[0.4016754925251007],\"y\":[-0.04737023636698723],\"z\":[-0.4668041169643402],\"type\":\"scatter3d\"},{\"hovertemplate\":\"color=red<br>0=%{x}<br>1=%{y}<br>2=%{z}<extra></extra>\",\"legendgroup\":\"red\",\"marker\":{\"color\":\"#19d3f3\",\"symbol\":\"circle\"},\"mode\":\"markers\",\"name\":\"red\",\"scene\":\"scene\",\"showlegend\":true,\"x\":[0.36857593059539795],\"y\":[0.3936656415462494],\"z\":[-0.22762435674667358],\"type\":\"scatter3d\"},{\"hovertemplate\":\"color=way<br>0=%{x}<br>1=%{y}<br>2=%{z}<extra></extra>\",\"legendgroup\":\"way\",\"marker\":{\"color\":\"#FF6692\",\"symbol\":\"circle\"},\"mode\":\"markers\",\"name\":\"way\",\"scene\":\"scene\",\"showlegend\":true,\"x\":[0.13719287514686584],\"y\":[0.03758806362748146],\"z\":[0.3247102200984955],\"type\":\"scatter3d\"},{\"hovertemplate\":\"color=boy<br>0=%{x}<br>1=%{y}<br>2=%{z}<extra></extra>\",\"legendgroup\":\"boy\",\"marker\":{\"color\":\"#B6E880\",\"symbol\":\"circle\"},\"mode\":\"markers\",\"name\":\"boy\",\"scene\":\"scene\",\"showlegend\":true,\"x\":[-0.23143936693668365],\"y\":[0.2277967929840088],\"z\":[-0.4285176992416382],\"type\":\"scatter3d\"},{\"hovertemplate\":\"color=must<br>0=%{x}<br>1=%{y}<br>2=%{z}<extra></extra>\",\"legendgroup\":\"must\",\"marker\":{\"color\":\"#FF97FF\",\"symbol\":\"circle\"},\"mode\":\"markers\",\"name\":\"must\",\"scene\":\"scene\",\"showlegend\":true,\"x\":[-0.5905419588088989],\"y\":[0.09768988937139511],\"z\":[0.2947314381599426],\"type\":\"scatter3d\"},{\"hovertemplate\":\"color=queen<br>0=%{x}<br>1=%{y}<br>2=%{z}<extra></extra>\",\"legendgroup\":\"queen\",\"marker\":{\"color\":\"#FECB52\",\"symbol\":\"circle\"},\"mode\":\"markers\",\"name\":\"queen\",\"scene\":\"scene\",\"showlegend\":true,\"x\":[-0.4209609627723694],\"y\":[0.31865954399108887],\"z\":[-0.29730045795440674],\"type\":\"scatter3d\"},{\"hovertemplate\":\"color=good<br>0=%{x}<br>1=%{y}<br>2=%{z}<extra></extra>\",\"legendgroup\":\"good\",\"marker\":{\"color\":\"#636efa\",\"symbol\":\"circle\"},\"mode\":\"markers\",\"name\":\"good\",\"scene\":\"scene\",\"showlegend\":true,\"x\":[-0.4252118766307831],\"y\":[-0.028169050812721252],\"z\":[0.2029118686914444],\"type\":\"scatter3d\"},{\"hovertemplate\":\"color=two<br>0=%{x}<br>1=%{y}<br>2=%{z}<extra></extra>\",\"legendgroup\":\"two\",\"marker\":{\"color\":\"#EF553B\",\"symbol\":\"circle\"},\"mode\":\"markers\",\"name\":\"two\",\"scene\":\"scene\",\"showlegend\":true,\"x\":[0.2228064090013504],\"y\":[0.6466236710548401],\"z\":[0.05528964474797249],\"type\":\"scatter3d\"},{\"hovertemplate\":\"color=brother<br>0=%{x}<br>1=%{y}<br>2=%{z}<extra></extra>\",\"legendgroup\":\"brother\",\"marker\":{\"color\":\"#00cc96\",\"symbol\":\"circle\"},\"mode\":\"markers\",\"name\":\"brother\",\"scene\":\"scene\",\"showlegend\":true,\"x\":[-0.5019246935844421],\"y\":[0.4777580201625824],\"z\":[-0.39863261580467224],\"type\":\"scatter3d\"},{\"hovertemplate\":\"color=night<br>0=%{x}<br>1=%{y}<br>2=%{z}<extra></extra>\",\"legendgroup\":\"night\",\"marker\":{\"color\":\"#ab63fa\",\"symbol\":\"circle\"},\"mode\":\"markers\",\"name\":\"night\",\"scene\":\"scene\",\"showlegend\":true,\"x\":[0.05370519682765007],\"y\":[0.21193772554397583],\"z\":[0.2853597402572632],\"type\":\"scatter3d\"},{\"hovertemplate\":\"color=little<br>0=%{x}<br>1=%{y}<br>2=%{z}<extra></extra>\",\"legendgroup\":\"little\",\"marker\":{\"color\":\"#FFA15A\",\"symbol\":\"circle\"},\"mode\":\"markers\",\"name\":\"little\",\"scene\":\"scene\",\"showlegend\":true,\"x\":[-0.0637696161866188],\"y\":[-0.11156011372804642],\"z\":[-0.018744416534900665],\"type\":\"scatter3d\"},{\"hovertemplate\":\"color=took<br>0=%{x}<br>1=%{y}<br>2=%{z}<extra></extra>\",\"legendgroup\":\"took\",\"marker\":{\"color\":\"#19d3f3\",\"symbol\":\"circle\"},\"mode\":\"markers\",\"name\":\"took\",\"scene\":\"scene\",\"showlegend\":true,\"x\":[0.09320517629384995],\"y\":[0.19430649280548096],\"z\":[-0.16524584591388702],\"type\":\"scatter3d\"},{\"hovertemplate\":\"color=came<br>0=%{x}<br>1=%{y}<br>2=%{z}<extra></extra>\",\"legendgroup\":\"came\",\"marker\":{\"color\":\"#FF6692\",\"symbol\":\"circle\"},\"mode\":\"markers\",\"name\":\"came\",\"scene\":\"scene\",\"showlegend\":true,\"x\":[0.31371691823005676],\"y\":[0.22746002674102783],\"z\":[0.3579312562942505],\"type\":\"scatter3d\"},{\"hovertemplate\":\"color=though<br>0=%{x}<br>1=%{y}<br>2=%{z}<extra></extra>\",\"legendgroup\":\"though\",\"marker\":{\"color\":\"#B6E880\",\"symbol\":\"circle\"},\"mode\":\"markers\",\"name\":\"though\",\"scene\":\"scene\",\"showlegend\":true,\"x\":[-0.11702360212802887],\"y\":[-0.10688763856887817],\"z\":[0.2109786868095398],\"type\":\"scatter3d\"},{\"hovertemplate\":\"color=say<br>0=%{x}<br>1=%{y}<br>2=%{z}<extra></extra>\",\"legendgroup\":\"say\",\"marker\":{\"color\":\"#FF97FF\",\"symbol\":\"circle\"},\"mode\":\"markers\",\"name\":\"say\",\"scene\":\"scene\",\"showlegend\":true,\"x\":[-0.5630998015403748],\"y\":[-0.1556805968284607],\"z\":[0.1114482656121254],\"type\":\"scatter3d\"},{\"hovertemplate\":\"color=three<br>0=%{x}<br>1=%{y}<br>2=%{z}<extra></extra>\",\"legendgroup\":\"three\",\"marker\":{\"color\":\"#FECB52\",\"symbol\":\"circle\"},\"mode\":\"markers\",\"name\":\"three\",\"scene\":\"scene\",\"showlegend\":true,\"x\":[0.1201329380273819],\"y\":[0.7718314528465271],\"z\":[0.07317455112934113],\"type\":\"scatter3d\"},{\"hovertemplate\":\"color=away<br>0=%{x}<br>1=%{y}<br>2=%{z}<extra></extra>\",\"legendgroup\":\"away\",\"marker\":{\"color\":\"#636efa\",\"symbol\":\"circle\"},\"mode\":\"markers\",\"name\":\"away\",\"scene\":\"scene\",\"showlegend\":true,\"x\":[0.3222891390323639],\"y\":[-0.10943713784217834],\"z\":[0.1137610673904419],\"type\":\"scatter3d\"},{\"hovertemplate\":\"color=son<br>0=%{x}<br>1=%{y}<br>2=%{z}<extra></extra>\",\"legendgroup\":\"son\",\"marker\":{\"color\":\"#EF553B\",\"symbol\":\"circle\"},\"mode\":\"markers\",\"name\":\"son\",\"scene\":\"scene\",\"showlegend\":true,\"x\":[-0.37738436460494995],\"y\":[0.682727575302124],\"z\":[-0.5302407145500183],\"type\":\"scatter3d\"},{\"hovertemplate\":\"color=dead<br>0=%{x}<br>1=%{y}<br>2=%{z}<extra></extra>\",\"legendgroup\":\"dead\",\"marker\":{\"color\":\"#00cc96\",\"symbol\":\"circle\"},\"mode\":\"markers\",\"name\":\"dead\",\"scene\":\"scene\",\"showlegend\":true,\"x\":[0.004820260684937239],\"y\":[0.19836778938770294],\"z\":[0.24029697477817535],\"type\":\"scatter3d\"},{\"hovertemplate\":\"color=blood<br>0=%{x}<br>1=%{y}<br>2=%{z}<extra></extra>\",\"legendgroup\":\"blood\",\"marker\":{\"color\":\"#ab63fa\",\"symbol\":\"circle\"},\"mode\":\"markers\",\"name\":\"blood\",\"scene\":\"scene\",\"showlegend\":true,\"x\":[0.2819378972053528],\"y\":[-0.08311253786087036],\"z\":[0.09407871961593628],\"type\":\"scatter3d\"},{\"hovertemplate\":\"color=half<br>0=%{x}<br>1=%{y}<br>2=%{z}<extra></extra>\",\"legendgroup\":\"half\",\"marker\":{\"color\":\"#FFA15A\",\"symbol\":\"circle\"},\"mode\":\"markers\",\"name\":\"half\",\"scene\":\"scene\",\"showlegend\":true,\"x\":[0.29831331968307495],\"y\":[0.29388126730918884],\"z\":[0.263042151927948],\"type\":\"scatter3d\"},{\"hovertemplate\":\"color=take<br>0=%{x}<br>1=%{y}<br>2=%{z}<extra></extra>\",\"legendgroup\":\"take\",\"marker\":{\"color\":\"#19d3f3\",\"symbol\":\"circle\"},\"mode\":\"markers\",\"name\":\"take\",\"scene\":\"scene\",\"showlegend\":true,\"x\":[-0.4323365390300751],\"y\":[0.23355962336063385],\"z\":[0.16830883920192719],\"type\":\"scatter3d\"},{\"hovertemplate\":\"color=go<br>0=%{x}<br>1=%{y}<br>2=%{z}<extra></extra>\",\"legendgroup\":\"go\",\"marker\":{\"color\":\"#FF6692\",\"symbol\":\"circle\"},\"mode\":\"markers\",\"name\":\"go\",\"scene\":\"scene\",\"showlegend\":true,\"x\":[-0.22796162962913513],\"y\":[-0.11622710525989532],\"z\":[0.39693066477775574],\"type\":\"scatter3d\"},{\"hovertemplate\":\"color=arya<br>0=%{x}<br>1=%{y}<br>2=%{z}<extra></extra>\",\"legendgroup\":\"arya\",\"marker\":{\"color\":\"#B6E880\",\"symbol\":\"circle\"},\"mode\":\"markers\",\"name\":\"arya\",\"scene\":\"scene\",\"showlegend\":true,\"x\":[0.14652854204177856],\"y\":[-0.38939279317855835],\"z\":[0.031134413555264473],\"type\":\"scatter3d\"},{\"hovertemplate\":\"color=make<br>0=%{x}<br>1=%{y}<br>2=%{z}<extra></extra>\",\"legendgroup\":\"make\",\"marker\":{\"color\":\"#FF97FF\",\"symbol\":\"circle\"},\"mode\":\"markers\",\"name\":\"make\",\"scene\":\"scene\",\"showlegend\":true,\"x\":[-0.3837664723396301],\"y\":[-0.12904715538024902],\"z\":[0.3665335476398468],\"type\":\"scatter3d\"},{\"hovertemplate\":\"color=saw<br>0=%{x}<br>1=%{y}<br>2=%{z}<extra></extra>\",\"legendgroup\":\"saw\",\"marker\":{\"color\":\"#FECB52\",\"symbol\":\"circle\"},\"mode\":\"markers\",\"name\":\"saw\",\"scene\":\"scene\",\"showlegend\":true,\"x\":[0.3896815776824951],\"y\":[0.06513205915689468],\"z\":[0.08116240799427032],\"type\":\"scatter3d\"},{\"hovertemplate\":\"color=jaime<br>0=%{x}<br>1=%{y}<br>2=%{z}<extra></extra>\",\"legendgroup\":\"jaime\",\"marker\":{\"color\":\"#636efa\",\"symbol\":\"circle\"},\"mode\":\"markers\",\"name\":\"jaime\",\"scene\":\"scene\",\"showlegend\":true,\"x\":[-0.16652558743953705],\"y\":[0.03757699206471443],\"z\":[-0.35602712631225586],\"type\":\"scatter3d\"},{\"hovertemplate\":\"color=day<br>0=%{x}<br>1=%{y}<br>2=%{z}<extra></extra>\",\"legendgroup\":\"day\",\"marker\":{\"color\":\"#EF553B\",\"symbol\":\"circle\"},\"mode\":\"markers\",\"name\":\"day\",\"scene\":\"scene\",\"showlegend\":true,\"x\":[-0.048191364854574203],\"y\":[0.30084922909736633],\"z\":[0.34669360518455505],\"type\":\"scatter3d\"},{\"hovertemplate\":\"color=white<br>0=%{x}<br>1=%{y}<br>2=%{z}<extra></extra>\",\"legendgroup\":\"white\",\"marker\":{\"color\":\"#00cc96\",\"symbol\":\"circle\"},\"mode\":\"markers\",\"name\":\"white\",\"scene\":\"scene\",\"showlegend\":true,\"x\":[0.4242092967033386],\"y\":[0.5461247563362122],\"z\":[-0.33654046058654785],\"type\":\"scatter3d\"},{\"hovertemplate\":\"color=first<br>0=%{x}<br>1=%{y}<br>2=%{z}<extra></extra>\",\"legendgroup\":\"first\",\"marker\":{\"color\":\"#ab63fa\",\"symbol\":\"circle\"},\"mode\":\"markers\",\"name\":\"first\",\"scene\":\"scene\",\"showlegend\":true,\"x\":[-0.1215803474187851],\"y\":[0.4775148928165436],\"z\":[0.1703934371471405],\"type\":\"scatter3d\"},{\"hovertemplate\":\"color=look<br>0=%{x}<br>1=%{y}<br>2=%{z}<extra></extra>\",\"legendgroup\":\"look\",\"marker\":{\"color\":\"#FFA15A\",\"symbol\":\"circle\"},\"mode\":\"markers\",\"name\":\"look\",\"scene\":\"scene\",\"showlegend\":true,\"x\":[0.043237313628196716],\"y\":[-0.22870686650276184],\"z\":[-0.10985370725393295],\"type\":\"scatter3d\"},{\"hovertemplate\":\"color=want<br>0=%{x}<br>1=%{y}<br>2=%{z}<extra></extra>\",\"legendgroup\":\"want\",\"marker\":{\"color\":\"#19d3f3\",\"symbol\":\"circle\"},\"mode\":\"markers\",\"name\":\"want\",\"scene\":\"scene\",\"showlegend\":true,\"x\":[-0.5079789161682129],\"y\":[-0.14738179743289948],\"z\":[0.27540314197540283],\"type\":\"scatter3d\"},{\"hovertemplate\":\"color=enough<br>0=%{x}<br>1=%{y}<br>2=%{z}<extra></extra>\",\"legendgroup\":\"enough\",\"marker\":{\"color\":\"#FF6692\",\"symbol\":\"circle\"},\"mode\":\"markers\",\"name\":\"enough\",\"scene\":\"scene\",\"showlegend\":true,\"x\":[-0.13805976510047913],\"y\":[0.0010151941096410155],\"z\":[0.3698543310165405],\"type\":\"scatter3d\"},{\"hovertemplate\":\"color=much<br>0=%{x}<br>1=%{y}<br>2=%{z}<extra></extra>\",\"legendgroup\":\"much\",\"marker\":{\"color\":\"#B6E880\",\"symbol\":\"circle\"},\"mode\":\"markers\",\"name\":\"much\",\"scene\":\"scene\",\"showlegend\":true,\"x\":[-0.4232916235923767],\"y\":[-0.21969479322433472],\"z\":[0.28470319509506226],\"type\":\"scatter3d\"},{\"hovertemplate\":\"color=bran<br>0=%{x}<br>1=%{y}<br>2=%{z}<extra></extra>\",\"legendgroup\":\"bran\",\"marker\":{\"color\":\"#FF97FF\",\"symbol\":\"circle\"},\"mode\":\"markers\",\"name\":\"bran\",\"scene\":\"scene\",\"showlegend\":true,\"x\":[0.08782606571912766],\"y\":[-0.29591238498687744],\"z\":[0.12264230102300644],\"type\":\"scatter3d\"},{\"hovertemplate\":\"color=girl<br>0=%{x}<br>1=%{y}<br>2=%{z}<extra></extra>\",\"legendgroup\":\"girl\",\"marker\":{\"color\":\"#FECB52\",\"symbol\":\"circle\"},\"mode\":\"markers\",\"name\":\"girl\",\"scene\":\"scene\",\"showlegend\":true,\"x\":[-0.1791883409023285],\"y\":[0.061391763389110565],\"z\":[-0.34897884726524353],\"type\":\"scatter3d\"},{\"hovertemplate\":\"color=sword<br>0=%{x}<br>1=%{y}<br>2=%{z}<extra></extra>\",\"legendgroup\":\"sword\",\"marker\":{\"color\":\"#636efa\",\"symbol\":\"circle\"},\"mode\":\"markers\",\"name\":\"sword\",\"scene\":\"scene\",\"showlegend\":true,\"x\":[0.14891482889652252],\"y\":[0.12978272140026093],\"z\":[-0.2549748122692108],\"type\":\"scatter3d\"},{\"hovertemplate\":\"color=tell<br>0=%{x}<br>1=%{y}<br>2=%{z}<extra></extra>\",\"legendgroup\":\"tell\",\"marker\":{\"color\":\"#EF553B\",\"symbol\":\"circle\"},\"mode\":\"markers\",\"name\":\"tell\",\"scene\":\"scene\",\"showlegend\":true,\"x\":[-0.6314325928688049],\"y\":[-0.1037980243563652],\"z\":[0.1942625194787979],\"type\":\"scatter3d\"},{\"hovertemplate\":\"color=great<br>0=%{x}<br>1=%{y}<br>2=%{z}<extra></extra>\",\"legendgroup\":\"great\",\"marker\":{\"color\":\"#00cc96\",\"symbol\":\"circle\"},\"mode\":\"markers\",\"name\":\"great\",\"scene\":\"scene\",\"showlegend\":true,\"x\":[0.19212894141674042],\"y\":[0.829079806804657],\"z\":[0.09605914354324341],\"type\":\"scatter3d\"},{\"hovertemplate\":\"color=looked<br>0=%{x}<br>1=%{y}<br>2=%{z}<extra></extra>\",\"legendgroup\":\"looked\",\"marker\":{\"color\":\"#ab63fa\",\"symbol\":\"circle\"},\"mode\":\"markers\",\"name\":\"looked\",\"scene\":\"scene\",\"showlegend\":true,\"x\":[0.2722302973270416],\"y\":[-0.06805796176195145],\"z\":[-0.2495388239622116],\"type\":\"scatter3d\"},{\"hovertemplate\":\"color=called<br>0=%{x}<br>1=%{y}<br>2=%{z}<extra></extra>\",\"legendgroup\":\"called\",\"marker\":{\"color\":\"#FFA15A\",\"symbol\":\"circle\"},\"mode\":\"markers\",\"name\":\"called\",\"scene\":\"scene\",\"showlegend\":true,\"x\":[-0.1794833391904831],\"y\":[0.6788634061813354],\"z\":[-0.5004661679267883],\"type\":\"scatter3d\"},{\"hovertemplate\":\"color=left<br>0=%{x}<br>1=%{y}<br>2=%{z}<extra></extra>\",\"legendgroup\":\"left\",\"marker\":{\"color\":\"#19d3f3\",\"symbol\":\"circle\"},\"mode\":\"markers\",\"name\":\"left\",\"scene\":\"scene\",\"showlegend\":true,\"x\":[0.2776944637298584],\"y\":[0.29688796401023865],\"z\":[0.032914064824581146],\"type\":\"scatter3d\"},{\"hovertemplate\":\"color=knew<br>0=%{x}<br>1=%{y}<br>2=%{z}<extra></extra>\",\"legendgroup\":\"knew\",\"marker\":{\"color\":\"#FF6692\",\"symbol\":\"circle\"},\"mode\":\"markers\",\"name\":\"knew\",\"scene\":\"scene\",\"showlegend\":true,\"x\":[-0.3023557662963867],\"y\":[-0.1405850499868393],\"z\":[0.3063611686229706],\"type\":\"scatter3d\"},{\"hovertemplate\":\"color=maester<br>0=%{x}<br>1=%{y}<br>2=%{z}<extra></extra>\",\"legendgroup\":\"maester\",\"marker\":{\"color\":\"#B6E880\",\"symbol\":\"circle\"},\"mode\":\"markers\",\"name\":\"maester\",\"scene\":\"scene\",\"showlegend\":true,\"x\":[-0.13239608705043793],\"y\":[0.2559208273887634],\"z\":[-0.4097507894039154],\"type\":\"scatter3d\"},{\"hovertemplate\":\"color=asked<br>0=%{x}<br>1=%{y}<br>2=%{z}<extra></extra>\",\"legendgroup\":\"asked\",\"marker\":{\"color\":\"#FF97FF\",\"symbol\":\"circle\"},\"mode\":\"markers\",\"name\":\"asked\",\"scene\":\"scene\",\"showlegend\":true,\"x\":[-0.3545123338699341],\"y\":[-0.07033531367778778],\"z\":[-0.4566948115825653],\"type\":\"scatter3d\"},{\"hovertemplate\":\"color=gave<br>0=%{x}<br>1=%{y}<br>2=%{z}<extra></extra>\",\"legendgroup\":\"gave\",\"marker\":{\"color\":\"#FECB52\",\"symbol\":\"circle\"},\"mode\":\"markers\",\"name\":\"gave\",\"scene\":\"scene\",\"showlegend\":true,\"x\":[0.05137787386775017],\"y\":[-0.19584539532661438],\"z\":[-0.4526238441467285],\"type\":\"scatter3d\"},{\"hovertemplate\":\"color=sansa<br>0=%{x}<br>1=%{y}<br>2=%{z}<extra></extra>\",\"legendgroup\":\"sansa\",\"marker\":{\"color\":\"#636efa\",\"symbol\":\"circle\"},\"mode\":\"markers\",\"name\":\"sansa\",\"scene\":\"scene\",\"showlegend\":true,\"x\":[-0.166738823056221],\"y\":[-0.2869251072406769],\"z\":[-0.3319905400276184],\"type\":\"scatter3d\"},{\"hovertemplate\":\"color=wall<br>0=%{x}<br>1=%{y}<br>2=%{z}<extra></extra>\",\"legendgroup\":\"wall\",\"marker\":{\"color\":\"#EF553B\",\"symbol\":\"circle\"},\"mode\":\"markers\",\"name\":\"wall\",\"scene\":\"scene\",\"showlegend\":true,\"x\":[0.2925066649913788],\"y\":[0.4093521535396576],\"z\":[0.44147375226020813],\"type\":\"scatter3d\"},{\"hovertemplate\":\"color=every<br>0=%{x}<br>1=%{y}<br>2=%{z}<extra></extra>\",\"legendgroup\":\"every\",\"marker\":{\"color\":\"#00cc96\",\"symbol\":\"circle\"},\"mode\":\"markers\",\"name\":\"every\",\"scene\":\"scene\",\"showlegend\":true,\"x\":[0.17197221517562866],\"y\":[0.28182339668273926],\"z\":[0.33293643593788147],\"type\":\"scatter3d\"},{\"hovertemplate\":\"color=heard<br>0=%{x}<br>1=%{y}<br>2=%{z}<extra></extra>\",\"legendgroup\":\"heard\",\"marker\":{\"color\":\"#ab63fa\",\"symbol\":\"circle\"},\"mode\":\"markers\",\"name\":\"heard\",\"scene\":\"scene\",\"showlegend\":true,\"x\":[0.027175985276699066],\"y\":[-0.09301767498254776],\"z\":[0.2520011067390442],\"type\":\"scatter3d\"},{\"hovertemplate\":\"color=let<br>0=%{x}<br>1=%{y}<br>2=%{z}<extra></extra>\",\"legendgroup\":\"let\",\"marker\":{\"color\":\"#FFA15A\",\"symbol\":\"circle\"},\"mode\":\"markers\",\"name\":\"let\",\"scene\":\"scene\",\"showlegend\":true,\"x\":[-0.20592676103115082],\"y\":[-0.22773484885692596],\"z\":[0.2538301646709442],\"type\":\"scatter3d\"},{\"hovertemplate\":\"color=yet<br>0=%{x}<br>1=%{y}<br>2=%{z}<extra></extra>\",\"legendgroup\":\"yet\",\"marker\":{\"color\":\"#19d3f3\",\"symbol\":\"circle\"},\"mode\":\"markers\",\"name\":\"yet\",\"scene\":\"scene\",\"showlegend\":true,\"x\":[-0.18231409788131714],\"y\":[0.010732095688581467],\"z\":[0.4120570421218872],\"type\":\"scatter3d\"},{\"hovertemplate\":\"color=went<br>0=%{x}<br>1=%{y}<br>2=%{z}<extra></extra>\",\"legendgroup\":\"went\",\"marker\":{\"color\":\"#FF6692\",\"symbol\":\"circle\"},\"mode\":\"markers\",\"name\":\"went\",\"scene\":\"scene\",\"showlegend\":true,\"x\":[0.4231164753437042],\"y\":[0.09690941870212555],\"z\":[0.10941499471664429],\"type\":\"scatter3d\"},{\"hovertemplate\":\"color=turned<br>0=%{x}<br>1=%{y}<br>2=%{z}<extra></extra>\",\"legendgroup\":\"turned\",\"marker\":{\"color\":\"#B6E880\",\"symbol\":\"circle\"},\"mode\":\"markers\",\"name\":\"turned\",\"scene\":\"scene\",\"showlegend\":true,\"x\":[0.35471221804618835],\"y\":[0.10179967433214188],\"z\":[-0.2374020516872406],\"type\":\"scatter3d\"},{\"hovertemplate\":\"color=dany<br>0=%{x}<br>1=%{y}<br>2=%{z}<extra></extra>\",\"legendgroup\":\"dany\",\"marker\":{\"color\":\"#FF97FF\",\"symbol\":\"circle\"},\"mode\":\"markers\",\"name\":\"dany\",\"scene\":\"scene\",\"showlegend\":true,\"x\":[0.17674966156482697],\"y\":[-0.17650188505649567],\"z\":[0.006810358259826899],\"type\":\"scatter3d\"},{\"hovertemplate\":\"color=need<br>0=%{x}<br>1=%{y}<br>2=%{z}<extra></extra>\",\"legendgroup\":\"need\",\"marker\":{\"color\":\"#FECB52\",\"symbol\":\"circle\"},\"mode\":\"markers\",\"name\":\"need\",\"scene\":\"scene\",\"showlegend\":true,\"x\":[-0.4546552002429962],\"y\":[0.061347514390945435],\"z\":[0.3867760896682739],\"type\":\"scatter3d\"},{\"hovertemplate\":\"color=behind<br>0=%{x}<br>1=%{y}<br>2=%{z}<extra></extra>\",\"legendgroup\":\"behind\",\"marker\":{\"color\":\"#636efa\",\"symbol\":\"circle\"},\"mode\":\"markers\",\"name\":\"behind\",\"scene\":\"scene\",\"showlegend\":true,\"x\":[0.5906929969787598],\"y\":[0.42116644978523254],\"z\":[0.09520813822746277],\"type\":\"scatter3d\"},{\"hovertemplate\":\"color=around<br>0=%{x}<br>1=%{y}<br>2=%{z}<extra></extra>\",\"legendgroup\":\"around\",\"marker\":{\"color\":\"#EF553B\",\"symbol\":\"circle\"},\"mode\":\"markers\",\"name\":\"around\",\"scene\":\"scene\",\"showlegend\":true,\"x\":[0.758046567440033],\"y\":[0.15067283809185028],\"z\":[0.06807789951562881],\"type\":\"scatter3d\"},{\"hovertemplate\":\"color=woman<br>0=%{x}<br>1=%{y}<br>2=%{z}<extra></extra>\",\"legendgroup\":\"woman\",\"marker\":{\"color\":\"#00cc96\",\"symbol\":\"circle\"},\"mode\":\"markers\",\"name\":\"woman\",\"scene\":\"scene\",\"showlegend\":true,\"x\":[-0.011818005703389645],\"y\":[-0.04949204623699188],\"z\":[-0.25785863399505615],\"type\":\"scatter3d\"},{\"hovertemplate\":\"color=another<br>0=%{x}<br>1=%{y}<br>2=%{z}<extra></extra>\",\"legendgroup\":\"another\",\"marker\":{\"color\":\"#ab63fa\",\"symbol\":\"circle\"},\"mode\":\"markers\",\"name\":\"another\",\"scene\":\"scene\",\"showlegend\":true,\"x\":[0.06439980864524841],\"y\":[0.08544418215751648],\"z\":[0.16111810505390167],\"type\":\"scatter3d\"},{\"hovertemplate\":\"color=beneath<br>0=%{x}<br>1=%{y}<br>2=%{z}<extra></extra>\",\"legendgroup\":\"beneath\",\"marker\":{\"color\":\"#FFA15A\",\"symbol\":\"circle\"},\"mode\":\"markers\",\"name\":\"beneath\",\"scene\":\"scene\",\"showlegend\":true,\"x\":[0.7540454864501953],\"y\":[0.3608209192752838],\"z\":[0.13849101960659027],\"type\":\"scatter3d\"},{\"hovertemplate\":\"color=snow<br>0=%{x}<br>1=%{y}<br>2=%{z}<extra></extra>\",\"legendgroup\":\"snow\",\"marker\":{\"color\":\"#19d3f3\",\"symbol\":\"circle\"},\"mode\":\"markers\",\"name\":\"snow\",\"scene\":\"scene\",\"showlegend\":true,\"x\":[0.33122968673706055],\"y\":[0.05858336389064789],\"z\":[0.11254484206438065],\"type\":\"scatter3d\"},{\"hovertemplate\":\"color=across<br>0=%{x}<br>1=%{y}<br>2=%{z}<extra></extra>\",\"legendgroup\":\"across\",\"marker\":{\"color\":\"#FF6692\",\"symbol\":\"circle\"},\"mode\":\"markers\",\"name\":\"across\",\"scene\":\"scene\",\"showlegend\":true,\"x\":[0.7138502597808838],\"y\":[0.3389180600643158],\"z\":[0.071990966796875],\"type\":\"scatter3d\"},{\"hovertemplate\":\"color=knight<br>0=%{x}<br>1=%{y}<br>2=%{z}<extra></extra>\",\"legendgroup\":\"knight\",\"marker\":{\"color\":\"#B6E880\",\"symbol\":\"circle\"},\"mode\":\"markers\",\"name\":\"knight\",\"scene\":\"scene\",\"showlegend\":true,\"x\":[-0.18043671548366547],\"y\":[0.4569301903247833],\"z\":[-0.612581729888916],\"type\":\"scatter3d\"},{\"hovertemplate\":\"color=keep<br>0=%{x}<br>1=%{y}<br>2=%{z}<extra></extra>\",\"legendgroup\":\"keep\",\"marker\":{\"color\":\"#FF97FF\",\"symbol\":\"circle\"},\"mode\":\"markers\",\"name\":\"keep\",\"scene\":\"scene\",\"showlegend\":true,\"x\":[-0.04350478574633598],\"y\":[0.25793442130088806],\"z\":[0.3335845172405243],\"type\":\"scatter3d\"},{\"hovertemplate\":\"color=gold<br>0=%{x}<br>1=%{y}<br>2=%{z}<extra></extra>\",\"legendgroup\":\"gold\",\"marker\":{\"color\":\"#FECB52\",\"symbol\":\"circle\"},\"mode\":\"markers\",\"name\":\"gold\",\"scene\":\"scene\",\"showlegend\":true,\"x\":[0.16357280313968658],\"y\":[0.4877825081348419],\"z\":[-0.2163269817829132],\"type\":\"scatter3d\"},{\"hovertemplate\":\"color=grace<br>0=%{x}<br>1=%{y}<br>2=%{z}<extra></extra>\",\"legendgroup\":\"grace\",\"marker\":{\"color\":\"#636efa\",\"symbol\":\"circle\"},\"mode\":\"markers\",\"name\":\"grace\",\"scene\":\"scene\",\"showlegend\":true,\"x\":[-0.7171983122825623],\"y\":[0.24079295992851257],\"z\":[-0.19693335890769958],\"type\":\"scatter3d\"},{\"hovertemplate\":\"color=found<br>0=%{x}<br>1=%{y}<br>2=%{z}<extra></extra>\",\"legendgroup\":\"found\",\"marker\":{\"color\":\"#EF553B\",\"symbol\":\"circle\"},\"mode\":\"markers\",\"name\":\"found\",\"scene\":\"scene\",\"showlegend\":true,\"x\":[0.387311726808548],\"y\":[0.07914936542510986],\"z\":[0.18334820866584778],\"type\":\"scatter3d\"},{\"hovertemplate\":\"color=cersei<br>0=%{x}<br>1=%{y}<br>2=%{z}<extra></extra>\",\"legendgroup\":\"cersei\",\"marker\":{\"color\":\"#00cc96\",\"symbol\":\"circle\"},\"mode\":\"markers\",\"name\":\"cersei\",\"scene\":\"scene\",\"showlegend\":true,\"x\":[-0.2852594554424286],\"y\":[-0.06741154938936234],\"z\":[-0.40305110812187195],\"type\":\"scatter3d\"},{\"hovertemplate\":\"color=last<br>0=%{x}<br>1=%{y}<br>2=%{z}<extra></extra>\",\"legendgroup\":\"last\",\"marker\":{\"color\":\"#ab63fa\",\"symbol\":\"circle\"},\"mode\":\"markers\",\"name\":\"last\",\"scene\":\"scene\",\"showlegend\":true,\"x\":[-0.044558484107255936],\"y\":[0.22619734704494476],\"z\":[0.09653117507696152],\"type\":\"scatter3d\"},{\"hovertemplate\":\"color=castle<br>0=%{x}<br>1=%{y}<br>2=%{z}<extra></extra>\",\"legendgroup\":\"castle\",\"marker\":{\"color\":\"#FFA15A\",\"symbol\":\"circle\"},\"mode\":\"markers\",\"name\":\"castle\",\"scene\":\"scene\",\"showlegend\":true,\"x\":[-0.043031398206949234],\"y\":[0.6877681016921997],\"z\":[0.2350885272026062],\"type\":\"scatter3d\"},{\"hovertemplate\":\"color=stark<br>0=%{x}<br>1=%{y}<br>2=%{z}<extra></extra>\",\"legendgroup\":\"stark\",\"marker\":{\"color\":\"#19d3f3\",\"symbol\":\"circle\"},\"mode\":\"markers\",\"name\":\"stark\",\"scene\":\"scene\",\"showlegend\":true,\"x\":[-0.33376818895339966],\"y\":[0.3910861015319824],\"z\":[-0.2510288655757904],\"type\":\"scatter3d\"},{\"hovertemplate\":\"color=gods<br>0=%{x}<br>1=%{y}<br>2=%{z}<extra></extra>\",\"legendgroup\":\"gods\",\"marker\":{\"color\":\"#FF6692\",\"symbol\":\"circle\"},\"mode\":\"markers\",\"name\":\"gods\",\"scene\":\"scene\",\"showlegend\":true,\"x\":[-0.4262743890285492],\"y\":[0.1584034413099289],\"z\":[0.28978514671325684],\"type\":\"scatter3d\"},{\"hovertemplate\":\"color=think<br>0=%{x}<br>1=%{y}<br>2=%{z}<extra></extra>\",\"legendgroup\":\"think\",\"marker\":{\"color\":\"#B6E880\",\"symbol\":\"circle\"},\"mode\":\"markers\",\"name\":\"think\",\"scene\":\"scene\",\"showlegend\":true,\"x\":[-0.5548050403594971],\"y\":[-0.2991895079612732],\"z\":[0.22420404851436615],\"type\":\"scatter3d\"},{\"hovertemplate\":\"color=hair<br>0=%{x}<br>1=%{y}<br>2=%{z}<extra></extra>\",\"legendgroup\":\"hair\",\"marker\":{\"color\":\"#FF97FF\",\"symbol\":\"circle\"},\"mode\":\"markers\",\"name\":\"hair\",\"scene\":\"scene\",\"showlegend\":true,\"x\":[0.5088433027267456],\"y\":[-0.042095571756362915],\"z\":[-0.2939200699329376],\"type\":\"scatter3d\"},{\"hovertemplate\":\"color=many<br>0=%{x}<br>1=%{y}<br>2=%{z}<extra></extra>\",\"legendgroup\":\"many\",\"marker\":{\"color\":\"#FECB52\",\"symbol\":\"circle\"},\"mode\":\"markers\",\"name\":\"many\",\"scene\":\"scene\",\"showlegend\":true,\"x\":[-0.22638699412345886],\"y\":[0.5900999307632446],\"z\":[0.4364088177680969],\"type\":\"scatter3d\"},{\"hovertemplate\":\"color=feet<br>0=%{x}<br>1=%{y}<br>2=%{z}<extra></extra>\",\"legendgroup\":\"feet\",\"marker\":{\"color\":\"#636efa\",\"symbol\":\"circle\"},\"mode\":\"markers\",\"name\":\"feet\",\"scene\":\"scene\",\"showlegend\":true,\"x\":[0.6260848045349121],\"y\":[0.22786177694797516],\"z\":[-1.4079402717470657e-05],\"type\":\"scatter3d\"},{\"hovertemplate\":\"color=stannis<br>0=%{x}<br>1=%{y}<br>2=%{z}<extra></extra>\",\"legendgroup\":\"stannis\",\"marker\":{\"color\":\"#EF553B\",\"symbol\":\"circle\"},\"mode\":\"markers\",\"name\":\"stannis\",\"scene\":\"scene\",\"showlegend\":true,\"x\":[-0.40711361169815063],\"y\":[0.5438868999481201],\"z\":[-0.1183370053768158],\"type\":\"scatter3d\"},{\"hovertemplate\":\"color=mother<br>0=%{x}<br>1=%{y}<br>2=%{z}<extra></extra>\",\"legendgroup\":\"mother\",\"marker\":{\"color\":\"#00cc96\",\"symbol\":\"circle\"},\"mode\":\"markers\",\"name\":\"mother\",\"scene\":\"scene\",\"showlegend\":true,\"x\":[-0.447506844997406],\"y\":[0.2903406322002411],\"z\":[-0.06780818849802017],\"type\":\"scatter3d\"},{\"hovertemplate\":\"color=hands<br>0=%{x}<br>1=%{y}<br>2=%{z}<extra></extra>\",\"legendgroup\":\"hands\",\"marker\":{\"color\":\"#ab63fa\",\"symbol\":\"circle\"},\"mode\":\"markers\",\"name\":\"hands\",\"scene\":\"scene\",\"showlegend\":true,\"x\":[0.5700098276138306],\"y\":[-0.0796966403722763],\"z\":[-0.19978612661361694],\"type\":\"scatter3d\"},{\"hovertemplate\":\"color=catelyn<br>0=%{x}<br>1=%{y}<br>2=%{z}<extra></extra>\",\"legendgroup\":\"catelyn\",\"marker\":{\"color\":\"#FFA15A\",\"symbol\":\"circle\"},\"mode\":\"markers\",\"name\":\"catelyn\",\"scene\":\"scene\",\"showlegend\":true,\"x\":[-0.18653172254562378],\"y\":[-0.03507629409432411],\"z\":[-0.30508649349212646],\"type\":\"scatter3d\"},{\"hovertemplate\":\"color=prince<br>0=%{x}<br>1=%{y}<br>2=%{z}<extra></extra>\",\"legendgroup\":\"prince\",\"marker\":{\"color\":\"#19d3f3\",\"symbol\":\"circle\"},\"mode\":\"markers\",\"name\":\"prince\",\"scene\":\"scene\",\"showlegend\":true,\"x\":[-0.40666934847831726],\"y\":[0.5210999250411987],\"z\":[-0.5233346223831177],\"type\":\"scatter3d\"},{\"hovertemplate\":\"color=robert<br>0=%{x}<br>1=%{y}<br>2=%{z}<extra></extra>\",\"legendgroup\":\"robert\",\"marker\":{\"color\":\"#FF6692\",\"symbol\":\"circle\"},\"mode\":\"markers\",\"name\":\"robert\",\"scene\":\"scene\",\"showlegend\":true,\"x\":[-0.48696276545524597],\"y\":[0.3993375897407532],\"z\":[-0.27535662055015564],\"type\":\"scatter3d\"},{\"hovertemplate\":\"color=seemed<br>0=%{x}<br>1=%{y}<br>2=%{z}<extra></extra>\",\"legendgroup\":\"seemed\",\"marker\":{\"color\":\"#B6E880\",\"symbol\":\"circle\"},\"mode\":\"markers\",\"name\":\"seemed\",\"scene\":\"scene\",\"showlegend\":true,\"x\":[0.18931013345718384],\"y\":[-0.15895073115825653],\"z\":[0.3726579546928406],\"type\":\"scatter3d\"},{\"hovertemplate\":\"color=may<br>0=%{x}<br>1=%{y}<br>2=%{z}<extra></extra>\",\"legendgroup\":\"may\",\"marker\":{\"color\":\"#FF97FF\",\"symbol\":\"circle\"},\"mode\":\"markers\",\"name\":\"may\",\"scene\":\"scene\",\"showlegend\":true,\"x\":[-0.6745082139968872],\"y\":[0.1439254879951477],\"z\":[0.278934121131897],\"type\":\"scatter3d\"},{\"hovertemplate\":\"color=ever<br>0=%{x}<br>1=%{y}<br>2=%{z}<extra></extra>\",\"legendgroup\":\"ever\",\"marker\":{\"color\":\"#FECB52\",\"symbol\":\"circle\"},\"mode\":\"markers\",\"name\":\"ever\",\"scene\":\"scene\",\"showlegend\":true,\"x\":[-0.354385107755661],\"y\":[-0.01758507825434208],\"z\":[0.20792602002620697],\"type\":\"scatter3d\"},{\"hovertemplate\":\"color=lannister<br>0=%{x}<br>1=%{y}<br>2=%{z}<extra></extra>\",\"legendgroup\":\"lannister\",\"marker\":{\"color\":\"#636efa\",\"symbol\":\"circle\"},\"mode\":\"markers\",\"name\":\"lannister\",\"scene\":\"scene\",\"showlegend\":true,\"x\":[-0.2752792239189148],\"y\":[0.5163599848747253],\"z\":[-0.42491382360458374],\"type\":\"scatter3d\"},{\"hovertemplate\":\"color=robb<br>0=%{x}<br>1=%{y}<br>2=%{z}<extra></extra>\",\"legendgroup\":\"robb\",\"marker\":{\"color\":\"#EF553B\",\"symbol\":\"circle\"},\"mode\":\"markers\",\"name\":\"robb\",\"scene\":\"scene\",\"showlegend\":true,\"x\":[-0.3402422070503235],\"y\":[0.2572213411331177],\"z\":[-0.24002759158611298],\"type\":\"scatter3d\"},{\"hovertemplate\":\"color=done<br>0=%{x}<br>1=%{y}<br>2=%{z}<extra></extra>\",\"legendgroup\":\"done\",\"marker\":{\"color\":\"#00cc96\",\"symbol\":\"circle\"},\"mode\":\"markers\",\"name\":\"done\",\"scene\":\"scene\",\"showlegend\":true,\"x\":[-0.6076794266700745],\"y\":[-0.04938848316669464],\"z\":[0.20382905006408691],\"type\":\"scatter3d\"},{\"hovertemplate\":\"color=find<br>0=%{x}<br>1=%{y}<br>2=%{z}<extra></extra>\",\"legendgroup\":\"find\",\"marker\":{\"color\":\"#ab63fa\",\"symbol\":\"circle\"},\"mode\":\"markers\",\"name\":\"find\",\"scene\":\"scene\",\"showlegend\":true,\"x\":[-0.3480636477470398],\"y\":[-0.03920775651931763],\"z\":[0.41510745882987976],\"type\":\"scatter3d\"},{\"hovertemplate\":\"color=hear<br>0=%{x}<br>1=%{y}<br>2=%{z}<extra></extra>\",\"legendgroup\":\"hear\",\"marker\":{\"color\":\"#FFA15A\",\"symbol\":\"circle\"},\"mode\":\"markers\",\"name\":\"hear\",\"scene\":\"scene\",\"showlegend\":true,\"x\":[-0.051341112703084946],\"y\":[-0.2158476561307907],\"z\":[0.277649462223053],\"type\":\"scatter3d\"},{\"hovertemplate\":\"color=grey<br>0=%{x}<br>1=%{y}<br>2=%{z}<extra></extra>\",\"legendgroup\":\"grey\",\"marker\":{\"color\":\"#19d3f3\",\"symbol\":\"circle\"},\"mode\":\"markers\",\"name\":\"grey\",\"scene\":\"scene\",\"showlegend\":true,\"x\":[0.5428553223609924],\"y\":[0.36290091276168823],\"z\":[-0.10126063972711563],\"type\":\"scatter3d\"},{\"hovertemplate\":\"color=name<br>0=%{x}<br>1=%{y}<br>2=%{z}<extra></extra>\",\"legendgroup\":\"name\",\"marker\":{\"color\":\"#FF6692\",\"symbol\":\"circle\"},\"mode\":\"markers\",\"name\":\"name\",\"scene\":\"scene\",\"showlegend\":true,\"x\":[-0.5889314413070679],\"y\":[0.2496780902147293],\"z\":[-0.13032570481300354],\"type\":\"scatter3d\"},{\"hovertemplate\":\"color=high<br>0=%{x}<br>1=%{y}<br>2=%{z}<extra></extra>\",\"legendgroup\":\"high\",\"marker\":{\"color\":\"#B6E880\",\"symbol\":\"circle\"},\"mode\":\"markers\",\"name\":\"high\",\"scene\":\"scene\",\"showlegend\":true,\"x\":[0.27910828590393066],\"y\":[0.7057777047157288],\"z\":[-0.04139163717627525],\"type\":\"scatter3d\"},{\"hovertemplate\":\"color=horse<br>0=%{x}<br>1=%{y}<br>2=%{z}<extra></extra>\",\"legendgroup\":\"horse\",\"marker\":{\"color\":\"#FF97FF\",\"symbol\":\"circle\"},\"mode\":\"markers\",\"name\":\"horse\",\"scene\":\"scene\",\"showlegend\":true,\"x\":[0.47781437635421753],\"y\":[0.0687490776181221],\"z\":[0.03387993574142456],\"type\":\"scatter3d\"},{\"hovertemplate\":\"color=put<br>0=%{x}<br>1=%{y}<br>2=%{z}<extra></extra>\",\"legendgroup\":\"put\",\"marker\":{\"color\":\"#FECB52\",\"symbol\":\"circle\"},\"mode\":\"markers\",\"name\":\"put\",\"scene\":\"scene\",\"showlegend\":true,\"x\":[-0.07970605045557022],\"y\":[0.11441940069198608],\"z\":[-0.10245930403470993],\"type\":\"scatter3d\"},{\"hovertemplate\":\"color=wine<br>0=%{x}<br>1=%{y}<br>2=%{z}<extra></extra>\",\"legendgroup\":\"wine\",\"marker\":{\"color\":\"#636efa\",\"symbol\":\"circle\"},\"mode\":\"markers\",\"name\":\"wine\",\"scene\":\"scene\",\"showlegend\":true,\"x\":[0.17244955897331238],\"y\":[-0.19811265170574188],\"z\":[-0.14296546578407288],\"type\":\"scatter3d\"},{\"hovertemplate\":\"color=iron<br>0=%{x}<br>1=%{y}<br>2=%{z}<extra></extra>\",\"legendgroup\":\"iron\",\"marker\":{\"color\":\"#EF553B\",\"symbol\":\"circle\"},\"mode\":\"markers\",\"name\":\"iron\",\"scene\":\"scene\",\"showlegend\":true,\"x\":[0.2692955732345581],\"y\":[0.6761123538017273],\"z\":[-0.09998717159032822],\"type\":\"scatter3d\"},{\"hovertemplate\":\"color=stone<br>0=%{x}<br>1=%{y}<br>2=%{z}<extra></extra>\",\"legendgroup\":\"stone\",\"marker\":{\"color\":\"#00cc96\",\"symbol\":\"circle\"},\"mode\":\"markers\",\"name\":\"stone\",\"scene\":\"scene\",\"showlegend\":true,\"x\":[0.6587647199630737],\"y\":[0.4774826169013977],\"z\":[0.23944565653800964],\"type\":\"scatter3d\"},{\"hovertemplate\":\"color=fire<br>0=%{x}<br>1=%{y}<br>2=%{z}<extra></extra>\",\"legendgroup\":\"fire\",\"marker\":{\"color\":\"#ab63fa\",\"symbol\":\"circle\"},\"mode\":\"markers\",\"name\":\"fire\",\"scene\":\"scene\",\"showlegend\":true,\"x\":[0.5447033047676086],\"y\":[0.012914975173771381],\"z\":[0.4342716932296753],\"type\":\"scatter3d\"},{\"hovertemplate\":\"color=hard<br>0=%{x}<br>1=%{y}<br>2=%{z}<extra></extra>\",\"legendgroup\":\"hard\",\"marker\":{\"color\":\"#FFA15A\",\"symbol\":\"circle\"},\"mode\":\"markers\",\"name\":\"hard\",\"scene\":\"scene\",\"showlegend\":true,\"x\":[0.4831281304359436],\"y\":[-0.3549431562423706],\"z\":[0.21430560946464539],\"type\":\"scatter3d\"},{\"hovertemplate\":\"color=water<br>0=%{x}<br>1=%{y}<br>2=%{z}<extra></extra>\",\"legendgroup\":\"water\",\"marker\":{\"color\":\"#19d3f3\",\"symbol\":\"circle\"},\"mode\":\"markers\",\"name\":\"water\",\"scene\":\"scene\",\"showlegend\":true,\"x\":[0.6200945377349854],\"y\":[-0.14297981560230255],\"z\":[0.3829229176044464],\"type\":\"scatter3d\"},{\"hovertemplate\":\"color=upon<br>0=%{x}<br>1=%{y}<br>2=%{z}<extra></extra>\",\"legendgroup\":\"upon\",\"marker\":{\"color\":\"#FF6692\",\"symbol\":\"circle\"},\"mode\":\"markers\",\"name\":\"upon\",\"scene\":\"scene\",\"showlegend\":true,\"x\":[0.3785007894039154],\"y\":[0.5182463526725769],\"z\":[0.05636274442076683],\"type\":\"scatter3d\"},{\"hovertemplate\":\"color=voice<br>0=%{x}<br>1=%{y}<br>2=%{z}<extra></extra>\",\"legendgroup\":\"voice\",\"marker\":{\"color\":\"#B6E880\",\"symbol\":\"circle\"},\"mode\":\"markers\",\"name\":\"voice\",\"scene\":\"scene\",\"showlegend\":true,\"x\":[0.10358598083257675],\"y\":[-0.3797816038131714],\"z\":[-0.26476892828941345],\"type\":\"scatter3d\"},{\"hovertemplate\":\"color=gone<br>0=%{x}<br>1=%{y}<br>2=%{z}<extra></extra>\",\"legendgroup\":\"gone\",\"marker\":{\"color\":\"#FF97FF\",\"symbol\":\"circle\"},\"mode\":\"markers\",\"name\":\"gone\",\"scene\":\"scene\",\"showlegend\":true,\"x\":[0.0441288948059082],\"y\":[-0.02727941796183586],\"z\":[0.3252237141132355],\"type\":\"scatter3d\"},{\"hovertemplate\":\"color=give<br>0=%{x}<br>1=%{y}<br>2=%{z}<extra></extra>\",\"legendgroup\":\"give\",\"marker\":{\"color\":\"#FECB52\",\"symbol\":\"circle\"},\"mode\":\"markers\",\"name\":\"give\",\"scene\":\"scene\",\"showlegend\":true,\"x\":[-0.601841926574707],\"y\":[0.07922614365816116],\"z\":[0.13688674569129944],\"type\":\"scatter3d\"},{\"hovertemplate\":\"color=seen<br>0=%{x}<br>1=%{y}<br>2=%{z}<extra></extra>\",\"legendgroup\":\"seen\",\"marker\":{\"color\":\"#636efa\",\"symbol\":\"circle\"},\"mode\":\"markers\",\"name\":\"seen\",\"scene\":\"scene\",\"showlegend\":true,\"x\":[0.00775868957862258],\"y\":[0.23922725021839142],\"z\":[0.3112685978412628],\"type\":\"scatter3d\"},{\"hovertemplate\":\"color=better<br>0=%{x}<br>1=%{y}<br>2=%{z}<extra></extra>\",\"legendgroup\":\"better\",\"marker\":{\"color\":\"#EF553B\",\"symbol\":\"circle\"},\"mode\":\"markers\",\"name\":\"better\",\"scene\":\"scene\",\"showlegend\":true,\"x\":[-0.5712036490440369],\"y\":[-0.10194488614797592],\"z\":[0.318499892950058],\"type\":\"scatter3d\"},{\"hovertemplate\":\"color=sam<br>0=%{x}<br>1=%{y}<br>2=%{z}<extra></extra>\",\"legendgroup\":\"sam\",\"marker\":{\"color\":\"#00cc96\",\"symbol\":\"circle\"},\"mode\":\"markers\",\"name\":\"sam\",\"scene\":\"scene\",\"showlegend\":true,\"x\":[0.1031593382358551],\"y\":[-0.4039408266544342],\"z\":[-0.023672590032219887],\"type\":\"scatter3d\"},{\"hovertemplate\":\"color=ned<br>0=%{x}<br>1=%{y}<br>2=%{z}<extra></extra>\",\"legendgroup\":\"ned\",\"marker\":{\"color\":\"#ab63fa\",\"symbol\":\"circle\"},\"mode\":\"markers\",\"name\":\"ned\",\"scene\":\"scene\",\"showlegend\":true,\"x\":[-0.23355616629123688],\"y\":[-0.11877413839101791],\"z\":[-0.26306676864624023],\"type\":\"scatter3d\"},{\"hovertemplate\":\"color=years<br>0=%{x}<br>1=%{y}<br>2=%{z}<extra></extra>\",\"legendgroup\":\"years\",\"marker\":{\"color\":\"#FFA15A\",\"symbol\":\"circle\"},\"mode\":\"markers\",\"name\":\"years\",\"scene\":\"scene\",\"showlegend\":true,\"x\":[-0.23419953882694244],\"y\":[0.6824369430541992],\"z\":[0.08605951070785522],\"type\":\"scatter3d\"},{\"hovertemplate\":\"color=shall<br>0=%{x}<br>1=%{y}<br>2=%{z}<extra></extra>\",\"legendgroup\":\"shall\",\"marker\":{\"color\":\"#19d3f3\",\"symbol\":\"circle\"},\"mode\":\"markers\",\"name\":\"shall\",\"scene\":\"scene\",\"showlegend\":true,\"x\":[-0.583376407623291],\"y\":[0.3247341513633728],\"z\":[0.19405034184455872],\"type\":\"scatter3d\"},{\"hovertemplate\":\"color=always<br>0=%{x}<br>1=%{y}<br>2=%{z}<extra></extra>\",\"legendgroup\":\"always\",\"marker\":{\"color\":\"#FF6692\",\"symbol\":\"circle\"},\"mode\":\"markers\",\"name\":\"always\",\"scene\":\"scene\",\"showlegend\":true,\"x\":[-0.4722249209880829],\"y\":[-0.16985510289669037],\"z\":[0.2123471200466156],\"type\":\"scatter3d\"},{\"hovertemplate\":\"color=dark<br>0=%{x}<br>1=%{y}<br>2=%{z}<extra></extra>\",\"legendgroup\":\"dark\",\"marker\":{\"color\":\"#B6E880\",\"symbol\":\"circle\"},\"mode\":\"markers\",\"name\":\"dark\",\"scene\":\"scene\",\"showlegend\":true,\"x\":[0.5980493426322937],\"y\":[0.023624446243047714],\"z\":[0.18959179520606995],\"type\":\"scatter3d\"},{\"hovertemplate\":\"color=place<br>0=%{x}<br>1=%{y}<br>2=%{z}<extra></extra>\",\"legendgroup\":\"place\",\"marker\":{\"color\":\"#FF97FF\",\"symbol\":\"circle\"},\"mode\":\"markers\",\"name\":\"place\",\"scene\":\"scene\",\"showlegend\":true,\"x\":[-0.3002488911151886],\"y\":[0.4099484980106354],\"z\":[0.37580054998397827],\"type\":\"scatter3d\"},{\"hovertemplate\":\"color=winterfell<br>0=%{x}<br>1=%{y}<br>2=%{z}<extra></extra>\",\"legendgroup\":\"winterfell\",\"marker\":{\"color\":\"#FECB52\",\"symbol\":\"circle\"},\"mode\":\"markers\",\"name\":\"winterfell\",\"scene\":\"scene\",\"showlegend\":true,\"x\":[-0.2894832193851471],\"y\":[0.5187159180641174],\"z\":[0.12283633649349213],\"type\":\"scatter3d\"},{\"hovertemplate\":\"color=small<br>0=%{x}<br>1=%{y}<br>2=%{z}<extra></extra>\",\"legendgroup\":\"small\",\"marker\":{\"color\":\"#636efa\",\"symbol\":\"circle\"},\"mode\":\"markers\",\"name\":\"small\",\"scene\":\"scene\",\"showlegend\":true,\"x\":[0.3428712785243988],\"y\":[0.3532543182373047],\"z\":[0.1982288658618927],\"type\":\"scatter3d\"},{\"hovertemplate\":\"color=house<br>0=%{x}<br>1=%{y}<br>2=%{z}<extra></extra>\",\"legendgroup\":\"house\",\"marker\":{\"color\":\"#EF553B\",\"symbol\":\"circle\"},\"mode\":\"markers\",\"name\":\"house\",\"scene\":\"scene\",\"showlegend\":true,\"x\":[-0.19231954216957092],\"y\":[0.7730789184570312],\"z\":[-0.40745532512664795],\"type\":\"scatter3d\"},{\"hovertemplate\":\"color=cold<br>0=%{x}<br>1=%{y}<br>2=%{z}<extra></extra>\",\"legendgroup\":\"cold\",\"marker\":{\"color\":\"#00cc96\",\"symbol\":\"circle\"},\"mode\":\"markers\",\"name\":\"cold\",\"scene\":\"scene\",\"showlegend\":true,\"x\":[0.47355350852012634],\"y\":[-0.2132977694272995],\"z\":[0.44165173172950745],\"type\":\"scatter3d\"},{\"hovertemplate\":\"color=hundred<br>0=%{x}<br>1=%{y}<br>2=%{z}<extra></extra>\",\"legendgroup\":\"hundred\",\"marker\":{\"color\":\"#ab63fa\",\"symbol\":\"circle\"},\"mode\":\"markers\",\"name\":\"hundred\",\"scene\":\"scene\",\"showlegend\":true,\"x\":[0.09579562395811081],\"y\":[0.6954529881477356],\"z\":[0.3269421458244324],\"type\":\"scatter3d\"},{\"hovertemplate\":\"color=sister<br>0=%{x}<br>1=%{y}<br>2=%{z}<extra></extra>\",\"legendgroup\":\"sister\",\"marker\":{\"color\":\"#FFA15A\",\"symbol\":\"circle\"},\"mode\":\"markers\",\"name\":\"sister\",\"scene\":\"scene\",\"showlegend\":true,\"x\":[-0.584399938583374],\"y\":[0.13970893621444702],\"z\":[-0.3381471633911133],\"type\":\"scatter3d\"},{\"hovertemplate\":\"color=end<br>0=%{x}<br>1=%{y}<br>2=%{z}<extra></extra>\",\"legendgroup\":\"end\",\"marker\":{\"color\":\"#19d3f3\",\"symbol\":\"circle\"},\"mode\":\"markers\",\"name\":\"end\",\"scene\":\"scene\",\"showlegend\":true,\"x\":[-0.05579192563891411],\"y\":[0.5899110436439514],\"z\":[0.20199988782405853],\"type\":\"scatter3d\"},{\"hovertemplate\":\"color=words<br>0=%{x}<br>1=%{y}<br>2=%{z}<extra></extra>\",\"legendgroup\":\"words\",\"marker\":{\"color\":\"#FF6692\",\"symbol\":\"circle\"},\"mode\":\"markers\",\"name\":\"words\",\"scene\":\"scene\",\"showlegend\":true,\"x\":[-0.23752480745315552],\"y\":[-0.48273202776908875],\"z\":[0.010366933420300484],\"type\":\"scatter3d\"},{\"hovertemplate\":\"color=stood<br>0=%{x}<br>1=%{y}<br>2=%{z}<extra></extra>\",\"legendgroup\":\"stood\",\"marker\":{\"color\":\"#B6E880\",\"symbol\":\"circle\"},\"mode\":\"markers\",\"name\":\"stood\",\"scene\":\"scene\",\"showlegend\":true,\"x\":[0.49047717452049255],\"y\":[0.6132575273513794],\"z\":[-0.22464628517627716],\"type\":\"scatter3d\"},{\"hovertemplate\":\"color=sea<br>0=%{x}<br>1=%{y}<br>2=%{z}<extra></extra>\",\"legendgroup\":\"sea\",\"marker\":{\"color\":\"#FF97FF\",\"symbol\":\"circle\"},\"mode\":\"markers\",\"name\":\"sea\",\"scene\":\"scene\",\"showlegend\":true,\"x\":[0.1725061684846878],\"y\":[0.7007148861885071],\"z\":[0.4136107265949249],\"type\":\"scatter3d\"},{\"hovertemplate\":\"color=right<br>0=%{x}<br>1=%{y}<br>2=%{z}<extra></extra>\",\"legendgroup\":\"right\",\"marker\":{\"color\":\"#FECB52\",\"symbol\":\"circle\"},\"mode\":\"markers\",\"name\":\"right\",\"scene\":\"scene\",\"showlegend\":true,\"x\":[0.20891420543193817],\"y\":[-0.028979672119021416],\"z\":[-0.13462527096271515],\"type\":\"scatter3d\"},{\"hovertemplate\":\"color=nothing<br>0=%{x}<br>1=%{y}<br>2=%{z}<extra></extra>\",\"legendgroup\":\"nothing\",\"marker\":{\"color\":\"#636efa\",\"symbol\":\"circle\"},\"mode\":\"markers\",\"name\":\"nothing\",\"scene\":\"scene\",\"showlegend\":true,\"x\":[-0.1495044082403183],\"y\":[-0.390146940946579],\"z\":[0.39892759919166565],\"type\":\"scatter3d\"},{\"hovertemplate\":\"color=joffrey<br>0=%{x}<br>1=%{y}<br>2=%{z}<extra></extra>\",\"legendgroup\":\"joffrey\",\"marker\":{\"color\":\"#EF553B\",\"symbol\":\"circle\"},\"mode\":\"markers\",\"name\":\"joffrey\",\"scene\":\"scene\",\"showlegend\":true,\"x\":[-0.4195699691772461],\"y\":[0.15454983711242676],\"z\":[-0.357060968875885],\"type\":\"scatter3d\"},{\"hovertemplate\":\"color=walls<br>0=%{x}<br>1=%{y}<br>2=%{z}<extra></extra>\",\"legendgroup\":\"walls\",\"marker\":{\"color\":\"#00cc96\",\"symbol\":\"circle\"},\"mode\":\"markers\",\"name\":\"walls\",\"scene\":\"scene\",\"showlegend\":true,\"x\":[0.4683830440044403],\"y\":[0.5748722553253174],\"z\":[0.4174175262451172],\"type\":\"scatter3d\"},{\"hovertemplate\":\"color=fingers<br>0=%{x}<br>1=%{y}<br>2=%{z}<extra></extra>\",\"legendgroup\":\"fingers\",\"marker\":{\"color\":\"#ab63fa\",\"symbol\":\"circle\"},\"mode\":\"markers\",\"name\":\"fingers\",\"scene\":\"scene\",\"showlegend\":true,\"x\":[0.6783433556556702],\"y\":[-0.19469141960144043],\"z\":[-0.14302848279476166],\"type\":\"scatter3d\"},{\"hovertemplate\":\"color=young<br>0=%{x}<br>1=%{y}<br>2=%{z}<extra></extra>\",\"legendgroup\":\"young\",\"marker\":{\"color\":\"#FFA15A\",\"symbol\":\"circle\"},\"mode\":\"markers\",\"name\":\"young\",\"scene\":\"scene\",\"showlegend\":true,\"x\":[-0.33742183446884155],\"y\":[0.5015523433685303],\"z\":[-0.4371982216835022],\"type\":\"scatter3d\"},{\"hovertemplate\":\"color=cloak<br>0=%{x}<br>1=%{y}<br>2=%{z}<extra></extra>\",\"legendgroup\":\"cloak\",\"marker\":{\"color\":\"#19d3f3\",\"symbol\":\"circle\"},\"mode\":\"markers\",\"name\":\"cloak\",\"scene\":\"scene\",\"showlegend\":true,\"x\":[0.5832222700119019],\"y\":[0.28659960627555847],\"z\":[-0.4821851849555969],\"type\":\"scatter3d\"},{\"hovertemplate\":\"color=seven<br>0=%{x}<br>1=%{y}<br>2=%{z}<extra></extra>\",\"legendgroup\":\"seven\",\"marker\":{\"color\":\"#FF6692\",\"symbol\":\"circle\"},\"mode\":\"markers\",\"name\":\"seven\",\"scene\":\"scene\",\"showlegend\":true,\"x\":[-0.22889460623264313],\"y\":[0.7003931999206543],\"z\":[0.15673932433128357],\"type\":\"scatter3d\"},{\"hovertemplate\":\"color=watch<br>0=%{x}<br>1=%{y}<br>2=%{z}<extra></extra>\",\"legendgroup\":\"watch\",\"marker\":{\"color\":\"#B6E880\",\"symbol\":\"circle\"},\"mode\":\"markers\",\"name\":\"watch\",\"scene\":\"scene\",\"showlegend\":true,\"x\":[-0.22817642986774445],\"y\":[0.5147260427474976],\"z\":[0.08222250640392303],\"type\":\"scatter3d\"},{\"hovertemplate\":\"color=beside<br>0=%{x}<br>1=%{y}<br>2=%{z}<extra></extra>\",\"legendgroup\":\"beside\",\"marker\":{\"color\":\"#FF97FF\",\"symbol\":\"circle\"},\"mode\":\"markers\",\"name\":\"beside\",\"scene\":\"scene\",\"showlegend\":true,\"x\":[0.5166791677474976],\"y\":[0.4829251170158386],\"z\":[-0.24504594504833221],\"type\":\"scatter3d\"},{\"hovertemplate\":\"color=get<br>0=%{x}<br>1=%{y}<br>2=%{z}<extra></extra>\",\"legendgroup\":\"get\",\"marker\":{\"color\":\"#FECB52\",\"symbol\":\"circle\"},\"mode\":\"markers\",\"name\":\"get\",\"scene\":\"scene\",\"showlegend\":true,\"x\":[-0.12009236216545105],\"y\":[-0.2582687437534332],\"z\":[0.38047653436660767],\"type\":\"scatter3d\"},{\"hovertemplate\":\"color=mouth<br>0=%{x}<br>1=%{y}<br>2=%{z}<extra></extra>\",\"legendgroup\":\"mouth\",\"marker\":{\"color\":\"#636efa\",\"symbol\":\"circle\"},\"mode\":\"markers\",\"name\":\"mouth\",\"scene\":\"scene\",\"showlegend\":true,\"x\":[0.5109327435493469],\"y\":[-0.47434574365615845],\"z\":[-0.19674541056156158],\"type\":\"scatter3d\"},{\"hovertemplate\":\"color=door<br>0=%{x}<br>1=%{y}<br>2=%{z}<extra></extra>\",\"legendgroup\":\"door\",\"marker\":{\"color\":\"#EF553B\",\"symbol\":\"circle\"},\"mode\":\"markers\",\"name\":\"door\",\"scene\":\"scene\",\"showlegend\":true,\"x\":[0.5278072953224182],\"y\":[0.11545627564191818],\"z\":[-0.15605974197387695],\"type\":\"scatter3d\"},{\"hovertemplate\":\"color=green<br>0=%{x}<br>1=%{y}<br>2=%{z}<extra></extra>\",\"legendgroup\":\"green\",\"marker\":{\"color\":\"#00cc96\",\"symbol\":\"circle\"},\"mode\":\"markers\",\"name\":\"green\",\"scene\":\"scene\",\"showlegend\":true,\"x\":[0.540503978729248],\"y\":[0.40873533487319946],\"z\":[-0.12185632437467575],\"type\":\"scatter3d\"},{\"hovertemplate\":\"color=big<br>0=%{x}<br>1=%{y}<br>2=%{z}<extra></extra>\",\"legendgroup\":\"big\",\"marker\":{\"color\":\"#ab63fa\",\"symbol\":\"circle\"},\"mode\":\"markers\",\"name\":\"big\",\"scene\":\"scene\",\"showlegend\":true,\"x\":[0.41384539008140564],\"y\":[0.09651409834623337],\"z\":[-0.21025297045707703],\"type\":\"scatter3d\"},{\"hovertemplate\":\"color=sent<br>0=%{x}<br>1=%{y}<br>2=%{z}<extra></extra>\",\"legendgroup\":\"sent\",\"marker\":{\"color\":\"#FFA15A\",\"symbol\":\"circle\"},\"mode\":\"markers\",\"name\":\"sent\",\"scene\":\"scene\",\"showlegend\":true,\"x\":[-0.17744125425815582],\"y\":[0.4915730655193329],\"z\":[0.042137786746025085],\"type\":\"scatter3d\"},{\"hovertemplate\":\"color=daughter<br>0=%{x}<br>1=%{y}<br>2=%{z}<extra></extra>\",\"legendgroup\":\"daughter\",\"marker\":{\"color\":\"#19d3f3\",\"symbol\":\"circle\"},\"mode\":\"markers\",\"name\":\"daughter\",\"scene\":\"scene\",\"showlegend\":true,\"x\":[-0.39870449900627136],\"y\":[0.6165719628334045],\"z\":[-0.5715709924697876],\"type\":\"scatter3d\"},{\"hovertemplate\":\"color=perhaps<br>0=%{x}<br>1=%{y}<br>2=%{z}<extra></extra>\",\"legendgroup\":\"perhaps\",\"marker\":{\"color\":\"#FF6692\",\"symbol\":\"circle\"},\"mode\":\"markers\",\"name\":\"perhaps\",\"scene\":\"scene\",\"showlegend\":true,\"x\":[-0.6961416006088257],\"y\":[-0.007796796970069408],\"z\":[0.2739781141281128],\"type\":\"scatter3d\"},{\"hovertemplate\":\"color=almost<br>0=%{x}<br>1=%{y}<br>2=%{z}<extra></extra>\",\"legendgroup\":\"almost\",\"marker\":{\"color\":\"#B6E880\",\"symbol\":\"circle\"},\"mode\":\"markers\",\"name\":\"almost\",\"scene\":\"scene\",\"showlegend\":true,\"x\":[0.3781360685825348],\"y\":[-0.3235023319721222],\"z\":[0.1359301209449768],\"type\":\"scatter3d\"},{\"hovertemplate\":\"color=true<br>0=%{x}<br>1=%{y}<br>2=%{z}<extra></extra>\",\"legendgroup\":\"true\",\"marker\":{\"color\":\"#FF97FF\",\"symbol\":\"circle\"},\"mode\":\"markers\",\"name\":\"true\",\"scene\":\"scene\",\"showlegend\":true,\"x\":[-0.7135519981384277],\"y\":[0.13295724987983704],\"z\":[0.0757523849606514],\"type\":\"scatter3d\"},{\"hovertemplate\":\"color=wanted<br>0=%{x}<br>1=%{y}<br>2=%{z}<extra></extra>\",\"legendgroup\":\"wanted\",\"marker\":{\"color\":\"#FECB52\",\"symbol\":\"circle\"},\"mode\":\"markers\",\"name\":\"wanted\",\"scene\":\"scene\",\"showlegend\":true,\"x\":[-0.4303417205810547],\"y\":[-0.3870391547679901],\"z\":[0.301827996969223],\"type\":\"scatter3d\"},{\"hovertemplate\":\"color=leave<br>0=%{x}<br>1=%{y}<br>2=%{z}<extra></extra>\",\"legendgroup\":\"leave\",\"marker\":{\"color\":\"#636efa\",\"symbol\":\"circle\"},\"mode\":\"markers\",\"name\":\"leave\",\"scene\":\"scene\",\"showlegend\":true,\"x\":[-0.5168864130973816],\"y\":[0.09122411906719208],\"z\":[0.18949119746685028],\"type\":\"scatter3d\"},{\"hovertemplate\":\"color=arms<br>0=%{x}<br>1=%{y}<br>2=%{z}<extra></extra>\",\"legendgroup\":\"arms\",\"marker\":{\"color\":\"#EF553B\",\"symbol\":\"circle\"},\"mode\":\"markers\",\"name\":\"arms\",\"scene\":\"scene\",\"showlegend\":true,\"x\":[0.3101871609687805],\"y\":[0.5072934627532959],\"z\":[-0.4571835994720459],\"type\":\"scatter3d\"},{\"hovertemplate\":\"color=city<br>0=%{x}<br>1=%{y}<br>2=%{z}<extra></extra>\",\"legendgroup\":\"city\",\"marker\":{\"color\":\"#00cc96\",\"symbol\":\"circle\"},\"mode\":\"markers\",\"name\":\"city\",\"scene\":\"scene\",\"showlegend\":true,\"x\":[-0.09402573108673096],\"y\":[0.690815269947052],\"z\":[0.38591763377189636],\"type\":\"scatter3d\"},{\"hovertemplate\":\"color=children<br>0=%{x}<br>1=%{y}<br>2=%{z}<extra></extra>\",\"legendgroup\":\"children\",\"marker\":{\"color\":\"#ab63fa\",\"symbol\":\"circle\"},\"mode\":\"markers\",\"name\":\"children\",\"scene\":\"scene\",\"showlegend\":true,\"x\":[-0.3684980869293213],\"y\":[0.5441617369651794],\"z\":[0.2605825364589691],\"type\":\"scatter3d\"},{\"hovertemplate\":\"color=wind<br>0=%{x}<br>1=%{y}<br>2=%{z}<extra></extra>\",\"legendgroup\":\"wind\",\"marker\":{\"color\":\"#FFA15A\",\"symbol\":\"circle\"},\"mode\":\"markers\",\"name\":\"wind\",\"scene\":\"scene\",\"showlegend\":true,\"x\":[0.657752513885498],\"y\":[0.07244917005300522],\"z\":[0.28164011240005493],\"type\":\"scatter3d\"},{\"hovertemplate\":\"color=light<br>0=%{x}<br>1=%{y}<br>2=%{z}<extra></extra>\",\"legendgroup\":\"light\",\"marker\":{\"color\":\"#19d3f3\",\"symbol\":\"circle\"},\"mode\":\"markers\",\"name\":\"light\",\"scene\":\"scene\",\"showlegend\":true,\"x\":[0.49536651372909546],\"y\":[0.22620263695716858],\"z\":[0.27998191118240356],\"type\":\"scatter3d\"},{\"hovertemplate\":\"color=sweet<br>0=%{x}<br>1=%{y}<br>2=%{z}<extra></extra>\",\"legendgroup\":\"sweet\",\"marker\":{\"color\":\"#FF6692\",\"symbol\":\"circle\"},\"mode\":\"markers\",\"name\":\"sweet\",\"scene\":\"scene\",\"showlegend\":true,\"x\":[-0.2269946038722992],\"y\":[-0.2774321436882019],\"z\":[-0.12546199560165405],\"type\":\"scatter3d\"},{\"hovertemplate\":\"color=lost<br>0=%{x}<br>1=%{y}<br>2=%{z}<extra></extra>\",\"legendgroup\":\"lost\",\"marker\":{\"color\":\"#B6E880\",\"symbol\":\"circle\"},\"mode\":\"markers\",\"name\":\"lost\",\"scene\":\"scene\",\"showlegend\":true,\"x\":[-0.1454148292541504],\"y\":[0.4047274887561798],\"z\":[0.10136313736438751],\"type\":\"scatter3d\"},{\"hovertemplate\":\"color=theon<br>0=%{x}<br>1=%{y}<br>2=%{z}<extra></extra>\",\"legendgroup\":\"theon\",\"marker\":{\"color\":\"#FF97FF\",\"symbol\":\"circle\"},\"mode\":\"markers\",\"name\":\"theon\",\"scene\":\"scene\",\"showlegend\":true,\"x\":[-0.09616334736347198],\"y\":[-0.00525527261197567],\"z\":[-0.2815268933773041],\"type\":\"scatter3d\"},{\"hovertemplate\":\"color=others<br>0=%{x}<br>1=%{y}<br>2=%{z}<extra></extra>\",\"legendgroup\":\"others\",\"marker\":{\"color\":\"#FECB52\",\"symbol\":\"circle\"},\"mode\":\"markers\",\"name\":\"others\",\"scene\":\"scene\",\"showlegend\":true,\"x\":[-0.01606929488480091],\"y\":[0.33510541915893555],\"z\":[0.20596960186958313],\"type\":\"scatter3d\"},{\"hovertemplate\":\"color=felt<br>0=%{x}<br>1=%{y}<br>2=%{z}<extra></extra>\",\"legendgroup\":\"felt\",\"marker\":{\"color\":\"#636efa\",\"symbol\":\"circle\"},\"mode\":\"markers\",\"name\":\"felt\",\"scene\":\"scene\",\"showlegend\":true,\"x\":[0.31604519486427307],\"y\":[-0.44337475299835205],\"z\":[0.12200675904750824],\"type\":\"scatter3d\"},{\"hovertemplate\":\"color=brothers<br>0=%{x}<br>1=%{y}<br>2=%{z}<extra></extra>\",\"legendgroup\":\"brothers\",\"marker\":{\"color\":\"#EF553B\",\"symbol\":\"circle\"},\"mode\":\"markers\",\"name\":\"brothers\",\"scene\":\"scene\",\"showlegend\":true,\"x\":[-0.2738136947154999],\"y\":[0.6626884937286377],\"z\":[0.06182650849223137],\"type\":\"scatter3d\"},{\"hovertemplate\":\"color=yes<br>0=%{x}<br>1=%{y}<br>2=%{z}<extra></extra>\",\"legendgroup\":\"yes\",\"marker\":{\"color\":\"#00cc96\",\"symbol\":\"circle\"},\"mode\":\"markers\",\"name\":\"yes\",\"scene\":\"scene\",\"showlegend\":true,\"x\":[-0.6835504770278931],\"y\":[-0.18873974680900574],\"z\":[-0.1254425346851349],\"type\":\"scatter3d\"},{\"hovertemplate\":\"color=side<br>0=%{x}<br>1=%{y}<br>2=%{z}<extra></extra>\",\"legendgroup\":\"side\",\"marker\":{\"color\":\"#ab63fa\",\"symbol\":\"circle\"},\"mode\":\"markers\",\"name\":\"side\",\"scene\":\"scene\",\"showlegend\":true,\"x\":[0.4809955656528473],\"y\":[0.401374876499176],\"z\":[0.031132230535149574],\"type\":\"scatter3d\"},{\"hovertemplate\":\"color=best<br>0=%{x}<br>1=%{y}<br>2=%{z}<extra></extra>\",\"legendgroup\":\"best\",\"marker\":{\"color\":\"#FFA15A\",\"symbol\":\"circle\"},\"mode\":\"markers\",\"name\":\"best\",\"scene\":\"scene\",\"showlegend\":true,\"x\":[-0.5594449043273926],\"y\":[-0.022226562723517418],\"z\":[0.4436863660812378],\"type\":\"scatter3d\"},{\"hovertemplate\":\"color=brought<br>0=%{x}<br>1=%{y}<br>2=%{z}<extra></extra>\",\"legendgroup\":\"brought\",\"marker\":{\"color\":\"#19d3f3\",\"symbol\":\"circle\"},\"mode\":\"markers\",\"name\":\"brought\",\"scene\":\"scene\",\"showlegend\":true,\"x\":[0.017206428572535515],\"y\":[0.3343943953514099],\"z\":[-0.04391723871231079],\"type\":\"scatter3d\"},{\"hovertemplate\":\"color=die<br>0=%{x}<br>1=%{y}<br>2=%{z}<extra></extra>\",\"legendgroup\":\"die\",\"marker\":{\"color\":\"#FF6692\",\"symbol\":\"circle\"},\"mode\":\"markers\",\"name\":\"die\",\"scene\":\"scene\",\"showlegend\":true,\"x\":[-0.574333906173706],\"y\":[-0.001789382309652865],\"z\":[0.3858429789543152],\"type\":\"scatter3d\"},{\"hovertemplate\":\"color=died<br>0=%{x}<br>1=%{y}<br>2=%{z}<extra></extra>\",\"legendgroup\":\"died\",\"marker\":{\"color\":\"#B6E880\",\"symbol\":\"circle\"},\"mode\":\"markers\",\"name\":\"died\",\"scene\":\"scene\",\"showlegend\":true,\"x\":[-0.29143884778022766],\"y\":[0.5916939377784729],\"z\":[-0.07141868770122528],\"type\":\"scatter3d\"},{\"hovertemplate\":\"color=soon<br>0=%{x}<br>1=%{y}<br>2=%{z}<extra></extra>\",\"legendgroup\":\"soon\",\"marker\":{\"color\":\"#FF97FF\",\"symbol\":\"circle\"},\"mode\":\"markers\",\"name\":\"soon\",\"scene\":\"scene\",\"showlegend\":true,\"x\":[-0.2491527646780014],\"y\":[0.09040212631225586],\"z\":[0.5442537665367126],\"type\":\"scatter3d\"},{\"hovertemplate\":\"color=far<br>0=%{x}<br>1=%{y}<br>2=%{z}<extra></extra>\",\"legendgroup\":\"far\",\"marker\":{\"color\":\"#FECB52\",\"symbol\":\"circle\"},\"mode\":\"markers\",\"name\":\"far\",\"scene\":\"scene\",\"showlegend\":true,\"x\":[0.052192166447639465],\"y\":[0.1732056885957718],\"z\":[0.5557030439376831],\"type\":\"scatter3d\"},{\"hovertemplate\":\"color=north<br>0=%{x}<br>1=%{y}<br>2=%{z}<extra></extra>\",\"legendgroup\":\"north\",\"marker\":{\"color\":\"#636efa\",\"symbol\":\"circle\"},\"mode\":\"markers\",\"name\":\"north\",\"scene\":\"scene\",\"showlegend\":true,\"x\":[-0.0725846216082573],\"y\":[0.6963379979133606],\"z\":[0.26303815841674805],\"type\":\"scatter3d\"},{\"hovertemplate\":\"color=fear<br>0=%{x}<br>1=%{y}<br>2=%{z}<extra></extra>\",\"legendgroup\":\"fear\",\"marker\":{\"color\":\"#EF553B\",\"symbol\":\"circle\"},\"mode\":\"markers\",\"name\":\"fear\",\"scene\":\"scene\",\"showlegend\":true,\"x\":[-0.28074973821640015],\"y\":[-0.43048569560050964],\"z\":[0.3603125214576721],\"type\":\"scatter3d\"},{\"hovertemplate\":\"color=child<br>0=%{x}<br>1=%{y}<br>2=%{z}<extra></extra>\",\"legendgroup\":\"child\",\"marker\":{\"color\":\"#00cc96\",\"symbol\":\"circle\"},\"mode\":\"markers\",\"name\":\"child\",\"scene\":\"scene\",\"showlegend\":true,\"x\":[-0.47612619400024414],\"y\":[-0.08563339710235596],\"z\":[-0.09890389442443848],\"type\":\"scatter3d\"},{\"hovertemplate\":\"color=brienne<br>0=%{x}<br>1=%{y}<br>2=%{z}<extra></extra>\",\"legendgroup\":\"brienne\",\"marker\":{\"color\":\"#ab63fa\",\"symbol\":\"circle\"},\"mode\":\"markers\",\"name\":\"brienne\",\"scene\":\"scene\",\"showlegend\":true,\"x\":[0.10617442429065704],\"y\":[-0.305592805147171],\"z\":[-0.31379395723342896],\"type\":\"scatter3d\"},{\"hovertemplate\":\"color=along<br>0=%{x}<br>1=%{y}<br>2=%{z}<extra></extra>\",\"legendgroup\":\"along\",\"marker\":{\"color\":\"#FFA15A\",\"symbol\":\"circle\"},\"mode\":\"markers\",\"name\":\"along\",\"scene\":\"scene\",\"showlegend\":true,\"x\":[0.5095884203910828],\"y\":[0.6010182499885559],\"z\":[0.34263521432876587],\"type\":\"scatter3d\"},{\"hovertemplate\":\"color=word<br>0=%{x}<br>1=%{y}<br>2=%{z}<extra></extra>\",\"legendgroup\":\"word\",\"marker\":{\"color\":\"#19d3f3\",\"symbol\":\"circle\"},\"mode\":\"markers\",\"name\":\"word\",\"scene\":\"scene\",\"showlegend\":true,\"x\":[-0.5761035680770874],\"y\":[-0.05418264493346214],\"z\":[0.04035012796521187],\"type\":\"scatter3d\"},{\"hovertemplate\":\"color=battle<br>0=%{x}<br>1=%{y}<br>2=%{z}<extra></extra>\",\"legendgroup\":\"battle\",\"marker\":{\"color\":\"#FF6692\",\"symbol\":\"circle\"},\"mode\":\"markers\",\"name\":\"battle\",\"scene\":\"scene\",\"showlegend\":true,\"x\":[-0.37460842728614807],\"y\":[0.6846386790275574],\"z\":[0.06824490427970886],\"type\":\"scatter3d\"},{\"hovertemplate\":\"color=taken<br>0=%{x}<br>1=%{y}<br>2=%{z}<extra></extra>\",\"legendgroup\":\"taken\",\"marker\":{\"color\":\"#B6E880\",\"symbol\":\"circle\"},\"mode\":\"markers\",\"name\":\"taken\",\"scene\":\"scene\",\"showlegend\":true,\"x\":[-0.32237762212753296],\"y\":[0.6341071128845215],\"z\":[0.039368581026792526],\"type\":\"scatter3d\"},{\"hovertemplate\":\"color=new<br>0=%{x}<br>1=%{y}<br>2=%{z}<extra></extra>\",\"legendgroup\":\"new\",\"marker\":{\"color\":\"#FF97FF\",\"symbol\":\"circle\"},\"mode\":\"markers\",\"name\":\"new\",\"scene\":\"scene\",\"showlegend\":true,\"x\":[-0.2623373866081238],\"y\":[0.6863407492637634],\"z\":[0.015257301740348339],\"type\":\"scatter3d\"},{\"hovertemplate\":\"color=help<br>0=%{x}<br>1=%{y}<br>2=%{z}<extra></extra>\",\"legendgroup\":\"help\",\"marker\":{\"color\":\"#FECB52\",\"symbol\":\"circle\"},\"mode\":\"markers\",\"name\":\"help\",\"scene\":\"scene\",\"showlegend\":true,\"x\":[-0.485086590051651],\"y\":[-0.20830608904361725],\"z\":[0.20101870596408844],\"type\":\"scatter3d\"},{\"hovertemplate\":\"color=wife<br>0=%{x}<br>1=%{y}<br>2=%{z}<extra></extra>\",\"legendgroup\":\"wife\",\"marker\":{\"color\":\"#636efa\",\"symbol\":\"circle\"},\"mode\":\"markers\",\"name\":\"wife\",\"scene\":\"scene\",\"showlegend\":true,\"x\":[-0.5329790711402893],\"y\":[0.5152350664138794],\"z\":[-0.37941038608551025],\"type\":\"scatter3d\"},{\"hovertemplate\":\"color=lords<br>0=%{x}<br>1=%{y}<br>2=%{z}<extra></extra>\",\"legendgroup\":\"lords\",\"marker\":{\"color\":\"#EF553B\",\"symbol\":\"circle\"},\"mode\":\"markers\",\"name\":\"lords\",\"scene\":\"scene\",\"showlegend\":true,\"x\":[-0.4241996109485626],\"y\":[0.8247209191322327],\"z\":[-0.04107236862182617],\"type\":\"scatter3d\"},{\"hovertemplate\":\"color=tywin<br>0=%{x}<br>1=%{y}<br>2=%{z}<extra></extra>\",\"legendgroup\":\"tywin\",\"marker\":{\"color\":\"#00cc96\",\"symbol\":\"circle\"},\"mode\":\"markers\",\"name\":\"tywin\",\"scene\":\"scene\",\"showlegend\":true,\"x\":[-0.37746262550354004],\"y\":[0.3142431974411011],\"z\":[-0.2886228859424591],\"type\":\"scatter3d\"},{\"hovertemplate\":\"color=davos<br>0=%{x}<br>1=%{y}<br>2=%{z}<extra></extra>\",\"legendgroup\":\"davos\",\"marker\":{\"color\":\"#ab63fa\",\"symbol\":\"circle\"},\"mode\":\"markers\",\"name\":\"davos\",\"scene\":\"scene\",\"showlegend\":true,\"x\":[-0.12516871094703674],\"y\":[-0.14076629281044006],\"z\":[-0.21169695258140564],\"type\":\"scatter3d\"},{\"hovertemplate\":\"color=something<br>0=%{x}<br>1=%{y}<br>2=%{z}<extra></extra>\",\"legendgroup\":\"something\",\"marker\":{\"color\":\"#FFA15A\",\"symbol\":\"circle\"},\"mode\":\"markers\",\"name\":\"something\",\"scene\":\"scene\",\"showlegend\":true,\"x\":[-0.02711784467101097],\"y\":[-0.6557909846305847],\"z\":[0.12187754362821579],\"type\":\"scatter3d\"},{\"hovertemplate\":\"color=mean<br>0=%{x}<br>1=%{y}<br>2=%{z}<extra></extra>\",\"legendgroup\":\"mean\",\"marker\":{\"color\":\"#19d3f3\",\"symbol\":\"circle\"},\"mode\":\"markers\",\"name\":\"mean\",\"scene\":\"scene\",\"showlegend\":true,\"x\":[-0.7197284698486328],\"y\":[0.13033103942871094],\"z\":[0.23874947428703308],\"type\":\"scatter3d\"},{\"hovertemplate\":\"color=you<br>0=%{x}<br>1=%{y}<br>2=%{z}<extra></extra>\",\"legendgroup\":\"you\",\"marker\":{\"color\":\"#FF6692\",\"symbol\":\"circle\"},\"mode\":\"markers\",\"name\":\"you\",\"scene\":\"scene\",\"showlegend\":true,\"x\":[-0.6982723474502563],\"y\":[-0.12804631888866425],\"z\":[0.10125025361776352],\"type\":\"scatter3d\"},{\"hovertemplate\":\"color=rest<br>0=%{x}<br>1=%{y}<br>2=%{z}<extra></extra>\",\"legendgroup\":\"rest\",\"marker\":{\"color\":\"#B6E880\",\"symbol\":\"circle\"},\"mode\":\"markers\",\"name\":\"rest\",\"scene\":\"scene\",\"showlegend\":true,\"x\":[-0.16703081130981445],\"y\":[0.3151484727859497],\"z\":[0.4351257085800171],\"type\":\"scatter3d\"},{\"hovertemplate\":\"color=hall<br>0=%{x}<br>1=%{y}<br>2=%{z}<extra></extra>\",\"legendgroup\":\"hall\",\"marker\":{\"color\":\"#FF97FF\",\"symbol\":\"circle\"},\"mode\":\"markers\",\"name\":\"hall\",\"scene\":\"scene\",\"showlegend\":true,\"x\":[0.3607637584209442],\"y\":[0.5914007425308228],\"z\":[0.03904077783226967],\"type\":\"scatter3d\"},{\"hovertemplate\":\"color=kill<br>0=%{x}<br>1=%{y}<br>2=%{z}<extra></extra>\",\"legendgroup\":\"kill\",\"marker\":{\"color\":\"#FECB52\",\"symbol\":\"circle\"},\"mode\":\"markers\",\"name\":\"kill\",\"scene\":\"scene\",\"showlegend\":true,\"x\":[-0.6144336462020874],\"y\":[-0.20331533253192902],\"z\":[0.22580336034297943],\"type\":\"scatter3d\"},{\"hovertemplate\":\"color=strong<br>0=%{x}<br>1=%{y}<br>2=%{z}<extra></extra>\",\"legendgroup\":\"strong\",\"marker\":{\"color\":\"#636efa\",\"symbol\":\"circle\"},\"mode\":\"markers\",\"name\":\"strong\",\"scene\":\"scene\",\"showlegend\":true,\"x\":[-0.12665444612503052],\"y\":[0.14374852180480957],\"z\":[0.1448020488023758],\"type\":\"scatter3d\"},{\"hovertemplate\":\"color=dragon<br>0=%{x}<br>1=%{y}<br>2=%{z}<extra></extra>\",\"legendgroup\":\"dragon\",\"marker\":{\"color\":\"#EF553B\",\"symbol\":\"circle\"},\"mode\":\"markers\",\"name\":\"dragon\",\"scene\":\"scene\",\"showlegend\":true,\"x\":[0.15317848324775696],\"y\":[0.38950443267822266],\"z\":[0.32357969880104065],\"type\":\"scatter3d\"},{\"hovertemplate\":\"color=steel<br>0=%{x}<br>1=%{y}<br>2=%{z}<extra></extra>\",\"legendgroup\":\"steel\",\"marker\":{\"color\":\"#00cc96\",\"symbol\":\"circle\"},\"mode\":\"markers\",\"name\":\"steel\",\"scene\":\"scene\",\"showlegend\":true,\"x\":[0.6698436141014099],\"y\":[0.1300683617591858],\"z\":[-0.024755077436566353],\"type\":\"scatter3d\"},{\"hovertemplate\":\"color=began<br>0=%{x}<br>1=%{y}<br>2=%{z}<extra></extra>\",\"legendgroup\":\"began\",\"marker\":{\"color\":\"#ab63fa\",\"symbol\":\"circle\"},\"mode\":\"markers\",\"name\":\"began\",\"scene\":\"scene\",\"showlegend\":true,\"x\":[0.5498093366622925],\"y\":[-0.1319614052772522],\"z\":[0.28445836901664734],\"type\":\"scatter3d\"},{\"hovertemplate\":\"color=sound<br>0=%{x}<br>1=%{y}<br>2=%{z}<extra></extra>\",\"legendgroup\":\"sound\",\"marker\":{\"color\":\"#FFA15A\",\"symbol\":\"circle\"},\"mode\":\"markers\",\"name\":\"sound\",\"scene\":\"scene\",\"showlegend\":true,\"x\":[0.5022681951522827],\"y\":[-0.28110602498054504],\"z\":[0.27023449540138245],\"type\":\"scatter3d\"},{\"hovertemplate\":\"color=past<br>0=%{x}<br>1=%{y}<br>2=%{z}<extra></extra>\",\"legendgroup\":\"past\",\"marker\":{\"color\":\"#19d3f3\",\"symbol\":\"circle\"},\"mode\":\"markers\",\"name\":\"past\",\"scene\":\"scene\",\"showlegend\":true,\"x\":[0.4811827540397644],\"y\":[0.5173594951629639],\"z\":[0.20468319952487946],\"type\":\"scatter3d\"},{\"hovertemplate\":\"color=life<br>0=%{x}<br>1=%{y}<br>2=%{z}<extra></extra>\",\"legendgroup\":\"life\",\"marker\":{\"color\":\"#FF6692\",\"symbol\":\"circle\"},\"mode\":\"markers\",\"name\":\"life\",\"scene\":\"scene\",\"showlegend\":true,\"x\":[-0.5407657623291016],\"y\":[0.17003875970840454],\"z\":[0.39810940623283386],\"type\":\"scatter3d\"},{\"hovertemplate\":\"color=tower<br>0=%{x}<br>1=%{y}<br>2=%{z}<extra></extra>\",\"legendgroup\":\"tower\",\"marker\":{\"color\":\"#B6E880\",\"symbol\":\"circle\"},\"mode\":\"markers\",\"name\":\"tower\",\"scene\":\"scene\",\"showlegend\":true,\"x\":[0.36794453859329224],\"y\":[0.6546356081962585],\"z\":[0.15029765665531158],\"type\":\"scatter3d\"},{\"hovertemplate\":\"color=sons<br>0=%{x}<br>1=%{y}<br>2=%{z}<extra></extra>\",\"legendgroup\":\"sons\",\"marker\":{\"color\":\"#FF97FF\",\"symbol\":\"circle\"},\"mode\":\"markers\",\"name\":\"sons\",\"scene\":\"scene\",\"showlegend\":true,\"x\":[-0.43765130639076233],\"y\":[0.8263874053955078],\"z\":[-0.18442325294017792],\"type\":\"scatter3d\"},{\"hovertemplate\":\"color=killed<br>0=%{x}<br>1=%{y}<br>2=%{z}<extra></extra>\",\"legendgroup\":\"killed\",\"marker\":{\"color\":\"#FECB52\",\"symbol\":\"circle\"},\"mode\":\"markers\",\"name\":\"killed\",\"scene\":\"scene\",\"showlegend\":true,\"x\":[-0.5702655911445618],\"y\":[0.2360452115535736],\"z\":[-0.18695664405822754],\"type\":\"scatter3d\"},{\"hovertemplate\":\"color=arm<br>0=%{x}<br>1=%{y}<br>2=%{z}<extra></extra>\",\"legendgroup\":\"arm\",\"marker\":{\"color\":\"#636efa\",\"symbol\":\"circle\"},\"mode\":\"markers\",\"name\":\"arm\",\"scene\":\"scene\",\"showlegend\":true,\"x\":[0.5125617980957031],\"y\":[-0.0778832659125328],\"z\":[-0.3036210834980011],\"type\":\"scatter3d\"},{\"hovertemplate\":\"color=free<br>0=%{x}<br>1=%{y}<br>2=%{z}<extra></extra>\",\"legendgroup\":\"free\",\"marker\":{\"color\":\"#EF553B\",\"symbol\":\"circle\"},\"mode\":\"markers\",\"name\":\"free\",\"scene\":\"scene\",\"showlegend\":true,\"x\":[-0.07117591053247452],\"y\":[0.47206151485443115],\"z\":[0.46597567200660706],\"type\":\"scatter3d\"},{\"hovertemplate\":\"color=tried<br>0=%{x}<br>1=%{y}<br>2=%{z}<extra></extra>\",\"legendgroup\":\"tried\",\"marker\":{\"color\":\"#00cc96\",\"symbol\":\"circle\"},\"mode\":\"markers\",\"name\":\"tried\",\"scene\":\"scene\",\"showlegend\":true,\"x\":[0.04176917299628258],\"y\":[-0.3688110411167145],\"z\":[0.14556623995304108],\"type\":\"scatter3d\"},{\"hovertemplate\":\"color=bear<br>0=%{x}<br>1=%{y}<br>2=%{z}<extra></extra>\",\"legendgroup\":\"bear\",\"marker\":{\"color\":\"#ab63fa\",\"symbol\":\"circle\"},\"mode\":\"markers\",\"name\":\"bear\",\"scene\":\"scene\",\"showlegend\":true,\"x\":[-0.05411864072084427],\"y\":[0.15447723865509033],\"z\":[-0.06658035516738892],\"type\":\"scatter3d\"},{\"hovertemplate\":\"color=thing<br>0=%{x}<br>1=%{y}<br>2=%{z}<extra></extra>\",\"legendgroup\":\"thing\",\"marker\":{\"color\":\"#FFA15A\",\"symbol\":\"circle\"},\"mode\":\"markers\",\"name\":\"thing\",\"scene\":\"scene\",\"showlegend\":true,\"x\":[-0.14376814663410187],\"y\":[-0.3413164019584656],\"z\":[0.2835996448993683],\"type\":\"scatter3d\"},{\"hovertemplate\":\"color=days<br>0=%{x}<br>1=%{y}<br>2=%{z}<extra></extra>\",\"legendgroup\":\"days\",\"marker\":{\"color\":\"#19d3f3\",\"symbol\":\"circle\"},\"mode\":\"markers\",\"name\":\"days\",\"scene\":\"scene\",\"showlegend\":true,\"x\":[-0.0722026452422142],\"y\":[0.5171006321907043],\"z\":[0.5297961831092834],\"type\":\"scatter3d\"},{\"hovertemplate\":\"color=bloody<br>0=%{x}<br>1=%{y}<br>2=%{z}<extra></extra>\",\"legendgroup\":\"bloody\",\"marker\":{\"color\":\"#FF6692\",\"symbol\":\"circle\"},\"mode\":\"markers\",\"name\":\"bloody\",\"scene\":\"scene\",\"showlegend\":true,\"x\":[0.05960028991103172],\"y\":[-0.17050524055957794],\"z\":[0.2644626796245575],\"type\":\"scatter3d\"},{\"hovertemplate\":\"color=heart<br>0=%{x}<br>1=%{y}<br>2=%{z}<extra></extra>\",\"legendgroup\":\"heart\",\"marker\":{\"color\":\"#B6E880\",\"symbol\":\"circle\"},\"mode\":\"markers\",\"name\":\"heart\",\"scene\":\"scene\",\"showlegend\":true,\"x\":[0.32272279262542725],\"y\":[-0.029766833409667015],\"z\":[0.15887759625911713],\"type\":\"scatter3d\"},{\"hovertemplate\":\"color=pale<br>0=%{x}<br>1=%{y}<br>2=%{z}<extra></extra>\",\"legendgroup\":\"pale\",\"marker\":{\"color\":\"#FF97FF\",\"symbol\":\"circle\"},\"mode\":\"markers\",\"name\":\"pale\",\"scene\":\"scene\",\"showlegend\":true,\"x\":[0.6970087289810181],\"y\":[0.11083228886127472],\"z\":[-0.15820711851119995],\"type\":\"scatter3d\"},{\"hovertemplate\":\"color=love<br>0=%{x}<br>1=%{y}<br>2=%{z}<extra></extra>\",\"legendgroup\":\"love\",\"marker\":{\"color\":\"#FECB52\",\"symbol\":\"circle\"},\"mode\":\"markers\",\"name\":\"love\",\"scene\":\"scene\",\"showlegend\":true,\"x\":[-0.746863603591919],\"y\":[-0.025216037407517433],\"z\":[0.06820010393857956],\"type\":\"scatter3d\"},{\"hovertemplate\":\"color=moment<br>0=%{x}<br>1=%{y}<br>2=%{z}<extra></extra>\",\"legendgroup\":\"moment\",\"marker\":{\"color\":\"#636efa\",\"symbol\":\"circle\"},\"mode\":\"markers\",\"name\":\"moment\",\"scene\":\"scene\",\"showlegend\":true,\"x\":[0.08346786350011826],\"y\":[-0.4910224676132202],\"z\":[-0.08382441848516464],\"type\":\"scatter3d\"},{\"hovertemplate\":\"color=sat<br>0=%{x}<br>1=%{y}<br>2=%{z}<extra></extra>\",\"legendgroup\":\"sat\",\"marker\":{\"color\":\"#EF553B\",\"symbol\":\"circle\"},\"mode\":\"markers\",\"name\":\"sat\",\"scene\":\"scene\",\"showlegend\":true,\"x\":[0.5369843244552612],\"y\":[0.34431490302085876],\"z\":[-0.3108488619327545],\"type\":\"scatter3d\"},{\"hovertemplate\":\"color=bring<br>0=%{x}<br>1=%{y}<br>2=%{z}<extra></extra>\",\"legendgroup\":\"bring\",\"marker\":{\"color\":\"#00cc96\",\"symbol\":\"circle\"},\"mode\":\"markers\",\"name\":\"bring\",\"scene\":\"scene\",\"showlegend\":true,\"x\":[-0.4806649684906006],\"y\":[0.13585145771503448],\"z\":[0.16733549535274506],\"type\":\"scatter3d\"},{\"hovertemplate\":\"color=knights<br>0=%{x}<br>1=%{y}<br>2=%{z}<extra></extra>\",\"legendgroup\":\"knights\",\"marker\":{\"color\":\"#ab63fa\",\"symbol\":\"circle\"},\"mode\":\"markers\",\"name\":\"knights\",\"scene\":\"scene\",\"showlegend\":true,\"x\":[-0.1906142681837082],\"y\":[0.8782486915588379],\"z\":[-0.09838230162858963],\"type\":\"scatter3d\"},{\"hovertemplate\":\"color=close<br>0=%{x}<br>1=%{y}<br>2=%{z}<extra></extra>\",\"legendgroup\":\"close\",\"marker\":{\"color\":\"#FFA15A\",\"symbol\":\"circle\"},\"mode\":\"markers\",\"name\":\"close\",\"scene\":\"scene\",\"showlegend\":true,\"x\":[0.3107283115386963],\"y\":[-0.11089237034320831],\"z\":[0.14847245812416077],\"type\":\"scatter3d\"},{\"hovertemplate\":\"color=bed<br>0=%{x}<br>1=%{y}<br>2=%{z}<extra></extra>\",\"legendgroup\":\"bed\",\"marker\":{\"color\":\"#19d3f3\",\"symbol\":\"circle\"},\"mode\":\"markers\",\"name\":\"bed\",\"scene\":\"scene\",\"showlegend\":true,\"x\":[0.14923438429832458],\"y\":[-0.20564553141593933],\"z\":[0.14315974712371826],\"type\":\"scatter3d\"},{\"hovertemplate\":\"color=wolf<br>0=%{x}<br>1=%{y}<br>2=%{z}<extra></extra>\",\"legendgroup\":\"wolf\",\"marker\":{\"color\":\"#FF6692\",\"symbol\":\"circle\"},\"mode\":\"markers\",\"name\":\"wolf\",\"scene\":\"scene\",\"showlegend\":true,\"x\":[0.05178700014948845],\"y\":[-0.0738881379365921],\"z\":[-0.002234282437711954],\"type\":\"scatter3d\"},{\"hovertemplate\":\"color=death<br>0=%{x}<br>1=%{y}<br>2=%{z}<extra></extra>\",\"legendgroup\":\"death\",\"marker\":{\"color\":\"#B6E880\",\"symbol\":\"circle\"},\"mode\":\"markers\",\"name\":\"death\",\"scene\":\"scene\",\"showlegend\":true,\"x\":[-0.5168577432632446],\"y\":[0.13466569781303406],\"z\":[0.23640376329421997],\"type\":\"scatter3d\"},{\"hovertemplate\":\"color=cut<br>0=%{x}<br>1=%{y}<br>2=%{z}<extra></extra>\",\"legendgroup\":\"cut\",\"marker\":{\"color\":\"#FF97FF\",\"symbol\":\"circle\"},\"mode\":\"markers\",\"name\":\"cut\",\"scene\":\"scene\",\"showlegend\":true,\"x\":[0.3577100932598114],\"y\":[-0.16533656418323517],\"z\":[0.09067349135875702],\"type\":\"scatter3d\"},{\"hovertemplate\":\"color=smile<br>0=%{x}<br>1=%{y}<br>2=%{z}<extra></extra>\",\"legendgroup\":\"smile\",\"marker\":{\"color\":\"#FECB52\",\"symbol\":\"circle\"},\"mode\":\"markers\",\"name\":\"smile\",\"scene\":\"scene\",\"showlegend\":true,\"x\":[0.036266520619392395],\"y\":[-0.49056676030158997],\"z\":[-0.49537596106529236],\"type\":\"scatter3d\"},{\"hovertemplate\":\"color=horses<br>0=%{x}<br>1=%{y}<br>2=%{z}<extra></extra>\",\"legendgroup\":\"horses\",\"marker\":{\"color\":\"#636efa\",\"symbol\":\"circle\"},\"mode\":\"markers\",\"name\":\"horses\",\"scene\":\"scene\",\"showlegend\":true,\"x\":[0.406939834356308],\"y\":[0.25964683294296265],\"z\":[0.5367254018783569],\"type\":\"scatter3d\"},{\"hovertemplate\":\"color=silver<br>0=%{x}<br>1=%{y}<br>2=%{z}<extra></extra>\",\"legendgroup\":\"silver\",\"marker\":{\"color\":\"#EF553B\",\"symbol\":\"circle\"},\"mode\":\"markers\",\"name\":\"silver\",\"scene\":\"scene\",\"showlegend\":true,\"x\":[0.5454622507095337],\"y\":[0.40124645829200745],\"z\":[-0.2374381721019745],\"type\":\"scatter3d\"},{\"hovertemplate\":\"color=inside<br>0=%{x}<br>1=%{y}<br>2=%{z}<extra></extra>\",\"legendgroup\":\"inside\",\"marker\":{\"color\":\"#00cc96\",\"symbol\":\"circle\"},\"mode\":\"markers\",\"name\":\"inside\",\"scene\":\"scene\",\"showlegend\":true,\"x\":[0.6787602305412292],\"y\":[0.013165990822017193],\"z\":[0.34512361884117126],\"type\":\"scatter3d\"},{\"hovertemplate\":\"color=dragons<br>0=%{x}<br>1=%{y}<br>2=%{z}<extra></extra>\",\"legendgroup\":\"dragons\",\"marker\":{\"color\":\"#ab63fa\",\"symbol\":\"circle\"},\"mode\":\"markers\",\"name\":\"dragons\",\"scene\":\"scene\",\"showlegend\":true,\"x\":[-0.21455413103103638],\"y\":[0.3662448823451996],\"z\":[0.47741442918777466],\"type\":\"scatter3d\"},{\"hovertemplate\":\"color=four<br>0=%{x}<br>1=%{y}<br>2=%{z}<extra></extra>\",\"legendgroup\":\"four\",\"marker\":{\"color\":\"#FFA15A\",\"symbol\":\"circle\"},\"mode\":\"markers\",\"name\":\"four\",\"scene\":\"scene\",\"showlegend\":true,\"x\":[0.10462448745965958],\"y\":[0.7469952702522278],\"z\":[0.09102239459753036],\"type\":\"scatter3d\"},{\"hovertemplate\":\"color=brown<br>0=%{x}<br>1=%{y}<br>2=%{z}<extra></extra>\",\"legendgroup\":\"brown\",\"marker\":{\"color\":\"#19d3f3\",\"symbol\":\"circle\"},\"mode\":\"markers\",\"name\":\"brown\",\"scene\":\"scene\",\"showlegend\":true,\"x\":[0.6165298223495483],\"y\":[0.12046239525079727],\"z\":[-0.2606181800365448],\"type\":\"scatter3d\"},{\"hovertemplate\":\"color=bastard<br>0=%{x}<br>1=%{y}<br>2=%{z}<extra></extra>\",\"legendgroup\":\"bastard\",\"marker\":{\"color\":\"#FF6692\",\"symbol\":\"circle\"},\"mode\":\"markers\",\"name\":\"bastard\",\"scene\":\"scene\",\"showlegend\":true,\"x\":[-0.5398328900337219],\"y\":[0.5047637224197388],\"z\":[-0.36235788464546204],\"type\":\"scatter3d\"},{\"hovertemplate\":\"color=landing<br>0=%{x}<br>1=%{y}<br>2=%{z}<extra></extra>\",\"legendgroup\":\"landing\",\"marker\":{\"color\":\"#B6E880\",\"symbol\":\"circle\"},\"mode\":\"markers\",\"name\":\"landing\",\"scene\":\"scene\",\"showlegend\":true,\"x\":[-0.3009282648563385],\"y\":[0.5161815285682678],\"z\":[0.016878999769687653],\"type\":\"scatter3d\"},{\"hovertemplate\":\"color=uncle<br>0=%{x}<br>1=%{y}<br>2=%{z}<extra></extra>\",\"legendgroup\":\"uncle\",\"marker\":{\"color\":\"#FF97FF\",\"symbol\":\"circle\"},\"mode\":\"markers\",\"name\":\"uncle\",\"scene\":\"scene\",\"showlegend\":true,\"x\":[-0.6249632239341736],\"y\":[0.4524354934692383],\"z\":[-0.40738674998283386],\"type\":\"scatter3d\"},{\"hovertemplate\":\"color=hot<br>0=%{x}<br>1=%{y}<br>2=%{z}<extra></extra>\",\"legendgroup\":\"hot\",\"marker\":{\"color\":\"#FECB52\",\"symbol\":\"circle\"},\"mode\":\"markers\",\"name\":\"hot\",\"scene\":\"scene\",\"showlegend\":true,\"x\":[0.42389410734176636],\"y\":[-0.3959815800189972],\"z\":[0.3291235864162445],\"type\":\"scatter3d\"},{\"hovertemplate\":\"color=part<br>0=%{x}<br>1=%{y}<br>2=%{z}<extra></extra>\",\"legendgroup\":\"part\",\"marker\":{\"color\":\"#636efa\",\"symbol\":\"circle\"},\"mode\":\"markers\",\"name\":\"part\",\"scene\":\"scene\",\"showlegend\":true,\"x\":[-0.5465556979179382],\"y\":[0.20834863185882568],\"z\":[0.3647576570510864],\"type\":\"scatter3d\"},{\"hovertemplate\":\"color=thousand<br>0=%{x}<br>1=%{y}<br>2=%{z}<extra></extra>\",\"legendgroup\":\"thousand\",\"marker\":{\"color\":\"#EF553B\",\"symbol\":\"circle\"},\"mode\":\"markers\",\"name\":\"thousand\",\"scene\":\"scene\",\"showlegend\":true,\"x\":[-0.0010291164508089423],\"y\":[0.6742207407951355],\"z\":[0.4335685074329376],\"type\":\"scatter3d\"},{\"hovertemplate\":\"color=open<br>0=%{x}<br>1=%{y}<br>2=%{z}<extra></extra>\",\"legendgroup\":\"open\",\"marker\":{\"color\":\"#00cc96\",\"symbol\":\"circle\"},\"mode\":\"markers\",\"name\":\"open\",\"scene\":\"scene\",\"showlegend\":true,\"x\":[0.5389659404754639],\"y\":[0.01944238319993019],\"z\":[0.015570354647934437],\"type\":\"scatter3d\"},{\"hovertemplate\":\"color=captain<br>0=%{x}<br>1=%{y}<br>2=%{z}<extra></extra>\",\"legendgroup\":\"captain\",\"marker\":{\"color\":\"#ab63fa\",\"symbol\":\"circle\"},\"mode\":\"markers\",\"name\":\"captain\",\"scene\":\"scene\",\"showlegend\":true,\"x\":[-0.19846254587173462],\"y\":[0.6084544062614441],\"z\":[-0.5510112047195435],\"type\":\"scatter3d\"},{\"hovertemplate\":\"color=blue<br>0=%{x}<br>1=%{y}<br>2=%{z}<extra></extra>\",\"legendgroup\":\"blue\",\"marker\":{\"color\":\"#FFA15A\",\"symbol\":\"circle\"},\"mode\":\"markers\",\"name\":\"blue\",\"scene\":\"scene\",\"showlegend\":true,\"x\":[0.5584545135498047],\"y\":[0.3087444603443146],\"z\":[-0.19554074108600616],\"type\":\"scatter3d\"},{\"hovertemplate\":\"color=going<br>0=%{x}<br>1=%{y}<br>2=%{z}<extra></extra>\",\"legendgroup\":\"going\",\"marker\":{\"color\":\"#19d3f3\",\"symbol\":\"circle\"},\"mode\":\"markers\",\"name\":\"going\",\"scene\":\"scene\",\"showlegend\":true,\"x\":[-0.2525367736816406],\"y\":[-0.19831302762031555],\"z\":[0.5546408891677856],\"type\":\"scatter3d\"},{\"hovertemplate\":\"color=air<br>0=%{x}<br>1=%{y}<br>2=%{z}<extra></extra>\",\"legendgroup\":\"air\",\"marker\":{\"color\":\"#FF6692\",\"symbol\":\"circle\"},\"mode\":\"markers\",\"name\":\"air\",\"scene\":\"scene\",\"showlegend\":true,\"x\":[0.7439773678779602],\"y\":[-0.13318756222724915],\"z\":[0.25104692578315735],\"type\":\"scatter3d\"},{\"hovertemplate\":\"color=please<br>0=%{x}<br>1=%{y}<br>2=%{z}<extra></extra>\",\"legendgroup\":\"please\",\"marker\":{\"color\":\"#B6E880\",\"symbol\":\"circle\"},\"mode\":\"markers\",\"name\":\"please\",\"scene\":\"scene\",\"showlegend\":true,\"x\":[-0.6723341941833496],\"y\":[-0.17562295496463776],\"z\":[-0.0003086706856265664],\"type\":\"scatter3d\"},{\"hovertemplate\":\"color=me<br>0=%{x}<br>1=%{y}<br>2=%{z}<extra></extra>\",\"legendgroup\":\"me\",\"marker\":{\"color\":\"#FF97FF\",\"symbol\":\"circle\"},\"mode\":\"markers\",\"name\":\"me\",\"scene\":\"scene\",\"showlegend\":true,\"x\":[-0.6421458125114441],\"y\":[-0.2100299596786499],\"z\":[0.1418287307024002],\"type\":\"scatter3d\"},{\"hovertemplate\":\"color=river<br>0=%{x}<br>1=%{y}<br>2=%{z}<extra></extra>\",\"legendgroup\":\"river\",\"marker\":{\"color\":\"#FECB52\",\"symbol\":\"circle\"},\"mode\":\"markers\",\"name\":\"river\",\"scene\":\"scene\",\"showlegend\":true,\"x\":[0.44466471672058105],\"y\":[0.48108044266700745],\"z\":[0.45238539576530457],\"type\":\"scatter3d\"},{\"hovertemplate\":\"color=laughed<br>0=%{x}<br>1=%{y}<br>2=%{z}<extra></extra>\",\"legendgroup\":\"laughed\",\"marker\":{\"color\":\"#636efa\",\"symbol\":\"circle\"},\"mode\":\"markers\",\"name\":\"laughed\",\"scene\":\"scene\",\"showlegend\":true,\"x\":[-0.18107230961322784],\"y\":[-0.33968400955200195],\"z\":[-0.5159938335418701],\"type\":\"scatter3d\"},{\"hovertemplate\":\"color=rose<br>0=%{x}<br>1=%{y}<br>2=%{z}<extra></extra>\",\"legendgroup\":\"rose\",\"marker\":{\"color\":\"#EF553B\",\"symbol\":\"circle\"},\"mode\":\"markers\",\"name\":\"rose\",\"scene\":\"scene\",\"showlegend\":true,\"x\":[0.690951943397522],\"y\":[0.4004688858985901],\"z\":[-0.13188399374485016],\"type\":\"scatter3d\"},{\"hovertemplate\":\"color=sun<br>0=%{x}<br>1=%{y}<br>2=%{z}<extra></extra>\",\"legendgroup\":\"sun\",\"marker\":{\"color\":\"#00cc96\",\"symbol\":\"circle\"},\"mode\":\"markers\",\"name\":\"sun\",\"scene\":\"scene\",\"showlegend\":true,\"x\":[0.5402591228485107],\"y\":[0.33965328335762024],\"z\":[0.3289957344532013],\"type\":\"scatter3d\"},{\"hovertemplate\":\"color=fell<br>0=%{x}<br>1=%{y}<br>2=%{z}<extra></extra>\",\"legendgroup\":\"fell\",\"marker\":{\"color\":\"#ab63fa\",\"symbol\":\"circle\"},\"mode\":\"markers\",\"name\":\"fell\",\"scene\":\"scene\",\"showlegend\":true,\"x\":[0.6526839137077332],\"y\":[0.14181450009346008],\"z\":[-0.07377561181783676],\"type\":\"scatter3d\"},{\"hovertemplate\":\"color=golden<br>0=%{x}<br>1=%{y}<br>2=%{z}<extra></extra>\",\"legendgroup\":\"golden\",\"marker\":{\"color\":\"#FFA15A\",\"symbol\":\"circle\"},\"mode\":\"markers\",\"name\":\"golden\",\"scene\":\"scene\",\"showlegend\":true,\"x\":[0.4670415222644806],\"y\":[0.5604313015937805],\"z\":[-0.30409952998161316],\"type\":\"scatter3d\"},{\"hovertemplate\":\"color=war<br>0=%{x}<br>1=%{y}<br>2=%{z}<extra></extra>\",\"legendgroup\":\"war\",\"marker\":{\"color\":\"#19d3f3\",\"symbol\":\"circle\"},\"mode\":\"markers\",\"name\":\"war\",\"scene\":\"scene\",\"showlegend\":true,\"x\":[-0.5317061543464661],\"y\":[0.6195488572120667],\"z\":[0.305482417345047],\"type\":\"scatter3d\"},{\"hovertemplate\":\"color=without<br>0=%{x}<br>1=%{y}<br>2=%{z}<extra></extra>\",\"legendgroup\":\"without\",\"marker\":{\"color\":\"#FF6692\",\"symbol\":\"circle\"},\"mode\":\"markers\",\"name\":\"without\",\"scene\":\"scene\",\"showlegend\":true,\"x\":[-0.4501626789569855],\"y\":[0.1307196021080017],\"z\":[0.3964672386646271],\"type\":\"scatter3d\"},{\"hovertemplate\":\"color=sleep<br>0=%{x}<br>1=%{y}<br>2=%{z}<extra></extra>\",\"legendgroup\":\"sleep\",\"marker\":{\"color\":\"#B6E880\",\"symbol\":\"circle\"},\"mode\":\"markers\",\"name\":\"sleep\",\"scene\":\"scene\",\"showlegend\":true,\"x\":[0.038620419800281525],\"y\":[-0.4418167471885681],\"z\":[0.3751746118068695],\"type\":\"scatter3d\"},{\"hovertemplate\":\"color=swords<br>0=%{x}<br>1=%{y}<br>2=%{z}<extra></extra>\",\"legendgroup\":\"swords\",\"marker\":{\"color\":\"#FF97FF\",\"symbol\":\"circle\"},\"mode\":\"markers\",\"name\":\"swords\",\"scene\":\"scene\",\"showlegend\":true,\"x\":[-0.01109809335321188],\"y\":[0.7245121598243713],\"z\":[0.2621757388114929],\"type\":\"scatter3d\"},{\"hovertemplate\":\"color=renly<br>0=%{x}<br>1=%{y}<br>2=%{z}<extra></extra>\",\"legendgroup\":\"renly\",\"marker\":{\"color\":\"#FECB52\",\"symbol\":\"circle\"},\"mode\":\"markers\",\"name\":\"renly\",\"scene\":\"scene\",\"showlegend\":true,\"x\":[-0.43622520565986633],\"y\":[0.5112910866737366],\"z\":[-0.3492320775985718],\"type\":\"scatter3d\"},{\"hovertemplate\":\"color=speak<br>0=%{x}<br>1=%{y}<br>2=%{z}<extra></extra>\",\"legendgroup\":\"speak\",\"marker\":{\"color\":\"#636efa\",\"symbol\":\"circle\"},\"mode\":\"markers\",\"name\":\"speak\",\"scene\":\"scene\",\"showlegend\":true,\"x\":[-0.6675137877464294],\"y\":[-0.15358781814575195],\"z\":[0.1222960352897644],\"type\":\"scatter3d\"},{\"hovertemplate\":\"color=beyond<br>0=%{x}<br>1=%{y}<br>2=%{z}<extra></extra>\",\"legendgroup\":\"beyond\",\"marker\":{\"color\":\"#EF553B\",\"symbol\":\"circle\"},\"mode\":\"markers\",\"name\":\"beyond\",\"scene\":\"scene\",\"showlegend\":true,\"x\":[0.08461696654558182],\"y\":[0.5844742655754089],\"z\":[0.5323078632354736],\"type\":\"scatter3d\"},{\"hovertemplate\":\"color=fool<br>0=%{x}<br>1=%{y}<br>2=%{z}<extra></extra>\",\"legendgroup\":\"fool\",\"marker\":{\"color\":\"#00cc96\",\"symbol\":\"circle\"},\"mode\":\"markers\",\"name\":\"fool\",\"scene\":\"scene\",\"showlegend\":true,\"x\":[-0.5542097687721252],\"y\":[-0.16481196880340576],\"z\":[-0.23393215239048004],\"type\":\"scatter3d\"},{\"hovertemplate\":\"color=full<br>0=%{x}<br>1=%{y}<br>2=%{z}<extra></extra>\",\"legendgroup\":\"full\",\"marker\":{\"color\":\"#ab63fa\",\"symbol\":\"circle\"},\"mode\":\"markers\",\"name\":\"full\",\"scene\":\"scene\",\"showlegend\":true,\"x\":[0.45306310057640076],\"y\":[-0.09578468650579453],\"z\":[0.3589276373386383],\"type\":\"scatter3d\"},{\"hovertemplate\":\"color=certain<br>0=%{x}<br>1=%{y}<br>2=%{z}<extra></extra>\",\"legendgroup\":\"certain\",\"marker\":{\"color\":\"#FFA15A\",\"symbol\":\"circle\"},\"mode\":\"markers\",\"name\":\"certain\",\"scene\":\"scene\",\"showlegend\":true,\"x\":[-0.5601968169212341],\"y\":[-0.17845961451530457],\"z\":[0.24523130059242249],\"type\":\"scatter3d\"},{\"hovertemplate\":\"color=feel<br>0=%{x}<br>1=%{y}<br>2=%{z}<extra></extra>\",\"legendgroup\":\"feel\",\"marker\":{\"color\":\"#19d3f3\",\"symbol\":\"circle\"},\"mode\":\"markers\",\"name\":\"feel\",\"scene\":\"scene\",\"showlegend\":true,\"x\":[0.24756857752799988],\"y\":[-0.4296857714653015],\"z\":[0.22215469181537628],\"type\":\"scatter3d\"},{\"hovertemplate\":\"color=fight<br>0=%{x}<br>1=%{y}<br>2=%{z}<extra></extra>\",\"legendgroup\":\"fight\",\"marker\":{\"color\":\"#FF6692\",\"symbol\":\"circle\"},\"mode\":\"markers\",\"name\":\"fight\",\"scene\":\"scene\",\"showlegend\":true,\"x\":[-0.48042240738868713],\"y\":[0.11298728734254837],\"z\":[0.46963319182395935],\"type\":\"scatter3d\"},{\"hovertemplate\":\"color=got<br>0=%{x}<br>1=%{y}<br>2=%{z}<extra></extra>\",\"legendgroup\":\"got\",\"marker\":{\"color\":\"#B6E880\",\"symbol\":\"circle\"},\"mode\":\"markers\",\"name\":\"got\",\"scene\":\"scene\",\"showlegend\":true,\"x\":[0.10524709522724152],\"y\":[-0.2766205966472626],\"z\":[0.1513863056898117],\"type\":\"scatter3d\"},{\"hovertemplate\":\"color=tongue<br>0=%{x}<br>1=%{y}<br>2=%{z}<extra></extra>\",\"legendgroup\":\"tongue\",\"marker\":{\"color\":\"#FF97FF\",\"symbol\":\"circle\"},\"mode\":\"markers\",\"name\":\"tongue\",\"scene\":\"scene\",\"showlegend\":true,\"x\":[-0.061831578612327576],\"y\":[-0.4138287305831909],\"z\":[-0.08590332418680191],\"type\":\"scatter3d\"},{\"hovertemplate\":\"color=send<br>0=%{x}<br>1=%{y}<br>2=%{z}<extra></extra>\",\"legendgroup\":\"send\",\"marker\":{\"color\":\"#FECB52\",\"symbol\":\"circle\"},\"mode\":\"markers\",\"name\":\"send\",\"scene\":\"scene\",\"showlegend\":true,\"x\":[-0.5343551635742188],\"y\":[0.22017830610275269],\"z\":[0.1843729019165039],\"type\":\"scatter3d\"},{\"hovertemplate\":\"color=rode<br>0=%{x}<br>1=%{y}<br>2=%{z}<extra></extra>\",\"legendgroup\":\"rode\",\"marker\":{\"color\":\"#636efa\",\"symbol\":\"circle\"},\"mode\":\"markers\",\"name\":\"rode\",\"scene\":\"scene\",\"showlegend\":true,\"x\":[0.3920249938964844],\"y\":[0.581574559211731],\"z\":[-0.013981797732412815],\"type\":\"scatter3d\"},{\"hovertemplate\":\"color=thick<br>0=%{x}<br>1=%{y}<br>2=%{z}<extra></extra>\",\"legendgroup\":\"thick\",\"marker\":{\"color\":\"#EF553B\",\"symbol\":\"circle\"},\"mode\":\"markers\",\"name\":\"thick\",\"scene\":\"scene\",\"showlegend\":true,\"x\":[0.7539232969284058],\"y\":[0.10823465138673782],\"z\":[-0.04041022062301636],\"type\":\"scatter3d\"},{\"hovertemplate\":\"color=set<br>0=%{x}<br>1=%{y}<br>2=%{z}<extra></extra>\",\"legendgroup\":\"set\",\"marker\":{\"color\":\"#00cc96\",\"symbol\":\"circle\"},\"mode\":\"markers\",\"name\":\"set\",\"scene\":\"scene\",\"showlegend\":true,\"x\":[0.3706222474575043],\"y\":[0.3656003475189209],\"z\":[0.20875975489616394],\"type\":\"scatter3d\"},{\"hovertemplate\":\"color=world<br>0=%{x}<br>1=%{y}<br>2=%{z}<extra></extra>\",\"legendgroup\":\"world\",\"marker\":{\"color\":\"#ab63fa\",\"symbol\":\"circle\"},\"mode\":\"markers\",\"name\":\"world\",\"scene\":\"scene\",\"showlegend\":true,\"x\":[0.07520710676908493],\"y\":[0.14975567162036896],\"z\":[0.7040855884552002],\"type\":\"scatter3d\"},{\"hovertemplate\":\"color=throat<br>0=%{x}<br>1=%{y}<br>2=%{z}<extra></extra>\",\"legendgroup\":\"throat\",\"marker\":{\"color\":\"#FFA15A\",\"symbol\":\"circle\"},\"mode\":\"markers\",\"name\":\"throat\",\"scene\":\"scene\",\"showlegend\":true,\"x\":[0.5316733717918396],\"y\":[-0.42184317111968994],\"z\":[-0.25779497623443604],\"type\":\"scatter3d\"},{\"hovertemplate\":\"color=deep<br>0=%{x}<br>1=%{y}<br>2=%{z}<extra></extra>\",\"legendgroup\":\"deep\",\"marker\":{\"color\":\"#19d3f3\",\"symbol\":\"circle\"},\"mode\":\"markers\",\"name\":\"deep\",\"scene\":\"scene\",\"showlegend\":true,\"x\":[0.7821430563926697],\"y\":[0.0707806870341301],\"z\":[0.09485740214586258],\"type\":\"scatter3d\"},{\"hovertemplate\":\"color=legs<br>0=%{x}<br>1=%{y}<br>2=%{z}<extra></extra>\",\"legendgroup\":\"legs\",\"marker\":{\"color\":\"#FF6692\",\"symbol\":\"circle\"},\"mode\":\"markers\",\"name\":\"legs\",\"scene\":\"scene\",\"showlegend\":true,\"x\":[0.6949597597122192],\"y\":[-0.19743120670318604],\"z\":[-0.027735862880945206],\"type\":\"scatter3d\"},{\"hovertemplate\":\"color=rock<br>0=%{x}<br>1=%{y}<br>2=%{z}<extra></extra>\",\"legendgroup\":\"rock\",\"marker\":{\"color\":\"#B6E880\",\"symbol\":\"circle\"},\"mode\":\"markers\",\"name\":\"rock\",\"scene\":\"scene\",\"showlegend\":true,\"x\":[0.1582746058702469],\"y\":[0.5774725675582886],\"z\":[-0.0770731270313263],\"type\":\"scatter3d\"},{\"hovertemplate\":\"color=call<br>0=%{x}<br>1=%{y}<br>2=%{z}<extra></extra>\",\"legendgroup\":\"call\",\"marker\":{\"color\":\"#FF97FF\",\"symbol\":\"circle\"},\"mode\":\"markers\",\"name\":\"call\",\"scene\":\"scene\",\"showlegend\":true,\"x\":[-0.616052508354187],\"y\":[0.05482577160000801],\"z\":[0.06549212336540222],\"type\":\"scatter3d\"},{\"hovertemplate\":\"color=honor<br>0=%{x}<br>1=%{y}<br>2=%{z}<extra></extra>\",\"legendgroup\":\"honor\",\"marker\":{\"color\":\"#FECB52\",\"symbol\":\"circle\"},\"mode\":\"markers\",\"name\":\"honor\",\"scene\":\"scene\",\"showlegend\":true,\"x\":[-0.7079945802688599],\"y\":[0.4751293957233429],\"z\":[-0.10371607542037964],\"type\":\"scatter3d\"},{\"hovertemplate\":\"color=trees<br>0=%{x}<br>1=%{y}<br>2=%{z}<extra></extra>\",\"legendgroup\":\"trees\",\"marker\":{\"color\":\"#636efa\",\"symbol\":\"circle\"},\"mode\":\"markers\",\"name\":\"trees\",\"scene\":\"scene\",\"showlegend\":true,\"x\":[0.6747192144393921],\"y\":[0.21052199602127075],\"z\":[0.3751243054866791],\"type\":\"scatter3d\"},{\"hovertemplate\":\"color=tall<br>0=%{x}<br>1=%{y}<br>2=%{z}<extra></extra>\",\"legendgroup\":\"tall\",\"marker\":{\"color\":\"#EF553B\",\"symbol\":\"circle\"},\"mode\":\"markers\",\"name\":\"tall\",\"scene\":\"scene\",\"showlegend\":true,\"x\":[0.5554108619689941],\"y\":[0.5417993068695068],\"z\":[-0.16307425498962402],\"type\":\"scatter3d\"},{\"hovertemplate\":\"color=mormont<br>0=%{x}<br>1=%{y}<br>2=%{z}<extra></extra>\",\"legendgroup\":\"mormont\",\"marker\":{\"color\":\"#00cc96\",\"symbol\":\"circle\"},\"mode\":\"markers\",\"name\":\"mormont\",\"scene\":\"scene\",\"showlegend\":true,\"x\":[0.008327572606503963],\"y\":[0.19589856266975403],\"z\":[-0.5396551489830017],\"type\":\"scatter3d\"},{\"hovertemplate\":\"color=table<br>0=%{x}<br>1=%{y}<br>2=%{z}<extra></extra>\",\"legendgroup\":\"table\",\"marker\":{\"color\":\"#ab63fa\",\"symbol\":\"circle\"},\"mode\":\"markers\",\"name\":\"table\",\"scene\":\"scene\",\"showlegend\":true,\"x\":[0.41361555457115173],\"y\":[0.3269088566303253],\"z\":[-0.3740527629852295],\"type\":\"scatter3d\"},{\"hovertemplate\":\"color=broken<br>0=%{x}<br>1=%{y}<br>2=%{z}<extra></extra>\",\"legendgroup\":\"broken\",\"marker\":{\"color\":\"#FFA15A\",\"symbol\":\"circle\"},\"mode\":\"markers\",\"name\":\"broken\",\"scene\":\"scene\",\"showlegend\":true,\"x\":[0.7388427257537842],\"y\":[0.21184870600700378],\"z\":[0.1704423874616623],\"type\":\"scatter3d\"},{\"hovertemplate\":\"color=pulled<br>0=%{x}<br>1=%{y}<br>2=%{z}<extra></extra>\",\"legendgroup\":\"pulled\",\"marker\":{\"color\":\"#19d3f3\",\"symbol\":\"circle\"},\"mode\":\"markers\",\"name\":\"pulled\",\"scene\":\"scene\",\"showlegend\":true,\"x\":[0.6649271845817566],\"y\":[-0.02099480852484703],\"z\":[-0.3384353518486023],\"type\":\"scatter3d\"},{\"hovertemplate\":\"color=women<br>0=%{x}<br>1=%{y}<br>2=%{z}<extra></extra>\",\"legendgroup\":\"women\",\"marker\":{\"color\":\"#FF6692\",\"symbol\":\"circle\"},\"mode\":\"markers\",\"name\":\"women\",\"scene\":\"scene\",\"showlegend\":true,\"x\":[-0.12170835584402084],\"y\":[0.28433141112327576],\"z\":[0.4015847146511078],\"type\":\"scatter3d\"},{\"hovertemplate\":\"color=steps<br>0=%{x}<br>1=%{y}<br>2=%{z}<extra></extra>\",\"legendgroup\":\"steps\",\"marker\":{\"color\":\"#B6E880\",\"symbol\":\"circle\"},\"mode\":\"markers\",\"name\":\"steps\",\"scene\":\"scene\",\"showlegend\":true,\"x\":[0.6091139316558838],\"y\":[0.30960613489151],\"z\":[0.15314066410064697],\"type\":\"scatter3d\"},{\"hovertemplate\":\"color=things<br>0=%{x}<br>1=%{y}<br>2=%{z}<extra></extra>\",\"legendgroup\":\"things\",\"marker\":{\"color\":\"#FF97FF\",\"symbol\":\"circle\"},\"mode\":\"markers\",\"name\":\"things\",\"scene\":\"scene\",\"showlegend\":true,\"x\":[-0.3067430853843689],\"y\":[-0.22959370911121368],\"z\":[0.47264787554740906],\"type\":\"scatter3d\"},{\"hovertemplate\":\"color=next<br>0=%{x}<br>1=%{y}<br>2=%{z}<extra></extra>\",\"legendgroup\":\"next\",\"marker\":{\"color\":\"#FECB52\",\"symbol\":\"circle\"},\"mode\":\"markers\",\"name\":\"next\",\"scene\":\"scene\",\"showlegend\":true,\"x\":[-0.015825562179088593],\"y\":[0.05056549608707428],\"z\":[0.2860410511493683],\"type\":\"scatter3d\"},{\"hovertemplate\":\"color=hodor<br>0=%{x}<br>1=%{y}<br>2=%{z}<extra></extra>\",\"legendgroup\":\"hodor\",\"marker\":{\"color\":\"#636efa\",\"symbol\":\"circle\"},\"mode\":\"markers\",\"name\":\"hodor\",\"scene\":\"scene\",\"showlegend\":true,\"x\":[0.3399958312511444],\"y\":[-0.3643765151500702],\"z\":[0.04433843493461609],\"type\":\"scatter3d\"},{\"hovertemplate\":\"color=heavy<br>0=%{x}<br>1=%{y}<br>2=%{z}<extra></extra>\",\"legendgroup\":\"heavy\",\"marker\":{\"color\":\"#EF553B\",\"symbol\":\"circle\"},\"mode\":\"markers\",\"name\":\"heavy\",\"scene\":\"scene\",\"showlegend\":true,\"x\":[0.7626864314079285],\"y\":[0.14969342947006226],\"z\":[-0.1260506510734558],\"type\":\"scatter3d\"},{\"hovertemplate\":\"color=oh<br>0=%{x}<br>1=%{y}<br>2=%{z}<extra></extra>\",\"legendgroup\":\"oh\",\"marker\":{\"color\":\"#00cc96\",\"symbol\":\"circle\"},\"mode\":\"markers\",\"name\":\"oh\",\"scene\":\"scene\",\"showlegend\":true,\"x\":[-0.6519104838371277],\"y\":[-0.20675475895404816],\"z\":[-0.04274328425526619],\"type\":\"scatter3d\"},{\"hovertemplate\":\"color=burned<br>0=%{x}<br>1=%{y}<br>2=%{z}<extra></extra>\",\"legendgroup\":\"burned\",\"marker\":{\"color\":\"#ab63fa\",\"symbol\":\"circle\"},\"mode\":\"markers\",\"name\":\"burned\",\"scene\":\"scene\",\"showlegend\":true,\"x\":[0.46773138642311096],\"y\":[0.3649590015411377],\"z\":[0.4168452024459839],\"type\":\"scatter3d\"},{\"hovertemplate\":\"color=toward<br>0=%{x}<br>1=%{y}<br>2=%{z}<extra></extra>\",\"legendgroup\":\"toward\",\"marker\":{\"color\":\"#FFA15A\",\"symbol\":\"circle\"},\"mode\":\"markers\",\"name\":\"toward\",\"scene\":\"scene\",\"showlegend\":true,\"x\":[0.6498209238052368],\"y\":[0.26086002588272095],\"z\":[-0.07895360141992569],\"type\":\"scatter3d\"},{\"hovertemplate\":\"color=together<br>0=%{x}<br>1=%{y}<br>2=%{z}<extra></extra>\",\"legendgroup\":\"together\",\"marker\":{\"color\":\"#19d3f3\",\"symbol\":\"circle\"},\"mode\":\"markers\",\"name\":\"together\",\"scene\":\"scene\",\"showlegend\":true,\"x\":[0.494705468416214],\"y\":[0.28276509046554565],\"z\":[0.26911115646362305],\"type\":\"scatter3d\"},{\"hovertemplate\":\"color=given<br>0=%{x}<br>1=%{y}<br>2=%{z}<extra></extra>\",\"legendgroup\":\"given\",\"marker\":{\"color\":\"#FF6692\",\"symbol\":\"circle\"},\"mode\":\"markers\",\"name\":\"given\",\"scene\":\"scene\",\"showlegend\":true,\"x\":[-0.49930378794670105],\"y\":[0.3327578902244568],\"z\":[0.013930700719356537],\"type\":\"scatter3d\"},{\"hovertemplate\":\"color=skin<br>0=%{x}<br>1=%{y}<br>2=%{z}<extra></extra>\",\"legendgroup\":\"skin\",\"marker\":{\"color\":\"#B6E880\",\"symbol\":\"circle\"},\"mode\":\"markers\",\"name\":\"skin\",\"scene\":\"scene\",\"showlegend\":true,\"x\":[0.6594814658164978],\"y\":[-0.25914204120635986],\"z\":[-0.09872934222221375],\"type\":\"scatter3d\"},{\"hovertemplate\":\"color=storm<br>0=%{x}<br>1=%{y}<br>2=%{z}<extra></extra>\",\"legendgroup\":\"storm\",\"marker\":{\"color\":\"#FF97FF\",\"symbol\":\"circle\"},\"mode\":\"markers\",\"name\":\"storm\",\"scene\":\"scene\",\"showlegend\":true,\"x\":[-0.16096808016300201],\"y\":[0.6760252118110657],\"z\":[0.20947127044200897],\"type\":\"scatter3d\"},{\"hovertemplate\":\"color=dwarf<br>0=%{x}<br>1=%{y}<br>2=%{z}<extra></extra>\",\"legendgroup\":\"dwarf\",\"marker\":{\"color\":\"#FECB52\",\"symbol\":\"circle\"},\"mode\":\"markers\",\"name\":\"dwarf\",\"scene\":\"scene\",\"showlegend\":true,\"x\":[-0.30042269825935364],\"y\":[-0.40659797191619873],\"z\":[-0.36700335144996643],\"type\":\"scatter3d\"},{\"hovertemplate\":\"color=since<br>0=%{x}<br>1=%{y}<br>2=%{z}<extra></extra>\",\"legendgroup\":\"since\",\"marker\":{\"color\":\"#636efa\",\"symbol\":\"circle\"},\"mode\":\"markers\",\"name\":\"since\",\"scene\":\"scene\",\"showlegend\":true,\"x\":[-0.27653318643569946],\"y\":[0.453273743391037],\"z\":[0.28621047735214233],\"type\":\"scatter3d\"},{\"hovertemplate\":\"color=alone<br>0=%{x}<br>1=%{y}<br>2=%{z}<extra></extra>\",\"legendgroup\":\"alone\",\"marker\":{\"color\":\"#EF553B\",\"symbol\":\"circle\"},\"mode\":\"markers\",\"name\":\"alone\",\"scene\":\"scene\",\"showlegend\":true,\"x\":[-0.2575925588607788],\"y\":[0.040257737040519714],\"z\":[0.41052618622779846],\"type\":\"scatter3d\"},{\"hovertemplate\":\"color=smiled<br>0=%{x}<br>1=%{y}<br>2=%{z}<extra></extra>\",\"legendgroup\":\"smiled\",\"marker\":{\"color\":\"#00cc96\",\"symbol\":\"circle\"},\"mode\":\"markers\",\"name\":\"smiled\",\"scene\":\"scene\",\"showlegend\":true,\"x\":[0.005289055872708559],\"y\":[-0.3524411916732788],\"z\":[-0.5954297184944153],\"type\":\"scatter3d\"},{\"hovertemplate\":\"color=moved<br>0=%{x}<br>1=%{y}<br>2=%{z}<extra></extra>\",\"legendgroup\":\"moved\",\"marker\":{\"color\":\"#ab63fa\",\"symbol\":\"circle\"},\"mode\":\"markers\",\"name\":\"moved\",\"scene\":\"scene\",\"showlegend\":true,\"x\":[0.5833522081375122],\"y\":[-0.008256676606833935],\"z\":[-0.024586131796240807],\"type\":\"scatter3d\"},{\"hovertemplate\":\"color=ride<br>0=%{x}<br>1=%{y}<br>2=%{z}<extra></extra>\",\"legendgroup\":\"ride\",\"marker\":{\"color\":\"#FFA15A\",\"symbol\":\"circle\"},\"mode\":\"markers\",\"name\":\"ride\",\"scene\":\"scene\",\"showlegend\":true,\"x\":[-0.26955023407936096],\"y\":[0.2577012777328491],\"z\":[0.5498595833778381],\"type\":\"scatter3d\"},{\"hovertemplate\":\"color=second<br>0=%{x}<br>1=%{y}<br>2=%{z}<extra></extra>\",\"legendgroup\":\"second\",\"marker\":{\"color\":\"#19d3f3\",\"symbol\":\"circle\"},\"mode\":\"markers\",\"name\":\"second\",\"scene\":\"scene\",\"showlegend\":true,\"x\":[0.02031036838889122],\"y\":[0.6690884232521057],\"z\":[-0.2660401463508606],\"type\":\"scatter3d\"},{\"hovertemplate\":\"color=raised<br>0=%{x}<br>1=%{y}<br>2=%{z}<extra></extra>\",\"legendgroup\":\"raised\",\"marker\":{\"color\":\"#FF6692\",\"symbol\":\"circle\"},\"mode\":\"markers\",\"name\":\"raised\",\"scene\":\"scene\",\"showlegend\":true,\"x\":[0.34847545623779297],\"y\":[0.35214656591415405],\"z\":[-0.323940247297287],\"type\":\"scatter3d\"},{\"hovertemplate\":\"color=ask<br>0=%{x}<br>1=%{y}<br>2=%{z}<extra></extra>\",\"legendgroup\":\"ask\",\"marker\":{\"color\":\"#B6E880\",\"symbol\":\"circle\"},\"mode\":\"markers\",\"name\":\"ask\",\"scene\":\"scene\",\"showlegend\":true,\"x\":[-0.7551673650741577],\"y\":[-0.06329014152288437],\"z\":[0.12029580026865005],\"type\":\"scatter3d\"},{\"hovertemplate\":\"color=frey<br>0=%{x}<br>1=%{y}<br>2=%{z}<extra></extra>\",\"legendgroup\":\"frey\",\"marker\":{\"color\":\"#FF97FF\",\"symbol\":\"circle\"},\"mode\":\"markers\",\"name\":\"frey\",\"scene\":\"scene\",\"showlegend\":true,\"x\":[-0.274800568819046],\"y\":[0.5970267057418823],\"z\":[-0.595162034034729],\"type\":\"scatter3d\"},{\"hovertemplate\":\"color=hope<br>0=%{x}<br>1=%{y}<br>2=%{z}<extra></extra>\",\"legendgroup\":\"hope\",\"marker\":{\"color\":\"#FECB52\",\"symbol\":\"circle\"},\"mode\":\"markers\",\"name\":\"hope\",\"scene\":\"scene\",\"showlegend\":true,\"x\":[-0.6598420143127441],\"y\":[-0.029977675527334213],\"z\":[0.25807487964630127],\"type\":\"scatter3d\"},{\"hovertemplate\":\"color=eye<br>0=%{x}<br>1=%{y}<br>2=%{z}<extra></extra>\",\"legendgroup\":\"eye\",\"marker\":{\"color\":\"#636efa\",\"symbol\":\"circle\"},\"mode\":\"markers\",\"name\":\"eye\",\"scene\":\"scene\",\"showlegend\":true,\"x\":[0.3781326115131378],\"y\":[0.18250174820423126],\"z\":[0.01350949052721262],\"type\":\"scatter3d\"},{\"hovertemplate\":\"color=soft<br>0=%{x}<br>1=%{y}<br>2=%{z}<extra></extra>\",\"legendgroup\":\"soft\",\"marker\":{\"color\":\"#EF553B\",\"symbol\":\"circle\"},\"mode\":\"markers\",\"name\":\"soft\",\"scene\":\"scene\",\"showlegend\":true,\"x\":[0.6845365166664124],\"y\":[-0.22112667560577393],\"z\":[-0.19133619964122772],\"type\":\"scatter3d\"},{\"hovertemplate\":\"color=reached<br>0=%{x}<br>1=%{y}<br>2=%{z}<extra></extra>\",\"legendgroup\":\"reached\",\"marker\":{\"color\":\"#00cc96\",\"symbol\":\"circle\"},\"mode\":\"markers\",\"name\":\"reached\",\"scene\":\"scene\",\"showlegend\":true,\"x\":[0.510332465171814],\"y\":[0.13944731652736664],\"z\":[-0.013472565449774265],\"type\":\"scatter3d\"},{\"hovertemplate\":\"color=remember<br>0=%{x}<br>1=%{y}<br>2=%{z}<extra></extra>\",\"legendgroup\":\"remember\",\"marker\":{\"color\":\"#ab63fa\",\"symbol\":\"circle\"},\"mode\":\"markers\",\"name\":\"remember\",\"scene\":\"scene\",\"showlegend\":true,\"x\":[-0.39109885692596436],\"y\":[-0.32801806926727295],\"z\":[0.2653525471687317],\"type\":\"scatter3d\"},{\"hovertemplate\":\"color=remembered<br>0=%{x}<br>1=%{y}<br>2=%{z}<extra></extra>\",\"legendgroup\":\"remembered\",\"marker\":{\"color\":\"#FFA15A\",\"symbol\":\"circle\"},\"mode\":\"markers\",\"name\":\"remembered\",\"scene\":\"scene\",\"showlegend\":true,\"x\":[0.018923994153738022],\"y\":[-0.15163366496562958],\"z\":[0.08082752674818039],\"type\":\"scatter3d\"},{\"hovertemplate\":\"color=throne<br>0=%{x}<br>1=%{y}<br>2=%{z}<extra></extra>\",\"legendgroup\":\"throne\",\"marker\":{\"color\":\"#19d3f3\",\"symbol\":\"circle\"},\"mode\":\"markers\",\"name\":\"throne\",\"scene\":\"scene\",\"showlegend\":true,\"x\":[-0.19026127457618713],\"y\":[0.5106720328330994],\"z\":[-0.09050054103136063],\"type\":\"scatter3d\"},{\"hovertemplate\":\"color=someone<br>0=%{x}<br>1=%{y}<br>2=%{z}<extra></extra>\",\"legendgroup\":\"someone\",\"marker\":{\"color\":\"#FF6692\",\"symbol\":\"circle\"},\"mode\":\"markers\",\"name\":\"someone\",\"scene\":\"scene\",\"showlegend\":true,\"x\":[-0.2667457163333893],\"y\":[-0.48011231422424316],\"z\":[0.16043666005134583],\"type\":\"scatter3d\"},{\"hovertemplate\":\"color=hold<br>0=%{x}<br>1=%{y}<br>2=%{z}<extra></extra>\",\"legendgroup\":\"hold\",\"marker\":{\"color\":\"#B6E880\",\"symbol\":\"circle\"},\"mode\":\"markers\",\"name\":\"hold\",\"scene\":\"scene\",\"showlegend\":true,\"x\":[-0.2768263518810272],\"y\":[0.1639135330915451],\"z\":[0.2242918163537979],\"type\":\"scatter3d\"},{\"hovertemplate\":\"color=coming<br>0=%{x}<br>1=%{y}<br>2=%{z}<extra></extra>\",\"legendgroup\":\"coming\",\"marker\":{\"color\":\"#FF97FF\",\"symbol\":\"circle\"},\"mode\":\"markers\",\"name\":\"coming\",\"scene\":\"scene\",\"showlegend\":true,\"x\":[0.09172677248716354],\"y\":[0.07201465219259262],\"z\":[0.619143009185791],\"type\":\"scatter3d\"},{\"hovertemplate\":\"color=ten<br>0=%{x}<br>1=%{y}<br>2=%{z}<extra></extra>\",\"legendgroup\":\"ten\",\"marker\":{\"color\":\"#FECB52\",\"symbol\":\"circle\"},\"mode\":\"markers\",\"name\":\"ten\",\"scene\":\"scene\",\"showlegend\":true,\"x\":[-0.051960624754428864],\"y\":[0.6580851674079895],\"z\":[0.14110662043094635],\"type\":\"scatter3d\"},{\"hovertemplate\":\"color=meant<br>0=%{x}<br>1=%{y}<br>2=%{z}<extra></extra>\",\"legendgroup\":\"meant\",\"marker\":{\"color\":\"#636efa\",\"symbol\":\"circle\"},\"mode\":\"markers\",\"name\":\"meant\",\"scene\":\"scene\",\"showlegend\":true,\"x\":[-0.6541458964347839],\"y\":[-0.21442553400993347],\"z\":[0.24054594337940216],\"type\":\"scatter3d\"},{\"hovertemplate\":\"color=morning<br>0=%{x}<br>1=%{y}<br>2=%{z}<extra></extra>\",\"legendgroup\":\"morning\",\"marker\":{\"color\":\"#EF553B\",\"symbol\":\"circle\"},\"mode\":\"markers\",\"name\":\"morning\",\"scene\":\"scene\",\"showlegend\":true,\"x\":[0.3446708917617798],\"y\":[0.1302717626094818],\"z\":[0.3769267201423645],\"type\":\"scatter3d\"},{\"hovertemplate\":\"color=teeth<br>0=%{x}<br>1=%{y}<br>2=%{z}<extra></extra>\",\"legendgroup\":\"teeth\",\"marker\":{\"color\":\"#00cc96\",\"symbol\":\"circle\"},\"mode\":\"markers\",\"name\":\"teeth\",\"scene\":\"scene\",\"showlegend\":true,\"x\":[0.6711961030960083],\"y\":[-0.31781190633773804],\"z\":[-0.12002042680978775],\"type\":\"scatter3d\"},{\"hovertemplate\":\"color=command<br>0=%{x}<br>1=%{y}<br>2=%{z}<extra></extra>\",\"legendgroup\":\"command\",\"marker\":{\"color\":\"#ab63fa\",\"symbol\":\"circle\"},\"mode\":\"markers\",\"name\":\"command\",\"scene\":\"scene\",\"showlegend\":true,\"x\":[-0.5626700520515442],\"y\":[0.5810938477516174],\"z\":[-0.14550906419754028],\"type\":\"scatter3d\"},{\"hovertemplate\":\"color=else<br>0=%{x}<br>1=%{y}<br>2=%{z}<extra></extra>\",\"legendgroup\":\"else\",\"marker\":{\"color\":\"#FFA15A\",\"symbol\":\"circle\"},\"mode\":\"markers\",\"name\":\"else\",\"scene\":\"scene\",\"showlegend\":true,\"x\":[-0.4637104272842407],\"y\":[-0.3559345602989197],\"z\":[0.3646206855773926],\"type\":\"scatter3d\"},{\"hovertemplate\":\"color=fat<br>0=%{x}<br>1=%{y}<br>2=%{z}<extra></extra>\",\"legendgroup\":\"fat\",\"marker\":{\"color\":\"#19d3f3\",\"symbol\":\"circle\"},\"mode\":\"markers\",\"name\":\"fat\",\"scene\":\"scene\",\"showlegend\":true,\"x\":[0.14395079016685486],\"y\":[0.05024423822760582],\"z\":[-0.44852545857429504],\"type\":\"scatter3d\"},{\"hovertemplate\":\"color=walder<br>0=%{x}<br>1=%{y}<br>2=%{z}<extra></extra>\",\"legendgroup\":\"walder\",\"marker\":{\"color\":\"#FF6692\",\"symbol\":\"circle\"},\"mode\":\"markers\",\"name\":\"walder\",\"scene\":\"scene\",\"showlegend\":true,\"x\":[-0.2658994197845459],\"y\":[0.5347979068756104],\"z\":[-0.49875080585479736],\"type\":\"scatter3d\"},{\"hovertemplate\":\"color=commander<br>0=%{x}<br>1=%{y}<br>2=%{z}<extra></extra>\",\"legendgroup\":\"commander\",\"marker\":{\"color\":\"#B6E880\",\"symbol\":\"circle\"},\"mode\":\"markers\",\"name\":\"commander\",\"scene\":\"scene\",\"showlegend\":true,\"x\":[-0.26748088002204895],\"y\":[0.6258454918861389],\"z\":[-0.23497119545936584],\"type\":\"scatter3d\"},{\"hovertemplate\":\"color=jorah<br>0=%{x}<br>1=%{y}<br>2=%{z}<extra></extra>\",\"legendgroup\":\"jorah\",\"marker\":{\"color\":\"#FF97FF\",\"symbol\":\"circle\"},\"mode\":\"markers\",\"name\":\"jorah\",\"scene\":\"scene\",\"showlegend\":true,\"x\":[-0.06497309356927872],\"y\":[-0.03677051141858101],\"z\":[-0.302614688873291],\"type\":\"scatter3d\"},{\"hovertemplate\":\"color=truth<br>0=%{x}<br>1=%{y}<br>2=%{z}<extra></extra>\",\"legendgroup\":\"truth\",\"marker\":{\"color\":\"#FECB52\",\"symbol\":\"circle\"},\"mode\":\"markers\",\"name\":\"truth\",\"scene\":\"scene\",\"showlegend\":true,\"x\":[-0.6732317209243774],\"y\":[-0.18978001177310944],\"z\":[0.14936770498752594],\"type\":\"scatter3d\"},{\"hovertemplate\":\"color=outside<br>0=%{x}<br>1=%{y}<br>2=%{z}<extra></extra>\",\"legendgroup\":\"outside\",\"marker\":{\"color\":\"#636efa\",\"symbol\":\"circle\"},\"mode\":\"markers\",\"name\":\"outside\",\"scene\":\"scene\",\"showlegend\":true,\"x\":[0.43842941522598267],\"y\":[0.4033428728580475],\"z\":[0.33888518810272217],\"type\":\"scatter3d\"},{\"hovertemplate\":\"color=doubt<br>0=%{x}<br>1=%{y}<br>2=%{z}<extra></extra>\",\"legendgroup\":\"doubt\",\"marker\":{\"color\":\"#EF553B\",\"symbol\":\"circle\"},\"mode\":\"markers\",\"name\":\"doubt\",\"scene\":\"scene\",\"showlegend\":true,\"x\":[-0.710789144039154],\"y\":[0.09248317033052444],\"z\":[0.07066399604082108],\"type\":\"scatter3d\"},{\"hovertemplate\":\"color=ground<br>0=%{x}<br>1=%{y}<br>2=%{z}<extra></extra>\",\"legendgroup\":\"ground\",\"marker\":{\"color\":\"#00cc96\",\"symbol\":\"circle\"},\"mode\":\"markers\",\"name\":\"ground\",\"scene\":\"scene\",\"showlegend\":true,\"x\":[0.7911685109138489],\"y\":[0.031180964782834053],\"z\":[0.15155404806137085],\"type\":\"scatter3d\"},{\"hovertemplate\":\"color=cup<br>0=%{x}<br>1=%{y}<br>2=%{z}<extra></extra>\",\"legendgroup\":\"cup\",\"marker\":{\"color\":\"#ab63fa\",\"symbol\":\"circle\"},\"mode\":\"markers\",\"name\":\"cup\",\"scene\":\"scene\",\"showlegend\":true,\"x\":[0.1468167006969452],\"y\":[-0.21254082024097443],\"z\":[-0.3450075685977936],\"type\":\"scatter3d\"},{\"hovertemplate\":\"color=known<br>0=%{x}<br>1=%{y}<br>2=%{z}<extra></extra>\",\"legendgroup\":\"known\",\"marker\":{\"color\":\"#FFA15A\",\"symbol\":\"circle\"},\"mode\":\"markers\",\"name\":\"known\",\"scene\":\"scene\",\"showlegend\":true,\"x\":[-0.49767792224884033],\"y\":[0.10045827180147171],\"z\":[0.13302606344223022],\"type\":\"scatter3d\"},{\"hovertemplate\":\"color=wore<br>0=%{x}<br>1=%{y}<br>2=%{z}<extra></extra>\",\"legendgroup\":\"wore\",\"marker\":{\"color\":\"#19d3f3\",\"symbol\":\"circle\"},\"mode\":\"markers\",\"name\":\"wore\",\"scene\":\"scene\",\"showlegend\":true,\"x\":[0.5043113827705383],\"y\":[0.40436074137687683],\"z\":[-0.3422659933567047],\"type\":\"scatter3d\"},{\"hovertemplate\":\"color=ran<br>0=%{x}<br>1=%{y}<br>2=%{z}<extra></extra>\",\"legendgroup\":\"ran\",\"marker\":{\"color\":\"#FF6692\",\"symbol\":\"circle\"},\"mode\":\"markers\",\"name\":\"ran\",\"scene\":\"scene\",\"showlegend\":true,\"x\":[0.6914644837379456],\"y\":[-0.09061296284198761],\"z\":[0.01888224482536316],\"type\":\"scatter3d\"},{\"hovertemplate\":\"color=gate<br>0=%{x}<br>1=%{y}<br>2=%{z}<extra></extra>\",\"legendgroup\":\"gate\",\"marker\":{\"color\":\"#B6E880\",\"symbol\":\"circle\"},\"mode\":\"markers\",\"name\":\"gate\",\"scene\":\"scene\",\"showlegend\":true,\"x\":[0.398671954870224],\"y\":[0.5320054292678833],\"z\":[0.17398324608802795],\"type\":\"scatter3d\"},{\"hovertemplate\":\"color=room<br>0=%{x}<br>1=%{y}<br>2=%{z}<extra></extra>\",\"legendgroup\":\"room\",\"marker\":{\"color\":\"#FF97FF\",\"symbol\":\"circle\"},\"mode\":\"markers\",\"name\":\"room\",\"scene\":\"scene\",\"showlegend\":true,\"x\":[0.5709902048110962],\"y\":[0.2438306361436844],\"z\":[0.15181390941143036],\"type\":\"scatter3d\"},{\"hovertemplate\":\"color=held<br>0=%{x}<br>1=%{y}<br>2=%{z}<extra></extra>\",\"legendgroup\":\"held\",\"marker\":{\"color\":\"#FECB52\",\"symbol\":\"circle\"},\"mode\":\"markers\",\"name\":\"held\",\"scene\":\"scene\",\"showlegend\":true,\"x\":[0.33198514580726624],\"y\":[0.2543560862541199],\"z\":[-0.3755488991737366],\"type\":\"scatter3d\"},{\"hovertemplate\":\"color=closed<br>0=%{x}<br>1=%{y}<br>2=%{z}<extra></extra>\",\"legendgroup\":\"closed\",\"marker\":{\"color\":\"#636efa\",\"symbol\":\"circle\"},\"mode\":\"markers\",\"name\":\"closed\",\"scene\":\"scene\",\"showlegend\":true,\"x\":[0.49043649435043335],\"y\":[0.012857980094850063],\"z\":[0.013790273107588291],\"type\":\"scatter3d\"},{\"hovertemplate\":\"color=sky<br>0=%{x}<br>1=%{y}<br>2=%{z}<extra></extra>\",\"legendgroup\":\"sky\",\"marker\":{\"color\":\"#EF553B\",\"symbol\":\"circle\"},\"mode\":\"markers\",\"name\":\"sky\",\"scene\":\"scene\",\"showlegend\":true,\"x\":[0.669108510017395],\"y\":[0.2415175884962082],\"z\":[0.23738716542720795],\"type\":\"scatter3d\"},{\"hovertemplate\":\"color=home<br>0=%{x}<br>1=%{y}<br>2=%{z}<extra></extra>\",\"legendgroup\":\"home\",\"marker\":{\"color\":\"#00cc96\",\"symbol\":\"circle\"},\"mode\":\"markers\",\"name\":\"home\",\"scene\":\"scene\",\"showlegend\":true,\"x\":[-0.4130414128303528],\"y\":[0.16372472047805786],\"z\":[0.4023299813270569],\"type\":\"scatter3d\"},{\"hovertemplate\":\"color=matter<br>0=%{x}<br>1=%{y}<br>2=%{z}<extra></extra>\",\"legendgroup\":\"matter\",\"marker\":{\"color\":\"#ab63fa\",\"symbol\":\"circle\"},\"mode\":\"markers\",\"name\":\"matter\",\"scene\":\"scene\",\"showlegend\":true,\"x\":[-0.5494459867477417],\"y\":[-0.14143148064613342],\"z\":[0.2606963515281677],\"type\":\"scatter3d\"},{\"hovertemplate\":\"color=south<br>0=%{x}<br>1=%{y}<br>2=%{z}<extra></extra>\",\"legendgroup\":\"south\",\"marker\":{\"color\":\"#FFA15A\",\"symbol\":\"circle\"},\"mode\":\"markers\",\"name\":\"south\",\"scene\":\"scene\",\"showlegend\":true,\"x\":[0.03667663037776947],\"y\":[0.6631450653076172],\"z\":[0.3819645643234253],\"type\":\"scatter3d\"},{\"hovertemplate\":\"color=riverrun<br>0=%{x}<br>1=%{y}<br>2=%{z}<extra></extra>\",\"legendgroup\":\"riverrun\",\"marker\":{\"color\":\"#19d3f3\",\"symbol\":\"circle\"},\"mode\":\"markers\",\"name\":\"riverrun\",\"scene\":\"scene\",\"showlegend\":true,\"x\":[-0.44255292415618896],\"y\":[0.6679832339286804],\"z\":[-0.16147452592849731],\"type\":\"scatter3d\"},{\"hovertemplate\":\"color=wed<br>0=%{x}<br>1=%{y}<br>2=%{z}<extra></extra>\",\"legendgroup\":\"wed\",\"marker\":{\"color\":\"#FF6692\",\"symbol\":\"circle\"},\"mode\":\"markers\",\"name\":\"wed\",\"scene\":\"scene\",\"showlegend\":true,\"x\":[-0.6926552057266235],\"y\":[0.46093642711639404],\"z\":[-0.27804917097091675],\"type\":\"scatter3d\"},{\"hovertemplate\":\"color=dozen<br>0=%{x}<br>1=%{y}<br>2=%{z}<extra></extra>\",\"legendgroup\":\"dozen\",\"marker\":{\"color\":\"#B6E880\",\"symbol\":\"circle\"},\"mode\":\"markers\",\"name\":\"dozen\",\"scene\":\"scene\",\"showlegend\":true,\"x\":[0.3304622769355774],\"y\":[0.6716249585151672],\"z\":[0.22372813522815704],\"type\":\"scatter3d\"},{\"hovertemplate\":\"color=people<br>0=%{x}<br>1=%{y}<br>2=%{z}<extra></extra>\",\"legendgroup\":\"people\",\"marker\":{\"color\":\"#FF97FF\",\"symbol\":\"circle\"},\"mode\":\"markers\",\"name\":\"people\",\"scene\":\"scene\",\"showlegend\":true,\"x\":[-0.4024963080883026],\"y\":[0.32904210686683655],\"z\":[0.5875700116157532],\"type\":\"scatter3d\"},{\"hovertemplate\":\"color=neck<br>0=%{x}<br>1=%{y}<br>2=%{z}<extra></extra>\",\"legendgroup\":\"neck\",\"marker\":{\"color\":\"#FECB52\",\"symbol\":\"circle\"},\"mode\":\"markers\",\"name\":\"neck\",\"scene\":\"scene\",\"showlegend\":true,\"x\":[0.7248604893684387],\"y\":[-0.022183813154697418],\"z\":[-0.1776113659143448],\"type\":\"scatter3d\"},{\"hovertemplate\":\"color=wood<br>0=%{x}<br>1=%{y}<br>2=%{z}<extra></extra>\",\"legendgroup\":\"wood\",\"marker\":{\"color\":\"#636efa\",\"symbol\":\"circle\"},\"mode\":\"markers\",\"name\":\"wood\",\"scene\":\"scene\",\"showlegend\":true,\"x\":[0.7414535284042358],\"y\":[0.2839895486831665],\"z\":[0.20370668172836304],\"type\":\"scatter3d\"},{\"hovertemplate\":\"color=tyrell<br>0=%{x}<br>1=%{y}<br>2=%{z}<extra></extra>\",\"legendgroup\":\"tyrell\",\"marker\":{\"color\":\"#EF553B\",\"symbol\":\"circle\"},\"mode\":\"markers\",\"name\":\"tyrell\",\"scene\":\"scene\",\"showlegend\":true,\"x\":[-0.4433671236038208],\"y\":[0.6177385449409485],\"z\":[-0.5611057877540588],\"type\":\"scatter3d\"},{\"hovertemplate\":\"color=tommen<br>0=%{x}<br>1=%{y}<br>2=%{z}<extra></extra>\",\"legendgroup\":\"tommen\",\"marker\":{\"color\":\"#00cc96\",\"symbol\":\"circle\"},\"mode\":\"markers\",\"name\":\"tommen\",\"scene\":\"scene\",\"showlegend\":true,\"x\":[-0.5305983424186707],\"y\":[0.30306366086006165],\"z\":[-0.307599812746048],\"type\":\"scatter3d\"},{\"hovertemplate\":\"color=near<br>0=%{x}<br>1=%{y}<br>2=%{z}<extra></extra>\",\"legendgroup\":\"near\",\"marker\":{\"color\":\"#ab63fa\",\"symbol\":\"circle\"},\"mode\":\"markers\",\"name\":\"near\",\"scene\":\"scene\",\"showlegend\":true,\"x\":[0.3164235055446625],\"y\":[0.5513425469398499],\"z\":[0.25722748041152954],\"type\":\"scatter3d\"},{\"hovertemplate\":\"color=food<br>0=%{x}<br>1=%{y}<br>2=%{z}<extra></extra>\",\"legendgroup\":\"food\",\"marker\":{\"color\":\"#FFA15A\",\"symbol\":\"circle\"},\"mode\":\"markers\",\"name\":\"food\",\"scene\":\"scene\",\"showlegend\":true,\"x\":[-0.027160778641700745],\"y\":[-0.12941698729991913],\"z\":[0.4759500026702881],\"type\":\"scatter3d\"},{\"hovertemplate\":\"color=talk<br>0=%{x}<br>1=%{y}<br>2=%{z}<extra></extra>\",\"legendgroup\":\"talk\",\"marker\":{\"color\":\"#19d3f3\",\"symbol\":\"circle\"},\"mode\":\"markers\",\"name\":\"talk\",\"scene\":\"scene\",\"showlegend\":true,\"x\":[-0.5589785575866699],\"y\":[-0.1530475616455078],\"z\":[0.3872658908367157],\"type\":\"scatter3d\"},{\"hovertemplate\":\"color=instead<br>0=%{x}<br>1=%{y}<br>2=%{z}<extra></extra>\",\"legendgroup\":\"instead\",\"marker\":{\"color\":\"#FF6692\",\"symbol\":\"circle\"},\"mode\":\"markers\",\"name\":\"instead\",\"scene\":\"scene\",\"showlegend\":true,\"x\":[0.13045087456703186],\"y\":[0.025622176006436348],\"z\":[-0.16495759785175323],\"type\":\"scatter3d\"},{\"hovertemplate\":\"color=it<br>0=%{x}<br>1=%{y}<br>2=%{z}<extra></extra>\",\"legendgroup\":\"it\",\"marker\":{\"color\":\"#B6E880\",\"symbol\":\"circle\"},\"mode\":\"markers\",\"name\":\"it\",\"scene\":\"scene\",\"showlegend\":true,\"x\":[-0.5571036338806152],\"y\":[-0.21968857944011688],\"z\":[0.3056344985961914],\"type\":\"scatter3d\"},{\"hovertemplate\":\"color=turn<br>0=%{x}<br>1=%{y}<br>2=%{z}<extra></extra>\",\"legendgroup\":\"turn\",\"marker\":{\"color\":\"#FF97FF\",\"symbol\":\"circle\"},\"mode\":\"markers\",\"name\":\"turn\",\"scene\":\"scene\",\"showlegend\":true,\"x\":[-0.15442809462547302],\"y\":[-0.033137332648038864],\"z\":[0.32518675923347473],\"type\":\"scatter3d\"},{\"hovertemplate\":\"color=none<br>0=%{x}<br>1=%{y}<br>2=%{z}<extra></extra>\",\"legendgroup\":\"none\",\"marker\":{\"color\":\"#FECB52\",\"symbol\":\"circle\"},\"mode\":\"markers\",\"name\":\"none\",\"scene\":\"scene\",\"showlegend\":true,\"x\":[-0.610166609287262],\"y\":[-0.04138597846031189],\"z\":[0.3446301817893982],\"type\":\"scatter3d\"},{\"hovertemplate\":\"color=ships<br>0=%{x}<br>1=%{y}<br>2=%{z}<extra></extra>\",\"legendgroup\":\"ships\",\"marker\":{\"color\":\"#636efa\",\"symbol\":\"circle\"},\"mode\":\"markers\",\"name\":\"ships\",\"scene\":\"scene\",\"showlegend\":true,\"x\":[-0.0995839536190033],\"y\":[0.6564002633094788],\"z\":[0.5074864625930786],\"type\":\"scatter3d\"},{\"hovertemplate\":\"color=shadow<br>0=%{x}<br>1=%{y}<br>2=%{z}<extra></extra>\",\"legendgroup\":\"shadow\",\"marker\":{\"color\":\"#EF553B\",\"symbol\":\"circle\"},\"mode\":\"markers\",\"name\":\"shadow\",\"scene\":\"scene\",\"showlegend\":true,\"x\":[0.46287456154823303],\"y\":[0.4661750793457031],\"z\":[0.22906814515590668],\"type\":\"scatter3d\"},{\"hovertemplate\":\"color=and<br>0=%{x}<br>1=%{y}<br>2=%{z}<extra></extra>\",\"legendgroup\":\"and\",\"marker\":{\"color\":\"#00cc96\",\"symbol\":\"circle\"},\"mode\":\"markers\",\"name\":\"and\",\"scene\":\"scene\",\"showlegend\":true,\"x\":[0.35698801279067993],\"y\":[0.7076881527900696],\"z\":[-0.11170344054698944],\"type\":\"scatter3d\"},{\"hovertemplate\":\"color=moon<br>0=%{x}<br>1=%{y}<br>2=%{z}<extra></extra>\",\"legendgroup\":\"moon\",\"marker\":{\"color\":\"#ab63fa\",\"symbol\":\"circle\"},\"mode\":\"markers\",\"name\":\"moon\",\"scene\":\"scene\",\"showlegend\":true,\"x\":[0.3849627673625946],\"y\":[0.4489668607711792],\"z\":[0.11544257402420044],\"type\":\"scatter3d\"},{\"hovertemplate\":\"color=lips<br>0=%{x}<br>1=%{y}<br>2=%{z}<extra></extra>\",\"legendgroup\":\"lips\",\"marker\":{\"color\":\"#FFA15A\",\"symbol\":\"circle\"},\"mode\":\"markers\",\"name\":\"lips\",\"scene\":\"scene\",\"showlegend\":true,\"x\":[0.4727667570114136],\"y\":[-0.4549688696861267],\"z\":[-0.3899540603160858],\"type\":\"scatter3d\"},{\"hovertemplate\":\"color=summer<br>0=%{x}<br>1=%{y}<br>2=%{z}<extra></extra>\",\"legendgroup\":\"summer\",\"marker\":{\"color\":\"#19d3f3\",\"symbol\":\"circle\"},\"mode\":\"markers\",\"name\":\"summer\",\"scene\":\"scene\",\"showlegend\":true,\"x\":[0.3485943377017975],\"y\":[0.1331862211227417],\"z\":[0.3677063286304474],\"type\":\"scatter3d\"},{\"hovertemplate\":\"color=bolton<br>0=%{x}<br>1=%{y}<br>2=%{z}<extra></extra>\",\"legendgroup\":\"bolton\",\"marker\":{\"color\":\"#FF6692\",\"symbol\":\"circle\"},\"mode\":\"markers\",\"name\":\"bolton\",\"scene\":\"scene\",\"showlegend\":true,\"x\":[-0.3944540023803711],\"y\":[0.40671107172966003],\"z\":[-0.38527318835258484],\"type\":\"scatter3d\"},{\"hovertemplate\":\"color=varys<br>0=%{x}<br>1=%{y}<br>2=%{z}<extra></extra>\",\"legendgroup\":\"varys\",\"marker\":{\"color\":\"#B6E880\",\"symbol\":\"circle\"},\"mode\":\"markers\",\"name\":\"varys\",\"scene\":\"scene\",\"showlegend\":true,\"x\":[-0.4892767071723938],\"y\":[-0.13600727915763855],\"z\":[-0.476704865694046],\"type\":\"scatter3d\"},{\"hovertemplate\":\"color=watched<br>0=%{x}<br>1=%{y}<br>2=%{z}<extra></extra>\",\"legendgroup\":\"watched\",\"marker\":{\"color\":\"#FF97FF\",\"symbol\":\"circle\"},\"mode\":\"markers\",\"name\":\"watched\",\"scene\":\"scene\",\"showlegend\":true,\"x\":[0.4527466893196106],\"y\":[0.018163185566663742],\"z\":[0.04392031207680702],\"type\":\"scatter3d\"},{\"hovertemplate\":\"color=leather<br>0=%{x}<br>1=%{y}<br>2=%{z}<extra></extra>\",\"legendgroup\":\"leather\",\"marker\":{\"color\":\"#FECB52\",\"symbol\":\"circle\"},\"mode\":\"markers\",\"name\":\"leather\",\"scene\":\"scene\",\"showlegend\":true,\"x\":[0.7157334089279175],\"y\":[0.2289809137582779],\"z\":[-0.24321924149990082],\"type\":\"scatter3d\"},{\"hovertemplate\":\"color=times<br>0=%{x}<br>1=%{y}<br>2=%{z}<extra></extra>\",\"legendgroup\":\"times\",\"marker\":{\"color\":\"#636efa\",\"symbol\":\"circle\"},\"mode\":\"markers\",\"name\":\"times\",\"scene\":\"scene\",\"showlegend\":true,\"x\":[-0.20102933049201965],\"y\":[0.39464810490608215],\"z\":[0.453065425157547],\"type\":\"scatter3d\"},{\"hovertemplate\":\"color=septon<br>0=%{x}<br>1=%{y}<br>2=%{z}<extra></extra>\",\"legendgroup\":\"septon\",\"marker\":{\"color\":\"#EF553B\",\"symbol\":\"circle\"},\"mode\":\"markers\",\"name\":\"septon\",\"scene\":\"scene\",\"showlegend\":true,\"x\":[-0.20326122641563416],\"y\":[0.43508046865463257],\"z\":[-0.19454728066921234],\"type\":\"scatter3d\"},{\"hovertemplate\":\"color=him<br>0=%{x}<br>1=%{y}<br>2=%{z}<extra></extra>\",\"legendgroup\":\"him\",\"marker\":{\"color\":\"#00cc96\",\"symbol\":\"circle\"},\"mode\":\"markers\",\"name\":\"him\",\"scene\":\"scene\",\"showlegend\":true,\"x\":[-0.6664150357246399],\"y\":[-0.05966085568070412],\"z\":[0.17233380675315857],\"type\":\"scatter3d\"},{\"hovertemplate\":\"color=shoulder<br>0=%{x}<br>1=%{y}<br>2=%{z}<extra></extra>\",\"legendgroup\":\"shoulder\",\"marker\":{\"color\":\"#ab63fa\",\"symbol\":\"circle\"},\"mode\":\"markers\",\"name\":\"shoulder\",\"scene\":\"scene\",\"showlegend\":true,\"x\":[0.6238012313842773],\"y\":[0.0016874067950993776],\"z\":[-0.3789181411266327],\"type\":\"scatter3d\"},{\"hovertemplate\":\"color=warm<br>0=%{x}<br>1=%{y}<br>2=%{z}<extra></extra>\",\"legendgroup\":\"warm\",\"marker\":{\"color\":\"#FFA15A\",\"symbol\":\"circle\"},\"mode\":\"markers\",\"name\":\"warm\",\"scene\":\"scene\",\"showlegend\":true,\"x\":[0.43084076046943665],\"y\":[-0.299906849861145],\"z\":[0.38153553009033203],\"type\":\"scatter3d\"},{\"hovertemplate\":\"color=caught<br>0=%{x}<br>1=%{y}<br>2=%{z}<extra></extra>\",\"legendgroup\":\"caught\",\"marker\":{\"color\":\"#19d3f3\",\"symbol\":\"circle\"},\"mode\":\"markers\",\"name\":\"caught\",\"scene\":\"scene\",\"showlegend\":true,\"x\":[0.5752386450767517],\"y\":[-0.16895125806331635],\"z\":[-0.01268647238612175],\"type\":\"scatter3d\"},{\"hovertemplate\":\"color=believe<br>0=%{x}<br>1=%{y}<br>2=%{z}<extra></extra>\",\"legendgroup\":\"believe\",\"marker\":{\"color\":\"#FF6692\",\"symbol\":\"circle\"},\"mode\":\"markers\",\"name\":\"believe\",\"scene\":\"scene\",\"showlegend\":true,\"x\":[-0.686153769493103],\"y\":[-0.14885646104812622],\"z\":[0.13104206323623657],\"type\":\"scatter3d\"},{\"hovertemplate\":\"color=ice<br>0=%{x}<br>1=%{y}<br>2=%{z}<extra></extra>\",\"legendgroup\":\"ice\",\"marker\":{\"color\":\"#B6E880\",\"symbol\":\"circle\"},\"mode\":\"markers\",\"name\":\"ice\",\"scene\":\"scene\",\"showlegend\":true,\"x\":[0.6744990348815918],\"y\":[0.12761510908603668],\"z\":[0.33533382415771484],\"type\":\"scatter3d\"},{\"hovertemplate\":\"color=blade<br>0=%{x}<br>1=%{y}<br>2=%{z}<extra></extra>\",\"legendgroup\":\"blade\",\"marker\":{\"color\":\"#FF97FF\",\"symbol\":\"circle\"},\"mode\":\"markers\",\"name\":\"blade\",\"scene\":\"scene\",\"showlegend\":true,\"x\":[0.5507307052612305],\"y\":[-0.08392497897148132],\"z\":[-0.32147860527038574],\"type\":\"scatter3d\"},{\"hovertemplate\":\"color=guards<br>0=%{x}<br>1=%{y}<br>2=%{z}<extra></extra>\",\"legendgroup\":\"guards\",\"marker\":{\"color\":\"#FECB52\",\"symbol\":\"circle\"},\"mode\":\"markers\",\"name\":\"guards\",\"scene\":\"scene\",\"showlegend\":true,\"x\":[0.06807727366685867],\"y\":[0.5958362221717834],\"z\":[-0.0936843752861023],\"type\":\"scatter3d\"},{\"hovertemplate\":\"color=least<br>0=%{x}<br>1=%{y}<br>2=%{z}<extra></extra>\",\"legendgroup\":\"least\",\"marker\":{\"color\":\"#636efa\",\"symbol\":\"circle\"},\"mode\":\"markers\",\"name\":\"least\",\"scene\":\"scene\",\"showlegend\":true,\"x\":[-0.49713096022605896],\"y\":[-0.07003828883171082],\"z\":[0.4021071493625641],\"type\":\"scatter3d\"},{\"hovertemplate\":\"color=god<br>0=%{x}<br>1=%{y}<br>2=%{z}<extra></extra>\",\"legendgroup\":\"god\",\"marker\":{\"color\":\"#EF553B\",\"symbol\":\"circle\"},\"mode\":\"markers\",\"name\":\"god\",\"scene\":\"scene\",\"showlegend\":true,\"x\":[-0.1885591596364975],\"y\":[0.48406392335891724],\"z\":[0.29141026735305786],\"type\":\"scatter3d\"},{\"hovertemplate\":\"color=answer<br>0=%{x}<br>1=%{y}<br>2=%{z}<extra></extra>\",\"legendgroup\":\"answer\",\"marker\":{\"color\":\"#00cc96\",\"symbol\":\"circle\"},\"mode\":\"markers\",\"name\":\"answer\",\"scene\":\"scene\",\"showlegend\":true,\"x\":[-0.5007871389389038],\"y\":[-0.34223636984825134],\"z\":[-0.04908185824751854],\"type\":\"scatter3d\"},{\"hovertemplate\":\"color=eddard<br>0=%{x}<br>1=%{y}<br>2=%{z}<extra></extra>\",\"legendgroup\":\"eddard\",\"marker\":{\"color\":\"#ab63fa\",\"symbol\":\"circle\"},\"mode\":\"markers\",\"name\":\"eddard\",\"scene\":\"scene\",\"showlegend\":true,\"x\":[-0.3869509696960449],\"y\":[0.2489355057477951],\"z\":[-0.243111714720726],\"type\":\"scatter3d\"},{\"hovertemplate\":\"color=safe<br>0=%{x}<br>1=%{y}<br>2=%{z}<extra></extra>\",\"legendgroup\":\"safe\",\"marker\":{\"color\":\"#FFA15A\",\"symbol\":\"circle\"},\"mode\":\"markers\",\"name\":\"safe\",\"scene\":\"scene\",\"showlegend\":true,\"x\":[-0.45601698756217957],\"y\":[0.1611717790365219],\"z\":[0.39666128158569336],\"type\":\"scatter3d\"},{\"hovertemplate\":\"color=wondered<br>0=%{x}<br>1=%{y}<br>2=%{z}<extra></extra>\",\"legendgroup\":\"wondered\",\"marker\":{\"color\":\"#19d3f3\",\"symbol\":\"circle\"},\"mode\":\"markers\",\"name\":\"wondered\",\"scene\":\"scene\",\"showlegend\":true,\"x\":[-0.407016783952713],\"y\":[-0.2503454387187958],\"z\":[0.07916559278964996],\"type\":\"scatter3d\"},{\"hovertemplate\":\"color=shield<br>0=%{x}<br>1=%{y}<br>2=%{z}<extra></extra>\",\"legendgroup\":\"shield\",\"marker\":{\"color\":\"#FF6692\",\"symbol\":\"circle\"},\"mode\":\"markers\",\"name\":\"shield\",\"scene\":\"scene\",\"showlegend\":true,\"x\":[0.3898196518421173],\"y\":[0.5018071532249451],\"z\":[-0.3658883571624756],\"type\":\"scatter3d\"},{\"hovertemplate\":\"color=barristan<br>0=%{x}<br>1=%{y}<br>2=%{z}<extra></extra>\",\"legendgroup\":\"barristan\",\"marker\":{\"color\":\"#B6E880\",\"symbol\":\"circle\"},\"mode\":\"markers\",\"name\":\"barristan\",\"scene\":\"scene\",\"showlegend\":true,\"x\":[-0.25592756271362305],\"y\":[0.13208447396755219],\"z\":[-0.42525041103363037],\"type\":\"scatter3d\"},{\"hovertemplate\":\"color=opened<br>0=%{x}<br>1=%{y}<br>2=%{z}<extra></extra>\",\"legendgroup\":\"opened\",\"marker\":{\"color\":\"#FF97FF\",\"symbol\":\"circle\"},\"mode\":\"markers\",\"name\":\"opened\",\"scene\":\"scene\",\"showlegend\":true,\"x\":[0.6117159724235535],\"y\":[0.0016800746088847518],\"z\":[-0.08595036715269089],\"type\":\"scatter3d\"},{\"hovertemplate\":\"color=mine<br>0=%{x}<br>1=%{y}<br>2=%{z}<extra></extra>\",\"legendgroup\":\"mine\",\"marker\":{\"color\":\"#FECB52\",\"symbol\":\"circle\"},\"mode\":\"markers\",\"name\":\"mine\",\"scene\":\"scene\",\"showlegend\":true,\"x\":[-0.6003910899162292],\"y\":[0.021348625421524048],\"z\":[0.12210803478956223],\"type\":\"scatter3d\"},{\"hovertemplate\":\"color=armor<br>0=%{x}<br>1=%{y}<br>2=%{z}<extra></extra>\",\"legendgroup\":\"armor\",\"marker\":{\"color\":\"#636efa\",\"symbol\":\"circle\"},\"mode\":\"markers\",\"name\":\"armor\",\"scene\":\"scene\",\"showlegend\":true,\"x\":[0.5037996172904968],\"y\":[0.4278404712677002],\"z\":[-0.2716398239135742],\"type\":\"scatter3d\"},{\"hovertemplate\":\"color=daenerys<br>0=%{x}<br>1=%{y}<br>2=%{z}<extra></extra>\",\"legendgroup\":\"daenerys\",\"marker\":{\"color\":\"#EF553B\",\"symbol\":\"circle\"},\"mode\":\"markers\",\"name\":\"daenerys\",\"scene\":\"scene\",\"showlegend\":true,\"x\":[-0.43045082688331604],\"y\":[0.16421987116336823],\"z\":[-0.06506405770778656],\"type\":\"scatter3d\"},{\"hovertemplate\":\"color=six<br>0=%{x}<br>1=%{y}<br>2=%{z}<extra></extra>\",\"legendgroup\":\"six\",\"marker\":{\"color\":\"#00cc96\",\"symbol\":\"circle\"},\"mode\":\"markers\",\"name\":\"six\",\"scene\":\"scene\",\"showlegend\":true,\"x\":[0.09292624890804291],\"y\":[0.7062058448791504],\"z\":[0.15810056030750275],\"type\":\"scatter3d\"},{\"hovertemplate\":\"color=return<br>0=%{x}<br>1=%{y}<br>2=%{z}<extra></extra>\",\"legendgroup\":\"return\",\"marker\":{\"color\":\"#ab63fa\",\"symbol\":\"circle\"},\"mode\":\"markers\",\"name\":\"return\",\"scene\":\"scene\",\"showlegend\":true,\"x\":[-0.6346880793571472],\"y\":[0.30001312494277954],\"z\":[0.2595047652721405],\"type\":\"scatter3d\"},{\"hovertemplate\":\"color=kept<br>0=%{x}<br>1=%{y}<br>2=%{z}<extra></extra>\",\"legendgroup\":\"kept\",\"marker\":{\"color\":\"#FFA15A\",\"symbol\":\"circle\"},\"mode\":\"markers\",\"name\":\"kept\",\"scene\":\"scene\",\"showlegend\":true,\"x\":[0.12131060659885406],\"y\":[0.05333169922232628],\"z\":[0.3239433169364929],\"type\":\"scatter3d\"},{\"hovertemplate\":\"color=wish<br>0=%{x}<br>1=%{y}<br>2=%{z}<extra></extra>\",\"legendgroup\":\"wish\",\"marker\":{\"color\":\"#19d3f3\",\"symbol\":\"circle\"},\"mode\":\"markers\",\"name\":\"wish\",\"scene\":\"scene\",\"showlegend\":true,\"x\":[-0.7374112010002136],\"y\":[-0.08024602383375168],\"z\":[0.08547637611627579],\"type\":\"scatter3d\"},{\"hovertemplate\":\"color=used<br>0=%{x}<br>1=%{y}<br>2=%{z}<extra></extra>\",\"legendgroup\":\"used\",\"marker\":{\"color\":\"#FF6692\",\"symbol\":\"circle\"},\"mode\":\"markers\",\"name\":\"used\",\"scene\":\"scene\",\"showlegend\":true,\"x\":[-0.22622832655906677],\"y\":[-0.15502212941646576],\"z\":[0.4031544029712677],\"type\":\"scatter3d\"},{\"hovertemplate\":\"color=smell<br>0=%{x}<br>1=%{y}<br>2=%{z}<extra></extra>\",\"legendgroup\":\"smell\",\"marker\":{\"color\":\"#B6E880\",\"symbol\":\"circle\"},\"mode\":\"markers\",\"name\":\"smell\",\"scene\":\"scene\",\"showlegend\":true,\"x\":[0.36558154225349426],\"y\":[-0.391706258058548],\"z\":[0.298410564661026],\"type\":\"scatter3d\"},{\"hovertemplate\":\"color=less<br>0=%{x}<br>1=%{y}<br>2=%{z}<extra></extra>\",\"legendgroup\":\"less\",\"marker\":{\"color\":\"#FF97FF\",\"symbol\":\"circle\"},\"mode\":\"markers\",\"name\":\"less\",\"scene\":\"scene\",\"showlegend\":true,\"x\":[-0.41458913683891296],\"y\":[0.0008095581433735788],\"z\":[0.26171374320983887],\"type\":\"scatter3d\"},{\"hovertemplate\":\"color=squire<br>0=%{x}<br>1=%{y}<br>2=%{z}<extra></extra>\",\"legendgroup\":\"squire\",\"marker\":{\"color\":\"#FECB52\",\"symbol\":\"circle\"},\"mode\":\"markers\",\"name\":\"squire\",\"scene\":\"scene\",\"showlegend\":true,\"x\":[-0.33868417143821716],\"y\":[0.5903823971748352],\"z\":[-0.6206716895103455],\"type\":\"scatter3d\"},{\"hovertemplate\":\"color=foot<br>0=%{x}<br>1=%{y}<br>2=%{z}<extra></extra>\",\"legendgroup\":\"foot\",\"marker\":{\"color\":\"#636efa\",\"symbol\":\"circle\"},\"mode\":\"markers\",\"name\":\"foot\",\"scene\":\"scene\",\"showlegend\":true,\"x\":[0.578335702419281],\"y\":[0.28087446093559265],\"z\":[-0.009569959715008736],\"type\":\"scatter3d\"},{\"hovertemplate\":\"color=floor<br>0=%{x}<br>1=%{y}<br>2=%{z}<extra></extra>\",\"legendgroup\":\"floor\",\"marker\":{\"color\":\"#EF553B\",\"symbol\":\"circle\"},\"mode\":\"markers\",\"name\":\"floor\",\"scene\":\"scene\",\"showlegend\":true,\"x\":[0.7825185656547546],\"y\":[0.11119066923856735],\"z\":[-0.06215113773941994],\"type\":\"scatter3d\"},{\"hovertemplate\":\"color=baratheon<br>0=%{x}<br>1=%{y}<br>2=%{z}<extra></extra>\",\"legendgroup\":\"baratheon\",\"marker\":{\"color\":\"#00cc96\",\"symbol\":\"circle\"},\"mode\":\"markers\",\"name\":\"baratheon\",\"scene\":\"scene\",\"showlegend\":true,\"x\":[-0.31437161564826965],\"y\":[0.5985808372497559],\"z\":[-0.2647531032562256],\"type\":\"scatter3d\"},{\"hovertemplate\":\"color=followed<br>0=%{x}<br>1=%{y}<br>2=%{z}<extra></extra>\",\"legendgroup\":\"followed\",\"marker\":{\"color\":\"#ab63fa\",\"symbol\":\"circle\"},\"mode\":\"markers\",\"name\":\"followed\",\"scene\":\"scene\",\"showlegend\":true,\"x\":[0.43688830733299255],\"y\":[0.3013738691806793],\"z\":[0.02130003832280636],\"type\":\"scatter3d\"},{\"hovertemplate\":\"color=empty<br>0=%{x}<br>1=%{y}<br>2=%{z}<extra></extra>\",\"legendgroup\":\"empty\",\"marker\":{\"color\":\"#FFA15A\",\"symbol\":\"circle\"},\"mode\":\"markers\",\"name\":\"empty\",\"scene\":\"scene\",\"showlegend\":true,\"x\":[0.59398353099823],\"y\":[0.12559308111667633],\"z\":[0.16066056489944458],\"type\":\"scatter3d\"},{\"hovertemplate\":\"color=run<br>0=%{x}<br>1=%{y}<br>2=%{z}<extra></extra>\",\"legendgroup\":\"run\",\"marker\":{\"color\":\"#19d3f3\",\"symbol\":\"circle\"},\"mode\":\"markers\",\"name\":\"run\",\"scene\":\"scene\",\"showlegend\":true,\"x\":[-0.011851203627884388],\"y\":[-0.36610880494117737],\"z\":[0.4777645766735077],\"type\":\"scatter3d\"},{\"hovertemplate\":\"color=wedding<br>0=%{x}<br>1=%{y}<br>2=%{z}<extra></extra>\",\"legendgroup\":\"wedding\",\"marker\":{\"color\":\"#FF6692\",\"symbol\":\"circle\"},\"mode\":\"markers\",\"name\":\"wedding\",\"scene\":\"scene\",\"showlegend\":true,\"x\":[-0.47347360849380493],\"y\":[0.4087688624858856],\"z\":[-0.2357446551322937],\"type\":\"scatter3d\"},{\"hovertemplate\":\"color=friends<br>0=%{x}<br>1=%{y}<br>2=%{z}<extra></extra>\",\"legendgroup\":\"friends\",\"marker\":{\"color\":\"#B6E880\",\"symbol\":\"circle\"},\"mode\":\"markers\",\"name\":\"friends\",\"scene\":\"scene\",\"showlegend\":true,\"x\":[-0.643724262714386],\"y\":[0.34179022908210754],\"z\":[0.2647991180419922],\"type\":\"scatter3d\"},{\"hovertemplate\":\"color=serve<br>0=%{x}<br>1=%{y}<br>2=%{z}<extra></extra>\",\"legendgroup\":\"serve\",\"marker\":{\"color\":\"#FF97FF\",\"symbol\":\"circle\"},\"mode\":\"markers\",\"name\":\"serve\",\"scene\":\"scene\",\"showlegend\":true,\"x\":[-0.696461021900177],\"y\":[0.20197680592536926],\"z\":[0.09952487796545029],\"type\":\"scatter3d\"},{\"hovertemplate\":\"color=boys<br>0=%{x}<br>1=%{y}<br>2=%{z}<extra></extra>\",\"legendgroup\":\"boys\",\"marker\":{\"color\":\"#FECB52\",\"symbol\":\"circle\"},\"mode\":\"markers\",\"name\":\"boys\",\"scene\":\"scene\",\"showlegend\":true,\"x\":[-0.1127144992351532],\"y\":[0.3981500566005707],\"z\":[0.22633880376815796],\"type\":\"scatter3d\"},{\"hovertemplate\":\"color=cloaks<br>0=%{x}<br>1=%{y}<br>2=%{z}<extra></extra>\",\"legendgroup\":\"cloaks\",\"marker\":{\"color\":\"#636efa\",\"symbol\":\"circle\"},\"mode\":\"markers\",\"name\":\"cloaks\",\"scene\":\"scene\",\"showlegend\":true,\"x\":[0.3647218346595764],\"y\":[0.6533988118171692],\"z\":[-0.11690983921289444],\"type\":\"scatter3d\"},{\"hovertemplate\":\"color=eat<br>0=%{x}<br>1=%{y}<br>2=%{z}<extra></extra>\",\"legendgroup\":\"eat\",\"marker\":{\"color\":\"#EF553B\",\"symbol\":\"circle\"},\"mode\":\"markers\",\"name\":\"eat\",\"scene\":\"scene\",\"showlegend\":true,\"x\":[-0.18832917511463165],\"y\":[-0.33409667015075684],\"z\":[0.4623122215270996],\"type\":\"scatter3d\"},{\"hovertemplate\":\"color=wrong<br>0=%{x}<br>1=%{y}<br>2=%{z}<extra></extra>\",\"legendgroup\":\"wrong\",\"marker\":{\"color\":\"#00cc96\",\"symbol\":\"circle\"},\"mode\":\"markers\",\"name\":\"wrong\",\"scene\":\"scene\",\"showlegend\":true,\"x\":[-0.3985859751701355],\"y\":[-0.43325045704841614],\"z\":[0.14407901465892792],\"type\":\"scatter3d\"},{\"hovertemplate\":\"color=beard<br>0=%{x}<br>1=%{y}<br>2=%{z}<extra></extra>\",\"legendgroup\":\"beard\",\"marker\":{\"color\":\"#ab63fa\",\"symbol\":\"circle\"},\"mode\":\"markers\",\"name\":\"beard\",\"scene\":\"scene\",\"showlegend\":true,\"x\":[0.5621460676193237],\"y\":[-0.010099104605615139],\"z\":[-0.3938515782356262],\"type\":\"scatter3d\"},{\"hovertemplate\":\"color=ghost<br>0=%{x}<br>1=%{y}<br>2=%{z}<extra></extra>\",\"legendgroup\":\"ghost\",\"marker\":{\"color\":\"#FFA15A\",\"symbol\":\"circle\"},\"mode\":\"markers\",\"name\":\"ghost\",\"scene\":\"scene\",\"showlegend\":true,\"x\":[0.4189283549785614],\"y\":[-0.07576794177293777],\"z\":[-0.01668221689760685],\"type\":\"scatter3d\"},{\"hovertemplate\":\"color=flesh<br>0=%{x}<br>1=%{y}<br>2=%{z}<extra></extra>\",\"legendgroup\":\"flesh\",\"marker\":{\"color\":\"#19d3f3\",\"symbol\":\"circle\"},\"mode\":\"markers\",\"name\":\"flesh\",\"scene\":\"scene\",\"showlegend\":true,\"x\":[0.651891827583313],\"y\":[-0.1671883910894394],\"z\":[0.1611764132976532],\"type\":\"scatter3d\"},{\"hovertemplate\":\"color=sight<br>0=%{x}<br>1=%{y}<br>2=%{z}<extra></extra>\",\"legendgroup\":\"sight\",\"marker\":{\"color\":\"#FF6692\",\"symbol\":\"circle\"},\"mode\":\"markers\",\"name\":\"sight\",\"scene\":\"scene\",\"showlegend\":true,\"x\":[0.16125549376010895],\"y\":[-0.2035273015499115],\"z\":[0.32426148653030396],\"type\":\"scatter3d\"},{\"hovertemplate\":\"color=hound<br>0=%{x}<br>1=%{y}<br>2=%{z}<extra></extra>\",\"legendgroup\":\"hound\",\"marker\":{\"color\":\"#B6E880\",\"symbol\":\"circle\"},\"mode\":\"markers\",\"name\":\"hound\",\"scene\":\"scene\",\"showlegend\":true,\"x\":[-0.029058588668704033],\"y\":[-0.3112373352050781],\"z\":[-0.37916162610054016],\"type\":\"scatter3d\"},{\"hovertemplate\":\"color=strength<br>0=%{x}<br>1=%{y}<br>2=%{z}<extra></extra>\",\"legendgroup\":\"strength\",\"marker\":{\"color\":\"#FF97FF\",\"symbol\":\"circle\"},\"mode\":\"markers\",\"name\":\"strength\",\"scene\":\"scene\",\"showlegend\":true,\"x\":[-0.3828536570072174],\"y\":[0.3211093842983246],\"z\":[0.33482664823532104],\"type\":\"scatter3d\"},{\"hovertemplate\":\"color=five<br>0=%{x}<br>1=%{y}<br>2=%{z}<extra></extra>\",\"legendgroup\":\"five\",\"marker\":{\"color\":\"#FECB52\",\"symbol\":\"circle\"},\"mode\":\"markers\",\"name\":\"five\",\"scene\":\"scene\",\"showlegend\":true,\"x\":[0.003155808662995696],\"y\":[0.710259199142456],\"z\":[0.16997340321540833],\"type\":\"scatter3d\"},{\"hovertemplate\":\"color=ship<br>0=%{x}<br>1=%{y}<br>2=%{z}<extra></extra>\",\"legendgroup\":\"ship\",\"marker\":{\"color\":\"#636efa\",\"symbol\":\"circle\"},\"mode\":\"markers\",\"name\":\"ship\",\"scene\":\"scene\",\"showlegend\":true,\"x\":[-0.09973610937595367],\"y\":[0.27271977066993713],\"z\":[0.5182311534881592],\"type\":\"scatter3d\"},{\"hovertemplate\":\"color=crown<br>0=%{x}<br>1=%{y}<br>2=%{z}<extra></extra>\",\"legendgroup\":\"crown\",\"marker\":{\"color\":\"#EF553B\",\"symbol\":\"circle\"},\"mode\":\"markers\",\"name\":\"crown\",\"scene\":\"scene\",\"showlegend\":true,\"x\":[-0.07220546901226044],\"y\":[0.47704505920410156],\"z\":[-0.2332099825143814],\"type\":\"scatter3d\"},{\"hovertemplate\":\"color=returned<br>0=%{x}<br>1=%{y}<br>2=%{z}<extra></extra>\",\"legendgroup\":\"returned\",\"marker\":{\"color\":\"#00cc96\",\"symbol\":\"circle\"},\"mode\":\"markers\",\"name\":\"returned\",\"scene\":\"scene\",\"showlegend\":true,\"x\":[-0.17108361423015594],\"y\":[0.38709595799446106],\"z\":[-0.08410690724849701],\"type\":\"scatter3d\"},{\"hovertemplate\":\"color=nose<br>0=%{x}<br>1=%{y}<br>2=%{z}<extra></extra>\",\"legendgroup\":\"nose\",\"marker\":{\"color\":\"#ab63fa\",\"symbol\":\"circle\"},\"mode\":\"markers\",\"name\":\"nose\",\"scene\":\"scene\",\"showlegend\":true,\"x\":[0.5660721659660339],\"y\":[-0.27997392416000366],\"z\":[-0.30487146973609924],\"type\":\"scatter3d\"},{\"hovertemplate\":\"color=bones<br>0=%{x}<br>1=%{y}<br>2=%{z}<extra></extra>\",\"legendgroup\":\"bones\",\"marker\":{\"color\":\"#FFA15A\",\"symbol\":\"circle\"},\"mode\":\"markers\",\"name\":\"bones\",\"scene\":\"scene\",\"showlegend\":true,\"x\":[0.4742971360683441],\"y\":[0.17321623861789703],\"z\":[0.2935514450073242],\"type\":\"scatter3d\"},{\"hovertemplate\":\"color=master<br>0=%{x}<br>1=%{y}<br>2=%{z}<extra></extra>\",\"legendgroup\":\"master\",\"marker\":{\"color\":\"#19d3f3\",\"symbol\":\"circle\"},\"mode\":\"markers\",\"name\":\"master\",\"scene\":\"scene\",\"showlegend\":true,\"x\":[-0.3295148015022278],\"y\":[0.6198146939277649],\"z\":[-0.4485519528388977],\"type\":\"scatter3d\"},{\"hovertemplate\":\"color=yellow<br>0=%{x}<br>1=%{y}<br>2=%{z}<extra></extra>\",\"legendgroup\":\"yellow\",\"marker\":{\"color\":\"#FF6692\",\"symbol\":\"circle\"},\"mode\":\"markers\",\"name\":\"yellow\",\"scene\":\"scene\",\"showlegend\":true,\"x\":[0.6347708106040955],\"y\":[0.18875086307525635],\"z\":[-0.1555318683385849],\"type\":\"scatter3d\"},{\"hovertemplate\":\"color=aemon<br>0=%{x}<br>1=%{y}<br>2=%{z}<extra></extra>\",\"legendgroup\":\"aemon\",\"marker\":{\"color\":\"#B6E880\",\"symbol\":\"circle\"},\"mode\":\"markers\",\"name\":\"aemon\",\"scene\":\"scene\",\"showlegend\":true,\"x\":[-0.28467440605163574],\"y\":[0.045238833874464035],\"z\":[-0.127090185880661],\"type\":\"scatter3d\"},{\"hovertemplate\":\"color=says<br>0=%{x}<br>1=%{y}<br>2=%{z}<extra></extra>\",\"legendgroup\":\"says\",\"marker\":{\"color\":\"#FF97FF\",\"symbol\":\"circle\"},\"mode\":\"markers\",\"name\":\"says\",\"scene\":\"scene\",\"showlegend\":true,\"x\":[-0.6873422265052795],\"y\":[0.09303329139947891],\"z\":[0.06183839589357376],\"type\":\"scatter3d\"},{\"hovertemplate\":\"color=chest<br>0=%{x}<br>1=%{y}<br>2=%{z}<extra></extra>\",\"legendgroup\":\"chest\",\"marker\":{\"color\":\"#FECB52\",\"symbol\":\"circle\"},\"mode\":\"markers\",\"name\":\"chest\",\"scene\":\"scene\",\"showlegend\":true,\"x\":[0.7497236728668213],\"y\":[3.731765173142776e-05],\"z\":[-0.2509114742279053],\"type\":\"scatter3d\"},{\"hovertemplate\":\"color=petyr<br>0=%{x}<br>1=%{y}<br>2=%{z}<extra></extra>\",\"legendgroup\":\"petyr\",\"marker\":{\"color\":\"#636efa\",\"symbol\":\"circle\"},\"mode\":\"markers\",\"name\":\"petyr\",\"scene\":\"scene\",\"showlegend\":true,\"x\":[-0.4783990979194641],\"y\":[0.17170585691928864],\"z\":[-0.5552360415458679],\"type\":\"scatter3d\"},{\"hovertemplate\":\"color=covered<br>0=%{x}<br>1=%{y}<br>2=%{z}<extra></extra>\",\"legendgroup\":\"covered\",\"marker\":{\"color\":\"#EF553B\",\"symbol\":\"circle\"},\"mode\":\"markers\",\"name\":\"covered\",\"scene\":\"scene\",\"showlegend\":true,\"x\":[0.7911857962608337],\"y\":[0.03726348280906677],\"z\":[-0.11830343306064606],\"type\":\"scatter3d\"},{\"hovertemplate\":\"color=sometimes<br>0=%{x}<br>1=%{y}<br>2=%{z}<extra></extra>\",\"legendgroup\":\"sometimes\",\"marker\":{\"color\":\"#00cc96\",\"symbol\":\"circle\"},\"mode\":\"markers\",\"name\":\"sometimes\",\"scene\":\"scene\",\"showlegend\":true,\"x\":[-0.04477586969733238],\"y\":[-0.4010253846645355],\"z\":[0.4530602991580963],\"type\":\"scatter3d\"},{\"hovertemplate\":\"color=commanded<br>0=%{x}<br>1=%{y}<br>2=%{z}<extra></extra>\",\"legendgroup\":\"commanded\",\"marker\":{\"color\":\"#ab63fa\",\"symbol\":\"circle\"},\"mode\":\"markers\",\"name\":\"commanded\",\"scene\":\"scene\",\"showlegend\":true,\"x\":[-0.3820113241672516],\"y\":[0.27847084403038025],\"z\":[-0.05075699836015701],\"type\":\"scatter3d\"},{\"hovertemplate\":\"color=lysa<br>0=%{x}<br>1=%{y}<br>2=%{z}<extra></extra>\",\"legendgroup\":\"lysa\",\"marker\":{\"color\":\"#FFA15A\",\"symbol\":\"circle\"},\"mode\":\"markers\",\"name\":\"lysa\",\"scene\":\"scene\",\"showlegend\":true,\"x\":[-0.42950186133384705],\"y\":[0.13439175486564636],\"z\":[-0.34068796038627625],\"type\":\"scatter3d\"},{\"hovertemplate\":\"color=filled<br>0=%{x}<br>1=%{y}<br>2=%{z}<extra></extra>\",\"legendgroup\":\"filled\",\"marker\":{\"color\":\"#19d3f3\",\"symbol\":\"circle\"},\"mode\":\"markers\",\"name\":\"filled\",\"scene\":\"scene\",\"showlegend\":true,\"x\":[0.6331499814987183],\"y\":[-0.10686863958835602],\"z\":[0.07425806671380997],\"type\":\"scatter3d\"},{\"hovertemplate\":\"color=friend<br>0=%{x}<br>1=%{y}<br>2=%{z}<extra></extra>\",\"legendgroup\":\"friend\",\"marker\":{\"color\":\"#FF6692\",\"symbol\":\"circle\"},\"mode\":\"markers\",\"name\":\"friend\",\"scene\":\"scene\",\"showlegend\":true,\"x\":[-0.6917348504066467],\"y\":[-0.06635387241840363],\"z\":[-0.16610214114189148],\"type\":\"scatter3d\"},{\"hovertemplate\":\"color=common<br>0=%{x}<br>1=%{y}<br>2=%{z}<extra></extra>\",\"legendgroup\":\"common\",\"marker\":{\"color\":\"#B6E880\",\"symbol\":\"circle\"},\"mode\":\"markers\",\"name\":\"common\",\"scene\":\"scene\",\"showlegend\":true,\"x\":[-0.1980048418045044],\"y\":[0.1890232264995575],\"z\":[0.21533073484897614],\"type\":\"scatter3d\"},{\"hovertemplate\":\"color=led<br>0=%{x}<br>1=%{y}<br>2=%{z}<extra></extra>\",\"legendgroup\":\"led\",\"marker\":{\"color\":\"#FF97FF\",\"symbol\":\"circle\"},\"mode\":\"markers\",\"name\":\"led\",\"scene\":\"scene\",\"showlegend\":true,\"x\":[0.29257839918136597],\"y\":[0.6182698607444763],\"z\":[-0.06129492446780205],\"type\":\"scatter3d\"},{\"hovertemplate\":\"color=spoke<br>0=%{x}<br>1=%{y}<br>2=%{z}<extra></extra>\",\"legendgroup\":\"spoke\",\"marker\":{\"color\":\"#FECB52\",\"symbol\":\"circle\"},\"mode\":\"markers\",\"name\":\"spoke\",\"scene\":\"scene\",\"showlegend\":true,\"x\":[-0.27286040782928467],\"y\":[-0.1302080899477005],\"z\":[-0.2972019910812378],\"type\":\"scatter3d\"},{\"hovertemplate\":\"color=aye<br>0=%{x}<br>1=%{y}<br>2=%{z}<extra></extra>\",\"legendgroup\":\"aye\",\"marker\":{\"color\":\"#636efa\",\"symbol\":\"circle\"},\"mode\":\"markers\",\"name\":\"aye\",\"scene\":\"scene\",\"showlegend\":true,\"x\":[-0.5184224247932434],\"y\":[-0.01325379591435194],\"z\":[-0.11018729954957962],\"type\":\"scatter3d\"},{\"hovertemplate\":\"color=show<br>0=%{x}<br>1=%{y}<br>2=%{z}<extra></extra>\",\"legendgroup\":\"show\",\"marker\":{\"color\":\"#EF553B\",\"symbol\":\"circle\"},\"mode\":\"markers\",\"name\":\"show\",\"scene\":\"scene\",\"showlegend\":true,\"x\":[-0.42386674880981445],\"y\":[-0.1786760538816452],\"z\":[0.12718167901039124],\"type\":\"scatter3d\"},{\"hovertemplate\":\"color=flames<br>0=%{x}<br>1=%{y}<br>2=%{z}<extra></extra>\",\"legendgroup\":\"flames\",\"marker\":{\"color\":\"#00cc96\",\"symbol\":\"circle\"},\"mode\":\"markers\",\"name\":\"flames\",\"scene\":\"scene\",\"showlegend\":true,\"x\":[0.6736240983009338],\"y\":[-0.033349379897117615],\"z\":[0.1695886105298996],\"type\":\"scatter3d\"},{\"hovertemplate\":\"color=fighting<br>0=%{x}<br>1=%{y}<br>2=%{z}<extra></extra>\",\"legendgroup\":\"fighting\",\"marker\":{\"color\":\"#ab63fa\",\"symbol\":\"circle\"},\"mode\":\"markers\",\"name\":\"fighting\",\"scene\":\"scene\",\"showlegend\":true,\"x\":[-0.20013366639614105],\"y\":[0.5354304909706116],\"z\":[0.5033234357833862],\"type\":\"scatter3d\"},{\"hovertemplate\":\"color=asha<br>0=%{x}<br>1=%{y}<br>2=%{z}<extra></extra>\",\"legendgroup\":\"asha\",\"marker\":{\"color\":\"#FFA15A\",\"symbol\":\"circle\"},\"mode\":\"markers\",\"name\":\"asha\",\"scene\":\"scene\",\"showlegend\":true,\"x\":[-0.19624361395835876],\"y\":[0.011337985284626484],\"z\":[-0.20773270726203918],\"type\":\"scatter3d\"},{\"hovertemplate\":\"color=huge<br>0=%{x}<br>1=%{y}<br>2=%{z}<extra></extra>\",\"legendgroup\":\"huge\",\"marker\":{\"color\":\"#19d3f3\",\"symbol\":\"circle\"},\"mode\":\"markers\",\"name\":\"huge\",\"scene\":\"scene\",\"showlegend\":true,\"x\":[0.7529733777046204],\"y\":[0.3113720715045929],\"z\":[0.02182789519429207],\"type\":\"scatter3d\"},{\"hovertemplate\":\"color=aside<br>0=%{x}<br>1=%{y}<br>2=%{z}<extra></extra>\",\"legendgroup\":\"aside\",\"marker\":{\"color\":\"#FF6692\",\"symbol\":\"circle\"},\"mode\":\"markers\",\"name\":\"aside\",\"scene\":\"scene\",\"showlegend\":true,\"x\":[0.2793786823749542],\"y\":[-0.029369117692112923],\"z\":[-0.3590952157974243],\"type\":\"scatter3d\"},{\"hovertemplate\":\"color=crow<br>0=%{x}<br>1=%{y}<br>2=%{z}<extra></extra>\",\"legendgroup\":\"crow\",\"marker\":{\"color\":\"#B6E880\",\"symbol\":\"circle\"},\"mode\":\"markers\",\"name\":\"crow\",\"scene\":\"scene\",\"showlegend\":true,\"x\":[-0.197698712348938],\"y\":[0.19372819364070892],\"z\":[0.21178282797336578],\"type\":\"scatter3d\"},{\"hovertemplate\":\"color=belly<br>0=%{x}<br>1=%{y}<br>2=%{z}<extra></extra>\",\"legendgroup\":\"belly\",\"marker\":{\"color\":\"#FF97FF\",\"symbol\":\"circle\"},\"mode\":\"markers\",\"name\":\"belly\",\"scene\":\"scene\",\"showlegend\":true,\"x\":[0.6432071328163147],\"y\":[-0.31383460760116577],\"z\":[-0.041557032614946365],\"type\":\"scatter3d\"},{\"hovertemplate\":\"color=yard<br>0=%{x}<br>1=%{y}<br>2=%{z}<extra></extra>\",\"legendgroup\":\"yard\",\"marker\":{\"color\":\"#FECB52\",\"symbol\":\"circle\"},\"mode\":\"markers\",\"name\":\"yard\",\"scene\":\"scene\",\"showlegend\":true,\"x\":[0.5619152188301086],\"y\":[0.22746463119983673],\"z\":[0.18324843049049377],\"type\":\"scatter3d\"},{\"hovertemplate\":\"color=breath<br>0=%{x}<br>1=%{y}<br>2=%{z}<extra></extra>\",\"legendgroup\":\"breath\",\"marker\":{\"color\":\"#636efa\",\"symbol\":\"circle\"},\"mode\":\"markers\",\"name\":\"breath\",\"scene\":\"scene\",\"showlegend\":true,\"x\":[0.5786874294281006],\"y\":[-0.37308406829833984],\"z\":[0.16912265121936798],\"type\":\"scatter3d\"},{\"hovertemplate\":\"color=seem<br>0=%{x}<br>1=%{y}<br>2=%{z}<extra></extra>\",\"legendgroup\":\"seem\",\"marker\":{\"color\":\"#EF553B\",\"symbol\":\"circle\"},\"mode\":\"markers\",\"name\":\"seem\",\"scene\":\"scene\",\"showlegend\":true,\"x\":[-0.43780869245529175],\"y\":[-0.3383701741695404],\"z\":[0.261536180973053],\"type\":\"scatter3d\"},{\"hovertemplate\":\"color=gates<br>0=%{x}<br>1=%{y}<br>2=%{z}<extra></extra>\",\"legendgroup\":\"gates\",\"marker\":{\"color\":\"#00cc96\",\"symbol\":\"circle\"},\"mode\":\"markers\",\"name\":\"gates\",\"scene\":\"scene\",\"showlegend\":true,\"x\":[0.24889039993286133],\"y\":[0.6489730477333069],\"z\":[0.2957308888435364],\"type\":\"scatter3d\"},{\"hovertemplate\":\"color=greyjoy<br>0=%{x}<br>1=%{y}<br>2=%{z}<extra></extra>\",\"legendgroup\":\"greyjoy\",\"marker\":{\"color\":\"#ab63fa\",\"symbol\":\"circle\"},\"mode\":\"markers\",\"name\":\"greyjoy\",\"scene\":\"scene\",\"showlegend\":true,\"x\":[-0.2686757445335388],\"y\":[0.568536639213562],\"z\":[-0.40589556097984314],\"type\":\"scatter3d\"},{\"hovertemplate\":\"color=waiting<br>0=%{x}<br>1=%{y}<br>2=%{z}<extra></extra>\",\"legendgroup\":\"waiting\",\"marker\":{\"color\":\"#FFA15A\",\"symbol\":\"circle\"},\"mode\":\"markers\",\"name\":\"waiting\",\"scene\":\"scene\",\"showlegend\":true,\"x\":[0.0183222908526659],\"y\":[0.5714909434318542],\"z\":[0.24957279860973358],\"type\":\"scatter3d\"},{\"hovertemplate\":\"color=within<br>0=%{x}<br>1=%{y}<br>2=%{z}<extra></extra>\",\"legendgroup\":\"within\",\"marker\":{\"color\":\"#19d3f3\",\"symbol\":\"circle\"},\"mode\":\"markers\",\"name\":\"within\",\"scene\":\"scene\",\"showlegend\":true,\"x\":[0.32415851950645447],\"y\":[0.5501983761787415],\"z\":[0.5048302412033081],\"type\":\"scatter3d\"},{\"hovertemplate\":\"color=realm<br>0=%{x}<br>1=%{y}<br>2=%{z}<extra></extra>\",\"legendgroup\":\"realm\",\"marker\":{\"color\":\"#FF6692\",\"symbol\":\"circle\"},\"mode\":\"markers\",\"name\":\"realm\",\"scene\":\"scene\",\"showlegend\":true,\"x\":[-0.6490544080734253],\"y\":[0.49018481373786926],\"z\":[0.1408274918794632],\"type\":\"scatter3d\"},{\"hovertemplate\":\"color=wet<br>0=%{x}<br>1=%{y}<br>2=%{z}<extra></extra>\",\"legendgroup\":\"wet\",\"marker\":{\"color\":\"#B6E880\",\"symbol\":\"circle\"},\"mode\":\"markers\",\"name\":\"wet\",\"scene\":\"scene\",\"showlegend\":true,\"x\":[0.699543297290802],\"y\":[-0.24048244953155518],\"z\":[0.06595353037118912],\"type\":\"scatter3d\"},{\"hovertemplate\":\"color=looking<br>0=%{x}<br>1=%{y}<br>2=%{z}<extra></extra>\",\"legendgroup\":\"looking\",\"marker\":{\"color\":\"#FF97FF\",\"symbol\":\"circle\"},\"mode\":\"markers\",\"name\":\"looking\",\"scene\":\"scene\",\"showlegend\":true,\"x\":[0.2620542645454407],\"y\":[-0.2618181109428406],\"z\":[0.09371550381183624],\"type\":\"scatter3d\"},{\"hovertemplate\":\"color=wooden<br>0=%{x}<br>1=%{y}<br>2=%{z}<extra></extra>\",\"legendgroup\":\"wooden\",\"marker\":{\"color\":\"#FECB52\",\"symbol\":\"circle\"},\"mode\":\"markers\",\"name\":\"wooden\",\"scene\":\"scene\",\"showlegend\":true,\"x\":[0.7234320640563965],\"y\":[0.365200012922287],\"z\":[0.0836571678519249],\"type\":\"scatter3d\"},{\"hovertemplate\":\"color=later<br>0=%{x}<br>1=%{y}<br>2=%{z}<extra></extra>\",\"legendgroup\":\"later\",\"marker\":{\"color\":\"#636efa\",\"symbol\":\"circle\"},\"mode\":\"markers\",\"name\":\"later\",\"scene\":\"scene\",\"showlegend\":true,\"x\":[0.06797335296869278],\"y\":[0.36390936374664307],\"z\":[0.2449796497821808],\"type\":\"scatter3d\"},{\"hovertemplate\":\"color=bad<br>0=%{x}<br>1=%{y}<br>2=%{z}<extra></extra>\",\"legendgroup\":\"bad\",\"marker\":{\"color\":\"#EF553B\",\"symbol\":\"circle\"},\"mode\":\"markers\",\"name\":\"bad\",\"scene\":\"scene\",\"showlegend\":true,\"x\":[-0.28350868821144104],\"y\":[-0.3494184613227844],\"z\":[0.36774393916130066],\"type\":\"scatter3d\"},{\"hovertemplate\":\"color=use<br>0=%{x}<br>1=%{y}<br>2=%{z}<extra></extra>\",\"legendgroup\":\"use\",\"marker\":{\"color\":\"#00cc96\",\"symbol\":\"circle\"},\"mode\":\"markers\",\"name\":\"use\",\"scene\":\"scene\",\"showlegend\":true,\"x\":[-0.4328157901763916],\"y\":[-0.16836896538734436],\"z\":[0.26498061418533325],\"type\":\"scatter3d\"},{\"hovertemplate\":\"color=thin<br>0=%{x}<br>1=%{y}<br>2=%{z}<extra></extra>\",\"legendgroup\":\"thin\",\"marker\":{\"color\":\"#ab63fa\",\"symbol\":\"circle\"},\"mode\":\"markers\",\"name\":\"thin\",\"scene\":\"scene\",\"showlegend\":true,\"x\":[0.7087421417236328],\"y\":[-0.09050324559211731],\"z\":[-0.18233247101306915],\"type\":\"scatter3d\"},{\"hovertemplate\":\"color=work<br>0=%{x}<br>1=%{y}<br>2=%{z}<extra></extra>\",\"legendgroup\":\"work\",\"marker\":{\"color\":\"#FFA15A\",\"symbol\":\"circle\"},\"mode\":\"markers\",\"name\":\"work\",\"scene\":\"scene\",\"showlegend\":true,\"x\":[-0.3908724784851074],\"y\":[-0.10145190358161926],\"z\":[0.24643076956272125],\"type\":\"scatter3d\"},{\"hovertemplate\":\"color=wildlings<br>0=%{x}<br>1=%{y}<br>2=%{z}<extra></extra>\",\"legendgroup\":\"wildlings\",\"marker\":{\"color\":\"#19d3f3\",\"symbol\":\"circle\"},\"mode\":\"markers\",\"name\":\"wildlings\",\"scene\":\"scene\",\"showlegend\":true,\"x\":[-0.14136840403079987],\"y\":[0.3290903568267822],\"z\":[0.6133073568344116],\"type\":\"scatter3d\"},{\"hovertemplate\":\"color=husband<br>0=%{x}<br>1=%{y}<br>2=%{z}<extra></extra>\",\"legendgroup\":\"husband\",\"marker\":{\"color\":\"#FF6692\",\"symbol\":\"circle\"},\"mode\":\"markers\",\"name\":\"husband\",\"scene\":\"scene\",\"showlegend\":true,\"x\":[-0.6880221962928772],\"y\":[0.24461179971694946],\"z\":[-0.21954724192619324],\"type\":\"scatter3d\"},{\"hovertemplate\":\"color=promised<br>0=%{x}<br>1=%{y}<br>2=%{z}<extra></extra>\",\"legendgroup\":\"promised\",\"marker\":{\"color\":\"#B6E880\",\"symbol\":\"circle\"},\"mode\":\"markers\",\"name\":\"promised\",\"scene\":\"scene\",\"showlegend\":true,\"x\":[-0.5832421183586121],\"y\":[0.105521559715271],\"z\":[0.13989375531673431],\"type\":\"scatter3d\"},{\"hovertemplate\":\"color=grew<br>0=%{x}<br>1=%{y}<br>2=%{z}<extra></extra>\",\"legendgroup\":\"grew\",\"marker\":{\"color\":\"#FF97FF\",\"symbol\":\"circle\"},\"mode\":\"markers\",\"name\":\"grew\",\"scene\":\"scene\",\"showlegend\":true,\"x\":[0.6192660331726074],\"y\":[0.013199448585510254],\"z\":[0.30379775166511536],\"type\":\"scatter3d\"},{\"hovertemplate\":\"color=girls<br>0=%{x}<br>1=%{y}<br>2=%{z}<extra></extra>\",\"legendgroup\":\"girls\",\"marker\":{\"color\":\"#FECB52\",\"symbol\":\"circle\"},\"mode\":\"markers\",\"name\":\"girls\",\"scene\":\"scene\",\"showlegend\":true,\"x\":[-0.3108329176902771],\"y\":[0.21947051584720612],\"z\":[0.11856430768966675],\"type\":\"scatter3d\"},{\"hovertemplate\":\"color=littlefinger<br>0=%{x}<br>1=%{y}<br>2=%{z}<extra></extra>\",\"legendgroup\":\"littlefinger\",\"marker\":{\"color\":\"#636efa\",\"symbol\":\"circle\"},\"mode\":\"markers\",\"name\":\"littlefinger\",\"scene\":\"scene\",\"showlegend\":true,\"x\":[-0.37536126375198364],\"y\":[-0.1091214194893837],\"z\":[-0.5397256016731262],\"type\":\"scatter3d\"},{\"hovertemplate\":\"color=loved<br>0=%{x}<br>1=%{y}<br>2=%{z}<extra></extra>\",\"legendgroup\":\"loved\",\"marker\":{\"color\":\"#EF553B\",\"symbol\":\"circle\"},\"mode\":\"markers\",\"name\":\"loved\",\"scene\":\"scene\",\"showlegend\":true,\"x\":[-0.5582117438316345],\"y\":[-0.10254918783903122],\"z\":[-0.03278914839029312],\"type\":\"scatter3d\"},{\"hovertemplate\":\"color=tree<br>0=%{x}<br>1=%{y}<br>2=%{z}<extra></extra>\",\"legendgroup\":\"tree\",\"marker\":{\"color\":\"#00cc96\",\"symbol\":\"circle\"},\"mode\":\"markers\",\"name\":\"tree\",\"scene\":\"scene\",\"showlegend\":true,\"x\":[0.7167199850082397],\"y\":[0.07036278396844864],\"z\":[0.11871180683374405],\"type\":\"scatter3d\"},{\"hovertemplate\":\"color=onto<br>0=%{x}<br>1=%{y}<br>2=%{z}<extra></extra>\",\"legendgroup\":\"onto\",\"marker\":{\"color\":\"#ab63fa\",\"symbol\":\"circle\"},\"mode\":\"markers\",\"name\":\"onto\",\"scene\":\"scene\",\"showlegend\":true,\"x\":[0.6939738392829895],\"y\":[0.13393960893154144],\"z\":[-0.24702709913253784],\"type\":\"scatter3d\"},{\"hovertemplate\":\"color=bronn<br>0=%{x}<br>1=%{y}<br>2=%{z}<extra></extra>\",\"legendgroup\":\"bronn\",\"marker\":{\"color\":\"#FFA15A\",\"symbol\":\"circle\"},\"mode\":\"markers\",\"name\":\"bronn\",\"scene\":\"scene\",\"showlegend\":true,\"x\":[-0.114866241812706],\"y\":[-0.10927382111549377],\"z\":[-0.4188850224018097],\"type\":\"scatter3d\"},{\"hovertemplate\":\"color=guard<br>0=%{x}<br>1=%{y}<br>2=%{z}<extra></extra>\",\"legendgroup\":\"guard\",\"marker\":{\"color\":\"#19d3f3\",\"symbol\":\"circle\"},\"mode\":\"markers\",\"name\":\"guard\",\"scene\":\"scene\",\"showlegend\":true,\"x\":[-0.1355806440114975],\"y\":[0.6473706960678101],\"z\":[-0.2590339481830597],\"type\":\"scatter3d\"},{\"hovertemplate\":\"color=afraid<br>0=%{x}<br>1=%{y}<br>2=%{z}<extra></extra>\",\"legendgroup\":\"afraid\",\"marker\":{\"color\":\"#FF6692\",\"symbol\":\"circle\"},\"mode\":\"markers\",\"name\":\"afraid\",\"scene\":\"scene\",\"showlegend\":true,\"x\":[-0.3168894052505493],\"y\":[-0.513359010219574],\"z\":[0.22940291464328766],\"type\":\"scatter3d\"},{\"hovertemplate\":\"color=rain<br>0=%{x}<br>1=%{y}<br>2=%{z}<extra></extra>\",\"legendgroup\":\"rain\",\"marker\":{\"color\":\"#B6E880\",\"symbol\":\"circle\"},\"mode\":\"markers\",\"name\":\"rain\",\"scene\":\"scene\",\"showlegend\":true,\"x\":[0.6560414433479309],\"y\":[-0.03947495296597481],\"z\":[0.3778253495693207],\"type\":\"scatter3d\"},{\"hovertemplate\":\"color=maid<br>0=%{x}<br>1=%{y}<br>2=%{z}<extra></extra>\",\"legendgroup\":\"maid\",\"marker\":{\"color\":\"#FF97FF\",\"symbol\":\"circle\"},\"mode\":\"markers\",\"name\":\"maid\",\"scene\":\"scene\",\"showlegend\":true,\"x\":[-0.25694477558135986],\"y\":[0.38673803210258484],\"z\":[-0.42506882548332214],\"type\":\"scatter3d\"},{\"hovertemplate\":\"color=shoulders<br>0=%{x}<br>1=%{y}<br>2=%{z}<extra></extra>\",\"legendgroup\":\"shoulders\",\"marker\":{\"color\":\"#FECB52\",\"symbol\":\"circle\"},\"mode\":\"markers\",\"name\":\"shoulders\",\"scene\":\"scene\",\"showlegend\":true,\"x\":[0.7197241187095642],\"y\":[0.1344640552997589],\"z\":[-0.3113528788089752],\"type\":\"scatter3d\"}],                        {\"template\":{\"data\":{\"histogram2dcontour\":[{\"type\":\"histogram2dcontour\",\"colorbar\":{\"outlinewidth\":0,\"ticks\":\"\"},\"colorscale\":[[0.0,\"#0d0887\"],[0.1111111111111111,\"#46039f\"],[0.2222222222222222,\"#7201a8\"],[0.3333333333333333,\"#9c179e\"],[0.4444444444444444,\"#bd3786\"],[0.5555555555555556,\"#d8576b\"],[0.6666666666666666,\"#ed7953\"],[0.7777777777777778,\"#fb9f3a\"],[0.8888888888888888,\"#fdca26\"],[1.0,\"#f0f921\"]]}],\"choropleth\":[{\"type\":\"choropleth\",\"colorbar\":{\"outlinewidth\":0,\"ticks\":\"\"}}],\"histogram2d\":[{\"type\":\"histogram2d\",\"colorbar\":{\"outlinewidth\":0,\"ticks\":\"\"},\"colorscale\":[[0.0,\"#0d0887\"],[0.1111111111111111,\"#46039f\"],[0.2222222222222222,\"#7201a8\"],[0.3333333333333333,\"#9c179e\"],[0.4444444444444444,\"#bd3786\"],[0.5555555555555556,\"#d8576b\"],[0.6666666666666666,\"#ed7953\"],[0.7777777777777778,\"#fb9f3a\"],[0.8888888888888888,\"#fdca26\"],[1.0,\"#f0f921\"]]}],\"heatmap\":[{\"type\":\"heatmap\",\"colorbar\":{\"outlinewidth\":0,\"ticks\":\"\"},\"colorscale\":[[0.0,\"#0d0887\"],[0.1111111111111111,\"#46039f\"],[0.2222222222222222,\"#7201a8\"],[0.3333333333333333,\"#9c179e\"],[0.4444444444444444,\"#bd3786\"],[0.5555555555555556,\"#d8576b\"],[0.6666666666666666,\"#ed7953\"],[0.7777777777777778,\"#fb9f3a\"],[0.8888888888888888,\"#fdca26\"],[1.0,\"#f0f921\"]]}],\"heatmapgl\":[{\"type\":\"heatmapgl\",\"colorbar\":{\"outlinewidth\":0,\"ticks\":\"\"},\"colorscale\":[[0.0,\"#0d0887\"],[0.1111111111111111,\"#46039f\"],[0.2222222222222222,\"#7201a8\"],[0.3333333333333333,\"#9c179e\"],[0.4444444444444444,\"#bd3786\"],[0.5555555555555556,\"#d8576b\"],[0.6666666666666666,\"#ed7953\"],[0.7777777777777778,\"#fb9f3a\"],[0.8888888888888888,\"#fdca26\"],[1.0,\"#f0f921\"]]}],\"contourcarpet\":[{\"type\":\"contourcarpet\",\"colorbar\":{\"outlinewidth\":0,\"ticks\":\"\"}}],\"contour\":[{\"type\":\"contour\",\"colorbar\":{\"outlinewidth\":0,\"ticks\":\"\"},\"colorscale\":[[0.0,\"#0d0887\"],[0.1111111111111111,\"#46039f\"],[0.2222222222222222,\"#7201a8\"],[0.3333333333333333,\"#9c179e\"],[0.4444444444444444,\"#bd3786\"],[0.5555555555555556,\"#d8576b\"],[0.6666666666666666,\"#ed7953\"],[0.7777777777777778,\"#fb9f3a\"],[0.8888888888888888,\"#fdca26\"],[1.0,\"#f0f921\"]]}],\"surface\":[{\"type\":\"surface\",\"colorbar\":{\"outlinewidth\":0,\"ticks\":\"\"},\"colorscale\":[[0.0,\"#0d0887\"],[0.1111111111111111,\"#46039f\"],[0.2222222222222222,\"#7201a8\"],[0.3333333333333333,\"#9c179e\"],[0.4444444444444444,\"#bd3786\"],[0.5555555555555556,\"#d8576b\"],[0.6666666666666666,\"#ed7953\"],[0.7777777777777778,\"#fb9f3a\"],[0.8888888888888888,\"#fdca26\"],[1.0,\"#f0f921\"]]}],\"mesh3d\":[{\"type\":\"mesh3d\",\"colorbar\":{\"outlinewidth\":0,\"ticks\":\"\"}}],\"scatter\":[{\"fillpattern\":{\"fillmode\":\"overlay\",\"size\":10,\"solidity\":0.2},\"type\":\"scatter\"}],\"parcoords\":[{\"type\":\"parcoords\",\"line\":{\"colorbar\":{\"outlinewidth\":0,\"ticks\":\"\"}}}],\"scatterpolargl\":[{\"type\":\"scatterpolargl\",\"marker\":{\"colorbar\":{\"outlinewidth\":0,\"ticks\":\"\"}}}],\"bar\":[{\"error_x\":{\"color\":\"#2a3f5f\"},\"error_y\":{\"color\":\"#2a3f5f\"},\"marker\":{\"line\":{\"color\":\"#E5ECF6\",\"width\":0.5},\"pattern\":{\"fillmode\":\"overlay\",\"size\":10,\"solidity\":0.2}},\"type\":\"bar\"}],\"scattergeo\":[{\"type\":\"scattergeo\",\"marker\":{\"colorbar\":{\"outlinewidth\":0,\"ticks\":\"\"}}}],\"scatterpolar\":[{\"type\":\"scatterpolar\",\"marker\":{\"colorbar\":{\"outlinewidth\":0,\"ticks\":\"\"}}}],\"histogram\":[{\"marker\":{\"pattern\":{\"fillmode\":\"overlay\",\"size\":10,\"solidity\":0.2}},\"type\":\"histogram\"}],\"scattergl\":[{\"type\":\"scattergl\",\"marker\":{\"colorbar\":{\"outlinewidth\":0,\"ticks\":\"\"}}}],\"scatter3d\":[{\"type\":\"scatter3d\",\"line\":{\"colorbar\":{\"outlinewidth\":0,\"ticks\":\"\"}},\"marker\":{\"colorbar\":{\"outlinewidth\":0,\"ticks\":\"\"}}}],\"scattermapbox\":[{\"type\":\"scattermapbox\",\"marker\":{\"colorbar\":{\"outlinewidth\":0,\"ticks\":\"\"}}}],\"scatterternary\":[{\"type\":\"scatterternary\",\"marker\":{\"colorbar\":{\"outlinewidth\":0,\"ticks\":\"\"}}}],\"scattercarpet\":[{\"type\":\"scattercarpet\",\"marker\":{\"colorbar\":{\"outlinewidth\":0,\"ticks\":\"\"}}}],\"carpet\":[{\"aaxis\":{\"endlinecolor\":\"#2a3f5f\",\"gridcolor\":\"white\",\"linecolor\":\"white\",\"minorgridcolor\":\"white\",\"startlinecolor\":\"#2a3f5f\"},\"baxis\":{\"endlinecolor\":\"#2a3f5f\",\"gridcolor\":\"white\",\"linecolor\":\"white\",\"minorgridcolor\":\"white\",\"startlinecolor\":\"#2a3f5f\"},\"type\":\"carpet\"}],\"table\":[{\"cells\":{\"fill\":{\"color\":\"#EBF0F8\"},\"line\":{\"color\":\"white\"}},\"header\":{\"fill\":{\"color\":\"#C8D4E3\"},\"line\":{\"color\":\"white\"}},\"type\":\"table\"}],\"barpolar\":[{\"marker\":{\"line\":{\"color\":\"#E5ECF6\",\"width\":0.5},\"pattern\":{\"fillmode\":\"overlay\",\"size\":10,\"solidity\":0.2}},\"type\":\"barpolar\"}],\"pie\":[{\"automargin\":true,\"type\":\"pie\"}]},\"layout\":{\"autotypenumbers\":\"strict\",\"colorway\":[\"#636efa\",\"#EF553B\",\"#00cc96\",\"#ab63fa\",\"#FFA15A\",\"#19d3f3\",\"#FF6692\",\"#B6E880\",\"#FF97FF\",\"#FECB52\"],\"font\":{\"color\":\"#2a3f5f\"},\"hovermode\":\"closest\",\"hoverlabel\":{\"align\":\"left\"},\"paper_bgcolor\":\"white\",\"plot_bgcolor\":\"#E5ECF6\",\"polar\":{\"bgcolor\":\"#E5ECF6\",\"angularaxis\":{\"gridcolor\":\"white\",\"linecolor\":\"white\",\"ticks\":\"\"},\"radialaxis\":{\"gridcolor\":\"white\",\"linecolor\":\"white\",\"ticks\":\"\"}},\"ternary\":{\"bgcolor\":\"#E5ECF6\",\"aaxis\":{\"gridcolor\":\"white\",\"linecolor\":\"white\",\"ticks\":\"\"},\"baxis\":{\"gridcolor\":\"white\",\"linecolor\":\"white\",\"ticks\":\"\"},\"caxis\":{\"gridcolor\":\"white\",\"linecolor\":\"white\",\"ticks\":\"\"}},\"coloraxis\":{\"colorbar\":{\"outlinewidth\":0,\"ticks\":\"\"}},\"colorscale\":{\"sequential\":[[0.0,\"#0d0887\"],[0.1111111111111111,\"#46039f\"],[0.2222222222222222,\"#7201a8\"],[0.3333333333333333,\"#9c179e\"],[0.4444444444444444,\"#bd3786\"],[0.5555555555555556,\"#d8576b\"],[0.6666666666666666,\"#ed7953\"],[0.7777777777777778,\"#fb9f3a\"],[0.8888888888888888,\"#fdca26\"],[1.0,\"#f0f921\"]],\"sequentialminus\":[[0.0,\"#0d0887\"],[0.1111111111111111,\"#46039f\"],[0.2222222222222222,\"#7201a8\"],[0.3333333333333333,\"#9c179e\"],[0.4444444444444444,\"#bd3786\"],[0.5555555555555556,\"#d8576b\"],[0.6666666666666666,\"#ed7953\"],[0.7777777777777778,\"#fb9f3a\"],[0.8888888888888888,\"#fdca26\"],[1.0,\"#f0f921\"]],\"diverging\":[[0,\"#8e0152\"],[0.1,\"#c51b7d\"],[0.2,\"#de77ae\"],[0.3,\"#f1b6da\"],[0.4,\"#fde0ef\"],[0.5,\"#f7f7f7\"],[0.6,\"#e6f5d0\"],[0.7,\"#b8e186\"],[0.8,\"#7fbc41\"],[0.9,\"#4d9221\"],[1,\"#276419\"]]},\"xaxis\":{\"gridcolor\":\"white\",\"linecolor\":\"white\",\"ticks\":\"\",\"title\":{\"standoff\":15},\"zerolinecolor\":\"white\",\"automargin\":true,\"zerolinewidth\":2},\"yaxis\":{\"gridcolor\":\"white\",\"linecolor\":\"white\",\"ticks\":\"\",\"title\":{\"standoff\":15},\"zerolinecolor\":\"white\",\"automargin\":true,\"zerolinewidth\":2},\"scene\":{\"xaxis\":{\"backgroundcolor\":\"#E5ECF6\",\"gridcolor\":\"white\",\"linecolor\":\"white\",\"showbackground\":true,\"ticks\":\"\",\"zerolinecolor\":\"white\",\"gridwidth\":2},\"yaxis\":{\"backgroundcolor\":\"#E5ECF6\",\"gridcolor\":\"white\",\"linecolor\":\"white\",\"showbackground\":true,\"ticks\":\"\",\"zerolinecolor\":\"white\",\"gridwidth\":2},\"zaxis\":{\"backgroundcolor\":\"#E5ECF6\",\"gridcolor\":\"white\",\"linecolor\":\"white\",\"showbackground\":true,\"ticks\":\"\",\"zerolinecolor\":\"white\",\"gridwidth\":2}},\"shapedefaults\":{\"line\":{\"color\":\"#2a3f5f\"}},\"annotationdefaults\":{\"arrowcolor\":\"#2a3f5f\",\"arrowhead\":0,\"arrowwidth\":1},\"geo\":{\"bgcolor\":\"white\",\"landcolor\":\"#E5ECF6\",\"subunitcolor\":\"white\",\"showland\":true,\"showlakes\":true,\"lakecolor\":\"white\"},\"title\":{\"x\":0.05},\"mapbox\":{\"style\":\"light\"}}},\"scene\":{\"domain\":{\"x\":[0.0,1.0],\"y\":[0.0,1.0]},\"xaxis\":{\"title\":{\"text\":\"0\"}},\"yaxis\":{\"title\":{\"text\":\"1\"}},\"zaxis\":{\"title\":{\"text\":\"2\"}}},\"legend\":{\"title\":{\"text\":\"color\"},\"tracegroupgap\":0},\"margin\":{\"t\":60}},                        {\"responsive\": true}                    ).then(function(){\n",
       "                            \n",
       "var gd = document.getElementById('b5100b8a-4860-4958-8ffb-e5d10ffd5a23');\n",
       "var x = new MutationObserver(function (mutations, observer) {{\n",
       "        var display = window.getComputedStyle(gd).display;\n",
       "        if (!display || display === 'none') {{\n",
       "            console.log([gd, 'removed!']);\n",
       "            Plotly.purge(gd);\n",
       "            observer.disconnect();\n",
       "        }}\n",
       "}});\n",
       "\n",
       "// Listen for the removal of the full notebook cells\n",
       "var notebookContainer = gd.closest('#notebook-container');\n",
       "if (notebookContainer) {{\n",
       "    x.observe(notebookContainer, {childList: true});\n",
       "}}\n",
       "\n",
       "// Listen for the clearing of the current output cell\n",
       "var outputEl = gd.closest('.output');\n",
       "if (outputEl) {{\n",
       "    x.observe(outputEl, {childList: true});\n",
       "}}\n",
       "\n",
       "                        })                };                });            </script>        </div>"
      ]
     },
     "metadata": {},
     "output_type": "display_data"
    }
   ],
   "source": [
    "import plotly.express as px\n",
    "fig = px.scatter_3d(X[:500], x=0,y=1,z=2, color=y[:500])\n",
    "fig.show()"
   ]
  },
  {
   "cell_type": "code",
   "execution_count": null,
   "id": "3774539c",
   "metadata": {},
   "outputs": [],
   "source": []
  }
 ],
 "metadata": {
  "kernelspec": {
   "display_name": "Python 3 (ipykernel)",
   "language": "python",
   "name": "python3"
  },
  "language_info": {
   "codemirror_mode": {
    "name": "ipython",
    "version": 3
   },
   "file_extension": ".py",
   "mimetype": "text/x-python",
   "name": "python",
   "nbconvert_exporter": "python",
   "pygments_lexer": "ipython3",
   "version": "3.9.13"
  }
 },
 "nbformat": 4,
 "nbformat_minor": 5
}
